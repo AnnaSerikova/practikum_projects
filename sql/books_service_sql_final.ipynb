{
 "cells": [
  {
   "cell_type": "markdown",
   "id": "0a619fb7",
   "metadata": {
    "toc": true
   },
   "source": [
    "<h1>Table of Contents<span class=\"tocSkip\"></span></h1>\n",
    "<div class=\"toc\"><ul class=\"toc-item\"><li><span><a href=\"#Цель-исследования\" data-toc-modified-id=\"Цель-исследования-1\"><span class=\"toc-item-num\">1&nbsp;&nbsp;</span>Цель исследования</a></span></li><li><span><a href=\"#Задачи\" data-toc-modified-id=\"Задачи-2\"><span class=\"toc-item-num\">2&nbsp;&nbsp;</span>Задачи</a></span></li><li><span><a href=\"#Материалы\" data-toc-modified-id=\"Материалы-3\"><span class=\"toc-item-num\">3&nbsp;&nbsp;</span>Материалы</a></span></li><li><span><a href=\"#Подключение-к-базе-данных\" data-toc-modified-id=\"Подключение-к-базе-данных-4\"><span class=\"toc-item-num\">4&nbsp;&nbsp;</span>Подключение к базе данных</a></span></li><li><span><a href=\"#Обзор-доступных-таблиц\" data-toc-modified-id=\"Обзор-доступных-таблиц-5\"><span class=\"toc-item-num\">5&nbsp;&nbsp;</span>Обзор доступных таблиц</a></span><ul class=\"toc-item\"><li><span><a href=\"#books\" data-toc-modified-id=\"books-5.1\"><span class=\"toc-item-num\">5.1&nbsp;&nbsp;</span>books</a></span></li><li><span><a href=\"#authors\" data-toc-modified-id=\"authors-5.2\"><span class=\"toc-item-num\">5.2&nbsp;&nbsp;</span>authors</a></span></li><li><span><a href=\"#publishers\" data-toc-modified-id=\"publishers-5.3\"><span class=\"toc-item-num\">5.3&nbsp;&nbsp;</span>publishers</a></span></li><li><span><a href=\"#ratings\" data-toc-modified-id=\"ratings-5.4\"><span class=\"toc-item-num\">5.4&nbsp;&nbsp;</span>ratings</a></span></li><li><span><a href=\"#reviews\" data-toc-modified-id=\"reviews-5.5\"><span class=\"toc-item-num\">5.5&nbsp;&nbsp;</span>reviews</a></span></li></ul></li><li><span><a href=\"#Определение-искомых-значений\" data-toc-modified-id=\"Определение-искомых-значений-6\"><span class=\"toc-item-num\">6&nbsp;&nbsp;</span>Определение искомых значений</a></span><ul class=\"toc-item\"><li><span><a href=\"#Книги,-вышедшие-после-1-января-2000-года\" data-toc-modified-id=\"Книги,-вышедшие-после-1-января-2000-года-6.1\"><span class=\"toc-item-num\">6.1&nbsp;&nbsp;</span>Книги, вышедшие после 1 января 2000 года</a></span></li><li><span><a href=\"#Число-обзоров-и-средняя-оценка-каждой-книги\" data-toc-modified-id=\"Число-обзоров-и-средняя-оценка-каждой-книги-6.2\"><span class=\"toc-item-num\">6.2&nbsp;&nbsp;</span>Число обзоров и средняя оценка каждой книги</a></span></li><li><span><a href=\"#Издательство,-выпустившее-наибольшее-число-книг,-кроме-брошюр\" data-toc-modified-id=\"Издательство,-выпустившее-наибольшее-число-книг,-кроме-брошюр-6.3\"><span class=\"toc-item-num\">6.3&nbsp;&nbsp;</span>Издательство, выпустившее наибольшее число книг, кроме брошюр</a></span></li><li><span><a href=\"#Автор-с-самой-высокой-средней-оценкой-книг\" data-toc-modified-id=\"Автор-с-самой-высокой-средней-оценкой-книг-6.4\"><span class=\"toc-item-num\">6.4&nbsp;&nbsp;</span>Автор с самой высокой средней оценкой книг</a></span></li><li><span><a href=\"#Среднее-количество-обзоров-от-пользователей\" data-toc-modified-id=\"Среднее-количество-обзоров-от-пользователей-6.5\"><span class=\"toc-item-num\">6.5&nbsp;&nbsp;</span>Среднее количество обзоров от пользователей</a></span></li></ul></li><li><span><a href=\"#Заключение\" data-toc-modified-id=\"Заключение-7\"><span class=\"toc-item-num\">7&nbsp;&nbsp;</span>Заключение</a></span></li></ul></div>"
   ]
  },
  {
   "cell_type": "markdown",
   "id": "8e14e1dc",
   "metadata": {},
   "source": [
    "# Исследование базы данных сервиса для чтения книг по подписке\n",
    "## Цель исследования\n",
    "\n",
    "Определить направление для формулировки преимуществ нового продукта на основе данных о вышедших книгах и их рейтингах, полученных от пользователей сервиса.\n",
    "\n",
    "## Задачи\n",
    "\n",
    "1. Подключение к базе данных.\n",
    "1. Обзор доступных таблиц.\n",
    "1. Определение ряда значений, а именно:\n",
    "    - число книг, вышедших после 2000 года;\n",
    "    - число обзоров для каждой книги и ее средняя оценка;\n",
    "    - вывод из анализа книг, чей объем менее 50 страниц;\n",
    "    - автора с самой высокой средней оценкой книг, учитывая только книги с 50 и более оценками;\n",
    "    - среднее число обзоров от пользователей, которые поставили более 48 оценок.\n",
    "4. Заключение.\n",
    "\n",
    "## Материалы\n",
    "[Google Colab](https://colab.research.google.com/drive/11NjLnkwI7y5v3z7RekjfDBbQ6f5uH9pi?usp=sharing \"Презентация\")"
   ]
  },
  {
   "cell_type": "markdown",
   "id": "c9403221",
   "metadata": {},
   "source": [
    "## Подключение к базе данных"
   ]
  },
  {
   "cell_type": "code",
   "execution_count": 1,
   "id": "9800181c",
   "metadata": {},
   "outputs": [],
   "source": [
    "import pandas as pd\n",
    "import sqlalchemy as sa"
   ]
  },
  {
   "cell_type": "code",
   "execution_count": 2,
   "id": "bbaa44eb",
   "metadata": {},
   "outputs": [],
   "source": [
    "# устанавливаем параметры\n",
    "db_config = {\n",
    "'user': 'praktikum_student', # имя пользователя\n",
    "'pwd': 'Sdf4$2;d-d30pp', # пароль\n",
    "'host': 'rc1b-wcoijxj3yxfsf3fs.mdb.yandexcloud.net',\n",
    "'port': 6432, # порт подключения\n",
    "'db': 'data-analyst-final-project-db' # название базы данных\n",
    "}\n",
    "connection_string = 'postgresql://{user}:{pwd}@{host}:{port}/{db}'.format(**db_config)\n",
    "\n",
    "# сохраняем коннектор\n",
    "engine = sa.create_engine(connection_string, connect_args={'sslmode':'require'})\n",
    "\n",
    "# чтобы выполнить SQL-запрос, пишем функцию с использованием Pandas\n",
    "def get_sql_data(query:str, engine:sa.engine.base.Engine=engine) -> pd.DataFrame:\n",
    "    '''Открываем соединение, получаем данные из sql, закрываем соединение'''\n",
    "    with engine.connect() as con:\n",
    "        return pd.read_sql(sql=sa.text(query), con = con)"
   ]
  },
  {
   "cell_type": "markdown",
   "id": "8315effe",
   "metadata": {},
   "source": [
    "## Обзор доступных таблиц\n",
    "### books"
   ]
  },
  {
   "cell_type": "code",
   "execution_count": 3,
   "id": "3001f5fb",
   "metadata": {},
   "outputs": [
    {
     "data": {
      "text/html": [
       "<div>\n",
       "<style scoped>\n",
       "    .dataframe tbody tr th:only-of-type {\n",
       "        vertical-align: middle;\n",
       "    }\n",
       "\n",
       "    .dataframe tbody tr th {\n",
       "        vertical-align: top;\n",
       "    }\n",
       "\n",
       "    .dataframe thead th {\n",
       "        text-align: right;\n",
       "    }\n",
       "</style>\n",
       "<table border=\"1\" class=\"dataframe\">\n",
       "  <thead>\n",
       "    <tr style=\"text-align: right;\">\n",
       "      <th></th>\n",
       "      <th>book_id</th>\n",
       "      <th>author_id</th>\n",
       "      <th>title</th>\n",
       "      <th>num_pages</th>\n",
       "      <th>publication_date</th>\n",
       "      <th>publisher_id</th>\n",
       "    </tr>\n",
       "  </thead>\n",
       "  <tbody>\n",
       "    <tr>\n",
       "      <th>0</th>\n",
       "      <td>1</td>\n",
       "      <td>546</td>\n",
       "      <td>'Salem's Lot</td>\n",
       "      <td>594</td>\n",
       "      <td>2005-11-01</td>\n",
       "      <td>93</td>\n",
       "    </tr>\n",
       "    <tr>\n",
       "      <th>1</th>\n",
       "      <td>2</td>\n",
       "      <td>465</td>\n",
       "      <td>1 000 Places to See Before You Die</td>\n",
       "      <td>992</td>\n",
       "      <td>2003-05-22</td>\n",
       "      <td>336</td>\n",
       "    </tr>\n",
       "    <tr>\n",
       "      <th>2</th>\n",
       "      <td>3</td>\n",
       "      <td>407</td>\n",
       "      <td>13 Little Blue Envelopes (Little Blue Envelope...</td>\n",
       "      <td>322</td>\n",
       "      <td>2010-12-21</td>\n",
       "      <td>135</td>\n",
       "    </tr>\n",
       "    <tr>\n",
       "      <th>3</th>\n",
       "      <td>4</td>\n",
       "      <td>82</td>\n",
       "      <td>1491: New Revelations of the Americas Before C...</td>\n",
       "      <td>541</td>\n",
       "      <td>2006-10-10</td>\n",
       "      <td>309</td>\n",
       "    </tr>\n",
       "    <tr>\n",
       "      <th>4</th>\n",
       "      <td>5</td>\n",
       "      <td>125</td>\n",
       "      <td>1776</td>\n",
       "      <td>386</td>\n",
       "      <td>2006-07-04</td>\n",
       "      <td>268</td>\n",
       "    </tr>\n",
       "  </tbody>\n",
       "</table>\n",
       "</div>"
      ],
      "text/plain": [
       "   book_id  author_id                                              title  \\\n",
       "0        1        546                                       'Salem's Lot   \n",
       "1        2        465                 1 000 Places to See Before You Die   \n",
       "2        3        407  13 Little Blue Envelopes (Little Blue Envelope...   \n",
       "3        4         82  1491: New Revelations of the Americas Before C...   \n",
       "4        5        125                                               1776   \n",
       "\n",
       "   num_pages publication_date  publisher_id  \n",
       "0        594       2005-11-01            93  \n",
       "1        992       2003-05-22           336  \n",
       "2        322       2010-12-21           135  \n",
       "3        541       2006-10-10           309  \n",
       "4        386       2006-07-04           268  "
      ]
     },
     "execution_count": 3,
     "metadata": {},
     "output_type": "execute_result"
    }
   ],
   "source": [
    "# формируем запрос и выводим данные\n",
    "query = '''SELECT * FROM books LIMIT 5'''\n",
    "get_sql_data(query)"
   ]
  },
  {
   "cell_type": "code",
   "execution_count": 4,
   "id": "19617e4d",
   "metadata": {},
   "outputs": [
    {
     "data": {
      "text/html": [
       "<div>\n",
       "<style scoped>\n",
       "    .dataframe tbody tr th:only-of-type {\n",
       "        vertical-align: middle;\n",
       "    }\n",
       "\n",
       "    .dataframe tbody tr th {\n",
       "        vertical-align: top;\n",
       "    }\n",
       "\n",
       "    .dataframe thead th {\n",
       "        text-align: right;\n",
       "    }\n",
       "</style>\n",
       "<table border=\"1\" class=\"dataframe\">\n",
       "  <thead>\n",
       "    <tr style=\"text-align: right;\">\n",
       "      <th></th>\n",
       "      <th>count</th>\n",
       "    </tr>\n",
       "  </thead>\n",
       "  <tbody>\n",
       "    <tr>\n",
       "      <th>0</th>\n",
       "      <td>1000</td>\n",
       "    </tr>\n",
       "  </tbody>\n",
       "</table>\n",
       "</div>"
      ],
      "text/plain": [
       "   count\n",
       "0   1000"
      ]
     },
     "execution_count": 4,
     "metadata": {},
     "output_type": "execute_result"
    }
   ],
   "source": [
    "query = '''SELECT COUNT(*) FROM books'''\n",
    "get_sql_data(query)"
   ]
  },
  {
   "cell_type": "markdown",
   "id": "a5c13417",
   "metadata": {},
   "source": [
    "### authors"
   ]
  },
  {
   "cell_type": "code",
   "execution_count": 5,
   "id": "b6f6c418",
   "metadata": {},
   "outputs": [
    {
     "data": {
      "text/html": [
       "<div>\n",
       "<style scoped>\n",
       "    .dataframe tbody tr th:only-of-type {\n",
       "        vertical-align: middle;\n",
       "    }\n",
       "\n",
       "    .dataframe tbody tr th {\n",
       "        vertical-align: top;\n",
       "    }\n",
       "\n",
       "    .dataframe thead th {\n",
       "        text-align: right;\n",
       "    }\n",
       "</style>\n",
       "<table border=\"1\" class=\"dataframe\">\n",
       "  <thead>\n",
       "    <tr style=\"text-align: right;\">\n",
       "      <th></th>\n",
       "      <th>author_id</th>\n",
       "      <th>author</th>\n",
       "    </tr>\n",
       "  </thead>\n",
       "  <tbody>\n",
       "    <tr>\n",
       "      <th>0</th>\n",
       "      <td>1</td>\n",
       "      <td>A.S. Byatt</td>\n",
       "    </tr>\n",
       "    <tr>\n",
       "      <th>1</th>\n",
       "      <td>2</td>\n",
       "      <td>Aesop/Laura Harris/Laura Gibbs</td>\n",
       "    </tr>\n",
       "    <tr>\n",
       "      <th>2</th>\n",
       "      <td>3</td>\n",
       "      <td>Agatha Christie</td>\n",
       "    </tr>\n",
       "    <tr>\n",
       "      <th>3</th>\n",
       "      <td>4</td>\n",
       "      <td>Alan Brennert</td>\n",
       "    </tr>\n",
       "    <tr>\n",
       "      <th>4</th>\n",
       "      <td>5</td>\n",
       "      <td>Alan Moore/David   Lloyd</td>\n",
       "    </tr>\n",
       "  </tbody>\n",
       "</table>\n",
       "</div>"
      ],
      "text/plain": [
       "   author_id                          author\n",
       "0          1                      A.S. Byatt\n",
       "1          2  Aesop/Laura Harris/Laura Gibbs\n",
       "2          3                 Agatha Christie\n",
       "3          4                   Alan Brennert\n",
       "4          5        Alan Moore/David   Lloyd"
      ]
     },
     "execution_count": 5,
     "metadata": {},
     "output_type": "execute_result"
    }
   ],
   "source": [
    "query = '''SELECT * FROM authors LIMIT 5'''\n",
    "get_sql_data(query)"
   ]
  },
  {
   "cell_type": "code",
   "execution_count": 6,
   "id": "2906c114",
   "metadata": {},
   "outputs": [
    {
     "data": {
      "text/html": [
       "<div>\n",
       "<style scoped>\n",
       "    .dataframe tbody tr th:only-of-type {\n",
       "        vertical-align: middle;\n",
       "    }\n",
       "\n",
       "    .dataframe tbody tr th {\n",
       "        vertical-align: top;\n",
       "    }\n",
       "\n",
       "    .dataframe thead th {\n",
       "        text-align: right;\n",
       "    }\n",
       "</style>\n",
       "<table border=\"1\" class=\"dataframe\">\n",
       "  <thead>\n",
       "    <tr style=\"text-align: right;\">\n",
       "      <th></th>\n",
       "      <th>count</th>\n",
       "    </tr>\n",
       "  </thead>\n",
       "  <tbody>\n",
       "    <tr>\n",
       "      <th>0</th>\n",
       "      <td>636</td>\n",
       "    </tr>\n",
       "  </tbody>\n",
       "</table>\n",
       "</div>"
      ],
      "text/plain": [
       "   count\n",
       "0    636"
      ]
     },
     "execution_count": 6,
     "metadata": {},
     "output_type": "execute_result"
    }
   ],
   "source": [
    "query = '''SELECT COUNT(*) FROM authors'''\n",
    "get_sql_data(query)"
   ]
  },
  {
   "cell_type": "markdown",
   "id": "754b9ee9",
   "metadata": {},
   "source": [
    "### publishers"
   ]
  },
  {
   "cell_type": "code",
   "execution_count": 7,
   "id": "b060299d",
   "metadata": {},
   "outputs": [
    {
     "data": {
      "text/html": [
       "<div>\n",
       "<style scoped>\n",
       "    .dataframe tbody tr th:only-of-type {\n",
       "        vertical-align: middle;\n",
       "    }\n",
       "\n",
       "    .dataframe tbody tr th {\n",
       "        vertical-align: top;\n",
       "    }\n",
       "\n",
       "    .dataframe thead th {\n",
       "        text-align: right;\n",
       "    }\n",
       "</style>\n",
       "<table border=\"1\" class=\"dataframe\">\n",
       "  <thead>\n",
       "    <tr style=\"text-align: right;\">\n",
       "      <th></th>\n",
       "      <th>publisher_id</th>\n",
       "      <th>publisher</th>\n",
       "    </tr>\n",
       "  </thead>\n",
       "  <tbody>\n",
       "    <tr>\n",
       "      <th>0</th>\n",
       "      <td>1</td>\n",
       "      <td>Ace</td>\n",
       "    </tr>\n",
       "    <tr>\n",
       "      <th>1</th>\n",
       "      <td>2</td>\n",
       "      <td>Ace Book</td>\n",
       "    </tr>\n",
       "    <tr>\n",
       "      <th>2</th>\n",
       "      <td>3</td>\n",
       "      <td>Ace Books</td>\n",
       "    </tr>\n",
       "    <tr>\n",
       "      <th>3</th>\n",
       "      <td>4</td>\n",
       "      <td>Ace Hardcover</td>\n",
       "    </tr>\n",
       "    <tr>\n",
       "      <th>4</th>\n",
       "      <td>5</td>\n",
       "      <td>Addison Wesley Publishing Company</td>\n",
       "    </tr>\n",
       "  </tbody>\n",
       "</table>\n",
       "</div>"
      ],
      "text/plain": [
       "   publisher_id                          publisher\n",
       "0             1                                Ace\n",
       "1             2                           Ace Book\n",
       "2             3                          Ace Books\n",
       "3             4                      Ace Hardcover\n",
       "4             5  Addison Wesley Publishing Company"
      ]
     },
     "execution_count": 7,
     "metadata": {},
     "output_type": "execute_result"
    }
   ],
   "source": [
    "query = '''SELECT * FROM publishers LIMIT 5'''\n",
    "get_sql_data(query)"
   ]
  },
  {
   "cell_type": "code",
   "execution_count": 8,
   "id": "ef9f7f53",
   "metadata": {},
   "outputs": [
    {
     "data": {
      "text/html": [
       "<div>\n",
       "<style scoped>\n",
       "    .dataframe tbody tr th:only-of-type {\n",
       "        vertical-align: middle;\n",
       "    }\n",
       "\n",
       "    .dataframe tbody tr th {\n",
       "        vertical-align: top;\n",
       "    }\n",
       "\n",
       "    .dataframe thead th {\n",
       "        text-align: right;\n",
       "    }\n",
       "</style>\n",
       "<table border=\"1\" class=\"dataframe\">\n",
       "  <thead>\n",
       "    <tr style=\"text-align: right;\">\n",
       "      <th></th>\n",
       "      <th>count</th>\n",
       "    </tr>\n",
       "  </thead>\n",
       "  <tbody>\n",
       "    <tr>\n",
       "      <th>0</th>\n",
       "      <td>340</td>\n",
       "    </tr>\n",
       "  </tbody>\n",
       "</table>\n",
       "</div>"
      ],
      "text/plain": [
       "   count\n",
       "0    340"
      ]
     },
     "execution_count": 8,
     "metadata": {},
     "output_type": "execute_result"
    }
   ],
   "source": [
    "query = '''SELECT COUNT(*) FROM publishers'''\n",
    "get_sql_data(query)"
   ]
  },
  {
   "cell_type": "markdown",
   "id": "12969a91",
   "metadata": {},
   "source": [
    "### ratings"
   ]
  },
  {
   "cell_type": "code",
   "execution_count": 9,
   "id": "63e9751f",
   "metadata": {},
   "outputs": [
    {
     "data": {
      "text/html": [
       "<div>\n",
       "<style scoped>\n",
       "    .dataframe tbody tr th:only-of-type {\n",
       "        vertical-align: middle;\n",
       "    }\n",
       "\n",
       "    .dataframe tbody tr th {\n",
       "        vertical-align: top;\n",
       "    }\n",
       "\n",
       "    .dataframe thead th {\n",
       "        text-align: right;\n",
       "    }\n",
       "</style>\n",
       "<table border=\"1\" class=\"dataframe\">\n",
       "  <thead>\n",
       "    <tr style=\"text-align: right;\">\n",
       "      <th></th>\n",
       "      <th>rating_id</th>\n",
       "      <th>book_id</th>\n",
       "      <th>username</th>\n",
       "      <th>rating</th>\n",
       "    </tr>\n",
       "  </thead>\n",
       "  <tbody>\n",
       "    <tr>\n",
       "      <th>0</th>\n",
       "      <td>1</td>\n",
       "      <td>1</td>\n",
       "      <td>ryanfranco</td>\n",
       "      <td>4</td>\n",
       "    </tr>\n",
       "    <tr>\n",
       "      <th>1</th>\n",
       "      <td>2</td>\n",
       "      <td>1</td>\n",
       "      <td>grantpatricia</td>\n",
       "      <td>2</td>\n",
       "    </tr>\n",
       "    <tr>\n",
       "      <th>2</th>\n",
       "      <td>3</td>\n",
       "      <td>1</td>\n",
       "      <td>brandtandrea</td>\n",
       "      <td>5</td>\n",
       "    </tr>\n",
       "    <tr>\n",
       "      <th>3</th>\n",
       "      <td>4</td>\n",
       "      <td>2</td>\n",
       "      <td>lorichen</td>\n",
       "      <td>3</td>\n",
       "    </tr>\n",
       "    <tr>\n",
       "      <th>4</th>\n",
       "      <td>5</td>\n",
       "      <td>2</td>\n",
       "      <td>mariokeller</td>\n",
       "      <td>2</td>\n",
       "    </tr>\n",
       "  </tbody>\n",
       "</table>\n",
       "</div>"
      ],
      "text/plain": [
       "   rating_id  book_id       username  rating\n",
       "0          1        1     ryanfranco       4\n",
       "1          2        1  grantpatricia       2\n",
       "2          3        1   brandtandrea       5\n",
       "3          4        2       lorichen       3\n",
       "4          5        2    mariokeller       2"
      ]
     },
     "execution_count": 9,
     "metadata": {},
     "output_type": "execute_result"
    }
   ],
   "source": [
    "query = '''SELECT * FROM ratings LIMIT 5'''\n",
    "get_sql_data(query)"
   ]
  },
  {
   "cell_type": "code",
   "execution_count": 10,
   "id": "2c8421e8",
   "metadata": {},
   "outputs": [
    {
     "data": {
      "text/html": [
       "<div>\n",
       "<style scoped>\n",
       "    .dataframe tbody tr th:only-of-type {\n",
       "        vertical-align: middle;\n",
       "    }\n",
       "\n",
       "    .dataframe tbody tr th {\n",
       "        vertical-align: top;\n",
       "    }\n",
       "\n",
       "    .dataframe thead th {\n",
       "        text-align: right;\n",
       "    }\n",
       "</style>\n",
       "<table border=\"1\" class=\"dataframe\">\n",
       "  <thead>\n",
       "    <tr style=\"text-align: right;\">\n",
       "      <th></th>\n",
       "      <th>count</th>\n",
       "    </tr>\n",
       "  </thead>\n",
       "  <tbody>\n",
       "    <tr>\n",
       "      <th>0</th>\n",
       "      <td>6456</td>\n",
       "    </tr>\n",
       "  </tbody>\n",
       "</table>\n",
       "</div>"
      ],
      "text/plain": [
       "   count\n",
       "0   6456"
      ]
     },
     "execution_count": 10,
     "metadata": {},
     "output_type": "execute_result"
    }
   ],
   "source": [
    "query = '''SELECT COUNT(*) FROM ratings'''\n",
    "get_sql_data(query)"
   ]
  },
  {
   "cell_type": "markdown",
   "id": "0cd9ce66",
   "metadata": {},
   "source": [
    "### reviews"
   ]
  },
  {
   "cell_type": "code",
   "execution_count": 11,
   "id": "ad1a87af",
   "metadata": {},
   "outputs": [
    {
     "data": {
      "text/html": [
       "<div>\n",
       "<style scoped>\n",
       "    .dataframe tbody tr th:only-of-type {\n",
       "        vertical-align: middle;\n",
       "    }\n",
       "\n",
       "    .dataframe tbody tr th {\n",
       "        vertical-align: top;\n",
       "    }\n",
       "\n",
       "    .dataframe thead th {\n",
       "        text-align: right;\n",
       "    }\n",
       "</style>\n",
       "<table border=\"1\" class=\"dataframe\">\n",
       "  <thead>\n",
       "    <tr style=\"text-align: right;\">\n",
       "      <th></th>\n",
       "      <th>review_id</th>\n",
       "      <th>book_id</th>\n",
       "      <th>username</th>\n",
       "      <th>text</th>\n",
       "    </tr>\n",
       "  </thead>\n",
       "  <tbody>\n",
       "    <tr>\n",
       "      <th>0</th>\n",
       "      <td>1</td>\n",
       "      <td>1</td>\n",
       "      <td>brandtandrea</td>\n",
       "      <td>Mention society tell send professor analysis. ...</td>\n",
       "    </tr>\n",
       "    <tr>\n",
       "      <th>1</th>\n",
       "      <td>2</td>\n",
       "      <td>1</td>\n",
       "      <td>ryanfranco</td>\n",
       "      <td>Foot glass pretty audience hit themselves. Amo...</td>\n",
       "    </tr>\n",
       "    <tr>\n",
       "      <th>2</th>\n",
       "      <td>3</td>\n",
       "      <td>2</td>\n",
       "      <td>lorichen</td>\n",
       "      <td>Listen treat keep worry. Miss husband tax but ...</td>\n",
       "    </tr>\n",
       "    <tr>\n",
       "      <th>3</th>\n",
       "      <td>4</td>\n",
       "      <td>3</td>\n",
       "      <td>johnsonamanda</td>\n",
       "      <td>Finally month interesting blue could nature cu...</td>\n",
       "    </tr>\n",
       "    <tr>\n",
       "      <th>4</th>\n",
       "      <td>5</td>\n",
       "      <td>3</td>\n",
       "      <td>scotttamara</td>\n",
       "      <td>Nation purpose heavy give wait song will. List...</td>\n",
       "    </tr>\n",
       "  </tbody>\n",
       "</table>\n",
       "</div>"
      ],
      "text/plain": [
       "   review_id  book_id       username  \\\n",
       "0          1        1   brandtandrea   \n",
       "1          2        1     ryanfranco   \n",
       "2          3        2       lorichen   \n",
       "3          4        3  johnsonamanda   \n",
       "4          5        3    scotttamara   \n",
       "\n",
       "                                                text  \n",
       "0  Mention society tell send professor analysis. ...  \n",
       "1  Foot glass pretty audience hit themselves. Amo...  \n",
       "2  Listen treat keep worry. Miss husband tax but ...  \n",
       "3  Finally month interesting blue could nature cu...  \n",
       "4  Nation purpose heavy give wait song will. List...  "
      ]
     },
     "execution_count": 11,
     "metadata": {},
     "output_type": "execute_result"
    }
   ],
   "source": [
    "query = '''SELECT * FROM reviews LIMIT 5'''\n",
    "get_sql_data(query)"
   ]
  },
  {
   "cell_type": "code",
   "execution_count": 12,
   "id": "42772662",
   "metadata": {},
   "outputs": [
    {
     "data": {
      "text/html": [
       "<div>\n",
       "<style scoped>\n",
       "    .dataframe tbody tr th:only-of-type {\n",
       "        vertical-align: middle;\n",
       "    }\n",
       "\n",
       "    .dataframe tbody tr th {\n",
       "        vertical-align: top;\n",
       "    }\n",
       "\n",
       "    .dataframe thead th {\n",
       "        text-align: right;\n",
       "    }\n",
       "</style>\n",
       "<table border=\"1\" class=\"dataframe\">\n",
       "  <thead>\n",
       "    <tr style=\"text-align: right;\">\n",
       "      <th></th>\n",
       "      <th>count</th>\n",
       "    </tr>\n",
       "  </thead>\n",
       "  <tbody>\n",
       "    <tr>\n",
       "      <th>0</th>\n",
       "      <td>2793</td>\n",
       "    </tr>\n",
       "  </tbody>\n",
       "</table>\n",
       "</div>"
      ],
      "text/plain": [
       "   count\n",
       "0   2793"
      ]
     },
     "execution_count": 12,
     "metadata": {},
     "output_type": "execute_result"
    }
   ],
   "source": [
    "query = '''SELECT COUNT(*) FROM reviews'''\n",
    "get_sql_data(query)"
   ]
  },
  {
   "cell_type": "markdown",
   "id": "acf16cf1",
   "metadata": {},
   "source": [
    "## Определение искомых значений\n",
    "### Книги, вышедшие после 1 января 2000 года"
   ]
  },
  {
   "cell_type": "code",
   "execution_count": 13,
   "id": "e1a27f46",
   "metadata": {},
   "outputs": [
    {
     "data": {
      "text/html": [
       "<div>\n",
       "<style scoped>\n",
       "    .dataframe tbody tr th:only-of-type {\n",
       "        vertical-align: middle;\n",
       "    }\n",
       "\n",
       "    .dataframe tbody tr th {\n",
       "        vertical-align: top;\n",
       "    }\n",
       "\n",
       "    .dataframe thead th {\n",
       "        text-align: right;\n",
       "    }\n",
       "</style>\n",
       "<table border=\"1\" class=\"dataframe\">\n",
       "  <thead>\n",
       "    <tr style=\"text-align: right;\">\n",
       "      <th></th>\n",
       "      <th>count</th>\n",
       "    </tr>\n",
       "  </thead>\n",
       "  <tbody>\n",
       "    <tr>\n",
       "      <th>0</th>\n",
       "      <td>821</td>\n",
       "    </tr>\n",
       "  </tbody>\n",
       "</table>\n",
       "</div>"
      ],
      "text/plain": [
       "   count\n",
       "0    821"
      ]
     },
     "execution_count": 13,
     "metadata": {},
     "output_type": "execute_result"
    }
   ],
   "source": [
    "query = '''SELECT COUNT(*) FROM books WHERE publication_date >= '2000-01-01' '''\n",
    "get_sql_data(query)"
   ]
  },
  {
   "cell_type": "markdown",
   "id": "564871ac",
   "metadata": {},
   "source": [
    "После 1 января 2000 года была выпущена 821 книга."
   ]
  },
  {
   "cell_type": "markdown",
   "id": "beaa3089",
   "metadata": {},
   "source": [
    "### Число обзоров и средняя оценка каждой книги"
   ]
  },
  {
   "cell_type": "code",
   "execution_count": 14,
   "id": "6a9b5b75",
   "metadata": {},
   "outputs": [
    {
     "data": {
      "text/html": [
       "<div>\n",
       "<style scoped>\n",
       "    .dataframe tbody tr th:only-of-type {\n",
       "        vertical-align: middle;\n",
       "    }\n",
       "\n",
       "    .dataframe tbody tr th {\n",
       "        vertical-align: top;\n",
       "    }\n",
       "\n",
       "    .dataframe thead th {\n",
       "        text-align: right;\n",
       "    }\n",
       "</style>\n",
       "<table border=\"1\" class=\"dataframe\">\n",
       "  <thead>\n",
       "    <tr style=\"text-align: right;\">\n",
       "      <th></th>\n",
       "      <th>title</th>\n",
       "      <th>rev_cnt</th>\n",
       "      <th>rat_avg</th>\n",
       "    </tr>\n",
       "  </thead>\n",
       "  <tbody>\n",
       "    <tr>\n",
       "      <th>0</th>\n",
       "      <td>The Count of Monte Cristo</td>\n",
       "      <td>5</td>\n",
       "      <td>4.217391</td>\n",
       "    </tr>\n",
       "    <tr>\n",
       "      <th>1</th>\n",
       "      <td>Count Zero (Sprawl  #2)</td>\n",
       "      <td>2</td>\n",
       "      <td>2.500000</td>\n",
       "    </tr>\n",
       "    <tr>\n",
       "      <th>2</th>\n",
       "      <td>The Botany of Desire: A Plant's-Eye View of th...</td>\n",
       "      <td>2</td>\n",
       "      <td>3.500000</td>\n",
       "    </tr>\n",
       "    <tr>\n",
       "      <th>3</th>\n",
       "      <td>The Poisonwood Bible</td>\n",
       "      <td>5</td>\n",
       "      <td>4.363636</td>\n",
       "    </tr>\n",
       "    <tr>\n",
       "      <th>4</th>\n",
       "      <td>The Canterbury Tales</td>\n",
       "      <td>3</td>\n",
       "      <td>3.333333</td>\n",
       "    </tr>\n",
       "    <tr>\n",
       "      <th>...</th>\n",
       "      <td>...</td>\n",
       "      <td>...</td>\n",
       "      <td>...</td>\n",
       "    </tr>\n",
       "    <tr>\n",
       "      <th>988</th>\n",
       "      <td>Of Love and Other Demons</td>\n",
       "      <td>2</td>\n",
       "      <td>4.500000</td>\n",
       "    </tr>\n",
       "    <tr>\n",
       "      <th>989</th>\n",
       "      <td>In the Heart of the Sea: The Tragedy of the Wh...</td>\n",
       "      <td>3</td>\n",
       "      <td>3.333333</td>\n",
       "    </tr>\n",
       "    <tr>\n",
       "      <th>990</th>\n",
       "      <td>Welcome to Temptation (Dempseys  #1)</td>\n",
       "      <td>2</td>\n",
       "      <td>5.000000</td>\n",
       "    </tr>\n",
       "    <tr>\n",
       "      <th>991</th>\n",
       "      <td>World's End (The Sandman  #8)</td>\n",
       "      <td>2</td>\n",
       "      <td>4.500000</td>\n",
       "    </tr>\n",
       "    <tr>\n",
       "      <th>992</th>\n",
       "      <td>Holes (Holes  #1)</td>\n",
       "      <td>5</td>\n",
       "      <td>3.967742</td>\n",
       "    </tr>\n",
       "  </tbody>\n",
       "</table>\n",
       "<p>993 rows × 3 columns</p>\n",
       "</div>"
      ],
      "text/plain": [
       "                                                 title  rev_cnt   rat_avg\n",
       "0                            The Count of Monte Cristo        5  4.217391\n",
       "1                              Count Zero (Sprawl  #2)        2  2.500000\n",
       "2    The Botany of Desire: A Plant's-Eye View of th...        2  3.500000\n",
       "3                                 The Poisonwood Bible        5  4.363636\n",
       "4                                 The Canterbury Tales        3  3.333333\n",
       "..                                                 ...      ...       ...\n",
       "988                           Of Love and Other Demons        2  4.500000\n",
       "989  In the Heart of the Sea: The Tragedy of the Wh...        3  3.333333\n",
       "990               Welcome to Temptation (Dempseys  #1)        2  5.000000\n",
       "991                      World's End (The Sandman  #8)        2  4.500000\n",
       "992                                  Holes (Holes  #1)        5  3.967742\n",
       "\n",
       "[993 rows x 3 columns]"
      ]
     },
     "execution_count": 14,
     "metadata": {},
     "output_type": "execute_result"
    }
   ],
   "source": [
    "query = '''with sel_rev as (select b.title, count(re.review_id) as rev_cnt\n",
    "           from books as b\n",
    "           join reviews as re on b.book_id = re.book_id\n",
    "           group by b.title),\n",
    "           sel_rat as (select b.title, avg(r.rating) as rat_avg\n",
    "           from books as b\n",
    "           join ratings as r on b.book_id = r.book_id\n",
    "           group by b.title)\n",
    "           select sel_rev.title, sel_rev.rev_cnt, sel_rat.rat_avg\n",
    "           from sel_rev\n",
    "           join sel_rat on sel_rev.title = sel_rat.title\n",
    "           '''\n",
    "get_sql_data(query)"
   ]
  },
  {
   "cell_type": "markdown",
   "id": "41a7fc55",
   "metadata": {},
   "source": [
    "Перед нами численность отзывов и средний рейтинг для каждой книги."
   ]
  },
  {
   "cell_type": "markdown",
   "id": "32ac0995",
   "metadata": {},
   "source": [
    "Благодарю за совместную работу и хочу поздравить, ты большая молодец, что прошла такой путь и освоила программу, надеюсь у тебя сбудутся все намеченные планы.\n",
    "\n",
    "У Практикума развивается сообщество выпускников, так что рекомендую про него не забывать, в случае необходимости.\n",
    "\n",
    "\n",
    "Ещё раз порекламирую функцию для первичного анализа, очень удобно автоматизироват ьповторяющиеся действия, а ещё есть библиотека `pandas profiling`, которая как раз позволяет автоматизировать первичный анализ. Для твоих визуализаций рекомендую набор фокусов ниже, они позволят сделать визуализации ещё информативнее. Понравилась твоя вовлечённость спасибо за многочисленные комментарии.  С `SQL`, такая маленькая описка, но рекомендую потренироваться в приоритете именно с `SQL`, если планируешь искать работу аналитиком, так как этот навык чаще всего проверяется. Удачи!) \n",
    "\n",
    "Оформление презентаций дело субъективное и зачастую в разных компаниях имеются свои требования, но вот видео от Яндекса по созданию презентаций https://www.youtube.com/watch?v=S0r0fMJa9eA, а ещё на платформе практикума открылся бесплатный курс по созданию презентаций, рекомендую.\n",
    "\n",
    "Для более глубокого изучения tableau, в случае необходимости рекомендую материал https://tableau.pro/m01, этот курс делает классная команда, у них бывают и другие интересные мини курсы. Но в последнее время российские компании уходят от tableau или уже ушли, поэтому возможно придётся познакомиться с другими инструментами.\n",
    "\n",
    "Задачи на статистику или вокруг неё часто возникают на собеседовании, для укрепления этого фундамента рекомендую статью для выбора критерия проверки гипотез https://lit-review.ru/biostatistika/vybor-statisticheskogo-kriteriya/, https://statpsy.ru/ - информация по критериям проверки гипотез.\n",
    "\n",
    "Визуализации данных для аналитиков очень важны, при помощи них легче доносить желаемые мысли, а для того, чтобы лучше отобразить, нужно понимать, какие вообще существуют визуализации, делюсь с тобой своей подборкой для разных случае жизни https://www.notion.so/d9392e1cb71f48cfb1fbf7f557a2b7e7 \n",
    "\n",
    "SQL важный навык, который нужно поддерживать для этого существует много тренажёров:\n",
    "* Статья на хабр с топ-тренажёрами: https://techrocks.ru/2019/11/22/7-sites-to-perfect-sql-query-writing-skills/\n",
    "* задачки SQL - https://habr.com/ru/company/dcmiran/blog/500360/\n",
    "* https://sqlzoo.net/"
   ]
  },
  {
   "cell_type": "markdown",
   "id": "9239f594",
   "metadata": {},
   "source": [
    "### Издательство, выпустившее наибольшее число книг, кроме брошюр"
   ]
  },
  {
   "cell_type": "code",
   "execution_count": 15,
   "id": "e2157619",
   "metadata": {},
   "outputs": [
    {
     "data": {
      "text/html": [
       "<div>\n",
       "<style scoped>\n",
       "    .dataframe tbody tr th:only-of-type {\n",
       "        vertical-align: middle;\n",
       "    }\n",
       "\n",
       "    .dataframe tbody tr th {\n",
       "        vertical-align: top;\n",
       "    }\n",
       "\n",
       "    .dataframe thead th {\n",
       "        text-align: right;\n",
       "    }\n",
       "</style>\n",
       "<table border=\"1\" class=\"dataframe\">\n",
       "  <thead>\n",
       "    <tr style=\"text-align: right;\">\n",
       "      <th></th>\n",
       "      <th>publisher</th>\n",
       "      <th>books_cnt</th>\n",
       "    </tr>\n",
       "  </thead>\n",
       "  <tbody>\n",
       "    <tr>\n",
       "      <th>0</th>\n",
       "      <td>Penguin Books</td>\n",
       "      <td>42</td>\n",
       "    </tr>\n",
       "  </tbody>\n",
       "</table>\n",
       "</div>"
      ],
      "text/plain": [
       "       publisher  books_cnt\n",
       "0  Penguin Books         42"
      ]
     },
     "execution_count": 15,
     "metadata": {},
     "output_type": "execute_result"
    }
   ],
   "source": [
    "query = '''WITH sel1 AS (SELECT p.publisher, b.book_id\n",
    "                 FROM publishers AS p\n",
    "                 JOIN books AS b ON p.publisher_id = b.publisher_id\n",
    "                 WHERE b.num_pages > 50)\n",
    "           SELECT publisher, COUNT(book_id) AS books_cnt\n",
    "           FROM sel1\n",
    "           GROUP BY publisher\n",
    "           ORDER BY books_cnt DESC\n",
    "           LIMIT 1\n",
    "        '''\n",
    "get_sql_data(query)"
   ]
  },
  {
   "cell_type": "markdown",
   "id": "71eac752",
   "metadata": {},
   "source": [
    "Самым продуктивным издательством стало Penguin Books с 42 книгами объемом более 50 страниц."
   ]
  },
  {
   "cell_type": "markdown",
   "id": "19c5fd35",
   "metadata": {},
   "source": [
    "### Автор с самой высокой средней оценкой книг"
   ]
  },
  {
   "cell_type": "code",
   "execution_count": 16,
   "id": "7dde1966",
   "metadata": {},
   "outputs": [
    {
     "data": {
      "text/html": [
       "<div>\n",
       "<style scoped>\n",
       "    .dataframe tbody tr th:only-of-type {\n",
       "        vertical-align: middle;\n",
       "    }\n",
       "\n",
       "    .dataframe tbody tr th {\n",
       "        vertical-align: top;\n",
       "    }\n",
       "\n",
       "    .dataframe thead th {\n",
       "        text-align: right;\n",
       "    }\n",
       "</style>\n",
       "<table border=\"1\" class=\"dataframe\">\n",
       "  <thead>\n",
       "    <tr style=\"text-align: right;\">\n",
       "      <th></th>\n",
       "      <th>author</th>\n",
       "      <th>avg</th>\n",
       "    </tr>\n",
       "  </thead>\n",
       "  <tbody>\n",
       "    <tr>\n",
       "      <th>0</th>\n",
       "      <td>J.K. Rowling/Mary GrandPré</td>\n",
       "      <td>4.287097</td>\n",
       "    </tr>\n",
       "  </tbody>\n",
       "</table>\n",
       "</div>"
      ],
      "text/plain": [
       "                       author       avg\n",
       "0  J.K. Rowling/Mary GrandPré  4.287097"
      ]
     },
     "execution_count": 16,
     "metadata": {},
     "output_type": "execute_result"
    }
   ],
   "source": [
    "query = '''\n",
    "           WITH sel1 AS (SELECT b.book_id, COUNT(r.rating_id) AS rating_cnt\n",
    "           FROM books as b\n",
    "           JOIN ratings as r ON b.book_id = r.book_id\n",
    "           GROUP BY b.book_id\n",
    "           HAVING COUNT(r.rating_id) >= 50)\n",
    "           SELECT a.author, AVG(r.rating)\n",
    "           FROM authors AS a\n",
    "           JOIN books as b ON a.author_id = b.author_id\n",
    "           JOIN ratings as r ON b.book_id = r.book_id\n",
    "           WHERE b.book_id IN (SELECT book_id FROM sel1)\n",
    "           GROUP BY a.author\n",
    "           ORDER BY AVG(r.rating) DESC\n",
    "           LIMIT 1\n",
    "           \n",
    "        '''\n",
    "get_sql_data(query)"
   ]
  },
  {
   "cell_type": "markdown",
   "id": "215e66cc",
   "metadata": {},
   "source": [
    "Самую высокую среднюю оценку книг с учетом изданий, имеющих 50 и более оценок, получила Дж.К. Роулинг совместно с иллюстратором Мэри Грен-Прей."
   ]
  },
  {
   "cell_type": "markdown",
   "id": "47c61c0b",
   "metadata": {},
   "source": [
    "### Среднее количество обзоров от пользователей"
   ]
  },
  {
   "cell_type": "code",
   "execution_count": 17,
   "id": "eefc1cf0",
   "metadata": {},
   "outputs": [
    {
     "data": {
      "text/html": [
       "<div>\n",
       "<style scoped>\n",
       "    .dataframe tbody tr th:only-of-type {\n",
       "        vertical-align: middle;\n",
       "    }\n",
       "\n",
       "    .dataframe tbody tr th {\n",
       "        vertical-align: top;\n",
       "    }\n",
       "\n",
       "    .dataframe thead th {\n",
       "        text-align: right;\n",
       "    }\n",
       "</style>\n",
       "<table border=\"1\" class=\"dataframe\">\n",
       "  <thead>\n",
       "    <tr style=\"text-align: right;\">\n",
       "      <th></th>\n",
       "      <th>avg</th>\n",
       "    </tr>\n",
       "  </thead>\n",
       "  <tbody>\n",
       "    <tr>\n",
       "      <th>0</th>\n",
       "      <td>24.0</td>\n",
       "    </tr>\n",
       "  </tbody>\n",
       "</table>\n",
       "</div>"
      ],
      "text/plain": [
       "    avg\n",
       "0  24.0"
      ]
     },
     "execution_count": 17,
     "metadata": {},
     "output_type": "execute_result"
    }
   ],
   "source": [
    "query = '''\n",
    "           WITH sel1 AS (SELECT username, COUNT(rating_id) AS rating_cnt\n",
    "           FROM ratings\n",
    "           GROUP BY username\n",
    "           HAVING COUNT(rating_id) > 48),\n",
    "           sel2 AS (SELECT username, COUNT(review_id) AS review_cnt\n",
    "           FROM reviews\n",
    "           WHERE username IN (SELECT username FROM sel1)\n",
    "           GROUP BY username)\n",
    "           SELECT AVG(review_cnt)\n",
    "           FROM sel2\n",
    "        '''\n",
    "get_sql_data(query)"
   ]
  },
  {
   "cell_type": "markdown",
   "id": "2cae7c9f",
   "metadata": {},
   "source": [
    "Каждый пользователь, поставивший больше 48 оценок, в среднем написал 24 обзора."
   ]
  },
  {
   "cell_type": "markdown",
   "id": "19de2937",
   "metadata": {},
   "source": [
    "## Заключение"
   ]
  },
  {
   "cell_type": "markdown",
   "id": "9938fc30",
   "metadata": {},
   "source": [
    "Для формирования ценностного предложения мы можем предложить отделу маркетинга следующие направления:\n",
    "1. Свыше 800 произведений современной и классической литературы.\n",
    "1. Акции на самые популярные книги. Например, при покупке подписки на год, подарочное печатное издание книги из числа самых популярных по числу отзывов и по среднему рейтингу на выбор.\n",
    "1. Новинки издательства Penguin Books доступны подписчикам раньше, чем в других сервисах или магазинах.\n",
    "1. Обзоры и рейтинги от других читателей."
   ]
  }
 ],
 "metadata": {
  "ExecuteTimeLog": [
   {
    "duration": 46,
    "start_time": "2023-10-07T21:51:46.823Z"
   },
   {
    "duration": 418,
    "start_time": "2023-10-07T21:51:57.185Z"
   },
   {
    "duration": 8276,
    "start_time": "2023-10-07T21:51:57.605Z"
   },
   {
    "duration": 253,
    "start_time": "2023-10-07T21:52:05.882Z"
   },
   {
    "duration": 51,
    "start_time": "2023-10-07T21:52:06.137Z"
   },
   {
    "duration": 55,
    "start_time": "2023-10-07T21:52:06.189Z"
   },
   {
    "duration": 52,
    "start_time": "2023-10-07T21:52:06.245Z"
   },
   {
    "duration": 62,
    "start_time": "2023-10-07T21:52:06.299Z"
   },
   {
    "duration": 50,
    "start_time": "2023-10-07T21:52:06.364Z"
   },
   {
    "duration": 57,
    "start_time": "2023-10-07T21:52:06.416Z"
   },
   {
    "duration": 51,
    "start_time": "2023-10-07T21:52:06.475Z"
   },
   {
    "duration": 51,
    "start_time": "2023-10-07T21:52:06.527Z"
   },
   {
    "duration": 50,
    "start_time": "2023-10-07T21:52:06.579Z"
   },
   {
    "duration": 51,
    "start_time": "2023-10-07T21:52:06.630Z"
   },
   {
    "duration": 66,
    "start_time": "2023-10-07T21:52:06.682Z"
   },
   {
    "duration": 66,
    "start_time": "2023-10-07T21:52:06.749Z"
   },
   {
    "duration": 55,
    "start_time": "2023-10-07T21:52:06.817Z"
   },
   {
    "duration": 56,
    "start_time": "2023-10-07T21:52:06.873Z"
   },
   {
    "duration": 60,
    "start_time": "2023-10-07T21:52:06.930Z"
   },
   {
    "duration": 51,
    "start_time": "2023-10-07T21:59:27.906Z"
   },
   {
    "duration": 59,
    "start_time": "2023-10-07T22:00:18.007Z"
   },
   {
    "duration": 62,
    "start_time": "2023-10-07T22:06:49.004Z"
   },
   {
    "duration": 50,
    "start_time": "2023-10-07T22:06:50.739Z"
   },
   {
    "duration": 61,
    "start_time": "2023-10-07T22:07:15.433Z"
   },
   {
    "duration": 50,
    "start_time": "2023-10-07T22:07:18.531Z"
   },
   {
    "duration": 62,
    "start_time": "2023-10-07T22:07:27.639Z"
   },
   {
    "duration": 62,
    "start_time": "2023-10-07T22:08:53.146Z"
   },
   {
    "duration": 2,
    "start_time": "2023-10-07T22:09:05.797Z"
   },
   {
    "duration": 30,
    "start_time": "2023-10-07T22:09:05.801Z"
   },
   {
    "duration": 274,
    "start_time": "2023-10-07T22:09:05.832Z"
   },
   {
    "duration": 50,
    "start_time": "2023-10-07T22:09:06.108Z"
   },
   {
    "duration": 51,
    "start_time": "2023-10-07T22:09:06.159Z"
   },
   {
    "duration": 51,
    "start_time": "2023-10-07T22:09:06.211Z"
   },
   {
    "duration": 52,
    "start_time": "2023-10-07T22:09:06.264Z"
   },
   {
    "duration": 50,
    "start_time": "2023-10-07T22:09:06.318Z"
   },
   {
    "duration": 54,
    "start_time": "2023-10-07T22:09:06.369Z"
   },
   {
    "duration": 53,
    "start_time": "2023-10-07T22:09:06.426Z"
   },
   {
    "duration": 53,
    "start_time": "2023-10-07T22:09:06.481Z"
   },
   {
    "duration": 120,
    "start_time": "2023-10-07T22:09:06.536Z"
   },
   {
    "duration": 89,
    "start_time": "2023-10-07T22:09:06.657Z"
   },
   {
    "duration": 63,
    "start_time": "2023-10-07T22:09:06.747Z"
   },
   {
    "duration": 63,
    "start_time": "2023-10-07T22:09:06.811Z"
   },
   {
    "duration": 86,
    "start_time": "2023-10-07T22:09:06.875Z"
   },
   {
    "duration": 62,
    "start_time": "2023-10-07T22:09:06.962Z"
   },
   {
    "duration": 51,
    "start_time": "2023-10-07T22:09:07.026Z"
   },
   {
    "duration": 59,
    "start_time": "2023-10-07T22:09:07.079Z"
   },
   {
    "duration": 54,
    "start_time": "2023-10-07T22:09:07.140Z"
   },
   {
    "duration": 51,
    "start_time": "2023-10-07T22:10:52.398Z"
   },
   {
    "duration": 86,
    "start_time": "2023-10-07T22:11:46.461Z"
   },
   {
    "duration": 50,
    "start_time": "2023-10-07T22:11:50.577Z"
   },
   {
    "duration": 60,
    "start_time": "2023-10-07T22:11:56.861Z"
   },
   {
    "duration": 61,
    "start_time": "2023-10-07T22:12:53.481Z"
   },
   {
    "duration": 527,
    "start_time": "2023-10-08T05:36:55.764Z"
   },
   {
    "duration": 13144,
    "start_time": "2023-10-08T05:36:56.293Z"
   },
   {
    "duration": 300,
    "start_time": "2023-10-08T05:37:09.438Z"
   },
   {
    "duration": 54,
    "start_time": "2023-10-08T05:37:09.740Z"
   },
   {
    "duration": 58,
    "start_time": "2023-10-08T05:37:09.798Z"
   },
   {
    "duration": 60,
    "start_time": "2023-10-08T05:37:09.858Z"
   },
   {
    "duration": 55,
    "start_time": "2023-10-08T05:37:09.919Z"
   },
   {
    "duration": 67,
    "start_time": "2023-10-08T05:37:09.975Z"
   },
   {
    "duration": 54,
    "start_time": "2023-10-08T05:37:10.043Z"
   },
   {
    "duration": 63,
    "start_time": "2023-10-08T05:37:10.099Z"
   },
   {
    "duration": 67,
    "start_time": "2023-10-08T05:37:10.164Z"
   },
   {
    "duration": 52,
    "start_time": "2023-10-08T05:37:10.233Z"
   },
   {
    "duration": 61,
    "start_time": "2023-10-08T05:37:10.287Z"
   },
   {
    "duration": 81,
    "start_time": "2023-10-08T05:37:10.351Z"
   },
   {
    "duration": 102,
    "start_time": "2023-10-08T05:37:10.434Z"
   },
   {
    "duration": 55,
    "start_time": "2023-10-08T05:37:10.537Z"
   },
   {
    "duration": 82,
    "start_time": "2023-10-08T05:37:10.594Z"
   },
   {
    "duration": 73,
    "start_time": "2023-10-08T05:37:10.677Z"
   },
   {
    "duration": 81,
    "start_time": "2023-10-08T05:37:10.751Z"
   },
   {
    "duration": 55,
    "start_time": "2023-10-08T05:37:10.834Z"
   },
   {
    "duration": 86,
    "start_time": "2023-10-08T08:12:03.906Z"
   },
   {
    "duration": 571,
    "start_time": "2023-10-08T18:41:18.408Z"
   },
   {
    "duration": 9444,
    "start_time": "2023-10-08T18:41:18.981Z"
   },
   {
    "duration": 290,
    "start_time": "2023-10-08T18:41:28.427Z"
   },
   {
    "duration": 50,
    "start_time": "2023-10-08T18:41:28.719Z"
   },
   {
    "duration": 51,
    "start_time": "2023-10-08T18:41:28.771Z"
   },
   {
    "duration": 49,
    "start_time": "2023-10-08T18:41:28.824Z"
   },
   {
    "duration": 51,
    "start_time": "2023-10-08T18:41:28.875Z"
   },
   {
    "duration": 49,
    "start_time": "2023-10-08T18:41:28.928Z"
   },
   {
    "duration": 51,
    "start_time": "2023-10-08T18:41:28.979Z"
   },
   {
    "duration": 51,
    "start_time": "2023-10-08T18:41:29.033Z"
   },
   {
    "duration": 52,
    "start_time": "2023-10-08T18:41:29.086Z"
   },
   {
    "duration": 50,
    "start_time": "2023-10-08T18:41:29.140Z"
   },
   {
    "duration": 50,
    "start_time": "2023-10-08T18:41:29.192Z"
   },
   {
    "duration": 84,
    "start_time": "2023-10-08T18:41:29.244Z"
   },
   {
    "duration": 52,
    "start_time": "2023-10-08T18:41:29.329Z"
   },
   {
    "duration": 56,
    "start_time": "2023-10-08T18:41:29.383Z"
   },
   {
    "duration": 53,
    "start_time": "2023-10-08T18:41:29.441Z"
   }
  ],
  "kernelspec": {
   "display_name": "Python 3 (ipykernel)",
   "language": "python",
   "name": "python3"
  },
  "language_info": {
   "codemirror_mode": {
    "name": "ipython",
    "version": 3
   },
   "file_extension": ".py",
   "mimetype": "text/x-python",
   "name": "python",
   "nbconvert_exporter": "python",
   "pygments_lexer": "ipython3",
   "version": "3.9.5"
  },
  "toc": {
   "base_numbering": 1,
   "nav_menu": {},
   "number_sections": true,
   "sideBar": true,
   "skip_h1_title": true,
   "title_cell": "Table of Contents",
   "title_sidebar": "Contents",
   "toc_cell": true,
   "toc_position": {
    "height": "calc(100% - 180px)",
    "left": "10px",
    "top": "150px",
    "width": "384px"
   },
   "toc_section_display": true,
   "toc_window_display": true
  }
 },
 "nbformat": 4,
 "nbformat_minor": 5
}
