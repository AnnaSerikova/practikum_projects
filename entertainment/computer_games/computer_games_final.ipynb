{
 "cells": [
  {
   "cell_type": "markdown",
   "id": "31c98593",
   "metadata": {
    "toc": true
   },
   "source": [
    "<h1>Table of Contents<span class=\"tocSkip\"></span></h1>\n",
    "<div class=\"toc\"><ul class=\"toc-item\"><li><ul class=\"toc-item\"><li><span><a href=\"#Цель-исследования\" data-toc-modified-id=\"Цель-исследования-0.1\"><span class=\"toc-item-num\">0.1&nbsp;&nbsp;</span>Цель исследования</a></span></li><li><span><a href=\"#Задачи-исследования\" data-toc-modified-id=\"Задачи-исследования-0.2\"><span class=\"toc-item-num\">0.2&nbsp;&nbsp;</span>Задачи исследования</a></span></li><li><span><a href=\"#Характеристика-данных\" data-toc-modified-id=\"Характеристика-данных-0.3\"><span class=\"toc-item-num\">0.3&nbsp;&nbsp;</span>Характеристика данных</a></span></li></ul></li><li><span><a href=\"#Подготовка-инструментов-и-загрузка-данных\" data-toc-modified-id=\"Подготовка-инструментов-и-загрузка-данных-1\"><span class=\"toc-item-num\">1&nbsp;&nbsp;</span>Подготовка инструментов и загрузка данных</a></span></li><li><span><a href=\"#Обзор-и-базовая-предобработка-данных\" data-toc-modified-id=\"Обзор-и-базовая-предобработка-данных-2\"><span class=\"toc-item-num\">2&nbsp;&nbsp;</span>Обзор и базовая предобработка данных</a></span><ul class=\"toc-item\"><li><span><a href=\"#Результаты-обзора-и-предобработки-данных\" data-toc-modified-id=\"Результаты-обзора-и-предобработки-данных-2.1\"><span class=\"toc-item-num\">2.1&nbsp;&nbsp;</span>Результаты обзора и предобработки данных</a></span></li></ul></li><li><span><a href=\"#EDA\" data-toc-modified-id=\"EDA-3\"><span class=\"toc-item-num\">3&nbsp;&nbsp;</span>EDA</a></span><ul class=\"toc-item\"><li><span><a href=\"#Оценка-числа-игр,-выходящих-ежегодно\" data-toc-modified-id=\"Оценка-числа-игр,-выходящих-ежегодно-3.1\"><span class=\"toc-item-num\">3.1&nbsp;&nbsp;</span>Оценка числа игр, выходящих ежегодно</a></span></li><li><span><a href=\"#Выбор-наиболее-популярных-платформ\" data-toc-modified-id=\"Выбор-наиболее-популярных-платформ-3.2\"><span class=\"toc-item-num\">3.2&nbsp;&nbsp;</span>Выбор наиболее популярных платформ</a></span></li><li><span><a href=\"#Определение-актуального-периода\" data-toc-modified-id=\"Определение-актуального-периода-3.3\"><span class=\"toc-item-num\">3.3&nbsp;&nbsp;</span>Определение актуального периода</a></span></li><li><span><a href=\"#Выбор-потенциально-прибыльных-платформ-для-планирования-рекламных-кампаний\" data-toc-modified-id=\"Выбор-потенциально-прибыльных-платформ-для-планирования-рекламных-кампаний-3.4\"><span class=\"toc-item-num\">3.4&nbsp;&nbsp;</span>Выбор потенциально прибыльных платформ для планирования рекламных кампаний</a></span></li><li><span><a href=\"#Оценка-перспективных-платформ-с-помощью-диаграммы-размаха-общих-продаж\" data-toc-modified-id=\"Оценка-перспективных-платформ-с-помощью-диаграммы-размаха-общих-продаж-3.5\"><span class=\"toc-item-num\">3.5&nbsp;&nbsp;</span>Оценка перспективных платформ с помощью диаграммы размаха общих продаж</a></span></li><li><span><a href=\"#Оценка-влияния-отзывов-на-продажи\" data-toc-modified-id=\"Оценка-влияния-отзывов-на-продажи-3.6\"><span class=\"toc-item-num\">3.6&nbsp;&nbsp;</span>Оценка влияния отзывов на продажи</a></span></li><li><span><a href=\"#Комментарий-ревьюера\" data-toc-modified-id=\"Комментарий-ревьюера-3.7\"><span class=\"toc-item-num\">3.7&nbsp;&nbsp;</span>Комментарий ревьюера</a></span><ul class=\"toc-item\"><li><span><a href=\"#Успех\" data-toc-modified-id=\"Успех-3.7.1\"><span class=\"toc-item-num\">3.7.1&nbsp;&nbsp;</span>Успех</a></span></li></ul></li><li><span><a href=\"#Комментарий-ревьюера\" data-toc-modified-id=\"Комментарий-ревьюера-3.8\"><span class=\"toc-item-num\">3.8&nbsp;&nbsp;</span>Комментарий ревьюера</a></span><ul class=\"toc-item\"><li><span><a href=\"#Успех\" data-toc-modified-id=\"Успех-3.8.1\"><span class=\"toc-item-num\">3.8.1&nbsp;&nbsp;</span>Успех</a></span></li></ul></li><li><span><a href=\"#Оценка-распределения-игр-по-жанрам-и-потенциальной-прибыльности-жанров\" data-toc-modified-id=\"Оценка-распределения-игр-по-жанрам-и-потенциальной-прибыльности-жанров-3.9\"><span class=\"toc-item-num\">3.9&nbsp;&nbsp;</span>Оценка распределения игр по жанрам и потенциальной прибыльности жанров</a></span></li><li><span><a href=\"#Комментарий-ревьюера\" data-toc-modified-id=\"Комментарий-ревьюера-3.10\"><span class=\"toc-item-num\">3.10&nbsp;&nbsp;</span>Комментарий ревьюера</a></span><ul class=\"toc-item\"><li><span><a href=\"#Ошибка\" data-toc-modified-id=\"Ошибка-3.10.1\"><span class=\"toc-item-num\">3.10.1&nbsp;&nbsp;</span>Ошибка</a></span></li><li><span><a href=\"#Успех\" data-toc-modified-id=\"Успех-3.10.2\"><span class=\"toc-item-num\">3.10.2&nbsp;&nbsp;</span>Успех</a></span></li></ul></li></ul></li><li><span><a href=\"#Портреты-пользователей-по-регионам\" data-toc-modified-id=\"Портреты-пользователей-по-регионам-4\"><span class=\"toc-item-num\">4&nbsp;&nbsp;</span>Портреты пользователей по регионам</a></span><ul class=\"toc-item\"><li><span><a href=\"#Топ-5-платформ-и-жанров-в-каждом-регионе\" data-toc-modified-id=\"Топ-5-платформ-и-жанров-в-каждом-регионе-4.1\"><span class=\"toc-item-num\">4.1&nbsp;&nbsp;</span>Топ-5 платформ и жанров в каждом регионе</a></span></li><li><span><a href=\"#Комментарий-ревьюера\" data-toc-modified-id=\"Комментарий-ревьюера-4.2\"><span class=\"toc-item-num\">4.2&nbsp;&nbsp;</span>Комментарий ревьюера</a></span><ul class=\"toc-item\"><li><span><a href=\"#Успех\" data-toc-modified-id=\"Успех-4.2.1\"><span class=\"toc-item-num\">4.2.1&nbsp;&nbsp;</span>Успех</a></span></li></ul></li><li><span><a href=\"#Комментарий-ревьюера\" data-toc-modified-id=\"Комментарий-ревьюера-4.3\"><span class=\"toc-item-num\">4.3&nbsp;&nbsp;</span>Комментарий ревьюера</a></span><ul class=\"toc-item\"><li><span><a href=\"#Успех\" data-toc-modified-id=\"Успех-4.3.1\"><span class=\"toc-item-num\">4.3.1&nbsp;&nbsp;</span>Успех</a></span></li></ul></li><li><span><a href=\"#Комментарий-ревьюера\" data-toc-modified-id=\"Комментарий-ревьюера-4.4\"><span class=\"toc-item-num\">4.4&nbsp;&nbsp;</span>Комментарий ревьюера</a></span><ul class=\"toc-item\"><li><span><a href=\"#Совет\" data-toc-modified-id=\"Совет-4.4.1\"><span class=\"toc-item-num\">4.4.1&nbsp;&nbsp;</span>Совет</a></span></li></ul></li><li><span><a href=\"#Зависимость-продаж-от-рейтинга-ESRB-по-регионам\" data-toc-modified-id=\"Зависимость-продаж-от-рейтинга-ESRB-по-регионам-4.5\"><span class=\"toc-item-num\">4.5&nbsp;&nbsp;</span>Зависимость продаж от рейтинга ESRB по регионам</a></span></li><li><span><a href=\"#Комментарий-ревьюера\" data-toc-modified-id=\"Комментарий-ревьюера-4.6\"><span class=\"toc-item-num\">4.6&nbsp;&nbsp;</span>Комментарий ревьюера</a></span><ul class=\"toc-item\"><li><span><a href=\"#Успех\" data-toc-modified-id=\"Успех-4.6.1\"><span class=\"toc-item-num\">4.6.1&nbsp;&nbsp;</span>Успех</a></span></li></ul></li></ul></li><li><span><a href=\"#Проверка-гипотез-о-средних-пользовательских-рейтингах\" data-toc-modified-id=\"Проверка-гипотез-о-средних-пользовательских-рейтингах-5\"><span class=\"toc-item-num\">5&nbsp;&nbsp;</span>Проверка гипотез о средних пользовательских рейтингах</a></span><ul class=\"toc-item\"><li><span><a href=\"#О-равенстве-средних-пользовательских-рейтингов-для-платформ-XBox-One-и-PC\" data-toc-modified-id=\"О-равенстве-средних-пользовательских-рейтингов-для-платформ-XBox-One-и-PC-5.1\"><span class=\"toc-item-num\">5.1&nbsp;&nbsp;</span>О равенстве средних пользовательских рейтингов для платформ XBox One и PC</a></span></li><li><span><a href=\"#Комментарий-ревьюера\" data-toc-modified-id=\"Комментарий-ревьюера-5.2\"><span class=\"toc-item-num\">5.2&nbsp;&nbsp;</span>Комментарий ревьюера</a></span><ul class=\"toc-item\"><li><span><a href=\"#Ошибка\" data-toc-modified-id=\"Ошибка-5.2.1\"><span class=\"toc-item-num\">5.2.1&nbsp;&nbsp;</span>Ошибка</a></span></li><li><span><a href=\"#Успех\" data-toc-modified-id=\"Успех-5.2.2\"><span class=\"toc-item-num\">5.2.2&nbsp;&nbsp;</span>Успех</a></span></li></ul></li><li><span><a href=\"#О-равенстве-средних-пользовательских-рейтингов-для-жанров-Action-и-Sports\" data-toc-modified-id=\"О-равенстве-средних-пользовательских-рейтингов-для-жанров-Action-и-Sports-5.3\"><span class=\"toc-item-num\">5.3&nbsp;&nbsp;</span>О равенстве средних пользовательских рейтингов для жанров Action и Sports</a></span></li><li><span><a href=\"#Комментарий-ревьюера\" data-toc-modified-id=\"Комментарий-ревьюера-5.4\"><span class=\"toc-item-num\">5.4&nbsp;&nbsp;</span>Комментарий ревьюера</a></span><ul class=\"toc-item\"><li><span><a href=\"#Ошибка\" data-toc-modified-id=\"Ошибка-5.4.1\"><span class=\"toc-item-num\">5.4.1&nbsp;&nbsp;</span>Ошибка</a></span></li><li><span><a href=\"#Успех\" data-toc-modified-id=\"Успех-5.4.2\"><span class=\"toc-item-num\">5.4.2&nbsp;&nbsp;</span>Успех</a></span></li></ul></li></ul></li><li><span><a href=\"#Выводы\" data-toc-modified-id=\"Выводы-6\"><span class=\"toc-item-num\">6&nbsp;&nbsp;</span>Выводы</a></span><ul class=\"toc-item\"><li><span><a href=\"#Комментарий-ревьюера\" data-toc-modified-id=\"Комментарий-ревьюера-6.1\"><span class=\"toc-item-num\">6.1&nbsp;&nbsp;</span>Комментарий ревьюера</a></span><ul class=\"toc-item\"><li><span><a href=\"#Успех\" data-toc-modified-id=\"Успех-6.1.1\"><span class=\"toc-item-num\">6.1.1&nbsp;&nbsp;</span>Успех</a></span></li></ul></li></ul></li><li><span><a href=\"#Итоговый-комментарии-от-ревьюера:\" data-toc-modified-id=\"Итоговый-комментарии-от-ревьюера:-7\"><span class=\"toc-item-num\">7&nbsp;&nbsp;</span>Итоговый комментарии от ревьюера:</a></span><ul class=\"toc-item\"><li><ul class=\"toc-item\"><li><span><a href=\"#Успех\" data-toc-modified-id=\"Успех-7.0.1\"><span class=\"toc-item-num\">7.0.1&nbsp;&nbsp;</span>Успех</a></span></li></ul></li></ul></li></ul></div>"
   ]
  },
  {
   "cell_type": "markdown",
   "id": "f6f8f88b",
   "metadata": {},
   "source": [
    "# Выбор ключевого объекта рекламной кампании в 2017 году\n",
    "\n",
    "### Цель исследования\n",
    "\n",
    "Найти наиболее перспективный продукт в ассортименте магазина компьютерных игр \"Стримчик\" для планирования рекламных кампаний в 20017 году с учетом выявленного потенциала.\n",
    "\n",
    "### Задачи исследования\n",
    "1. Выявить наиболее популярные игровые платформы.\n",
    "1. Определить самые востребованные жанры.\n",
    "1. Узнать, зависят ли продажи от отзывов.\n",
    "1. Консолидировать полученные сведения и предложить приоритетное направление рекламных кампаний в 2017 году.\n",
    "\n",
    "### Характеристика данных\n",
    "\n",
    "В нашем распоряжении датасет основными данными о каждой игре (название, платформа, год выхода, жанр), а также с суммами продаж в разных регионах и сведениями о рейтингах (возрастная категория и отзывы критиков / пользователей)."
   ]
  },
  {
   "cell_type": "markdown",
   "id": "ac944830",
   "metadata": {},
   "source": [
    "## Подготовка инструментов и загрузка данных"
   ]
  },
  {
   "cell_type": "code",
   "execution_count": 1,
   "id": "bc95033d",
   "metadata": {},
   "outputs": [
    {
     "name": "stdout",
     "output_type": "stream",
     "text": [
      "Requirement already satisfied: missingno in /opt/conda/lib/python3.9/site-packages (0.5.2)\n",
      "Requirement already satisfied: seaborn in /opt/conda/lib/python3.9/site-packages (from missingno) (0.11.1)\n",
      "Requirement already satisfied: numpy in /opt/conda/lib/python3.9/site-packages (from missingno) (1.21.1)\n",
      "Requirement already satisfied: matplotlib in /opt/conda/lib/python3.9/site-packages (from missingno) (3.3.4)\n",
      "Requirement already satisfied: scipy in /opt/conda/lib/python3.9/site-packages (from missingno) (1.9.1)\n",
      "Requirement already satisfied: pillow>=6.2.0 in /opt/conda/lib/python3.9/site-packages (from matplotlib->missingno) (8.4.0)\n",
      "Requirement already satisfied: python-dateutil>=2.1 in /opt/conda/lib/python3.9/site-packages (from matplotlib->missingno) (2.8.1)\n",
      "Requirement already satisfied: cycler>=0.10 in /opt/conda/lib/python3.9/site-packages (from matplotlib->missingno) (0.11.0)\n",
      "Requirement already satisfied: pyparsing!=2.0.4,!=2.1.2,!=2.1.6,>=2.0.3 in /opt/conda/lib/python3.9/site-packages (from matplotlib->missingno) (2.4.7)\n",
      "Requirement already satisfied: kiwisolver>=1.0.1 in /opt/conda/lib/python3.9/site-packages (from matplotlib->missingno) (1.4.4)\n",
      "Requirement already satisfied: six>=1.5 in /opt/conda/lib/python3.9/site-packages (from python-dateutil>=2.1->matplotlib->missingno) (1.16.0)\n",
      "Requirement already satisfied: pandas>=0.23 in /opt/conda/lib/python3.9/site-packages (from seaborn->missingno) (1.2.4)\n",
      "Requirement already satisfied: pytz>=2017.3 in /opt/conda/lib/python3.9/site-packages (from pandas>=0.23->seaborn->missingno) (2021.1)\n",
      "Note: you may need to restart the kernel to use updated packages.\n"
     ]
    }
   ],
   "source": [
    "pip install missingno"
   ]
  },
  {
   "cell_type": "code",
   "execution_count": 2,
   "id": "e5348e5a",
   "metadata": {},
   "outputs": [],
   "source": [
    "import pandas as pd\n",
    "import matplotlib.pyplot as plt\n",
    "import plotly.express as px\n",
    "import missingno as msno\n",
    "import seaborn as sns\n",
    "import numpy as np\n",
    "from scipy import stats as st"
   ]
  },
  {
   "cell_type": "code",
   "execution_count": 3,
   "id": "15342069",
   "metadata": {
    "scrolled": true
   },
   "outputs": [
    {
     "data": {
      "text/html": [
       "<div>\n",
       "<style scoped>\n",
       "    .dataframe tbody tr th:only-of-type {\n",
       "        vertical-align: middle;\n",
       "    }\n",
       "\n",
       "    .dataframe tbody tr th {\n",
       "        vertical-align: top;\n",
       "    }\n",
       "\n",
       "    .dataframe thead th {\n",
       "        text-align: right;\n",
       "    }\n",
       "</style>\n",
       "<table border=\"1\" class=\"dataframe\">\n",
       "  <thead>\n",
       "    <tr style=\"text-align: right;\">\n",
       "      <th></th>\n",
       "      <th>Name</th>\n",
       "      <th>Platform</th>\n",
       "      <th>Year_of_Release</th>\n",
       "      <th>Genre</th>\n",
       "      <th>NA_sales</th>\n",
       "      <th>EU_sales</th>\n",
       "      <th>JP_sales</th>\n",
       "      <th>Other_sales</th>\n",
       "      <th>Critic_Score</th>\n",
       "      <th>User_Score</th>\n",
       "      <th>Rating</th>\n",
       "    </tr>\n",
       "  </thead>\n",
       "  <tbody>\n",
       "    <tr>\n",
       "      <th>0</th>\n",
       "      <td>Wii Sports</td>\n",
       "      <td>Wii</td>\n",
       "      <td>2006.0</td>\n",
       "      <td>Sports</td>\n",
       "      <td>41.36</td>\n",
       "      <td>28.96</td>\n",
       "      <td>3.77</td>\n",
       "      <td>8.45</td>\n",
       "      <td>76.0</td>\n",
       "      <td>8</td>\n",
       "      <td>E</td>\n",
       "    </tr>\n",
       "    <tr>\n",
       "      <th>1</th>\n",
       "      <td>Super Mario Bros.</td>\n",
       "      <td>NES</td>\n",
       "      <td>1985.0</td>\n",
       "      <td>Platform</td>\n",
       "      <td>29.08</td>\n",
       "      <td>3.58</td>\n",
       "      <td>6.81</td>\n",
       "      <td>0.77</td>\n",
       "      <td>NaN</td>\n",
       "      <td>NaN</td>\n",
       "      <td>NaN</td>\n",
       "    </tr>\n",
       "    <tr>\n",
       "      <th>2</th>\n",
       "      <td>Mario Kart Wii</td>\n",
       "      <td>Wii</td>\n",
       "      <td>2008.0</td>\n",
       "      <td>Racing</td>\n",
       "      <td>15.68</td>\n",
       "      <td>12.76</td>\n",
       "      <td>3.79</td>\n",
       "      <td>3.29</td>\n",
       "      <td>82.0</td>\n",
       "      <td>8.3</td>\n",
       "      <td>E</td>\n",
       "    </tr>\n",
       "    <tr>\n",
       "      <th>3</th>\n",
       "      <td>Wii Sports Resort</td>\n",
       "      <td>Wii</td>\n",
       "      <td>2009.0</td>\n",
       "      <td>Sports</td>\n",
       "      <td>15.61</td>\n",
       "      <td>10.93</td>\n",
       "      <td>3.28</td>\n",
       "      <td>2.95</td>\n",
       "      <td>80.0</td>\n",
       "      <td>8</td>\n",
       "      <td>E</td>\n",
       "    </tr>\n",
       "    <tr>\n",
       "      <th>4</th>\n",
       "      <td>Pokemon Red/Pokemon Blue</td>\n",
       "      <td>GB</td>\n",
       "      <td>1996.0</td>\n",
       "      <td>Role-Playing</td>\n",
       "      <td>11.27</td>\n",
       "      <td>8.89</td>\n",
       "      <td>10.22</td>\n",
       "      <td>1.00</td>\n",
       "      <td>NaN</td>\n",
       "      <td>NaN</td>\n",
       "      <td>NaN</td>\n",
       "    </tr>\n",
       "  </tbody>\n",
       "</table>\n",
       "</div>"
      ],
      "text/plain": [
       "                       Name Platform  Year_of_Release         Genre  NA_sales  \\\n",
       "0                Wii Sports      Wii           2006.0        Sports     41.36   \n",
       "1         Super Mario Bros.      NES           1985.0      Platform     29.08   \n",
       "2            Mario Kart Wii      Wii           2008.0        Racing     15.68   \n",
       "3         Wii Sports Resort      Wii           2009.0        Sports     15.61   \n",
       "4  Pokemon Red/Pokemon Blue       GB           1996.0  Role-Playing     11.27   \n",
       "\n",
       "   EU_sales  JP_sales  Other_sales  Critic_Score User_Score Rating  \n",
       "0     28.96      3.77         8.45          76.0          8      E  \n",
       "1      3.58      6.81         0.77           NaN        NaN    NaN  \n",
       "2     12.76      3.79         3.29          82.0        8.3      E  \n",
       "3     10.93      3.28         2.95          80.0          8      E  \n",
       "4      8.89     10.22         1.00           NaN        NaN    NaN  "
      ]
     },
     "execution_count": 3,
     "metadata": {},
     "output_type": "execute_result"
    }
   ],
   "source": [
    "try:\n",
    "    data = pd.read_csv('games.csv')\n",
    "except:\n",
    "    data = pd.read_csv('/datasets/games.csv')\n",
    "data.head()"
   ]
  },
  {
   "cell_type": "code",
   "execution_count": 4,
   "id": "7491f639",
   "metadata": {},
   "outputs": [
    {
     "name": "stdout",
     "output_type": "stream",
     "text": [
      "<class 'pandas.core.frame.DataFrame'>\n",
      "RangeIndex: 16715 entries, 0 to 16714\n",
      "Data columns (total 11 columns):\n",
      " #   Column           Non-Null Count  Dtype  \n",
      "---  ------           --------------  -----  \n",
      " 0   Name             16713 non-null  object \n",
      " 1   Platform         16715 non-null  object \n",
      " 2   Year_of_Release  16446 non-null  float64\n",
      " 3   Genre            16713 non-null  object \n",
      " 4   NA_sales         16715 non-null  float64\n",
      " 5   EU_sales         16715 non-null  float64\n",
      " 6   JP_sales         16715 non-null  float64\n",
      " 7   Other_sales      16715 non-null  float64\n",
      " 8   Critic_Score     8137 non-null   float64\n",
      " 9   User_Score       10014 non-null  object \n",
      " 10  Rating           9949 non-null   object \n",
      "dtypes: float64(6), object(5)\n",
      "memory usage: 1.4+ MB\n"
     ]
    }
   ],
   "source": [
    "data.info()"
   ]
  },
  {
   "cell_type": "markdown",
   "id": "d629f659",
   "metadata": {},
   "source": [
    "Данные доступны, имеют табличную структуру из 11 колонок и 16713 строк. Общий объем - 1,4 Мб."
   ]
  },
  {
   "cell_type": "markdown",
   "id": "458676c0",
   "metadata": {},
   "source": [
    "## Обзор и базовая предобработка данных"
   ]
  },
  {
   "cell_type": "code",
   "execution_count": 5,
   "id": "1e14edab",
   "metadata": {},
   "outputs": [],
   "source": [
    "data = data.rename(columns=lambda x: x.lower())"
   ]
  },
  {
   "cell_type": "code",
   "execution_count": 6,
   "id": "fe801837",
   "metadata": {},
   "outputs": [
    {
     "data": {
      "text/plain": [
       "0"
      ]
     },
     "execution_count": 6,
     "metadata": {},
     "output_type": "execute_result"
    }
   ],
   "source": [
    "data.duplicated().sum()"
   ]
  },
  {
   "cell_type": "code",
   "execution_count": 7,
   "id": "fe14c021",
   "metadata": {},
   "outputs": [
    {
     "data": {
      "text/plain": [
       "array(['Wii Sports', 'Super Mario Bros.', 'Mario Kart Wii', ...,\n",
       "       'Woody Woodpecker in Crazy Castle 5', 'LMA Manager 2007',\n",
       "       'Haitaka no Psychedelica'], dtype=object)"
      ]
     },
     "execution_count": 7,
     "metadata": {},
     "output_type": "execute_result"
    }
   ],
   "source": [
    "data['name'].unique()"
   ]
  },
  {
   "cell_type": "code",
   "execution_count": 8,
   "id": "b3adb89a",
   "metadata": {
    "scrolled": true
   },
   "outputs": [
    {
     "data": {
      "text/plain": [
       "array(['Wii', 'NES', 'GB', 'DS', 'X360', 'PS3', 'PS2', 'SNES', 'GBA',\n",
       "       'PS4', '3DS', 'N64', 'PS', 'XB', 'PC', '2600', 'PSP', 'XOne',\n",
       "       'WiiU', 'GC', 'GEN', 'DC', 'PSV', 'SAT', 'SCD', 'WS', 'NG', 'TG16',\n",
       "       '3DO', 'GG', 'PCFX'], dtype=object)"
      ]
     },
     "execution_count": 8,
     "metadata": {},
     "output_type": "execute_result"
    }
   ],
   "source": [
    "data['platform'].unique()"
   ]
  },
  {
   "cell_type": "code",
   "execution_count": 9,
   "id": "737dbb61",
   "metadata": {},
   "outputs": [
    {
     "data": {
      "text/plain": [
       "array([2006., 1985., 2008., 2009., 1996., 1989., 1984., 2005., 1999.,\n",
       "       2007., 2010., 2013., 2004., 1990., 1988., 2002., 2001., 2011.,\n",
       "       1998., 2015., 2012., 2014., 1992., 1997., 1993., 1994., 1982.,\n",
       "       2016., 2003., 1986., 2000.,   nan, 1995., 1991., 1981., 1987.,\n",
       "       1980., 1983.])"
      ]
     },
     "execution_count": 9,
     "metadata": {},
     "output_type": "execute_result"
    }
   ],
   "source": [
    "data['year_of_release'].unique()"
   ]
  },
  {
   "cell_type": "code",
   "execution_count": 10,
   "id": "0d7163b6",
   "metadata": {},
   "outputs": [
    {
     "data": {
      "text/plain": [
       "array(['Sports', 'Platform', 'Racing', 'Role-Playing', 'Puzzle', 'Misc',\n",
       "       'Shooter', 'Simulation', 'Action', 'Fighting', 'Adventure',\n",
       "       'Strategy', nan], dtype=object)"
      ]
     },
     "execution_count": 10,
     "metadata": {},
     "output_type": "execute_result"
    }
   ],
   "source": [
    "data['genre'].unique()"
   ]
  },
  {
   "cell_type": "code",
   "execution_count": 11,
   "id": "f8d66be0",
   "metadata": {},
   "outputs": [
    {
     "data": {
      "text/plain": [
       "array(['8', nan, '8.3', '8.5', '6.6', '8.4', '8.6', '7.7', '6.3', '7.4',\n",
       "       '8.2', '9', '7.9', '8.1', '8.7', '7.1', '3.4', '5.3', '4.8', '3.2',\n",
       "       '8.9', '6.4', '7.8', '7.5', '2.6', '7.2', '9.2', '7', '7.3', '4.3',\n",
       "       '7.6', '5.7', '5', '9.1', '6.5', 'tbd', '8.8', '6.9', '9.4', '6.8',\n",
       "       '6.1', '6.7', '5.4', '4', '4.9', '4.5', '9.3', '6.2', '4.2', '6',\n",
       "       '3.7', '4.1', '5.8', '5.6', '5.5', '4.4', '4.6', '5.9', '3.9',\n",
       "       '3.1', '2.9', '5.2', '3.3', '4.7', '5.1', '3.5', '2.5', '1.9', '3',\n",
       "       '2.7', '2.2', '2', '9.5', '2.1', '3.6', '2.8', '1.8', '3.8', '0',\n",
       "       '1.6', '9.6', '2.4', '1.7', '1.1', '0.3', '1.5', '0.7', '1.2',\n",
       "       '2.3', '0.5', '1.3', '0.2', '0.6', '1.4', '0.9', '1', '9.7'],\n",
       "      dtype=object)"
      ]
     },
     "execution_count": 11,
     "metadata": {},
     "output_type": "execute_result"
    }
   ],
   "source": [
    "data['user_score'].unique()"
   ]
  },
  {
   "cell_type": "code",
   "execution_count": 12,
   "id": "1952abcd",
   "metadata": {},
   "outputs": [
    {
     "data": {
      "text/plain": [
       "array(['E', nan, 'M', 'T', 'E10+', 'K-A', 'AO', 'EC', 'RP'], dtype=object)"
      ]
     },
     "execution_count": 12,
     "metadata": {},
     "output_type": "execute_result"
    }
   ],
   "source": [
    "data['rating'].unique()"
   ]
  },
  {
   "cell_type": "code",
   "execution_count": 13,
   "id": "76a5824f",
   "metadata": {},
   "outputs": [],
   "source": [
    "data['rating'] = data['rating'].replace('K-A', 'E')"
   ]
  },
  {
   "cell_type": "code",
   "execution_count": 14,
   "id": "777e121e",
   "metadata": {},
   "outputs": [
    {
     "name": "stdout",
     "output_type": "stream",
     "text": [
      "<class 'pandas.core.frame.DataFrame'>\n",
      "RangeIndex: 16715 entries, 0 to 16714\n",
      "Data columns (total 11 columns):\n",
      " #   Column           Non-Null Count  Dtype  \n",
      "---  ------           --------------  -----  \n",
      " 0   name             16713 non-null  object \n",
      " 1   platform         16715 non-null  object \n",
      " 2   year_of_release  16446 non-null  float64\n",
      " 3   genre            16713 non-null  object \n",
      " 4   na_sales         16715 non-null  float64\n",
      " 5   eu_sales         16715 non-null  float64\n",
      " 6   jp_sales         16715 non-null  float64\n",
      " 7   other_sales      16715 non-null  float64\n",
      " 8   critic_score     8137 non-null   float64\n",
      " 9   user_score       10014 non-null  object \n",
      " 10  rating           9949 non-null   object \n",
      "dtypes: float64(6), object(5)\n",
      "memory usage: 1.4+ MB\n"
     ]
    }
   ],
   "source": [
    "data.info()"
   ]
  },
  {
   "cell_type": "code",
   "execution_count": 15,
   "id": "7eb222a0",
   "metadata": {},
   "outputs": [
    {
     "data": {
      "text/html": [
       "<div>\n",
       "<style scoped>\n",
       "    .dataframe tbody tr th:only-of-type {\n",
       "        vertical-align: middle;\n",
       "    }\n",
       "\n",
       "    .dataframe tbody tr th {\n",
       "        vertical-align: top;\n",
       "    }\n",
       "\n",
       "    .dataframe thead th {\n",
       "        text-align: right;\n",
       "    }\n",
       "</style>\n",
       "<table border=\"1\" class=\"dataframe\">\n",
       "  <thead>\n",
       "    <tr style=\"text-align: right;\">\n",
       "      <th></th>\n",
       "      <th>year_of_release</th>\n",
       "      <th>na_sales</th>\n",
       "      <th>eu_sales</th>\n",
       "      <th>jp_sales</th>\n",
       "      <th>other_sales</th>\n",
       "      <th>critic_score</th>\n",
       "    </tr>\n",
       "  </thead>\n",
       "  <tbody>\n",
       "    <tr>\n",
       "      <th>count</th>\n",
       "      <td>16446.000000</td>\n",
       "      <td>16715.000000</td>\n",
       "      <td>16715.000000</td>\n",
       "      <td>16715.000000</td>\n",
       "      <td>16715.000000</td>\n",
       "      <td>8137.000000</td>\n",
       "    </tr>\n",
       "    <tr>\n",
       "      <th>mean</th>\n",
       "      <td>2006.484616</td>\n",
       "      <td>0.263377</td>\n",
       "      <td>0.145060</td>\n",
       "      <td>0.077617</td>\n",
       "      <td>0.047342</td>\n",
       "      <td>68.967679</td>\n",
       "    </tr>\n",
       "    <tr>\n",
       "      <th>std</th>\n",
       "      <td>5.877050</td>\n",
       "      <td>0.813604</td>\n",
       "      <td>0.503339</td>\n",
       "      <td>0.308853</td>\n",
       "      <td>0.186731</td>\n",
       "      <td>13.938165</td>\n",
       "    </tr>\n",
       "    <tr>\n",
       "      <th>min</th>\n",
       "      <td>1980.000000</td>\n",
       "      <td>0.000000</td>\n",
       "      <td>0.000000</td>\n",
       "      <td>0.000000</td>\n",
       "      <td>0.000000</td>\n",
       "      <td>13.000000</td>\n",
       "    </tr>\n",
       "    <tr>\n",
       "      <th>25%</th>\n",
       "      <td>2003.000000</td>\n",
       "      <td>0.000000</td>\n",
       "      <td>0.000000</td>\n",
       "      <td>0.000000</td>\n",
       "      <td>0.000000</td>\n",
       "      <td>60.000000</td>\n",
       "    </tr>\n",
       "    <tr>\n",
       "      <th>50%</th>\n",
       "      <td>2007.000000</td>\n",
       "      <td>0.080000</td>\n",
       "      <td>0.020000</td>\n",
       "      <td>0.000000</td>\n",
       "      <td>0.010000</td>\n",
       "      <td>71.000000</td>\n",
       "    </tr>\n",
       "    <tr>\n",
       "      <th>75%</th>\n",
       "      <td>2010.000000</td>\n",
       "      <td>0.240000</td>\n",
       "      <td>0.110000</td>\n",
       "      <td>0.040000</td>\n",
       "      <td>0.030000</td>\n",
       "      <td>79.000000</td>\n",
       "    </tr>\n",
       "    <tr>\n",
       "      <th>max</th>\n",
       "      <td>2016.000000</td>\n",
       "      <td>41.360000</td>\n",
       "      <td>28.960000</td>\n",
       "      <td>10.220000</td>\n",
       "      <td>10.570000</td>\n",
       "      <td>98.000000</td>\n",
       "    </tr>\n",
       "  </tbody>\n",
       "</table>\n",
       "</div>"
      ],
      "text/plain": [
       "       year_of_release      na_sales      eu_sales      jp_sales  \\\n",
       "count     16446.000000  16715.000000  16715.000000  16715.000000   \n",
       "mean       2006.484616      0.263377      0.145060      0.077617   \n",
       "std           5.877050      0.813604      0.503339      0.308853   \n",
       "min        1980.000000      0.000000      0.000000      0.000000   \n",
       "25%        2003.000000      0.000000      0.000000      0.000000   \n",
       "50%        2007.000000      0.080000      0.020000      0.000000   \n",
       "75%        2010.000000      0.240000      0.110000      0.040000   \n",
       "max        2016.000000     41.360000     28.960000     10.220000   \n",
       "\n",
       "        other_sales  critic_score  \n",
       "count  16715.000000   8137.000000  \n",
       "mean       0.047342     68.967679  \n",
       "std        0.186731     13.938165  \n",
       "min        0.000000     13.000000  \n",
       "25%        0.000000     60.000000  \n",
       "50%        0.010000     71.000000  \n",
       "75%        0.030000     79.000000  \n",
       "max       10.570000     98.000000  "
      ]
     },
     "execution_count": 15,
     "metadata": {},
     "output_type": "execute_result"
    }
   ],
   "source": [
    "data.describe()"
   ]
  },
  {
   "cell_type": "code",
   "execution_count": 16,
   "id": "5a81fdf3",
   "metadata": {
    "scrolled": true
   },
   "outputs": [
    {
     "data": {
      "text/plain": [
       "name                  2\n",
       "platform              0\n",
       "year_of_release     269\n",
       "genre                 2\n",
       "na_sales              0\n",
       "eu_sales              0\n",
       "jp_sales              0\n",
       "other_sales           0\n",
       "critic_score       8578\n",
       "user_score         6701\n",
       "rating             6766\n",
       "dtype: int64"
      ]
     },
     "execution_count": 16,
     "metadata": {},
     "output_type": "execute_result"
    }
   ],
   "source": [
    "data.isna().sum()"
   ]
  },
  {
   "cell_type": "code",
   "execution_count": 17,
   "id": "a9374746",
   "metadata": {},
   "outputs": [
    {
     "data": {
      "text/plain": [
       "<AxesSubplot:>"
      ]
     },
     "execution_count": 17,
     "metadata": {},
     "output_type": "execute_result"
    },
    {
     "data": {
      "image/png": "[encoded data removed]",
      "text/plain": [
       "<Figure size 1440x864 with 2 Axes>"
      ]
     },
     "metadata": {
      "needs_background": "light"
     },
     "output_type": "display_data"
    }
   ],
   "source": [
    " msno.heatmap(data)"
   ]
  },
  {
   "cell_type": "code",
   "execution_count": 18,
   "id": "13bf7860",
   "metadata": {
    "scrolled": true
   },
   "outputs": [
    {
     "data": {
      "text/html": [
       "<div>\n",
       "<style scoped>\n",
       "    .dataframe tbody tr th:only-of-type {\n",
       "        vertical-align: middle;\n",
       "    }\n",
       "\n",
       "    .dataframe tbody tr th {\n",
       "        vertical-align: top;\n",
       "    }\n",
       "\n",
       "    .dataframe thead th {\n",
       "        text-align: right;\n",
       "    }\n",
       "</style>\n",
       "<table border=\"1\" class=\"dataframe\">\n",
       "  <thead>\n",
       "    <tr style=\"text-align: right;\">\n",
       "      <th></th>\n",
       "      <th>name</th>\n",
       "      <th>platform</th>\n",
       "      <th>year_of_release</th>\n",
       "      <th>genre</th>\n",
       "      <th>na_sales</th>\n",
       "      <th>eu_sales</th>\n",
       "      <th>jp_sales</th>\n",
       "      <th>other_sales</th>\n",
       "      <th>critic_score</th>\n",
       "      <th>user_score</th>\n",
       "      <th>rating</th>\n",
       "    </tr>\n",
       "  </thead>\n",
       "  <tbody>\n",
       "    <tr>\n",
       "      <th>475</th>\n",
       "      <td>wwe Smackdown vs. Raw 2006</td>\n",
       "      <td>PS2</td>\n",
       "      <td>NaN</td>\n",
       "      <td>Fighting</td>\n",
       "      <td>1.57</td>\n",
       "      <td>1.02</td>\n",
       "      <td>0.00</td>\n",
       "      <td>0.41</td>\n",
       "      <td>NaN</td>\n",
       "      <td>NaN</td>\n",
       "      <td>NaN</td>\n",
       "    </tr>\n",
       "    <tr>\n",
       "      <th>609</th>\n",
       "      <td>Space Invaders</td>\n",
       "      <td>2600</td>\n",
       "      <td>NaN</td>\n",
       "      <td>Shooter</td>\n",
       "      <td>2.36</td>\n",
       "      <td>0.14</td>\n",
       "      <td>0.00</td>\n",
       "      <td>0.03</td>\n",
       "      <td>NaN</td>\n",
       "      <td>NaN</td>\n",
       "      <td>NaN</td>\n",
       "    </tr>\n",
       "    <tr>\n",
       "      <th>1301</th>\n",
       "      <td>Triple Play 99</td>\n",
       "      <td>PS</td>\n",
       "      <td>NaN</td>\n",
       "      <td>Sports</td>\n",
       "      <td>0.81</td>\n",
       "      <td>0.55</td>\n",
       "      <td>0.00</td>\n",
       "      <td>0.10</td>\n",
       "      <td>NaN</td>\n",
       "      <td>NaN</td>\n",
       "      <td>NaN</td>\n",
       "    </tr>\n",
       "    <tr>\n",
       "      <th>1506</th>\n",
       "      <td>Adventure</td>\n",
       "      <td>2600</td>\n",
       "      <td>NaN</td>\n",
       "      <td>Adventure</td>\n",
       "      <td>1.21</td>\n",
       "      <td>0.08</td>\n",
       "      <td>0.00</td>\n",
       "      <td>0.01</td>\n",
       "      <td>NaN</td>\n",
       "      <td>NaN</td>\n",
       "      <td>NaN</td>\n",
       "    </tr>\n",
       "    <tr>\n",
       "      <th>1585</th>\n",
       "      <td>Combat</td>\n",
       "      <td>2600</td>\n",
       "      <td>NaN</td>\n",
       "      <td>Action</td>\n",
       "      <td>1.17</td>\n",
       "      <td>0.07</td>\n",
       "      <td>0.00</td>\n",
       "      <td>0.01</td>\n",
       "      <td>NaN</td>\n",
       "      <td>NaN</td>\n",
       "      <td>NaN</td>\n",
       "    </tr>\n",
       "    <tr>\n",
       "      <th>...</th>\n",
       "      <td>...</td>\n",
       "      <td>...</td>\n",
       "      <td>...</td>\n",
       "      <td>...</td>\n",
       "      <td>...</td>\n",
       "      <td>...</td>\n",
       "      <td>...</td>\n",
       "      <td>...</td>\n",
       "      <td>...</td>\n",
       "      <td>...</td>\n",
       "      <td>...</td>\n",
       "    </tr>\n",
       "    <tr>\n",
       "      <th>16288</th>\n",
       "      <td>Shorts</td>\n",
       "      <td>DS</td>\n",
       "      <td>NaN</td>\n",
       "      <td>Platform</td>\n",
       "      <td>0.01</td>\n",
       "      <td>0.00</td>\n",
       "      <td>0.00</td>\n",
       "      <td>0.00</td>\n",
       "      <td>NaN</td>\n",
       "      <td>tbd</td>\n",
       "      <td>E10+</td>\n",
       "    </tr>\n",
       "    <tr>\n",
       "      <th>16293</th>\n",
       "      <td>AKB1/48: Idol to Guam de Koishitara...</td>\n",
       "      <td>X360</td>\n",
       "      <td>NaN</td>\n",
       "      <td>Misc</td>\n",
       "      <td>0.00</td>\n",
       "      <td>0.00</td>\n",
       "      <td>0.01</td>\n",
       "      <td>0.00</td>\n",
       "      <td>NaN</td>\n",
       "      <td>NaN</td>\n",
       "      <td>NaN</td>\n",
       "    </tr>\n",
       "    <tr>\n",
       "      <th>16329</th>\n",
       "      <td>Brothers in Arms: Furious 4</td>\n",
       "      <td>X360</td>\n",
       "      <td>NaN</td>\n",
       "      <td>Shooter</td>\n",
       "      <td>0.01</td>\n",
       "      <td>0.00</td>\n",
       "      <td>0.00</td>\n",
       "      <td>0.00</td>\n",
       "      <td>NaN</td>\n",
       "      <td>NaN</td>\n",
       "      <td>M</td>\n",
       "    </tr>\n",
       "    <tr>\n",
       "      <th>16348</th>\n",
       "      <td>Agarest Senki: Re-appearance</td>\n",
       "      <td>PS3</td>\n",
       "      <td>NaN</td>\n",
       "      <td>Role-Playing</td>\n",
       "      <td>0.00</td>\n",
       "      <td>0.00</td>\n",
       "      <td>0.01</td>\n",
       "      <td>0.00</td>\n",
       "      <td>NaN</td>\n",
       "      <td>NaN</td>\n",
       "      <td>NaN</td>\n",
       "    </tr>\n",
       "    <tr>\n",
       "      <th>16458</th>\n",
       "      <td>Hakuouki: Shinsengumi Kitan</td>\n",
       "      <td>PS3</td>\n",
       "      <td>NaN</td>\n",
       "      <td>Adventure</td>\n",
       "      <td>0.01</td>\n",
       "      <td>0.00</td>\n",
       "      <td>0.00</td>\n",
       "      <td>0.00</td>\n",
       "      <td>NaN</td>\n",
       "      <td>NaN</td>\n",
       "      <td>NaN</td>\n",
       "    </tr>\n",
       "  </tbody>\n",
       "</table>\n",
       "<p>122 rows × 11 columns</p>\n",
       "</div>"
      ],
      "text/plain": [
       "                                         name platform  year_of_release  \\\n",
       "475                wwe Smackdown vs. Raw 2006      PS2              NaN   \n",
       "609                            Space Invaders     2600              NaN   \n",
       "1301                           Triple Play 99       PS              NaN   \n",
       "1506                                Adventure     2600              NaN   \n",
       "1585                                   Combat     2600              NaN   \n",
       "...                                       ...      ...              ...   \n",
       "16288                                  Shorts       DS              NaN   \n",
       "16293  AKB1/48: Idol to Guam de Koishitara...     X360              NaN   \n",
       "16329             Brothers in Arms: Furious 4     X360              NaN   \n",
       "16348            Agarest Senki: Re-appearance      PS3              NaN   \n",
       "16458             Hakuouki: Shinsengumi Kitan      PS3              NaN   \n",
       "\n",
       "              genre  na_sales  eu_sales  jp_sales  other_sales  critic_score  \\\n",
       "475        Fighting      1.57      1.02      0.00         0.41           NaN   \n",
       "609         Shooter      2.36      0.14      0.00         0.03           NaN   \n",
       "1301         Sports      0.81      0.55      0.00         0.10           NaN   \n",
       "1506      Adventure      1.21      0.08      0.00         0.01           NaN   \n",
       "1585         Action      1.17      0.07      0.00         0.01           NaN   \n",
       "...             ...       ...       ...       ...          ...           ...   \n",
       "16288      Platform      0.01      0.00      0.00         0.00           NaN   \n",
       "16293          Misc      0.00      0.00      0.01         0.00           NaN   \n",
       "16329       Shooter      0.01      0.00      0.00         0.00           NaN   \n",
       "16348  Role-Playing      0.00      0.00      0.01         0.00           NaN   \n",
       "16458     Adventure      0.01      0.00      0.00         0.00           NaN   \n",
       "\n",
       "      user_score rating  \n",
       "475          NaN    NaN  \n",
       "609          NaN    NaN  \n",
       "1301         NaN    NaN  \n",
       "1506         NaN    NaN  \n",
       "1585         NaN    NaN  \n",
       "...          ...    ...  \n",
       "16288        tbd   E10+  \n",
       "16293        NaN    NaN  \n",
       "16329        NaN      M  \n",
       "16348        NaN    NaN  \n",
       "16458        NaN    NaN  \n",
       "\n",
       "[122 rows x 11 columns]"
      ]
     },
     "execution_count": 18,
     "metadata": {},
     "output_type": "execute_result"
    }
   ],
   "source": [
    "data.query('year_of_release.isna() and (critic_score.isna() or user_score.isna() or rating.isna())')"
   ]
  },
  {
   "cell_type": "code",
   "execution_count": 19,
   "id": "5ddbaa82",
   "metadata": {},
   "outputs": [],
   "source": [
    "data = data.query('~(year_of_release.isna() and (critic_score.isna() or user_score.isna() or rating.isna()))')"
   ]
  },
  {
   "cell_type": "code",
   "execution_count": 20,
   "id": "11739d64",
   "metadata": {},
   "outputs": [
    {
     "data": {
      "text/plain": [
       "name                  2\n",
       "platform              0\n",
       "year_of_release     147\n",
       "genre                 2\n",
       "na_sales              0\n",
       "eu_sales              0\n",
       "jp_sales              0\n",
       "other_sales           0\n",
       "critic_score       8463\n",
       "user_score         6607\n",
       "rating             6678\n",
       "dtype: int64"
      ]
     },
     "execution_count": 20,
     "metadata": {},
     "output_type": "execute_result"
    }
   ],
   "source": [
    "data.isna().sum()"
   ]
  },
  {
   "cell_type": "code",
   "execution_count": 21,
   "id": "48b544ff",
   "metadata": {},
   "outputs": [],
   "source": [
    "data = data.dropna(subset=['year_of_release'])"
   ]
  },
  {
   "cell_type": "code",
   "execution_count": 22,
   "id": "4a603e93",
   "metadata": {},
   "outputs": [],
   "source": [
    "data['critic_score'] = pd.to_numeric(data['critic_score'], errors='coerce')\n",
    "data['user_score'] = pd.to_numeric(data['user_score'], errors='coerce')"
   ]
  },
  {
   "cell_type": "code",
   "execution_count": 23,
   "id": "ad7b2e9b",
   "metadata": {},
   "outputs": [
    {
     "name": "stdout",
     "output_type": "stream",
     "text": [
      "<class 'pandas.core.frame.DataFrame'>\n",
      "Int64Index: 16446 entries, 0 to 16714\n",
      "Data columns (total 11 columns):\n",
      " #   Column           Non-Null Count  Dtype  \n",
      "---  ------           --------------  -----  \n",
      " 0   name             16444 non-null  object \n",
      " 1   platform         16446 non-null  object \n",
      " 2   year_of_release  16446 non-null  float64\n",
      " 3   genre            16444 non-null  object \n",
      " 4   na_sales         16446 non-null  float64\n",
      " 5   eu_sales         16446 non-null  float64\n",
      " 6   jp_sales         16446 non-null  float64\n",
      " 7   other_sales      16446 non-null  float64\n",
      " 8   critic_score     7983 non-null   float64\n",
      " 9   user_score       7463 non-null   float64\n",
      " 10  rating           9768 non-null   object \n",
      "dtypes: float64(7), object(4)\n",
      "memory usage: 1.5+ MB\n"
     ]
    }
   ],
   "source": [
    "data.info()"
   ]
  },
  {
   "cell_type": "code",
   "execution_count": 24,
   "id": "d4bbd399",
   "metadata": {},
   "outputs": [
    {
     "data": {
      "text/plain": [
       "name                  2\n",
       "platform              0\n",
       "year_of_release       0\n",
       "genre                 2\n",
       "na_sales              0\n",
       "eu_sales              0\n",
       "jp_sales              0\n",
       "other_sales           0\n",
       "critic_score       8463\n",
       "user_score         8983\n",
       "rating             6678\n",
       "dtype: int64"
      ]
     },
     "execution_count": 24,
     "metadata": {},
     "output_type": "execute_result"
    }
   ],
   "source": [
    "data.isna().sum()"
   ]
  },
  {
   "cell_type": "code",
   "execution_count": 25,
   "id": "f5e9bcee",
   "metadata": {},
   "outputs": [
    {
     "data": {
      "text/html": [
       "<div>\n",
       "<style scoped>\n",
       "    .dataframe tbody tr th:only-of-type {\n",
       "        vertical-align: middle;\n",
       "    }\n",
       "\n",
       "    .dataframe tbody tr th {\n",
       "        vertical-align: top;\n",
       "    }\n",
       "\n",
       "    .dataframe thead th {\n",
       "        text-align: right;\n",
       "    }\n",
       "</style>\n",
       "<table border=\"1\" class=\"dataframe\">\n",
       "  <thead>\n",
       "    <tr style=\"text-align: right;\">\n",
       "      <th></th>\n",
       "      <th>name</th>\n",
       "      <th>platform</th>\n",
       "      <th>year_of_release</th>\n",
       "      <th>genre</th>\n",
       "      <th>na_sales</th>\n",
       "      <th>eu_sales</th>\n",
       "      <th>jp_sales</th>\n",
       "      <th>other_sales</th>\n",
       "      <th>critic_score</th>\n",
       "      <th>user_score</th>\n",
       "      <th>rating</th>\n",
       "    </tr>\n",
       "  </thead>\n",
       "  <tbody>\n",
       "    <tr>\n",
       "      <th>659</th>\n",
       "      <td>NaN</td>\n",
       "      <td>GEN</td>\n",
       "      <td>1993.0</td>\n",
       "      <td>NaN</td>\n",
       "      <td>1.78</td>\n",
       "      <td>0.53</td>\n",
       "      <td>0.00</td>\n",
       "      <td>0.08</td>\n",
       "      <td>NaN</td>\n",
       "      <td>NaN</td>\n",
       "      <td>NaN</td>\n",
       "    </tr>\n",
       "    <tr>\n",
       "      <th>14244</th>\n",
       "      <td>NaN</td>\n",
       "      <td>GEN</td>\n",
       "      <td>1993.0</td>\n",
       "      <td>NaN</td>\n",
       "      <td>0.00</td>\n",
       "      <td>0.00</td>\n",
       "      <td>0.03</td>\n",
       "      <td>0.00</td>\n",
       "      <td>NaN</td>\n",
       "      <td>NaN</td>\n",
       "      <td>NaN</td>\n",
       "    </tr>\n",
       "  </tbody>\n",
       "</table>\n",
       "</div>"
      ],
      "text/plain": [
       "      name platform  year_of_release genre  na_sales  eu_sales  jp_sales  \\\n",
       "659    NaN      GEN           1993.0   NaN      1.78      0.53      0.00   \n",
       "14244  NaN      GEN           1993.0   NaN      0.00      0.00      0.03   \n",
       "\n",
       "       other_sales  critic_score  user_score rating  \n",
       "659           0.08           NaN         NaN    NaN  \n",
       "14244         0.00           NaN         NaN    NaN  "
      ]
     },
     "execution_count": 25,
     "metadata": {},
     "output_type": "execute_result"
    }
   ],
   "source": [
    "data.query('name.isna()')"
   ]
  },
  {
   "cell_type": "code",
   "execution_count": 26,
   "id": "e8c8196c",
   "metadata": {},
   "outputs": [
    {
     "data": {
      "text/plain": [
       "name                  0\n",
       "platform              0\n",
       "year_of_release       0\n",
       "genre                 0\n",
       "na_sales              0\n",
       "eu_sales              0\n",
       "jp_sales              0\n",
       "other_sales           0\n",
       "critic_score       8461\n",
       "user_score         8981\n",
       "rating             6676\n",
       "dtype: int64"
      ]
     },
     "execution_count": 26,
     "metadata": {},
     "output_type": "execute_result"
    }
   ],
   "source": [
    "data = data.query('~(name.isna())')\n",
    "data.isna().sum()"
   ]
  },
  {
   "cell_type": "code",
   "execution_count": 27,
   "id": "ee853338",
   "metadata": {
    "scrolled": true
   },
   "outputs": [
    {
     "data": {
      "text/html": [
       "<div>\n",
       "<style scoped>\n",
       "    .dataframe tbody tr th:only-of-type {\n",
       "        vertical-align: middle;\n",
       "    }\n",
       "\n",
       "    .dataframe tbody tr th {\n",
       "        vertical-align: top;\n",
       "    }\n",
       "\n",
       "    .dataframe thead th {\n",
       "        text-align: right;\n",
       "    }\n",
       "</style>\n",
       "<table border=\"1\" class=\"dataframe\">\n",
       "  <thead>\n",
       "    <tr style=\"text-align: right;\">\n",
       "      <th></th>\n",
       "      <th>name</th>\n",
       "      <th>platform</th>\n",
       "      <th>year_of_release</th>\n",
       "      <th>genre</th>\n",
       "      <th>na_sales</th>\n",
       "      <th>eu_sales</th>\n",
       "      <th>jp_sales</th>\n",
       "      <th>other_sales</th>\n",
       "      <th>critic_score</th>\n",
       "      <th>user_score</th>\n",
       "      <th>rating</th>\n",
       "      <th>total_sales</th>\n",
       "    </tr>\n",
       "  </thead>\n",
       "  <tbody>\n",
       "    <tr>\n",
       "      <th>0</th>\n",
       "      <td>Wii Sports</td>\n",
       "      <td>Wii</td>\n",
       "      <td>2006.0</td>\n",
       "      <td>Sports</td>\n",
       "      <td>41.36</td>\n",
       "      <td>28.96</td>\n",
       "      <td>3.77</td>\n",
       "      <td>8.45</td>\n",
       "      <td>76.0</td>\n",
       "      <td>8.0</td>\n",
       "      <td>E</td>\n",
       "      <td>82.54</td>\n",
       "    </tr>\n",
       "    <tr>\n",
       "      <th>1</th>\n",
       "      <td>Super Mario Bros.</td>\n",
       "      <td>NES</td>\n",
       "      <td>1985.0</td>\n",
       "      <td>Platform</td>\n",
       "      <td>29.08</td>\n",
       "      <td>3.58</td>\n",
       "      <td>6.81</td>\n",
       "      <td>0.77</td>\n",
       "      <td>NaN</td>\n",
       "      <td>NaN</td>\n",
       "      <td>NaN</td>\n",
       "      <td>40.24</td>\n",
       "    </tr>\n",
       "    <tr>\n",
       "      <th>2</th>\n",
       "      <td>Mario Kart Wii</td>\n",
       "      <td>Wii</td>\n",
       "      <td>2008.0</td>\n",
       "      <td>Racing</td>\n",
       "      <td>15.68</td>\n",
       "      <td>12.76</td>\n",
       "      <td>3.79</td>\n",
       "      <td>3.29</td>\n",
       "      <td>82.0</td>\n",
       "      <td>8.3</td>\n",
       "      <td>E</td>\n",
       "      <td>35.52</td>\n",
       "    </tr>\n",
       "    <tr>\n",
       "      <th>3</th>\n",
       "      <td>Wii Sports Resort</td>\n",
       "      <td>Wii</td>\n",
       "      <td>2009.0</td>\n",
       "      <td>Sports</td>\n",
       "      <td>15.61</td>\n",
       "      <td>10.93</td>\n",
       "      <td>3.28</td>\n",
       "      <td>2.95</td>\n",
       "      <td>80.0</td>\n",
       "      <td>8.0</td>\n",
       "      <td>E</td>\n",
       "      <td>32.77</td>\n",
       "    </tr>\n",
       "    <tr>\n",
       "      <th>4</th>\n",
       "      <td>Pokemon Red/Pokemon Blue</td>\n",
       "      <td>GB</td>\n",
       "      <td>1996.0</td>\n",
       "      <td>Role-Playing</td>\n",
       "      <td>11.27</td>\n",
       "      <td>8.89</td>\n",
       "      <td>10.22</td>\n",
       "      <td>1.00</td>\n",
       "      <td>NaN</td>\n",
       "      <td>NaN</td>\n",
       "      <td>NaN</td>\n",
       "      <td>31.38</td>\n",
       "    </tr>\n",
       "  </tbody>\n",
       "</table>\n",
       "</div>"
      ],
      "text/plain": [
       "                       name platform  year_of_release         genre  na_sales  \\\n",
       "0                Wii Sports      Wii           2006.0        Sports     41.36   \n",
       "1         Super Mario Bros.      NES           1985.0      Platform     29.08   \n",
       "2            Mario Kart Wii      Wii           2008.0        Racing     15.68   \n",
       "3         Wii Sports Resort      Wii           2009.0        Sports     15.61   \n",
       "4  Pokemon Red/Pokemon Blue       GB           1996.0  Role-Playing     11.27   \n",
       "\n",
       "   eu_sales  jp_sales  other_sales  critic_score  user_score rating  \\\n",
       "0     28.96      3.77         8.45          76.0         8.0      E   \n",
       "1      3.58      6.81         0.77           NaN         NaN    NaN   \n",
       "2     12.76      3.79         3.29          82.0         8.3      E   \n",
       "3     10.93      3.28         2.95          80.0         8.0      E   \n",
       "4      8.89     10.22         1.00           NaN         NaN    NaN   \n",
       "\n",
       "   total_sales  \n",
       "0        82.54  \n",
       "1        40.24  \n",
       "2        35.52  \n",
       "3        32.77  \n",
       "4        31.38  "
      ]
     },
     "execution_count": 27,
     "metadata": {},
     "output_type": "execute_result"
    }
   ],
   "source": [
    "data['total_sales'] = data['na_sales'] + data['eu_sales'] + data['jp_sales'] + data['other_sales']\n",
    "data.head()"
   ]
  },
  {
   "cell_type": "markdown",
   "id": "b8672c5c",
   "metadata": {},
   "source": [
    "### Результаты обзора и предобработки данных\n",
    "\n",
    "1. Датасет насчитывает чуть более чем 16700 строк.\n",
    "1. Выполнена замена типов данных для столбцов year_of_release (приведен к целочисленным значениям) и user_score (приведен к формату вещественных чисел). В обоих случаях замена выполнена для упрощения дальнейшей работы с данными и визуализации.\n",
    "1. Основная часть пропусков приходится на колонки critic_score, user_score, rating, доля пропущенных значений доходит до 50% (для critic_score). Также пропущены почти 270 значений в колонке year_of_release. Принято решение удалить такие строки.\n",
    "1. Удалены также 2 строки, где неизвестно название игры и оценки к ней.\n",
    "1. Сделать сколько-нибудь обоснованные предположения о природе пропусков не представляется возможным, так как не удалось увидеть связь между названием/платформой/жанром и наличием пропусков в годах выпуска илив оценках.\n",
    "1. Добавлен столбец total_sales, содержащий сумму продаж во всех регионах."
   ]
  },
  {
   "cell_type": "markdown",
   "id": "40079503",
   "metadata": {},
   "source": [
    "## EDA\n",
    "### Оценка числа игр, выходящих ежегодно"
   ]
  },
  {
   "cell_type": "code",
   "execution_count": 28,
   "id": "e0396043",
   "metadata": {
    "scrolled": false
   },
   "outputs": [
    {
     "data": {
      "text/html": [
       "<div>\n",
       "<style scoped>\n",
       "    .dataframe tbody tr th:only-of-type {\n",
       "        vertical-align: middle;\n",
       "    }\n",
       "\n",
       "    .dataframe tbody tr th {\n",
       "        vertical-align: top;\n",
       "    }\n",
       "\n",
       "    .dataframe thead th {\n",
       "        text-align: right;\n",
       "    }\n",
       "</style>\n",
       "<table border=\"1\" class=\"dataframe\">\n",
       "  <thead>\n",
       "    <tr style=\"text-align: right;\">\n",
       "      <th></th>\n",
       "      <th>year_of_release</th>\n",
       "      <th>name</th>\n",
       "    </tr>\n",
       "  </thead>\n",
       "  <tbody>\n",
       "    <tr>\n",
       "      <th>0</th>\n",
       "      <td>1980.0</td>\n",
       "      <td>9</td>\n",
       "    </tr>\n",
       "    <tr>\n",
       "      <th>1</th>\n",
       "      <td>1981.0</td>\n",
       "      <td>46</td>\n",
       "    </tr>\n",
       "    <tr>\n",
       "      <th>2</th>\n",
       "      <td>1982.0</td>\n",
       "      <td>36</td>\n",
       "    </tr>\n",
       "    <tr>\n",
       "      <th>3</th>\n",
       "      <td>1983.0</td>\n",
       "      <td>17</td>\n",
       "    </tr>\n",
       "    <tr>\n",
       "      <th>4</th>\n",
       "      <td>1984.0</td>\n",
       "      <td>14</td>\n",
       "    </tr>\n",
       "    <tr>\n",
       "      <th>5</th>\n",
       "      <td>1985.0</td>\n",
       "      <td>14</td>\n",
       "    </tr>\n",
       "    <tr>\n",
       "      <th>6</th>\n",
       "      <td>1986.0</td>\n",
       "      <td>21</td>\n",
       "    </tr>\n",
       "    <tr>\n",
       "      <th>7</th>\n",
       "      <td>1987.0</td>\n",
       "      <td>16</td>\n",
       "    </tr>\n",
       "    <tr>\n",
       "      <th>8</th>\n",
       "      <td>1988.0</td>\n",
       "      <td>15</td>\n",
       "    </tr>\n",
       "    <tr>\n",
       "      <th>9</th>\n",
       "      <td>1989.0</td>\n",
       "      <td>17</td>\n",
       "    </tr>\n",
       "    <tr>\n",
       "      <th>10</th>\n",
       "      <td>1990.0</td>\n",
       "      <td>16</td>\n",
       "    </tr>\n",
       "    <tr>\n",
       "      <th>11</th>\n",
       "      <td>1991.0</td>\n",
       "      <td>41</td>\n",
       "    </tr>\n",
       "    <tr>\n",
       "      <th>12</th>\n",
       "      <td>1992.0</td>\n",
       "      <td>43</td>\n",
       "    </tr>\n",
       "    <tr>\n",
       "      <th>13</th>\n",
       "      <td>1993.0</td>\n",
       "      <td>60</td>\n",
       "    </tr>\n",
       "    <tr>\n",
       "      <th>14</th>\n",
       "      <td>1994.0</td>\n",
       "      <td>121</td>\n",
       "    </tr>\n",
       "    <tr>\n",
       "      <th>15</th>\n",
       "      <td>1995.0</td>\n",
       "      <td>219</td>\n",
       "    </tr>\n",
       "    <tr>\n",
       "      <th>16</th>\n",
       "      <td>1996.0</td>\n",
       "      <td>263</td>\n",
       "    </tr>\n",
       "    <tr>\n",
       "      <th>17</th>\n",
       "      <td>1997.0</td>\n",
       "      <td>289</td>\n",
       "    </tr>\n",
       "    <tr>\n",
       "      <th>18</th>\n",
       "      <td>1998.0</td>\n",
       "      <td>379</td>\n",
       "    </tr>\n",
       "    <tr>\n",
       "      <th>19</th>\n",
       "      <td>1999.0</td>\n",
       "      <td>338</td>\n",
       "    </tr>\n",
       "    <tr>\n",
       "      <th>20</th>\n",
       "      <td>2000.0</td>\n",
       "      <td>350</td>\n",
       "    </tr>\n",
       "    <tr>\n",
       "      <th>21</th>\n",
       "      <td>2001.0</td>\n",
       "      <td>482</td>\n",
       "    </tr>\n",
       "    <tr>\n",
       "      <th>22</th>\n",
       "      <td>2002.0</td>\n",
       "      <td>829</td>\n",
       "    </tr>\n",
       "    <tr>\n",
       "      <th>23</th>\n",
       "      <td>2003.0</td>\n",
       "      <td>775</td>\n",
       "    </tr>\n",
       "    <tr>\n",
       "      <th>24</th>\n",
       "      <td>2004.0</td>\n",
       "      <td>762</td>\n",
       "    </tr>\n",
       "    <tr>\n",
       "      <th>25</th>\n",
       "      <td>2005.0</td>\n",
       "      <td>939</td>\n",
       "    </tr>\n",
       "    <tr>\n",
       "      <th>26</th>\n",
       "      <td>2006.0</td>\n",
       "      <td>1006</td>\n",
       "    </tr>\n",
       "    <tr>\n",
       "      <th>27</th>\n",
       "      <td>2007.0</td>\n",
       "      <td>1197</td>\n",
       "    </tr>\n",
       "    <tr>\n",
       "      <th>28</th>\n",
       "      <td>2008.0</td>\n",
       "      <td>1427</td>\n",
       "    </tr>\n",
       "    <tr>\n",
       "      <th>29</th>\n",
       "      <td>2009.0</td>\n",
       "      <td>1426</td>\n",
       "    </tr>\n",
       "    <tr>\n",
       "      <th>30</th>\n",
       "      <td>2010.0</td>\n",
       "      <td>1255</td>\n",
       "    </tr>\n",
       "    <tr>\n",
       "      <th>31</th>\n",
       "      <td>2011.0</td>\n",
       "      <td>1136</td>\n",
       "    </tr>\n",
       "    <tr>\n",
       "      <th>32</th>\n",
       "      <td>2012.0</td>\n",
       "      <td>653</td>\n",
       "    </tr>\n",
       "    <tr>\n",
       "      <th>33</th>\n",
       "      <td>2013.0</td>\n",
       "      <td>544</td>\n",
       "    </tr>\n",
       "    <tr>\n",
       "      <th>34</th>\n",
       "      <td>2014.0</td>\n",
       "      <td>581</td>\n",
       "    </tr>\n",
       "    <tr>\n",
       "      <th>35</th>\n",
       "      <td>2015.0</td>\n",
       "      <td>606</td>\n",
       "    </tr>\n",
       "    <tr>\n",
       "      <th>36</th>\n",
       "      <td>2016.0</td>\n",
       "      <td>502</td>\n",
       "    </tr>\n",
       "  </tbody>\n",
       "</table>\n",
       "</div>"
      ],
      "text/plain": [
       "    year_of_release  name\n",
       "0            1980.0     9\n",
       "1            1981.0    46\n",
       "2            1982.0    36\n",
       "3            1983.0    17\n",
       "4            1984.0    14\n",
       "5            1985.0    14\n",
       "6            1986.0    21\n",
       "7            1987.0    16\n",
       "8            1988.0    15\n",
       "9            1989.0    17\n",
       "10           1990.0    16\n",
       "11           1991.0    41\n",
       "12           1992.0    43\n",
       "13           1993.0    60\n",
       "14           1994.0   121\n",
       "15           1995.0   219\n",
       "16           1996.0   263\n",
       "17           1997.0   289\n",
       "18           1998.0   379\n",
       "19           1999.0   338\n",
       "20           2000.0   350\n",
       "21           2001.0   482\n",
       "22           2002.0   829\n",
       "23           2003.0   775\n",
       "24           2004.0   762\n",
       "25           2005.0   939\n",
       "26           2006.0  1006\n",
       "27           2007.0  1197\n",
       "28           2008.0  1427\n",
       "29           2009.0  1426\n",
       "30           2010.0  1255\n",
       "31           2011.0  1136\n",
       "32           2012.0   653\n",
       "33           2013.0   544\n",
       "34           2014.0   581\n",
       "35           2015.0   606\n",
       "36           2016.0   502"
      ]
     },
     "execution_count": 28,
     "metadata": {},
     "output_type": "execute_result"
    }
   ],
   "source": [
    "yearly_release = data.pivot_table(index = 'year_of_release', values = 'name', aggfunc = 'count').reset_index()\n",
    "yearly_release"
   ]
  },
  {
   "cell_type": "code",
   "execution_count": 29,
   "id": "5258efe9",
   "metadata": {},
   "outputs": [
    {
     "data": {
      "image/png": "[encoded data removed]",
      "text/plain": [
       "<Figure size 432x288 with 1 Axes>"
      ]
     },
     "metadata": {
      "needs_background": "light"
     },
     "output_type": "display_data"
    }
   ],
   "source": [
    "plt.hist(data['year_of_release'], bins=range(1980, 2020))\n",
    "plt.xlabel('Год выпуска')\n",
    "plt.ylabel('Число выпущенных игр')\n",
    "plt.title('Число игр, выпускаемых ежегодно');"
   ]
  },
  {
   "cell_type": "markdown",
   "id": "2aa59aec",
   "metadata": {},
   "source": [
    "### Выбор наиболее популярных платформ"
   ]
  },
  {
   "cell_type": "code",
   "execution_count": 30,
   "id": "2b579eb2",
   "metadata": {},
   "outputs": [
    {
     "data": {
      "text/html": [
       "<div>\n",
       "<style scoped>\n",
       "    .dataframe tbody tr th:only-of-type {\n",
       "        vertical-align: middle;\n",
       "    }\n",
       "\n",
       "    .dataframe tbody tr th {\n",
       "        vertical-align: top;\n",
       "    }\n",
       "\n",
       "    .dataframe thead th {\n",
       "        text-align: right;\n",
       "    }\n",
       "</style>\n",
       "<table border=\"1\" class=\"dataframe\">\n",
       "  <thead>\n",
       "    <tr style=\"text-align: right;\">\n",
       "      <th></th>\n",
       "      <th>platform</th>\n",
       "      <th>total_sales</th>\n",
       "    </tr>\n",
       "  </thead>\n",
       "  <tbody>\n",
       "    <tr>\n",
       "      <th>16</th>\n",
       "      <td>PS2</td>\n",
       "      <td>1233.56</td>\n",
       "    </tr>\n",
       "    <tr>\n",
       "      <th>28</th>\n",
       "      <td>X360</td>\n",
       "      <td>961.24</td>\n",
       "    </tr>\n",
       "    <tr>\n",
       "      <th>17</th>\n",
       "      <td>PS3</td>\n",
       "      <td>931.34</td>\n",
       "    </tr>\n",
       "    <tr>\n",
       "      <th>26</th>\n",
       "      <td>Wii</td>\n",
       "      <td>891.18</td>\n",
       "    </tr>\n",
       "    <tr>\n",
       "      <th>4</th>\n",
       "      <td>DS</td>\n",
       "      <td>802.78</td>\n",
       "    </tr>\n",
       "    <tr>\n",
       "      <th>15</th>\n",
       "      <td>PS</td>\n",
       "      <td>727.58</td>\n",
       "    </tr>\n",
       "    <tr>\n",
       "      <th>18</th>\n",
       "      <td>PS4</td>\n",
       "      <td>314.14</td>\n",
       "    </tr>\n",
       "    <tr>\n",
       "      <th>6</th>\n",
       "      <td>GBA</td>\n",
       "      <td>312.88</td>\n",
       "    </tr>\n",
       "    <tr>\n",
       "      <th>19</th>\n",
       "      <td>PSP</td>\n",
       "      <td>289.53</td>\n",
       "    </tr>\n",
       "    <tr>\n",
       "      <th>2</th>\n",
       "      <td>3DS</td>\n",
       "      <td>257.81</td>\n",
       "    </tr>\n",
       "    <tr>\n",
       "      <th>13</th>\n",
       "      <td>PC</td>\n",
       "      <td>255.76</td>\n",
       "    </tr>\n",
       "    <tr>\n",
       "      <th>5</th>\n",
       "      <td>GB</td>\n",
       "      <td>254.43</td>\n",
       "    </tr>\n",
       "    <tr>\n",
       "      <th>29</th>\n",
       "      <td>XB</td>\n",
       "      <td>251.57</td>\n",
       "    </tr>\n",
       "    <tr>\n",
       "      <th>11</th>\n",
       "      <td>NES</td>\n",
       "      <td>251.05</td>\n",
       "    </tr>\n",
       "    <tr>\n",
       "      <th>10</th>\n",
       "      <td>N64</td>\n",
       "      <td>218.01</td>\n",
       "    </tr>\n",
       "    <tr>\n",
       "      <th>23</th>\n",
       "      <td>SNES</td>\n",
       "      <td>200.04</td>\n",
       "    </tr>\n",
       "    <tr>\n",
       "      <th>7</th>\n",
       "      <td>GC</td>\n",
       "      <td>196.73</td>\n",
       "    </tr>\n",
       "    <tr>\n",
       "      <th>30</th>\n",
       "      <td>XOne</td>\n",
       "      <td>159.32</td>\n",
       "    </tr>\n",
       "    <tr>\n",
       "      <th>0</th>\n",
       "      <td>2600</td>\n",
       "      <td>86.48</td>\n",
       "    </tr>\n",
       "    <tr>\n",
       "      <th>27</th>\n",
       "      <td>WiiU</td>\n",
       "      <td>82.19</td>\n",
       "    </tr>\n",
       "    <tr>\n",
       "      <th>20</th>\n",
       "      <td>PSV</td>\n",
       "      <td>53.81</td>\n",
       "    </tr>\n",
       "    <tr>\n",
       "      <th>21</th>\n",
       "      <td>SAT</td>\n",
       "      <td>33.59</td>\n",
       "    </tr>\n",
       "    <tr>\n",
       "      <th>8</th>\n",
       "      <td>GEN</td>\n",
       "      <td>28.35</td>\n",
       "    </tr>\n",
       "    <tr>\n",
       "      <th>3</th>\n",
       "      <td>DC</td>\n",
       "      <td>15.95</td>\n",
       "    </tr>\n",
       "    <tr>\n",
       "      <th>22</th>\n",
       "      <td>SCD</td>\n",
       "      <td>1.86</td>\n",
       "    </tr>\n",
       "    <tr>\n",
       "      <th>12</th>\n",
       "      <td>NG</td>\n",
       "      <td>1.44</td>\n",
       "    </tr>\n",
       "    <tr>\n",
       "      <th>25</th>\n",
       "      <td>WS</td>\n",
       "      <td>1.42</td>\n",
       "    </tr>\n",
       "    <tr>\n",
       "      <th>24</th>\n",
       "      <td>TG16</td>\n",
       "      <td>0.16</td>\n",
       "    </tr>\n",
       "    <tr>\n",
       "      <th>1</th>\n",
       "      <td>3DO</td>\n",
       "      <td>0.10</td>\n",
       "    </tr>\n",
       "    <tr>\n",
       "      <th>9</th>\n",
       "      <td>GG</td>\n",
       "      <td>0.04</td>\n",
       "    </tr>\n",
       "    <tr>\n",
       "      <th>14</th>\n",
       "      <td>PCFX</td>\n",
       "      <td>0.03</td>\n",
       "    </tr>\n",
       "  </tbody>\n",
       "</table>\n",
       "</div>"
      ],
      "text/plain": [
       "   platform  total_sales\n",
       "16      PS2      1233.56\n",
       "28     X360       961.24\n",
       "17      PS3       931.34\n",
       "26      Wii       891.18\n",
       "4        DS       802.78\n",
       "15       PS       727.58\n",
       "18      PS4       314.14\n",
       "6       GBA       312.88\n",
       "19      PSP       289.53\n",
       "2       3DS       257.81\n",
       "13       PC       255.76\n",
       "5        GB       254.43\n",
       "29       XB       251.57\n",
       "11      NES       251.05\n",
       "10      N64       218.01\n",
       "23     SNES       200.04\n",
       "7        GC       196.73\n",
       "30     XOne       159.32\n",
       "0      2600        86.48\n",
       "27     WiiU        82.19\n",
       "20      PSV        53.81\n",
       "21      SAT        33.59\n",
       "8       GEN        28.35\n",
       "3        DC        15.95\n",
       "22      SCD         1.86\n",
       "12       NG         1.44\n",
       "25       WS         1.42\n",
       "24     TG16         0.16\n",
       "1       3DO         0.10\n",
       "9        GG         0.04\n",
       "14     PCFX         0.03"
      ]
     },
     "execution_count": 30,
     "metadata": {},
     "output_type": "execute_result"
    }
   ],
   "source": [
    "platform_total_sales = data.query('year_of_release != 0')\\\n",
    "                     .pivot_table(index = 'platform', values = 'total_sales', aggfunc = 'sum')\\\n",
    "                     .reset_index()\n",
    "platform_total_sales.sort_values(by = 'total_sales', ascending = False)"
   ]
  },
  {
   "cell_type": "code",
   "execution_count": 31,
   "id": "6387ec74",
   "metadata": {},
   "outputs": [
    {
     "data": {
      "text/html": [
       "<div>\n",
       "<style scoped>\n",
       "    .dataframe tbody tr th:only-of-type {\n",
       "        vertical-align: middle;\n",
       "    }\n",
       "\n",
       "    .dataframe tbody tr th {\n",
       "        vertical-align: top;\n",
       "    }\n",
       "\n",
       "    .dataframe thead th {\n",
       "        text-align: right;\n",
       "    }\n",
       "</style>\n",
       "<table border=\"1\" class=\"dataframe\">\n",
       "  <thead>\n",
       "    <tr style=\"text-align: right;\">\n",
       "      <th></th>\n",
       "      <th>total_sales</th>\n",
       "    </tr>\n",
       "  </thead>\n",
       "  <tbody>\n",
       "    <tr>\n",
       "      <th>count</th>\n",
       "      <td>31.000000</td>\n",
       "    </tr>\n",
       "    <tr>\n",
       "      <th>mean</th>\n",
       "      <td>284.334516</td>\n",
       "    </tr>\n",
       "    <tr>\n",
       "      <th>std</th>\n",
       "      <td>343.954144</td>\n",
       "    </tr>\n",
       "    <tr>\n",
       "      <th>min</th>\n",
       "      <td>0.030000</td>\n",
       "    </tr>\n",
       "    <tr>\n",
       "      <th>25%</th>\n",
       "      <td>22.150000</td>\n",
       "    </tr>\n",
       "    <tr>\n",
       "      <th>50%</th>\n",
       "      <td>200.040000</td>\n",
       "    </tr>\n",
       "    <tr>\n",
       "      <th>75%</th>\n",
       "      <td>301.205000</td>\n",
       "    </tr>\n",
       "    <tr>\n",
       "      <th>max</th>\n",
       "      <td>1233.560000</td>\n",
       "    </tr>\n",
       "  </tbody>\n",
       "</table>\n",
       "</div>"
      ],
      "text/plain": [
       "       total_sales\n",
       "count    31.000000\n",
       "mean    284.334516\n",
       "std     343.954144\n",
       "min       0.030000\n",
       "25%      22.150000\n",
       "50%     200.040000\n",
       "75%     301.205000\n",
       "max    1233.560000"
      ]
     },
     "execution_count": 31,
     "metadata": {},
     "output_type": "execute_result"
    }
   ],
   "source": [
    "platform_total_sales.describe()"
   ]
  },
  {
   "cell_type": "code",
   "execution_count": 32,
   "id": "69f65a8c",
   "metadata": {},
   "outputs": [
    {
     "data": {
      "text/html": [
       "<div>\n",
       "<style scoped>\n",
       "    .dataframe tbody tr th:only-of-type {\n",
       "        vertical-align: middle;\n",
       "    }\n",
       "\n",
       "    .dataframe tbody tr th {\n",
       "        vertical-align: top;\n",
       "    }\n",
       "\n",
       "    .dataframe thead th {\n",
       "        text-align: right;\n",
       "    }\n",
       "</style>\n",
       "<table border=\"1\" class=\"dataframe\">\n",
       "  <thead>\n",
       "    <tr style=\"text-align: right;\">\n",
       "      <th></th>\n",
       "      <th>platform</th>\n",
       "      <th>total_sales</th>\n",
       "    </tr>\n",
       "  </thead>\n",
       "  <tbody>\n",
       "    <tr>\n",
       "      <th>4</th>\n",
       "      <td>DS</td>\n",
       "      <td>802.78</td>\n",
       "    </tr>\n",
       "    <tr>\n",
       "      <th>6</th>\n",
       "      <td>GBA</td>\n",
       "      <td>312.88</td>\n",
       "    </tr>\n",
       "    <tr>\n",
       "      <th>15</th>\n",
       "      <td>PS</td>\n",
       "      <td>727.58</td>\n",
       "    </tr>\n",
       "    <tr>\n",
       "      <th>16</th>\n",
       "      <td>PS2</td>\n",
       "      <td>1233.56</td>\n",
       "    </tr>\n",
       "    <tr>\n",
       "      <th>17</th>\n",
       "      <td>PS3</td>\n",
       "      <td>931.34</td>\n",
       "    </tr>\n",
       "    <tr>\n",
       "      <th>18</th>\n",
       "      <td>PS4</td>\n",
       "      <td>314.14</td>\n",
       "    </tr>\n",
       "    <tr>\n",
       "      <th>26</th>\n",
       "      <td>Wii</td>\n",
       "      <td>891.18</td>\n",
       "    </tr>\n",
       "    <tr>\n",
       "      <th>28</th>\n",
       "      <td>X360</td>\n",
       "      <td>961.24</td>\n",
       "    </tr>\n",
       "  </tbody>\n",
       "</table>\n",
       "</div>"
      ],
      "text/plain": [
       "   platform  total_sales\n",
       "4        DS       802.78\n",
       "6       GBA       312.88\n",
       "15       PS       727.58\n",
       "16      PS2      1233.56\n",
       "17      PS3       931.34\n",
       "18      PS4       314.14\n",
       "26      Wii       891.18\n",
       "28     X360       961.24"
      ]
     },
     "metadata": {},
     "output_type": "display_data"
    },
    {
     "data": {
      "text/plain": [
       "['DS', 'GBA', 'PS', 'PS2', 'PS3', 'PS4', 'Wii', 'X360']"
      ]
     },
     "execution_count": 32,
     "metadata": {},
     "output_type": "execute_result"
    }
   ],
   "source": [
    "leading_platforms = platform_total_sales.query('total_sales >= 301.20')\n",
    "display(leading_platforms)\n",
    "leading_list = leading_platforms['platform'].tolist()\n",
    "leading_list"
   ]
  },
  {
   "cell_type": "markdown",
   "id": "95bddd3d",
   "metadata": {},
   "source": [
    "Определим эти платформы как самые популярные, так, чтобы отсечка прошла по третьему квартилю."
   ]
  },
  {
   "cell_type": "markdown",
   "id": "51328206",
   "metadata": {},
   "source": [
    "### Определение актуального периода"
   ]
  },
  {
   "cell_type": "code",
   "execution_count": 33,
   "id": "2a9bc722",
   "metadata": {},
   "outputs": [
    {
     "data": {
      "text/html": [
       "<div>\n",
       "<style scoped>\n",
       "    .dataframe tbody tr th:only-of-type {\n",
       "        vertical-align: middle;\n",
       "    }\n",
       "\n",
       "    .dataframe tbody tr th {\n",
       "        vertical-align: top;\n",
       "    }\n",
       "\n",
       "    .dataframe thead th {\n",
       "        text-align: right;\n",
       "    }\n",
       "</style>\n",
       "<table border=\"1\" class=\"dataframe\">\n",
       "  <thead>\n",
       "    <tr style=\"text-align: right;\">\n",
       "      <th></th>\n",
       "      <th>platform</th>\n",
       "      <th>year_of_release</th>\n",
       "      <th>total_sales</th>\n",
       "    </tr>\n",
       "  </thead>\n",
       "  <tbody>\n",
       "    <tr>\n",
       "      <th>0</th>\n",
       "      <td>2600</td>\n",
       "      <td>1980.0</td>\n",
       "      <td>11.38</td>\n",
       "    </tr>\n",
       "    <tr>\n",
       "      <th>1</th>\n",
       "      <td>2600</td>\n",
       "      <td>1981.0</td>\n",
       "      <td>35.68</td>\n",
       "    </tr>\n",
       "    <tr>\n",
       "      <th>2</th>\n",
       "      <td>2600</td>\n",
       "      <td>1982.0</td>\n",
       "      <td>28.88</td>\n",
       "    </tr>\n",
       "    <tr>\n",
       "      <th>3</th>\n",
       "      <td>2600</td>\n",
       "      <td>1983.0</td>\n",
       "      <td>5.84</td>\n",
       "    </tr>\n",
       "    <tr>\n",
       "      <th>4</th>\n",
       "      <td>2600</td>\n",
       "      <td>1984.0</td>\n",
       "      <td>0.27</td>\n",
       "    </tr>\n",
       "    <tr>\n",
       "      <th>...</th>\n",
       "      <td>...</td>\n",
       "      <td>...</td>\n",
       "      <td>...</td>\n",
       "    </tr>\n",
       "    <tr>\n",
       "      <th>233</th>\n",
       "      <td>XB</td>\n",
       "      <td>2008.0</td>\n",
       "      <td>0.18</td>\n",
       "    </tr>\n",
       "    <tr>\n",
       "      <th>234</th>\n",
       "      <td>XOne</td>\n",
       "      <td>2013.0</td>\n",
       "      <td>18.96</td>\n",
       "    </tr>\n",
       "    <tr>\n",
       "      <th>235</th>\n",
       "      <td>XOne</td>\n",
       "      <td>2014.0</td>\n",
       "      <td>54.07</td>\n",
       "    </tr>\n",
       "    <tr>\n",
       "      <th>236</th>\n",
       "      <td>XOne</td>\n",
       "      <td>2015.0</td>\n",
       "      <td>60.14</td>\n",
       "    </tr>\n",
       "    <tr>\n",
       "      <th>237</th>\n",
       "      <td>XOne</td>\n",
       "      <td>2016.0</td>\n",
       "      <td>26.15</td>\n",
       "    </tr>\n",
       "  </tbody>\n",
       "</table>\n",
       "<p>238 rows × 3 columns</p>\n",
       "</div>"
      ],
      "text/plain": [
       "    platform  year_of_release  total_sales\n",
       "0       2600           1980.0        11.38\n",
       "1       2600           1981.0        35.68\n",
       "2       2600           1982.0        28.88\n",
       "3       2600           1983.0         5.84\n",
       "4       2600           1984.0         0.27\n",
       "..       ...              ...          ...\n",
       "233       XB           2008.0         0.18\n",
       "234     XOne           2013.0        18.96\n",
       "235     XOne           2014.0        54.07\n",
       "236     XOne           2015.0        60.14\n",
       "237     XOne           2016.0        26.15\n",
       "\n",
       "[238 rows x 3 columns]"
      ]
     },
     "execution_count": 33,
     "metadata": {},
     "output_type": "execute_result"
    }
   ],
   "source": [
    "platform_yearly_sales = data.query('year_of_release != 0')\\\n",
    "                     .pivot_table(index = ['platform', 'year_of_release'], values = 'total_sales', aggfunc = 'sum')\\\n",
    "                     .reset_index()\n",
    "platform_yearly_sales"
   ]
  },
  {
   "cell_type": "code",
   "execution_count": 34,
   "id": "2f7197ac",
   "metadata": {},
   "outputs": [],
   "source": [
    "def show_platform_lifetime(platform):\n",
    "    temp_data = platform_yearly_sales.query(f'platform == \"{platform}\" and year_of_release >= 1995')\n",
    "    print(f'Распределение продаж игр для платформы {platform} по годам')\n",
    "    plt.figure(figsize=(15, 9))\n",
    "    plt.plot(temp_data['year_of_release'], temp_data['total_sales'], marker='o', linestyle='-', color='b')\n",
    "    plt.xlabel('Год')\n",
    "    plt.ylabel('Продажи')\n",
    "    plt.title('Зависимость продаж от года')\n",
    "    plt.grid(True)\n",
    "    plt.xlim(1995, 2016)\n",
    "    plt.show()"
   ]
  },
  {
   "cell_type": "code",
   "execution_count": 35,
   "id": "c5065dc1",
   "metadata": {
    "scrolled": false
   },
   "outputs": [
    {
     "name": "stdout",
     "output_type": "stream",
     "text": [
      "Распределение продаж игр для платформы DS по годам\n"
     ]
    },
    {
     "data": {
      "image/png": "[encoded data removed]",
      "text/plain": [
       "<Figure size 1080x648 with 1 Axes>"
      ]
     },
     "metadata": {
      "needs_background": "light"
     },
     "output_type": "display_data"
    },
    {
     "name": "stdout",
     "output_type": "stream",
     "text": [
      "Распределение продаж игр для платформы GBA по годам\n"
     ]
    },
    {
     "data": {
      "image/png": "[encoded data removed]",
      "text/plain": [
       "<Figure size 1080x648 with 1 Axes>"
      ]
     },
     "metadata": {
      "needs_background": "light"
     },
     "output_type": "display_data"
    },
    {
     "name": "stdout",
     "output_type": "stream",
     "text": [
      "Распределение продаж игр для платформы PS по годам\n"
     ]
    },
    {
     "data": {
      "image/png": "[encoded data removed]",
      "text/plain": [
       "<Figure size 1080x648 with 1 Axes>"
      ]
     },
     "metadata": {
      "needs_background": "light"
     },
     "output_type": "display_data"
    },
    {
     "name": "stdout",
     "output_type": "stream",
     "text": [
      "Распределение продаж игр для платформы PS2 по годам\n"
     ]
    },
    {
     "data": {
      "image/png": "[encoded data removed]",
      "text/plain": [
       "<Figure size 1080x648 with 1 Axes>"
      ]
     },
     "metadata": {
      "needs_background": "light"
     },
     "output_type": "display_data"
    },
    {
     "name": "stdout",
     "output_type": "stream",
     "text": [
      "Распределение продаж игр для платформы PS3 по годам\n"
     ]
    },
    {
     "data": {
      "image/png": "[encoded data removed]",
      "text/plain": [
       "<Figure size 1080x648 with 1 Axes>"
      ]
     },
     "metadata": {
      "needs_background": "light"
     },
     "output_type": "display_data"
    },
    {
     "name": "stdout",
     "output_type": "stream",
     "text": [
      "Распределение продаж игр для платформы PS4 по годам\n"
     ]
    },
    {
     "data": {
      "image/png": "[encoded data removed]",
      "text/plain": [
       "<Figure size 1080x648 with 1 Axes>"
      ]
     },
     "metadata": {
      "needs_background": "light"
     },
     "output_type": "display_data"
    },
    {
     "name": "stdout",
     "output_type": "stream",
     "text": [
      "Распределение продаж игр для платформы Wii по годам\n"
     ]
    },
    {
     "data": {
      "image/png": "[encoded data removed]",
      "text/plain": [
       "<Figure size 1080x648 with 1 Axes>"
      ]
     },
     "metadata": {
      "needs_background": "light"
     },
     "output_type": "display_data"
    },
    {
     "name": "stdout",
     "output_type": "stream",
     "text": [
      "Распределение продаж игр для платформы X360 по годам\n"
     ]
    },
    {
     "data": {
      "image/png": "[encoded data removed]",
      "text/plain": [
       "<Figure size 1080x648 with 1 Axes>"
      ]
     },
     "metadata": {
      "needs_background": "light"
     },
     "output_type": "display_data"
    }
   ],
   "source": [
    "for platform in leading_list:\n",
    "    show_platform_lifetime(platform)"
   ]
  },
  {
   "cell_type": "code",
   "execution_count": 36,
   "id": "fd4e3313",
   "metadata": {},
   "outputs": [
    {
     "data": {
      "text/html": [
       "<div>\n",
       "<style scoped>\n",
       "    .dataframe tbody tr th:only-of-type {\n",
       "        vertical-align: middle;\n",
       "    }\n",
       "\n",
       "    .dataframe tbody tr th {\n",
       "        vertical-align: top;\n",
       "    }\n",
       "\n",
       "    .dataframe thead th {\n",
       "        text-align: right;\n",
       "    }\n",
       "</style>\n",
       "<table border=\"1\" class=\"dataframe\">\n",
       "  <thead>\n",
       "    <tr style=\"text-align: right;\">\n",
       "      <th></th>\n",
       "      <th>platform</th>\n",
       "      <th>start_year</th>\n",
       "      <th>end_year</th>\n",
       "      <th>activity_time</th>\n",
       "    </tr>\n",
       "  </thead>\n",
       "  <tbody>\n",
       "    <tr>\n",
       "      <th>30</th>\n",
       "      <td>XOne</td>\n",
       "      <td>2013.0</td>\n",
       "      <td>2016.0</td>\n",
       "      <td>3.0</td>\n",
       "    </tr>\n",
       "    <tr>\n",
       "      <th>18</th>\n",
       "      <td>PS4</td>\n",
       "      <td>2013.0</td>\n",
       "      <td>2016.0</td>\n",
       "      <td>3.0</td>\n",
       "    </tr>\n",
       "    <tr>\n",
       "      <th>27</th>\n",
       "      <td>WiiU</td>\n",
       "      <td>2012.0</td>\n",
       "      <td>2016.0</td>\n",
       "      <td>4.0</td>\n",
       "    </tr>\n",
       "    <tr>\n",
       "      <th>2</th>\n",
       "      <td>3DS</td>\n",
       "      <td>2011.0</td>\n",
       "      <td>2016.0</td>\n",
       "      <td>5.0</td>\n",
       "    </tr>\n",
       "    <tr>\n",
       "      <th>20</th>\n",
       "      <td>PSV</td>\n",
       "      <td>2011.0</td>\n",
       "      <td>2016.0</td>\n",
       "      <td>5.0</td>\n",
       "    </tr>\n",
       "    <tr>\n",
       "      <th>17</th>\n",
       "      <td>PS3</td>\n",
       "      <td>2006.0</td>\n",
       "      <td>2016.0</td>\n",
       "      <td>10.0</td>\n",
       "    </tr>\n",
       "    <tr>\n",
       "      <th>26</th>\n",
       "      <td>Wii</td>\n",
       "      <td>2006.0</td>\n",
       "      <td>2016.0</td>\n",
       "      <td>10.0</td>\n",
       "    </tr>\n",
       "    <tr>\n",
       "      <th>28</th>\n",
       "      <td>X360</td>\n",
       "      <td>2005.0</td>\n",
       "      <td>2016.0</td>\n",
       "      <td>11.0</td>\n",
       "    </tr>\n",
       "    <tr>\n",
       "      <th>19</th>\n",
       "      <td>PSP</td>\n",
       "      <td>2004.0</td>\n",
       "      <td>2015.0</td>\n",
       "      <td>11.0</td>\n",
       "    </tr>\n",
       "    <tr>\n",
       "      <th>7</th>\n",
       "      <td>GC</td>\n",
       "      <td>2001.0</td>\n",
       "      <td>2007.0</td>\n",
       "      <td>6.0</td>\n",
       "    </tr>\n",
       "    <tr>\n",
       "      <th>6</th>\n",
       "      <td>GBA</td>\n",
       "      <td>2000.0</td>\n",
       "      <td>2007.0</td>\n",
       "      <td>7.0</td>\n",
       "    </tr>\n",
       "    <tr>\n",
       "      <th>16</th>\n",
       "      <td>PS2</td>\n",
       "      <td>2000.0</td>\n",
       "      <td>2011.0</td>\n",
       "      <td>11.0</td>\n",
       "    </tr>\n",
       "    <tr>\n",
       "      <th>29</th>\n",
       "      <td>XB</td>\n",
       "      <td>2000.0</td>\n",
       "      <td>2008.0</td>\n",
       "      <td>8.0</td>\n",
       "    </tr>\n",
       "    <tr>\n",
       "      <th>25</th>\n",
       "      <td>WS</td>\n",
       "      <td>1999.0</td>\n",
       "      <td>2001.0</td>\n",
       "      <td>2.0</td>\n",
       "    </tr>\n",
       "    <tr>\n",
       "      <th>3</th>\n",
       "      <td>DC</td>\n",
       "      <td>1998.0</td>\n",
       "      <td>2008.0</td>\n",
       "      <td>10.0</td>\n",
       "    </tr>\n",
       "    <tr>\n",
       "      <th>14</th>\n",
       "      <td>PCFX</td>\n",
       "      <td>1996.0</td>\n",
       "      <td>1996.0</td>\n",
       "      <td>0.0</td>\n",
       "    </tr>\n",
       "    <tr>\n",
       "      <th>10</th>\n",
       "      <td>N64</td>\n",
       "      <td>1996.0</td>\n",
       "      <td>2002.0</td>\n",
       "      <td>6.0</td>\n",
       "    </tr>\n",
       "    <tr>\n",
       "      <th>24</th>\n",
       "      <td>TG16</td>\n",
       "      <td>1995.0</td>\n",
       "      <td>1995.0</td>\n",
       "      <td>0.0</td>\n",
       "    </tr>\n",
       "    <tr>\n",
       "      <th>21</th>\n",
       "      <td>SAT</td>\n",
       "      <td>1994.0</td>\n",
       "      <td>1999.0</td>\n",
       "      <td>5.0</td>\n",
       "    </tr>\n",
       "    <tr>\n",
       "      <th>15</th>\n",
       "      <td>PS</td>\n",
       "      <td>1994.0</td>\n",
       "      <td>2003.0</td>\n",
       "      <td>9.0</td>\n",
       "    </tr>\n",
       "    <tr>\n",
       "      <th>1</th>\n",
       "      <td>3DO</td>\n",
       "      <td>1994.0</td>\n",
       "      <td>1995.0</td>\n",
       "      <td>1.0</td>\n",
       "    </tr>\n",
       "    <tr>\n",
       "      <th>22</th>\n",
       "      <td>SCD</td>\n",
       "      <td>1993.0</td>\n",
       "      <td>1994.0</td>\n",
       "      <td>1.0</td>\n",
       "    </tr>\n",
       "    <tr>\n",
       "      <th>12</th>\n",
       "      <td>NG</td>\n",
       "      <td>1993.0</td>\n",
       "      <td>1996.0</td>\n",
       "      <td>3.0</td>\n",
       "    </tr>\n",
       "    <tr>\n",
       "      <th>9</th>\n",
       "      <td>GG</td>\n",
       "      <td>1992.0</td>\n",
       "      <td>1992.0</td>\n",
       "      <td>0.0</td>\n",
       "    </tr>\n",
       "    <tr>\n",
       "      <th>23</th>\n",
       "      <td>SNES</td>\n",
       "      <td>1990.0</td>\n",
       "      <td>1999.0</td>\n",
       "      <td>9.0</td>\n",
       "    </tr>\n",
       "    <tr>\n",
       "      <th>8</th>\n",
       "      <td>GEN</td>\n",
       "      <td>1990.0</td>\n",
       "      <td>1994.0</td>\n",
       "      <td>4.0</td>\n",
       "    </tr>\n",
       "    <tr>\n",
       "      <th>5</th>\n",
       "      <td>GB</td>\n",
       "      <td>1988.0</td>\n",
       "      <td>2001.0</td>\n",
       "      <td>13.0</td>\n",
       "    </tr>\n",
       "    <tr>\n",
       "      <th>13</th>\n",
       "      <td>PC</td>\n",
       "      <td>1985.0</td>\n",
       "      <td>2016.0</td>\n",
       "      <td>31.0</td>\n",
       "    </tr>\n",
       "    <tr>\n",
       "      <th>4</th>\n",
       "      <td>DS</td>\n",
       "      <td>1985.0</td>\n",
       "      <td>2013.0</td>\n",
       "      <td>28.0</td>\n",
       "    </tr>\n",
       "    <tr>\n",
       "      <th>11</th>\n",
       "      <td>NES</td>\n",
       "      <td>1983.0</td>\n",
       "      <td>1994.0</td>\n",
       "      <td>11.0</td>\n",
       "    </tr>\n",
       "    <tr>\n",
       "      <th>0</th>\n",
       "      <td>2600</td>\n",
       "      <td>1980.0</td>\n",
       "      <td>1989.0</td>\n",
       "      <td>9.0</td>\n",
       "    </tr>\n",
       "  </tbody>\n",
       "</table>\n",
       "</div>"
      ],
      "text/plain": [
       "   platform  start_year  end_year  activity_time\n",
       "30     XOne      2013.0    2016.0            3.0\n",
       "18      PS4      2013.0    2016.0            3.0\n",
       "27     WiiU      2012.0    2016.0            4.0\n",
       "2       3DS      2011.0    2016.0            5.0\n",
       "20      PSV      2011.0    2016.0            5.0\n",
       "17      PS3      2006.0    2016.0           10.0\n",
       "26      Wii      2006.0    2016.0           10.0\n",
       "28     X360      2005.0    2016.0           11.0\n",
       "19      PSP      2004.0    2015.0           11.0\n",
       "7        GC      2001.0    2007.0            6.0\n",
       "6       GBA      2000.0    2007.0            7.0\n",
       "16      PS2      2000.0    2011.0           11.0\n",
       "29       XB      2000.0    2008.0            8.0\n",
       "25       WS      1999.0    2001.0            2.0\n",
       "3        DC      1998.0    2008.0           10.0\n",
       "14     PCFX      1996.0    1996.0            0.0\n",
       "10      N64      1996.0    2002.0            6.0\n",
       "24     TG16      1995.0    1995.0            0.0\n",
       "21      SAT      1994.0    1999.0            5.0\n",
       "15       PS      1994.0    2003.0            9.0\n",
       "1       3DO      1994.0    1995.0            1.0\n",
       "22      SCD      1993.0    1994.0            1.0\n",
       "12       NG      1993.0    1996.0            3.0\n",
       "9        GG      1992.0    1992.0            0.0\n",
       "23     SNES      1990.0    1999.0            9.0\n",
       "8       GEN      1990.0    1994.0            4.0\n",
       "5        GB      1988.0    2001.0           13.0\n",
       "13       PC      1985.0    2016.0           31.0\n",
       "4        DS      1985.0    2013.0           28.0\n",
       "11      NES      1983.0    1994.0           11.0\n",
       "0      2600      1980.0    1989.0            9.0"
      ]
     },
     "metadata": {},
     "output_type": "display_data"
    },
    {
     "data": {
      "text/plain": [
       "8"
      ]
     },
     "execution_count": 36,
     "metadata": {},
     "output_type": "execute_result"
    }
   ],
   "source": [
    "platform_period = platform_yearly_sales.pivot_table(index = 'platform', values = 'year_of_release', aggfunc = ['min', 'max']).reset_index()\n",
    "platform_period.columns = ['platform', 'start_year', 'end_year']\n",
    "platform_period['activity_time'] = platform_period['end_year'] - platform_period['start_year']\n",
    "display(platform_period.sort_values(by = 'start_year', ascending = False))\n",
    "round(platform_period['activity_time'].mean())"
   ]
  },
  {
   "cell_type": "markdown",
   "id": "b02bb831",
   "metadata": {},
   "source": [
    "Мы видим, что самые новые платформы датированы 2013 годом, а горизонт наблюдений в нашем случае - 2016. Памятуя о высокой скорости изменений на рынке видеоигр, возьмем период 2014 - 2016 включительно как актуальный: новых платформ не было, рынок в той или иной мере стабилен и \"живет своюю обычную жизнь\"."
   ]
  },
  {
   "cell_type": "code",
   "execution_count": 37,
   "id": "bfea9408",
   "metadata": {},
   "outputs": [],
   "source": [
    "actual_data = data.query('year_of_release >= 2014')"
   ]
  },
  {
   "cell_type": "code",
   "execution_count": 38,
   "id": "9540b1ef",
   "metadata": {},
   "outputs": [
    {
     "name": "stdout",
     "output_type": "stream",
     "text": [
      "<class 'pandas.core.frame.DataFrame'>\n",
      "Int64Index: 1689 entries, 31 to 16714\n",
      "Data columns (total 12 columns):\n",
      " #   Column           Non-Null Count  Dtype  \n",
      "---  ------           --------------  -----  \n",
      " 0   name             1689 non-null   object \n",
      " 1   platform         1689 non-null   object \n",
      " 2   year_of_release  1689 non-null   float64\n",
      " 3   genre            1689 non-null   object \n",
      " 4   na_sales         1689 non-null   float64\n",
      " 5   eu_sales         1689 non-null   float64\n",
      " 6   jp_sales         1689 non-null   float64\n",
      " 7   other_sales      1689 non-null   float64\n",
      " 8   critic_score     718 non-null    float64\n",
      " 9   user_score       888 non-null    float64\n",
      " 10  rating           940 non-null    object \n",
      " 11  total_sales      1689 non-null   float64\n",
      "dtypes: float64(8), object(4)\n",
      "memory usage: 171.5+ KB\n"
     ]
    }
   ],
   "source": [
    "actual_data.info()"
   ]
  },
  {
   "cell_type": "markdown",
   "id": "7ce5ff49",
   "metadata": {},
   "source": [
    "### Выбор потенциально прибыльных платформ для планирования рекламных кампаний"
   ]
  },
  {
   "cell_type": "code",
   "execution_count": 39,
   "id": "de667682",
   "metadata": {},
   "outputs": [
    {
     "data": {
      "text/html": [
       "<div>\n",
       "<style scoped>\n",
       "    .dataframe tbody tr th:only-of-type {\n",
       "        vertical-align: middle;\n",
       "    }\n",
       "\n",
       "    .dataframe tbody tr th {\n",
       "        vertical-align: top;\n",
       "    }\n",
       "\n",
       "    .dataframe thead th {\n",
       "        text-align: right;\n",
       "    }\n",
       "</style>\n",
       "<table border=\"1\" class=\"dataframe\">\n",
       "  <thead>\n",
       "    <tr style=\"text-align: right;\">\n",
       "      <th></th>\n",
       "      <th>platform</th>\n",
       "      <th>year_of_release</th>\n",
       "      <th>total_sales</th>\n",
       "    </tr>\n",
       "  </thead>\n",
       "  <tbody>\n",
       "    <tr>\n",
       "      <th>0</th>\n",
       "      <td>3DS</td>\n",
       "      <td>2014.0</td>\n",
       "      <td>43.76</td>\n",
       "    </tr>\n",
       "    <tr>\n",
       "      <th>1</th>\n",
       "      <td>3DS</td>\n",
       "      <td>2015.0</td>\n",
       "      <td>27.78</td>\n",
       "    </tr>\n",
       "    <tr>\n",
       "      <th>2</th>\n",
       "      <td>3DS</td>\n",
       "      <td>2016.0</td>\n",
       "      <td>15.14</td>\n",
       "    </tr>\n",
       "    <tr>\n",
       "      <th>3</th>\n",
       "      <td>PC</td>\n",
       "      <td>2014.0</td>\n",
       "      <td>13.28</td>\n",
       "    </tr>\n",
       "    <tr>\n",
       "      <th>4</th>\n",
       "      <td>PC</td>\n",
       "      <td>2015.0</td>\n",
       "      <td>8.52</td>\n",
       "    </tr>\n",
       "    <tr>\n",
       "      <th>5</th>\n",
       "      <td>PC</td>\n",
       "      <td>2016.0</td>\n",
       "      <td>5.25</td>\n",
       "    </tr>\n",
       "    <tr>\n",
       "      <th>6</th>\n",
       "      <td>PS3</td>\n",
       "      <td>2014.0</td>\n",
       "      <td>47.76</td>\n",
       "    </tr>\n",
       "    <tr>\n",
       "      <th>7</th>\n",
       "      <td>PS3</td>\n",
       "      <td>2015.0</td>\n",
       "      <td>16.82</td>\n",
       "    </tr>\n",
       "    <tr>\n",
       "      <th>8</th>\n",
       "      <td>PS3</td>\n",
       "      <td>2016.0</td>\n",
       "      <td>3.60</td>\n",
       "    </tr>\n",
       "    <tr>\n",
       "      <th>9</th>\n",
       "      <td>PS4</td>\n",
       "      <td>2014.0</td>\n",
       "      <td>100.00</td>\n",
       "    </tr>\n",
       "    <tr>\n",
       "      <th>10</th>\n",
       "      <td>PS4</td>\n",
       "      <td>2015.0</td>\n",
       "      <td>118.90</td>\n",
       "    </tr>\n",
       "    <tr>\n",
       "      <th>11</th>\n",
       "      <td>PS4</td>\n",
       "      <td>2016.0</td>\n",
       "      <td>69.25</td>\n",
       "    </tr>\n",
       "    <tr>\n",
       "      <th>12</th>\n",
       "      <td>PSP</td>\n",
       "      <td>2014.0</td>\n",
       "      <td>0.24</td>\n",
       "    </tr>\n",
       "    <tr>\n",
       "      <th>13</th>\n",
       "      <td>PSP</td>\n",
       "      <td>2015.0</td>\n",
       "      <td>0.12</td>\n",
       "    </tr>\n",
       "    <tr>\n",
       "      <th>14</th>\n",
       "      <td>PSV</td>\n",
       "      <td>2014.0</td>\n",
       "      <td>11.90</td>\n",
       "    </tr>\n",
       "    <tr>\n",
       "      <th>15</th>\n",
       "      <td>PSV</td>\n",
       "      <td>2015.0</td>\n",
       "      <td>6.25</td>\n",
       "    </tr>\n",
       "    <tr>\n",
       "      <th>16</th>\n",
       "      <td>PSV</td>\n",
       "      <td>2016.0</td>\n",
       "      <td>4.25</td>\n",
       "    </tr>\n",
       "    <tr>\n",
       "      <th>17</th>\n",
       "      <td>Wii</td>\n",
       "      <td>2014.0</td>\n",
       "      <td>3.75</td>\n",
       "    </tr>\n",
       "    <tr>\n",
       "      <th>18</th>\n",
       "      <td>Wii</td>\n",
       "      <td>2015.0</td>\n",
       "      <td>1.14</td>\n",
       "    </tr>\n",
       "    <tr>\n",
       "      <th>19</th>\n",
       "      <td>Wii</td>\n",
       "      <td>2016.0</td>\n",
       "      <td>0.18</td>\n",
       "    </tr>\n",
       "    <tr>\n",
       "      <th>20</th>\n",
       "      <td>WiiU</td>\n",
       "      <td>2014.0</td>\n",
       "      <td>22.03</td>\n",
       "    </tr>\n",
       "    <tr>\n",
       "      <th>21</th>\n",
       "      <td>WiiU</td>\n",
       "      <td>2015.0</td>\n",
       "      <td>16.35</td>\n",
       "    </tr>\n",
       "    <tr>\n",
       "      <th>22</th>\n",
       "      <td>WiiU</td>\n",
       "      <td>2016.0</td>\n",
       "      <td>4.60</td>\n",
       "    </tr>\n",
       "    <tr>\n",
       "      <th>23</th>\n",
       "      <td>X360</td>\n",
       "      <td>2014.0</td>\n",
       "      <td>34.74</td>\n",
       "    </tr>\n",
       "    <tr>\n",
       "      <th>24</th>\n",
       "      <td>X360</td>\n",
       "      <td>2015.0</td>\n",
       "      <td>11.96</td>\n",
       "    </tr>\n",
       "    <tr>\n",
       "      <th>25</th>\n",
       "      <td>X360</td>\n",
       "      <td>2016.0</td>\n",
       "      <td>1.52</td>\n",
       "    </tr>\n",
       "    <tr>\n",
       "      <th>26</th>\n",
       "      <td>XOne</td>\n",
       "      <td>2014.0</td>\n",
       "      <td>54.07</td>\n",
       "    </tr>\n",
       "    <tr>\n",
       "      <th>27</th>\n",
       "      <td>XOne</td>\n",
       "      <td>2015.0</td>\n",
       "      <td>60.14</td>\n",
       "    </tr>\n",
       "    <tr>\n",
       "      <th>28</th>\n",
       "      <td>XOne</td>\n",
       "      <td>2016.0</td>\n",
       "      <td>26.15</td>\n",
       "    </tr>\n",
       "  </tbody>\n",
       "</table>\n",
       "</div>"
      ],
      "text/plain": [
       "   platform  year_of_release  total_sales\n",
       "0       3DS           2014.0        43.76\n",
       "1       3DS           2015.0        27.78\n",
       "2       3DS           2016.0        15.14\n",
       "3        PC           2014.0        13.28\n",
       "4        PC           2015.0         8.52\n",
       "5        PC           2016.0         5.25\n",
       "6       PS3           2014.0        47.76\n",
       "7       PS3           2015.0        16.82\n",
       "8       PS3           2016.0         3.60\n",
       "9       PS4           2014.0       100.00\n",
       "10      PS4           2015.0       118.90\n",
       "11      PS4           2016.0        69.25\n",
       "12      PSP           2014.0         0.24\n",
       "13      PSP           2015.0         0.12\n",
       "14      PSV           2014.0        11.90\n",
       "15      PSV           2015.0         6.25\n",
       "16      PSV           2016.0         4.25\n",
       "17      Wii           2014.0         3.75\n",
       "18      Wii           2015.0         1.14\n",
       "19      Wii           2016.0         0.18\n",
       "20     WiiU           2014.0        22.03\n",
       "21     WiiU           2015.0        16.35\n",
       "22     WiiU           2016.0         4.60\n",
       "23     X360           2014.0        34.74\n",
       "24     X360           2015.0        11.96\n",
       "25     X360           2016.0         1.52\n",
       "26     XOne           2014.0        54.07\n",
       "27     XOne           2015.0        60.14\n",
       "28     XOne           2016.0        26.15"
      ]
     },
     "metadata": {},
     "output_type": "display_data"
    },
    {
     "data": {
      "text/plain": [
       "['WiiU', 'XOne', 'X360', 'PS3', 'PSP', 'PS4', 'PSV', 'Wii', '3DS', 'PC']"
      ]
     },
     "execution_count": 39,
     "metadata": {},
     "output_type": "execute_result"
    }
   ],
   "source": [
    "platform_dynamics= actual_data.pivot_table(index = ['platform', 'year_of_release'], values = 'total_sales', aggfunc = 'sum')\\\n",
    "                              .reset_index()\n",
    "display(platform_dynamics)\n",
    "actual_platforms = set(platform_dynamics['platform'])\n",
    "actual_platforms = list(actual_platforms)\n",
    "actual_platforms"
   ]
  },
  {
   "cell_type": "code",
   "execution_count": 40,
   "id": "ea48b1fa",
   "metadata": {},
   "outputs": [
    {
     "data": {
      "text/plain": [
       "118.90000000000008"
      ]
     },
     "metadata": {},
     "output_type": "display_data"
    },
    {
     "data": {
      "text/plain": [
       "0.12000000000000001"
      ]
     },
     "execution_count": 40,
     "metadata": {},
     "output_type": "execute_result"
    }
   ],
   "source": [
    "display(platform_dynamics['total_sales'].max())\n",
    "platform_dynamics['total_sales'].min()"
   ]
  },
  {
   "cell_type": "code",
   "execution_count": 41,
   "id": "68e18be9",
   "metadata": {},
   "outputs": [],
   "source": [
    "def show_platform_potential(platform):\n",
    "    temp_data = platform_dynamics.query(f'platform == \"{platform}\"')\n",
    "    print(f'Тенденция для платформы {platform}')\n",
    "    plt.figure(figsize=(15, 9))\n",
    "    plt.plot(temp_data['year_of_release'], temp_data['total_sales'], marker='o', linestyle='-', color='b')\n",
    "    plt.xlabel('Год')\n",
    "    plt.ylabel('Продажи')\n",
    "    plt.title('Тенденция')\n",
    "    plt.grid(True)\n",
    "    plt.xlim(2014, 2016)\n",
    "    plt.ylim(0, 120)\n",
    "    plt.show()"
   ]
  },
  {
   "cell_type": "code",
   "execution_count": 42,
   "id": "c3967d61",
   "metadata": {
    "scrolled": false
   },
   "outputs": [
    {
     "name": "stdout",
     "output_type": "stream",
     "text": [
      "Тенденция для платформы WiiU\n"
     ]
    },
    {
     "data": {
      "image/png": "[encoded data removed]",
      "text/plain": [
       "<Figure size 1080x648 with 1 Axes>"
      ]
     },
     "metadata": {
      "needs_background": "light"
     },
     "output_type": "display_data"
    },
    {
     "name": "stdout",
     "output_type": "stream",
     "text": [
      "Тенденция для платформы XOne\n"
     ]
    },
    {
     "data": {
      "image/png": "[encoded data removed]",
      "text/plain": [
       "<Figure size 1080x648 with 1 Axes>"
      ]
     },
     "metadata": {
      "needs_background": "light"
     },
     "output_type": "display_data"
    },
    {
     "name": "stdout",
     "output_type": "stream",
     "text": [
      "Тенденция для платформы X360\n"
     ]
    },
    {
     "data": {
      "image/png": "[encoded data removed]",
      "text/plain": [
       "<Figure size 1080x648 with 1 Axes>"
      ]
     },
     "metadata": {
      "needs_background": "light"
     },
     "output_type": "display_data"
    },
    {
     "name": "stdout",
     "output_type": "stream",
     "text": [
      "Тенденция для платформы PS3\n"
     ]
    },
    {
     "data": {
      "image/png": "[encoded data removed]",
      "text/plain": [
       "<Figure size 1080x648 with 1 Axes>"
      ]
     },
     "metadata": {
      "needs_background": "light"
     },
     "output_type": "display_data"
    },
    {
     "name": "stdout",
     "output_type": "stream",
     "text": [
      "Тенденция для платформы PSP\n"
     ]
    },
    {
     "data": {
      "image/png": "[encoded data removed]",
      "text/plain": [
       "<Figure size 1080x648 with 1 Axes>"
      ]
     },
     "metadata": {
      "needs_background": "light"
     },
     "output_type": "display_data"
    },
    {
     "name": "stdout",
     "output_type": "stream",
     "text": [
      "Тенденция для платформы PS4\n"
     ]
    },
    {
     "data": {
      "image/png": "[encoded data removed]",
      "text/plain": [
       "<Figure size 1080x648 with 1 Axes>"
      ]
     },
     "metadata": {
      "needs_background": "light"
     },
     "output_type": "display_data"
    },
    {
     "name": "stdout",
     "output_type": "stream",
     "text": [
      "Тенденция для платформы PSV\n"
     ]
    },
    {
     "data": {
      "image/png": "[encoded data removed]",
      "text/plain": [
       "<Figure size 1080x648 with 1 Axes>"
      ]
     },
     "metadata": {
      "needs_background": "light"
     },
     "output_type": "display_data"
    },
    {
     "name": "stdout",
     "output_type": "stream",
     "text": [
      "Тенденция для платформы Wii\n"
     ]
    },
    {
     "data": {
      "image/png": "[encoded data removed]",
      "text/plain": [
       "<Figure size 1080x648 with 1 Axes>"
      ]
     },
     "metadata": {
      "needs_background": "light"
     },
     "output_type": "display_data"
    },
    {
     "name": "stdout",
     "output_type": "stream",
     "text": [
      "Тенденция для платформы 3DS\n"
     ]
    },
    {
     "data": {
      "image/png": "[encoded data removed]",
      "text/plain": [
       "<Figure size 1080x648 with 1 Axes>"
      ]
     },
     "metadata": {
      "needs_background": "light"
     },
     "output_type": "display_data"
    },
    {
     "name": "stdout",
     "output_type": "stream",
     "text": [
      "Тенденция для платформы PC\n"
     ]
    },
    {
     "data": {
      "image/png": "[encoded data removed]",
      "text/plain": [
       "<Figure size 1080x648 with 1 Axes>"
      ]
     },
     "metadata": {
      "needs_background": "light"
     },
     "output_type": "display_data"
    }
   ],
   "source": [
    "for platform in actual_platforms:\n",
    "    show_platform_potential(platform)"
   ]
  },
  {
   "cell_type": "markdown",
   "id": "c21d4a30",
   "metadata": {},
   "source": [
    "1. Продажи игр для всех платформ, вошедших в актуальный период, падают.\n",
    "1. Только 2 платформы остаются на плаву, а именно PS4 и XOne c 70 и 26 млн. проданных копий в 2016 году соответственно.\n",
    "\n",
    "Предположим, что именно эти две платформы наиболее перспективны с точки зрения усиленного продвижения в рамках рекламных кампаний."
   ]
  },
  {
   "cell_type": "markdown",
   "id": "89eb5f79",
   "metadata": {},
   "source": [
    "### Оценка перспективных платформ с помощью диаграммы размаха общих продаж"
   ]
  },
  {
   "cell_type": "code",
   "execution_count": 43,
   "id": "f4889fcd",
   "metadata": {},
   "outputs": [
    {
     "data": {
      "image/png": "[encoded data removed]",
      "text/plain": [
       "<Figure size 720x720 with 1 Axes>"
      ]
     },
     "metadata": {
      "needs_background": "light"
     },
     "output_type": "display_data"
    }
   ],
   "source": [
    "actual_data.boxplot(column='total_sales', by='platform', grid=True, figsize = (10, 10))\n",
    "\n",
    "plt.xlabel('Платформа')\n",
    "plt.ylabel('Значение')\n",
    "plt.title('Диаграммы размаха по платформам')\n",
    "plt.ylim(0, 8)\n",
    "\n",
    "plt.suptitle('')\n",
    "plt.show()"
   ]
  },
  {
   "cell_type": "markdown",
   "id": "8751a985",
   "metadata": {},
   "source": [
    "Сравнивая ящики с усамидля каждой платформы, вошедшей в актуальный период, мы увидим, что, помимо PS4 и XOne, на которые мы обратили внимание ранее, 3DS и PS3 показывают высокие продажи.\n",
    "Таким образом, мы получим список из 4 платформ, которые представляются нам перспективными для продвижения в 2017 году."
   ]
  },
  {
   "cell_type": "code",
   "execution_count": null,
   "id": "ec7890fd",
   "metadata": {},
   "outputs": [],
   "source": [
    "priority_platforms = ['PS4', 'XOne ', 'PS3', '3DS']\n",
    "priority_platforms"
   ]
  },
  {
   "cell_type": "markdown",
   "id": "7add5bf7",
   "metadata": {},
   "source": [
    "### Оценка влияния отзывов на продажи"
   ]
  },
  {
   "cell_type": "code",
   "execution_count": null,
   "id": "44fd1ed8",
   "metadata": {},
   "outputs": [],
   "source": [
    "choose_platform = actual_data.query('platform in @priority_platforms and ~(critic_score.isna() and user_score.isna())')\n",
    "choose_platform['platform'].value_counts()"
   ]
  },
  {
   "cell_type": "code",
   "execution_count": null,
   "id": "b7ad1470",
   "metadata": {},
   "outputs": [],
   "source": [
    "sales_scores_ps4 = choose_platform.query('platform == \"PS4\"')\n",
    "display(sales_scores_ps4.head())"
   ]
  },
  {
   "cell_type": "code",
   "execution_count": null,
   "id": "341c5658",
   "metadata": {},
   "outputs": [],
   "source": [
    "sales_scores_ps4.plot(x='critic_score', y='total_sales', kind='scatter');\n",
    "sales_scores_ps4.plot(x='user_score', y='total_sales', kind='scatter');"
   ]
  },
  {
   "cell_type": "code",
   "execution_count": null,
   "id": "78a28635",
   "metadata": {},
   "outputs": [],
   "source": [
    "sales_scores_ps4.info()"
   ]
  },
  {
   "cell_type": "code",
   "execution_count": null,
   "id": "5a1ede48",
   "metadata": {},
   "outputs": [],
   "source": [
    "cm = sales_scores_ps4.corr()\n",
    "plt.figure(figsize = (20,10))\n",
    "sns.heatmap(cm, annot=True, square=True)\n",
    "plt.show();"
   ]
  },
  {
   "cell_type": "markdown",
   "id": "66ba3f74",
   "metadata": {},
   "source": [
    "1. Судя по тепловой карте, ни отзывы критиков, ни пользователей не влияют существенно на продажи.\n",
    "1. Хотя диаграмма с отзывами критиков показывает, что мнение экспертов все-таки имеет чуть больший вес, чем отзывы пользователей.\n",
    "1. В свою очередь диаграммы рассеяния показывают, что в целом высоких оценок больше, чем низких независимо от числа проданных копий.\n",
    "1. Возможно, в мире компьютерных игр бОльшую роль играют имидж платформы и приверженность пользователей определенной платформе, чем отзывы пользователей и экспертов."
   ]
  },
  {
   "cell_type": "code",
   "execution_count": null,
   "id": "aac0c280",
   "metadata": {},
   "outputs": [],
   "source": [
    "cm_general = actual_data.corr()\n",
    "plt.figure(figsize = (20,10))\n",
    "sns.heatmap(cm_general, annot=True, square=True)\n",
    "plt.show();"
   ]
  },
  {
   "cell_type": "markdown",
   "id": "aed1b6b4",
   "metadata": {},
   "source": [
    "Оценка корреляции между продажами и отзывами для всех платформ, вошедших в актуальный период, подтверждает предыдущее наблюдение для одной платформы (PS4), которая была выбрана для оценки так как имела больше всех информативных наблюдений."
   ]
  },
  {
   "cell_type": "markdown",
   "id": "3a0e8160",
   "metadata": {},
   "source": [
    "### Оценка распределения игр по жанрам и потенциальной прибыльности жанров"
   ]
  },
  {
   "cell_type": "code",
   "execution_count": null,
   "id": "9c9f4c99",
   "metadata": {},
   "outputs": [],
   "source": [
    "games_by_genres = actual_data.pivot_table(index = 'genre', values = 'name', aggfunc = 'count').reset_index()\n",
    "games_by_median_sales = actual_data.pivot_table(index = 'genre', values = 'total_sales', aggfunc = 'median').reset_index()\n",
    "games_by_median_sales.columns = ['genre', 'median_sales']\n",
    "games_by_genres = games_by_genres.merge(games_by_median_sales, on = 'genre')\n",
    "games_by_genres.columns = ['genre', 'games_cnt', 'median_sales']\n",
    "games_by_genres.sort_values(by = 'median_sales', ascending = False)"
   ]
  },
  {
   "cell_type": "code",
   "execution_count": null,
   "id": "1cf2b61f",
   "metadata": {},
   "outputs": [],
   "source": [
    "games_by_genres.describe()"
   ]
  },
  {
   "cell_type": "markdown",
   "id": "fd3f37cb",
   "metadata": {},
   "source": [
    "1. Отсекая по третьему квартилю, примем за самые прибыльные жанры такие: Shooter, Sports, Action.\n",
    "1. Обращает на себя внимание Platform - входит в тройку лидеров по медиане продаж, несмотря на небольшую численность (38 игр).\n",
    "1. Наименее прибыльные жанры - Strategy, Puzzle, Adventure, вошедшие в первый квартиль. "
   ]
  },
  {
   "cell_type": "code",
   "execution_count": null,
   "id": "e7f36a84",
   "metadata": {},
   "outputs": [],
   "source": [
    "priority_genres = ['Shooter', 'Sports', 'Platform']"
   ]
  },
  {
   "cell_type": "markdown",
   "id": "aeccb4b0",
   "metadata": {},
   "source": [
    "## Портреты пользователей по регионам\n",
    "### Топ-5 платформ и жанров в каждом регионе"
   ]
  },
  {
   "cell_type": "code",
   "execution_count": null,
   "id": "dd37b9be",
   "metadata": {},
   "outputs": [],
   "source": [
    "platforms_by_region = actual_data.pivot_table(index = 'platform', values = ['na_sales', 'eu_sales', 'jp_sales', 'other_sales'], aggfunc = 'sum').reset_index()\n",
    "platforms_by_region.columns = ['platform', 'eu', 'jp', 'na', 'other']\n",
    "display(platforms_by_region)\n",
    "genres_by_region = actual_data.pivot_table(index = 'genre', values = ['na_sales', 'eu_sales', 'jp_sales', 'other_sales'], aggfunc = 'sum').reset_index()\n",
    "genres_by_region.columns = ['genre', 'eu', 'jp', 'na', 'other']\n",
    "genres_by_region"
   ]
  },
  {
   "cell_type": "code",
   "execution_count": null,
   "id": "b671e033",
   "metadata": {
    "scrolled": false
   },
   "outputs": [],
   "source": [
    "regions = ['eu', 'jp', 'na', 'other']\n",
    "for region in regions:\n",
    "    fig = px.bar(platforms_by_region.sort_values(by = region, ascending = False).head().loc[:, ['platform', region]], x='platform', y=region, title = f\"Топ-5 платформ в {region}\").update_layout(\n",
    "    xaxis_title=\"Платформы\", yaxis_title=\"Млн. копий\")\n",
    "    fig.show()"
   ]
  },
  {
   "cell_type": "markdown",
   "id": "5d7f1ed3",
   "metadata": {},
   "source": [
    "1. Самая популярная платформа в Европе, США и других регионах - PS4.\n",
    "1. В Японии лидирует 3DS."
   ]
  },
  {
   "cell_type": "code",
   "execution_count": null,
   "id": "a71b4095",
   "metadata": {
    "scrolled": false
   },
   "outputs": [],
   "source": [
    "for region in regions:\n",
    "    fig = px.bar(genres_by_region.sort_values(by = region, ascending = False).head().loc[:, ['genre', region]], x='genre', y=region, title = f\"Топ-5 жанров в {region}\").update_layout(\n",
    "    xaxis_title=\"Жанры\", yaxis_title=\"Млн. копий\")\n",
    "    fig.show()"
   ]
  },
  {
   "cell_type": "markdown",
   "id": "be6b316a",
   "metadata": {},
   "source": [
    "1. С точки зрения жанров европейские пользователи чаще выбирают Action.\n",
    "1. Та же ситуация в других регионах.\n",
    "1. В США лидирует Shooter.\n",
    "1. В Японии популярнее всех Role-Playing.\n",
    "1. Интересно, что в США, Европе и других регионах Role-Playing стабильно на 4 месте."
   ]
  },
  {
   "cell_type": "markdown",
   "id": "b7734683",
   "metadata": {},
   "source": [
    "### Зависимость продаж от рейтинга ESRB по регионам"
   ]
  },
  {
   "cell_type": "code",
   "execution_count": null,
   "id": "4cf35084",
   "metadata": {},
   "outputs": [],
   "source": [
    "ratings_levelling = {\n",
    "    'rating': ['E', 'M', 'T', 'E10+', 'AO', 'EC', 'RP'],\n",
    "    'level': [2, 5, 4, 3, 6, 1, 0]}\n",
    "\n",
    "ratings_levelling = pd.DataFrame(ratings_levelling)\n",
    "ratings_levelling"
   ]
  },
  {
   "cell_type": "code",
   "execution_count": null,
   "id": "31f62090",
   "metadata": {},
   "outputs": [],
   "source": [
    "sales_by_region = actual_data.pivot_table(index = 'rating', values = ['eu_sales', 'na_sales', 'jp_sales', 'other_sales'], aggfunc = 'sum').reset_index()\n",
    "sales_by_region.columns = ['rating', 'eu', 'jp', 'na', 'other']\n",
    "sales_by_region = sales_by_region.merge(ratings_levelling, on = 'rating').sort_values(by = 'level')\n",
    "sales_by_region"
   ]
  },
  {
   "cell_type": "code",
   "execution_count": null,
   "id": "bd0969b5",
   "metadata": {},
   "outputs": [],
   "source": [
    "def show_sales_by_region(region):\n",
    "    print(f'Зависимость продаж от рейтинга ESRB в регионе {region}')\n",
    "    plt.figure(figsize=(10, 6))\n",
    "    plt.plot(sales_by_region['rating'], sales_by_region[region], marker='o', linestyle='-', color='b')\n",
    "    plt.xlabel('Рейтинг')\n",
    "    plt.ylabel('Продажи')\n",
    "    plt.ylim(0, 600)\n",
    "    plt.title('Зависимость продаж от рейтинга')\n",
    "    plt.grid(True)\n",
    "    plt.show()"
   ]
  },
  {
   "cell_type": "code",
   "execution_count": null,
   "id": "8ccb6261",
   "metadata": {},
   "outputs": [],
   "source": [
    "for region in regions:\n",
    "    show_sales_by_region(region)"
   ]
  },
  {
   "cell_type": "markdown",
   "id": "3d57a8cc",
   "metadata": {},
   "source": [
    "1. Кривые зависимости продаж от рейтинга для Европы и США, а также других регионов похожи: самые высокие значения для категории E  - для всех, примерно в два раза меньше для пользователей старше 10 лет и далее рост через категории T и M.\n",
    "1. При этом максимальное значение в Европе - 326,6 млн. копий, а в США - 536,93.\n",
    "1. В Японии самая популярная категория тоже E, а М, в отличие от Европы и США уступает категории T.\n",
    "1. В целом японский рынок менее емкий - максимальное значение там 77,17 мнл. копий."
   ]
  },
  {
   "cell_type": "markdown",
   "id": "f3e564fa",
   "metadata": {},
   "source": [
    "## Проверка гипотез о средних пользовательских рейтингах\n",
    "### О равенстве средних пользовательских рейтингов для платформ XBox One и PC\n",
    "\n",
    "H0: средние пользовательские рейтинги платформ Xbox One и PC одинаковые.\n",
    "\n",
    "H1: cредние пользовательские рейтинги платформ Xbox One и PC разные."
   ]
  },
  {
   "cell_type": "code",
   "execution_count": null,
   "id": "356d3432",
   "metadata": {},
   "outputs": [],
   "source": [
    "hypothesis_1_data = actual_data.query('platform in [\"XOne\", \"PC\"] and ~(user_score.isna())')\n",
    "xone = hypothesis_1_data.query('platform == \"XOne\"')\n",
    "xone_user_score = xone['user_score']\n",
    "pc = hypothesis_1_data.query('platform == \"PC\"')\n",
    "pc_user_score = pc['user_score']\n",
    "\n",
    "alpha = .05\n",
    "results = st.ttest_ind(xone_user_score, pc_user_score)\n",
    "print('p-значение:', results.pvalue)\n",
    "\n",
    "if results.pvalue < alpha:\n",
    "    print(\"Отвергаем нулевую гипотезу\")\n",
    "else:\n",
    "    print(\"Не получилось отвергнуть нулевую гипотезу\") "
   ]
  },
  {
   "cell_type": "markdown",
   "id": "fa2e8c1a",
   "metadata": {},
   "source": [
    "**Средние пользовательские рейтинги платформ Xbox One и PC одинаковы.**"
   ]
  },
  {
   "cell_type": "markdown",
   "id": "7162f80f",
   "metadata": {},
   "source": [
    "### О равенстве средних пользовательских рейтингов для жанров Action и Sports\n",
    "\n",
    "H0: средние пользовательские рейтинги жанров Action и Sports одинаковые.\n",
    "\n",
    "H1: средние пользовательские рейтинги жанров Action и Sports разные."
   ]
  },
  {
   "cell_type": "code",
   "execution_count": null,
   "id": "fb68b933",
   "metadata": {},
   "outputs": [],
   "source": [
    "hypothesis_2_data = actual_data.query('genre in [\"Action\", \"Sports\"] and ~(user_score.isna())')\n",
    "action = hypothesis_2_data.query('genre == \"Action\"')\n",
    "action_user_score = action['user_score']\n",
    "sports = hypothesis_2_data.query('genre == \"Sports\"')\n",
    "sports_user_score = sports['user_score']\n",
    "\n",
    "alpha = .05\n",
    "results = st.ttest_ind(\n",
    "    action_user_score, \n",
    "    sports_user_score)\n",
    "\n",
    "print('p-значение:', results.pvalue)\n",
    "\n",
    "if results.pvalue < alpha:\n",
    "    print(\"Отвергаем нулевую гипотезу\")\n",
    "else:\n",
    "    print(\"Не получилось отвергнуть нулевую гипотезу\") "
   ]
  },
  {
   "cell_type": "markdown",
   "id": "d2d37c27",
   "metadata": {},
   "source": [
    "**Средние пользовательские рейтинги жанров Action и Sports отличаются.**"
   ]
  },
  {
   "cell_type": "markdown",
   "id": "0b25ddd1",
   "metadata": {},
   "source": [
    "Для проверки гипотез использован t-тест, так как он хорошо подходит для проверки гипотез о равенстве средних двух генеральных совокупностей.\n",
    "\n",
    "Обе пары гипотез - о платформах и жанрах - сформулированы так, чтобы H0 говорила о равенстве, а H1 - об отличии. Такая формулировка позволяет применить t-тест."
   ]
  },
  {
   "cell_type": "markdown",
   "id": "2c244dea",
   "metadata": {},
   "source": [
    "## Выводы\n",
    "\n",
    "1. В 2017 году магазину \"Стримчик\" следует рассмотреть возможность провести рекламные кампании для следующих платформ и жанров:"
   ]
  },
  {
   "cell_type": "code",
   "execution_count": null,
   "id": "77b14052",
   "metadata": {},
   "outputs": [],
   "source": [
    "conclusion = actual_data.query('platform in @priority_platforms and genre in @priority_genres and rating in (\"E\", \"M\")').pivot_table(index = ['platform', 'genre'], values = 'name', aggfunc = 'count')\n",
    "conclusion"
   ]
  },
  {
   "cell_type": "markdown",
   "id": "2758c806",
   "metadata": {},
   "source": [
    "2. В таблицу вошли три наиболее популярные платформы и три наиболее популярных жанра, для которых существуют игры в наиболее прибыльных категориях - E и M - то есть \"Для всех\" и \"Для пользователей старше 17 лет\".\n",
    "3. В случае, если потребуется еще более сузить группу потенциальных лидеров, рекомендуем сосредоточиться на платформе PS4, так как она пользуется наибольшей популярностью в США, Европе и других регионах, то есть скорее всего будет востребована и в России (японский рынок при этом выраженно отличается от США, Европы и других).\n",
    "3. Отзывы мало влияют на продажи, и при разработке рекламных кампаний следует больше внимания уделить имиджу платформ и приверженности пользователей выбранным платформам."
   ]
  }
 ],
 "metadata": {
  "ExecuteTimeLog": [
   {
    "duration": 52,
    "start_time": "2023-08-19T10:39:44.799Z"
   },
   {
    "duration": 1372,
    "start_time": "2023-08-19T10:39:49.298Z"
   },
   {
    "duration": 262,
    "start_time": "2023-08-19T10:39:50.673Z"
   },
   {
    "duration": 14,
    "start_time": "2023-08-19T10:39:50.937Z"
   },
   {
    "duration": 5,
    "start_time": "2023-08-19T10:39:50.952Z"
   },
   {
    "duration": 32,
    "start_time": "2023-08-19T10:39:50.959Z"
   },
   {
    "duration": 16,
    "start_time": "2023-08-19T10:39:50.992Z"
   },
   {
    "duration": 14,
    "start_time": "2023-08-19T10:39:51.009Z"
   },
   {
    "duration": 24,
    "start_time": "2023-08-19T10:39:51.025Z"
   },
   {
    "duration": 14,
    "start_time": "2023-08-19T10:39:51.051Z"
   },
   {
    "duration": 17,
    "start_time": "2023-08-19T10:39:51.068Z"
   },
   {
    "duration": 22,
    "start_time": "2023-08-19T10:39:51.087Z"
   },
   {
    "duration": 14,
    "start_time": "2023-08-19T10:39:51.112Z"
   },
   {
    "duration": 23,
    "start_time": "2023-08-19T10:39:51.128Z"
   },
   {
    "duration": 41,
    "start_time": "2023-08-19T10:39:51.156Z"
   },
   {
    "duration": 13,
    "start_time": "2023-08-19T10:39:51.200Z"
   },
   {
    "duration": 49,
    "start_time": "2023-08-19T10:39:51.215Z"
   },
   {
    "duration": 12,
    "start_time": "2023-08-19T10:39:51.266Z"
   },
   {
    "duration": 21,
    "start_time": "2023-08-19T10:39:51.279Z"
   },
   {
    "duration": 17,
    "start_time": "2023-08-19T10:39:51.302Z"
   },
   {
    "duration": 25,
    "start_time": "2023-08-19T10:39:51.321Z"
   },
   {
    "duration": 26,
    "start_time": "2023-08-19T10:39:51.347Z"
   },
   {
    "duration": 12,
    "start_time": "2023-08-19T10:39:51.375Z"
   },
   {
    "duration": 55,
    "start_time": "2023-08-19T10:39:51.389Z"
   },
   {
    "duration": 54,
    "start_time": "2023-08-19T10:39:51.446Z"
   },
   {
    "duration": 26,
    "start_time": "2023-08-19T10:39:51.502Z"
   },
   {
    "duration": 16,
    "start_time": "2023-08-19T10:39:51.530Z"
   },
   {
    "duration": 206,
    "start_time": "2023-08-19T10:39:51.547Z"
   },
   {
    "duration": 24,
    "start_time": "2023-08-19T10:39:51.755Z"
   },
   {
    "duration": 12,
    "start_time": "2023-08-19T10:39:51.780Z"
   },
   {
    "duration": 42,
    "start_time": "2023-08-19T10:39:51.794Z"
   },
   {
    "duration": 34,
    "start_time": "2023-08-19T10:39:51.846Z"
   },
   {
    "duration": 4,
    "start_time": "2023-08-19T10:39:51.882Z"
   },
   {
    "duration": 1636,
    "start_time": "2023-08-19T10:39:51.888Z"
   },
   {
    "duration": 42,
    "start_time": "2023-08-19T10:39:53.525Z"
   },
   {
    "duration": 36,
    "start_time": "2023-08-19T10:39:53.569Z"
   },
   {
    "duration": 23,
    "start_time": "2023-08-19T10:39:53.606Z"
   },
   {
    "duration": 38,
    "start_time": "2023-08-19T10:39:53.631Z"
   },
   {
    "duration": 4,
    "start_time": "2023-08-19T10:39:53.670Z"
   },
   {
    "duration": 2800,
    "start_time": "2023-08-19T10:39:53.676Z"
   },
   {
    "duration": 17,
    "start_time": "2023-08-19T10:39:56.477Z"
   },
   {
    "duration": 127,
    "start_time": "2023-08-19T10:39:56.499Z"
   },
   {
    "duration": 18,
    "start_time": "2023-08-19T10:39:56.628Z"
   },
   {
    "duration": 23,
    "start_time": "2023-08-19T10:39:56.647Z"
   },
   {
    "duration": 22,
    "start_time": "2023-08-19T10:39:56.672Z"
   },
   {
    "duration": 33,
    "start_time": "2023-08-19T10:39:56.696Z"
   },
   {
    "duration": 43,
    "start_time": "2023-08-19T10:39:56.731Z"
   },
   {
    "duration": 252,
    "start_time": "2023-08-19T10:39:56.776Z"
   },
   {
    "duration": 12,
    "start_time": "2023-08-19T10:39:57.030Z"
   },
   {
    "duration": 730,
    "start_time": "2023-08-19T10:39:57.044Z"
   },
   {
    "duration": 713,
    "start_time": "2023-08-19T10:39:57.775Z"
   },
   {
    "duration": 27,
    "start_time": "2023-08-19T10:39:58.490Z"
   },
   {
    "duration": 16,
    "start_time": "2023-08-19T10:39:58.519Z"
   },
   {
    "duration": 22,
    "start_time": "2023-08-19T10:39:58.538Z"
   },
   {
    "duration": 36,
    "start_time": "2023-08-19T10:39:58.562Z"
   },
   {
    "duration": 15,
    "start_time": "2023-08-19T10:39:58.600Z"
   },
   {
    "duration": 42,
    "start_time": "2023-08-19T10:39:58.617Z"
   },
   {
    "duration": 9,
    "start_time": "2023-08-19T10:39:58.661Z"
   },
   {
    "duration": 23,
    "start_time": "2023-08-19T10:39:58.672Z"
   },
   {
    "duration": 4,
    "start_time": "2023-08-19T10:39:58.697Z"
   },
   {
    "duration": 665,
    "start_time": "2023-08-19T10:39:58.703Z"
   },
   {
    "duration": 16,
    "start_time": "2023-08-19T10:39:59.370Z"
   },
   {
    "duration": 16,
    "start_time": "2023-08-19T10:39:59.388Z"
   },
   {
    "duration": 21,
    "start_time": "2023-08-19T10:39:59.406Z"
   },
   {
    "duration": 113,
    "start_time": "2023-08-19T10:44:07.871Z"
   },
   {
    "duration": 110,
    "start_time": "2023-08-19T10:49:48.427Z"
   },
   {
    "duration": 65,
    "start_time": "2023-08-19T10:50:17.838Z"
   },
   {
    "duration": 3448,
    "start_time": "2023-08-19T10:50:28.870Z"
   },
   {
    "duration": 6,
    "start_time": "2023-08-19T10:50:37.248Z"
   },
   {
    "duration": 2047,
    "start_time": "2023-08-19T10:50:44.640Z"
   },
   {
    "duration": 3,
    "start_time": "2023-08-19T10:50:46.690Z"
   },
   {
    "duration": 140,
    "start_time": "2023-08-19T10:50:46.695Z"
   },
   {
    "duration": 16,
    "start_time": "2023-08-19T10:50:46.837Z"
   },
   {
    "duration": 4,
    "start_time": "2023-08-19T10:50:46.856Z"
   },
   {
    "duration": 21,
    "start_time": "2023-08-19T10:50:46.862Z"
   },
   {
    "duration": 6,
    "start_time": "2023-08-19T10:50:46.885Z"
   },
   {
    "duration": 34,
    "start_time": "2023-08-19T10:50:46.893Z"
   },
   {
    "duration": 11,
    "start_time": "2023-08-19T10:50:46.929Z"
   },
   {
    "duration": 15,
    "start_time": "2023-08-19T10:50:46.942Z"
   },
   {
    "duration": 8,
    "start_time": "2023-08-19T10:50:46.959Z"
   },
   {
    "duration": 6,
    "start_time": "2023-08-19T10:50:46.969Z"
   },
   {
    "duration": 6,
    "start_time": "2023-08-19T10:50:46.977Z"
   },
   {
    "duration": 16,
    "start_time": "2023-08-19T10:50:46.986Z"
   },
   {
    "duration": 58,
    "start_time": "2023-08-19T10:50:47.004Z"
   },
   {
    "duration": 10,
    "start_time": "2023-08-19T10:50:47.064Z"
   },
   {
    "duration": 29,
    "start_time": "2023-08-19T10:50:47.075Z"
   },
   {
    "duration": 12,
    "start_time": "2023-08-19T10:50:47.105Z"
   },
   {
    "duration": 9,
    "start_time": "2023-08-19T10:50:47.118Z"
   },
   {
    "duration": 6,
    "start_time": "2023-08-19T10:50:47.159Z"
   },
   {
    "duration": 19,
    "start_time": "2023-08-19T10:50:47.167Z"
   },
   {
    "duration": 21,
    "start_time": "2023-08-19T10:50:47.188Z"
   },
   {
    "duration": 12,
    "start_time": "2023-08-19T10:50:47.211Z"
   },
   {
    "duration": 38,
    "start_time": "2023-08-19T10:50:47.226Z"
   },
   {
    "duration": 13,
    "start_time": "2023-08-19T10:50:47.265Z"
   },
   {
    "duration": 17,
    "start_time": "2023-08-19T10:50:47.280Z"
   },
   {
    "duration": 14,
    "start_time": "2023-08-19T10:50:47.299Z"
   },
   {
    "duration": 198,
    "start_time": "2023-08-19T10:50:47.314Z"
   },
   {
    "duration": 21,
    "start_time": "2023-08-19T10:50:47.514Z"
   },
   {
    "duration": 23,
    "start_time": "2023-08-19T10:50:47.537Z"
   },
   {
    "duration": 11,
    "start_time": "2023-08-19T10:50:47.562Z"
   },
   {
    "duration": 36,
    "start_time": "2023-08-19T10:50:47.574Z"
   },
   {
    "duration": 4,
    "start_time": "2023-08-19T10:50:47.611Z"
   },
   {
    "duration": 1578,
    "start_time": "2023-08-19T10:50:47.616Z"
   },
   {
    "duration": 29,
    "start_time": "2023-08-19T10:50:49.196Z"
   },
   {
    "duration": 17,
    "start_time": "2023-08-19T10:50:49.227Z"
   },
   {
    "duration": 30,
    "start_time": "2023-08-19T10:50:49.246Z"
   },
   {
    "duration": 26,
    "start_time": "2023-08-19T10:50:49.277Z"
   },
   {
    "duration": 4,
    "start_time": "2023-08-19T10:50:49.304Z"
   },
   {
    "duration": 2629,
    "start_time": "2023-08-19T10:50:49.310Z"
   },
   {
    "duration": 24,
    "start_time": "2023-08-19T10:50:51.943Z"
   },
   {
    "duration": 123,
    "start_time": "2023-08-19T10:50:51.969Z"
   },
   {
    "duration": 20,
    "start_time": "2023-08-19T10:50:52.094Z"
   },
   {
    "duration": 10,
    "start_time": "2023-08-19T10:50:52.116Z"
   },
   {
    "duration": 22,
    "start_time": "2023-08-19T10:50:52.128Z"
   },
   {
    "duration": 19,
    "start_time": "2023-08-19T10:50:52.152Z"
   },
   {
    "duration": 25,
    "start_time": "2023-08-19T10:50:52.173Z"
   },
   {
    "duration": 246,
    "start_time": "2023-08-19T10:50:52.200Z"
   },
   {
    "duration": 21,
    "start_time": "2023-08-19T10:50:52.448Z"
   },
   {
    "duration": 704,
    "start_time": "2023-08-19T10:50:52.471Z"
   },
   {
    "duration": 662,
    "start_time": "2023-08-19T10:50:53.177Z"
   },
   {
    "duration": 28,
    "start_time": "2023-08-19T10:50:53.841Z"
   },
   {
    "duration": 14,
    "start_time": "2023-08-19T10:50:53.870Z"
   },
   {
    "duration": 8,
    "start_time": "2023-08-19T10:50:53.886Z"
   },
   {
    "duration": 40,
    "start_time": "2023-08-19T10:50:53.895Z"
   },
   {
    "duration": 36,
    "start_time": "2023-08-19T10:50:53.937Z"
   },
   {
    "duration": 16,
    "start_time": "2023-08-19T10:50:53.974Z"
   },
   {
    "duration": 15,
    "start_time": "2023-08-19T10:50:53.992Z"
   },
   {
    "duration": 26,
    "start_time": "2023-08-19T10:50:54.008Z"
   },
   {
    "duration": 5,
    "start_time": "2023-08-19T10:50:54.064Z"
   },
   {
    "duration": 691,
    "start_time": "2023-08-19T10:50:54.070Z"
   },
   {
    "duration": 15,
    "start_time": "2023-08-19T10:50:54.762Z"
   },
   {
    "duration": 14,
    "start_time": "2023-08-19T10:50:54.778Z"
   },
   {
    "duration": 32,
    "start_time": "2023-08-19T10:50:54.794Z"
   },
   {
    "duration": 399,
    "start_time": "2023-08-19T10:51:46.610Z"
   },
   {
    "duration": 2085,
    "start_time": "2023-08-19T10:52:05.409Z"
   },
   {
    "duration": 3,
    "start_time": "2023-08-19T10:52:07.496Z"
   },
   {
    "duration": 132,
    "start_time": "2023-08-19T10:52:07.501Z"
   },
   {
    "duration": 14,
    "start_time": "2023-08-19T10:52:07.636Z"
   },
   {
    "duration": 4,
    "start_time": "2023-08-19T10:52:07.652Z"
   },
   {
    "duration": 19,
    "start_time": "2023-08-19T10:52:07.658Z"
   },
   {
    "duration": 44,
    "start_time": "2023-08-19T10:52:07.679Z"
   },
   {
    "duration": 15,
    "start_time": "2023-08-19T10:52:07.725Z"
   },
   {
    "duration": 6,
    "start_time": "2023-08-19T10:52:07.742Z"
   },
   {
    "duration": 7,
    "start_time": "2023-08-19T10:52:07.752Z"
   },
   {
    "duration": 8,
    "start_time": "2023-08-19T10:52:07.761Z"
   },
   {
    "duration": 8,
    "start_time": "2023-08-19T10:52:07.771Z"
   },
   {
    "duration": 6,
    "start_time": "2023-08-19T10:52:07.781Z"
   },
   {
    "duration": 28,
    "start_time": "2023-08-19T10:52:07.789Z"
   },
   {
    "duration": 42,
    "start_time": "2023-08-19T10:52:07.820Z"
   },
   {
    "duration": 9,
    "start_time": "2023-08-19T10:52:07.863Z"
   },
   {
    "duration": 515,
    "start_time": "2023-08-19T10:52:07.874Z"
   },
   {
    "duration": 28,
    "start_time": "2023-08-19T10:52:08.391Z"
   },
   {
    "duration": 12,
    "start_time": "2023-08-19T10:52:08.420Z"
   },
   {
    "duration": 33,
    "start_time": "2023-08-19T10:52:08.434Z"
   },
   {
    "duration": 16,
    "start_time": "2023-08-19T10:52:08.468Z"
   },
   {
    "duration": 14,
    "start_time": "2023-08-19T10:52:08.486Z"
   },
   {
    "duration": 19,
    "start_time": "2023-08-19T10:52:08.502Z"
   },
   {
    "duration": 9,
    "start_time": "2023-08-19T10:52:08.523Z"
   },
   {
    "duration": 28,
    "start_time": "2023-08-19T10:52:08.534Z"
   },
   {
    "duration": 14,
    "start_time": "2023-08-19T10:52:08.563Z"
   },
   {
    "duration": 18,
    "start_time": "2023-08-19T10:52:08.579Z"
   },
   {
    "duration": 16,
    "start_time": "2023-08-19T10:52:08.601Z"
   },
   {
    "duration": 206,
    "start_time": "2023-08-19T10:52:08.618Z"
   },
   {
    "duration": 22,
    "start_time": "2023-08-19T10:52:08.826Z"
   },
   {
    "duration": 13,
    "start_time": "2023-08-19T10:52:08.859Z"
   },
   {
    "duration": 22,
    "start_time": "2023-08-19T10:52:08.873Z"
   },
   {
    "duration": 27,
    "start_time": "2023-08-19T10:52:08.896Z"
   },
   {
    "duration": 5,
    "start_time": "2023-08-19T10:52:08.924Z"
   },
   {
    "duration": 1539,
    "start_time": "2023-08-19T10:52:08.931Z"
   },
   {
    "duration": 24,
    "start_time": "2023-08-19T10:52:10.472Z"
   },
   {
    "duration": 6,
    "start_time": "2023-08-19T10:52:10.497Z"
   },
   {
    "duration": 13,
    "start_time": "2023-08-19T10:52:10.504Z"
   },
   {
    "duration": 47,
    "start_time": "2023-08-19T10:52:10.519Z"
   },
   {
    "duration": 4,
    "start_time": "2023-08-19T10:52:10.568Z"
   },
   {
    "duration": 2693,
    "start_time": "2023-08-19T10:52:10.573Z"
   },
   {
    "duration": 17,
    "start_time": "2023-08-19T10:52:13.268Z"
   },
   {
    "duration": 120,
    "start_time": "2023-08-19T10:52:13.286Z"
   },
   {
    "duration": 17,
    "start_time": "2023-08-19T10:52:13.408Z"
   },
   {
    "duration": 10,
    "start_time": "2023-08-19T10:52:13.426Z"
   },
   {
    "duration": 23,
    "start_time": "2023-08-19T10:52:13.437Z"
   },
   {
    "duration": 34,
    "start_time": "2023-08-19T10:52:13.461Z"
   },
   {
    "duration": 21,
    "start_time": "2023-08-19T10:52:13.497Z"
   },
   {
    "duration": 231,
    "start_time": "2023-08-19T10:52:13.520Z"
   },
   {
    "duration": 12,
    "start_time": "2023-08-19T10:52:13.758Z"
   },
   {
    "duration": 735,
    "start_time": "2023-08-19T10:52:13.771Z"
   },
   {
    "duration": 683,
    "start_time": "2023-08-19T10:52:14.508Z"
   },
   {
    "duration": 26,
    "start_time": "2023-08-19T10:52:15.193Z"
   },
   {
    "duration": 13,
    "start_time": "2023-08-19T10:52:15.221Z"
   },
   {
    "duration": 25,
    "start_time": "2023-08-19T10:52:15.236Z"
   },
   {
    "duration": 44,
    "start_time": "2023-08-19T10:52:15.263Z"
   },
   {
    "duration": 14,
    "start_time": "2023-08-19T10:52:15.309Z"
   },
   {
    "duration": 42,
    "start_time": "2023-08-19T10:52:15.325Z"
   },
   {
    "duration": 8,
    "start_time": "2023-08-19T10:52:15.369Z"
   },
   {
    "duration": 23,
    "start_time": "2023-08-19T10:52:15.378Z"
   },
   {
    "duration": 4,
    "start_time": "2023-08-19T10:52:15.403Z"
   },
   {
    "duration": 653,
    "start_time": "2023-08-19T10:52:15.408Z"
   },
   {
    "duration": 17,
    "start_time": "2023-08-19T10:52:16.063Z"
   },
   {
    "duration": 19,
    "start_time": "2023-08-19T10:52:16.082Z"
   },
   {
    "duration": 29,
    "start_time": "2023-08-19T10:52:16.103Z"
   },
   {
    "duration": 104,
    "start_time": "2023-08-19T10:56:41.520Z"
   },
   {
    "duration": 15,
    "start_time": "2023-08-19T11:02:49.261Z"
   },
   {
    "duration": 8,
    "start_time": "2023-08-19T11:02:52.722Z"
   },
   {
    "duration": 2252,
    "start_time": "2023-08-19T11:04:03.841Z"
   },
   {
    "duration": 5,
    "start_time": "2023-08-19T11:04:06.096Z"
   },
   {
    "duration": 116,
    "start_time": "2023-08-19T11:04:06.103Z"
   },
   {
    "duration": 15,
    "start_time": "2023-08-19T11:04:06.221Z"
   },
   {
    "duration": 4,
    "start_time": "2023-08-19T11:04:06.239Z"
   },
   {
    "duration": 16,
    "start_time": "2023-08-19T11:04:06.245Z"
   },
   {
    "duration": 6,
    "start_time": "2023-08-19T11:04:06.263Z"
   },
   {
    "duration": 6,
    "start_time": "2023-08-19T11:04:06.271Z"
   },
   {
    "duration": 18,
    "start_time": "2023-08-19T11:04:06.279Z"
   },
   {
    "duration": 24,
    "start_time": "2023-08-19T11:04:06.298Z"
   },
   {
    "duration": 7,
    "start_time": "2023-08-19T11:04:06.324Z"
   },
   {
    "duration": 11,
    "start_time": "2023-08-19T11:04:06.332Z"
   },
   {
    "duration": 6,
    "start_time": "2023-08-19T11:04:06.344Z"
   },
   {
    "duration": 20,
    "start_time": "2023-08-19T11:04:06.358Z"
   },
   {
    "duration": 29,
    "start_time": "2023-08-19T11:04:06.379Z"
   },
   {
    "duration": 8,
    "start_time": "2023-08-19T11:04:06.410Z"
   },
   {
    "duration": 535,
    "start_time": "2023-08-19T11:04:06.420Z"
   },
   {
    "duration": 26,
    "start_time": "2023-08-19T11:04:06.960Z"
   },
   {
    "duration": 12,
    "start_time": "2023-08-19T11:04:06.987Z"
   },
   {
    "duration": 10,
    "start_time": "2023-08-19T11:04:07.001Z"
   },
   {
    "duration": 19,
    "start_time": "2023-08-19T11:04:07.013Z"
   },
   {
    "duration": 9,
    "start_time": "2023-08-19T11:04:07.034Z"
   },
   {
    "duration": 15,
    "start_time": "2023-08-19T11:04:07.059Z"
   },
   {
    "duration": 9,
    "start_time": "2023-08-19T11:04:07.076Z"
   },
   {
    "duration": 18,
    "start_time": "2023-08-19T11:04:07.087Z"
   },
   {
    "duration": 14,
    "start_time": "2023-08-19T11:04:07.106Z"
   },
   {
    "duration": 50,
    "start_time": "2023-08-19T11:04:07.122Z"
   },
   {
    "duration": 16,
    "start_time": "2023-08-19T11:04:07.173Z"
   },
   {
    "duration": 192,
    "start_time": "2023-08-19T11:04:07.191Z"
   },
   {
    "duration": 22,
    "start_time": "2023-08-19T11:04:07.384Z"
   },
   {
    "duration": 11,
    "start_time": "2023-08-19T11:04:07.407Z"
   },
   {
    "duration": 11,
    "start_time": "2023-08-19T11:04:07.420Z"
   },
   {
    "duration": 48,
    "start_time": "2023-08-19T11:04:07.433Z"
   },
   {
    "duration": 4,
    "start_time": "2023-08-19T11:04:07.482Z"
   },
   {
    "duration": 1573,
    "start_time": "2023-08-19T11:04:07.488Z"
   },
   {
    "duration": 36,
    "start_time": "2023-08-19T11:04:09.063Z"
   },
   {
    "duration": 6,
    "start_time": "2023-08-19T11:04:09.101Z"
   },
   {
    "duration": 15,
    "start_time": "2023-08-19T11:04:09.109Z"
   },
   {
    "duration": 47,
    "start_time": "2023-08-19T11:04:09.126Z"
   },
   {
    "duration": 5,
    "start_time": "2023-08-19T11:04:09.174Z"
   },
   {
    "duration": 2637,
    "start_time": "2023-08-19T11:04:09.182Z"
   },
   {
    "duration": 15,
    "start_time": "2023-08-19T11:04:11.821Z"
   },
   {
    "duration": 125,
    "start_time": "2023-08-19T11:04:11.837Z"
   },
   {
    "duration": 16,
    "start_time": "2023-08-19T11:04:11.964Z"
   },
   {
    "duration": 11,
    "start_time": "2023-08-19T11:04:11.982Z"
   },
   {
    "duration": 11,
    "start_time": "2023-08-19T11:04:11.995Z"
   },
   {
    "duration": 18,
    "start_time": "2023-08-19T11:04:12.008Z"
   },
   {
    "duration": 38,
    "start_time": "2023-08-19T11:04:12.028Z"
   },
   {
    "duration": 237,
    "start_time": "2023-08-19T11:04:12.068Z"
   },
   {
    "duration": 10,
    "start_time": "2023-08-19T11:04:12.307Z"
   },
   {
    "duration": 694,
    "start_time": "2023-08-19T11:04:12.319Z"
   },
   {
    "duration": 720,
    "start_time": "2023-08-19T11:04:13.015Z"
   },
   {
    "duration": 31,
    "start_time": "2023-08-19T11:04:13.736Z"
   },
   {
    "duration": 13,
    "start_time": "2023-08-19T11:04:13.769Z"
   },
   {
    "duration": 4,
    "start_time": "2023-08-19T11:04:13.784Z"
   },
   {
    "duration": 35,
    "start_time": "2023-08-19T11:04:13.789Z"
   },
   {
    "duration": 43,
    "start_time": "2023-08-19T11:04:13.826Z"
   },
   {
    "duration": 16,
    "start_time": "2023-08-19T11:04:13.871Z"
   },
   {
    "duration": 7,
    "start_time": "2023-08-19T11:04:13.889Z"
   },
   {
    "duration": 21,
    "start_time": "2023-08-19T11:04:13.898Z"
   },
   {
    "duration": 4,
    "start_time": "2023-08-19T11:04:13.921Z"
   },
   {
    "duration": 735,
    "start_time": "2023-08-19T11:04:13.926Z"
   },
   {
    "duration": 14,
    "start_time": "2023-08-19T11:04:14.663Z"
   },
   {
    "duration": 18,
    "start_time": "2023-08-19T11:04:14.679Z"
   },
   {
    "duration": 21,
    "start_time": "2023-08-19T11:04:14.698Z"
   },
   {
    "duration": 193,
    "start_time": "2023-08-19T11:10:07.614Z"
   },
   {
    "duration": 202,
    "start_time": "2023-08-19T11:10:29.233Z"
   },
   {
    "duration": 191,
    "start_time": "2023-08-19T11:12:22.136Z"
   },
   {
    "duration": 194,
    "start_time": "2023-08-19T11:12:30.832Z"
   },
   {
    "duration": 124,
    "start_time": "2023-08-19T11:12:52.764Z"
   },
   {
    "duration": 4,
    "start_time": "2023-08-19T11:14:35.085Z"
   },
   {
    "duration": 1506,
    "start_time": "2023-08-19T11:14:36.374Z"
   },
   {
    "duration": 4,
    "start_time": "2023-08-19T11:14:45.572Z"
   },
   {
    "duration": 1453,
    "start_time": "2023-08-19T11:14:48.015Z"
   },
   {
    "duration": 2854,
    "start_time": "2023-08-19T18:41:34.206Z"
   },
   {
    "duration": 1393,
    "start_time": "2023-08-19T18:41:37.063Z"
   },
   {
    "duration": 260,
    "start_time": "2023-08-19T18:41:38.459Z"
   },
   {
    "duration": 14,
    "start_time": "2023-08-19T18:41:38.721Z"
   },
   {
    "duration": 6,
    "start_time": "2023-08-19T18:41:38.737Z"
   },
   {
    "duration": 17,
    "start_time": "2023-08-19T18:41:38.745Z"
   },
   {
    "duration": 5,
    "start_time": "2023-08-19T18:41:38.764Z"
   },
   {
    "duration": 23,
    "start_time": "2023-08-19T18:41:38.771Z"
   },
   {
    "duration": 36,
    "start_time": "2023-08-19T18:41:38.796Z"
   },
   {
    "duration": 6,
    "start_time": "2023-08-19T18:41:38.834Z"
   },
   {
    "duration": 8,
    "start_time": "2023-08-19T18:41:38.842Z"
   },
   {
    "duration": 9,
    "start_time": "2023-08-19T18:41:38.851Z"
   },
   {
    "duration": 17,
    "start_time": "2023-08-19T18:41:38.861Z"
   },
   {
    "duration": 15,
    "start_time": "2023-08-19T18:41:38.881Z"
   },
   {
    "duration": 31,
    "start_time": "2023-08-19T18:41:38.897Z"
   },
   {
    "duration": 8,
    "start_time": "2023-08-19T18:41:38.930Z"
   },
   {
    "duration": 514,
    "start_time": "2023-08-19T18:41:38.940Z"
   },
   {
    "duration": 30,
    "start_time": "2023-08-19T18:41:39.458Z"
   },
   {
    "duration": 16,
    "start_time": "2023-08-19T18:41:39.490Z"
   },
   {
    "duration": 14,
    "start_time": "2023-08-19T18:41:39.509Z"
   },
   {
    "duration": 8,
    "start_time": "2023-08-19T18:41:39.525Z"
   },
   {
    "duration": 10,
    "start_time": "2023-08-19T18:41:39.559Z"
   },
   {
    "duration": 23,
    "start_time": "2023-08-19T18:41:39.570Z"
   },
   {
    "duration": 12,
    "start_time": "2023-08-19T18:41:39.594Z"
   },
   {
    "duration": 28,
    "start_time": "2023-08-19T18:41:39.607Z"
   },
   {
    "duration": 26,
    "start_time": "2023-08-19T18:41:39.637Z"
   },
   {
    "duration": 16,
    "start_time": "2023-08-19T18:41:39.665Z"
   },
   {
    "duration": 22,
    "start_time": "2023-08-19T18:41:39.688Z"
   },
   {
    "duration": 215,
    "start_time": "2023-08-19T18:41:39.712Z"
   },
   {
    "duration": 22,
    "start_time": "2023-08-19T18:41:39.928Z"
   },
   {
    "duration": 12,
    "start_time": "2023-08-19T18:41:39.959Z"
   },
   {
    "duration": 12,
    "start_time": "2023-08-19T18:41:39.972Z"
   },
   {
    "duration": 26,
    "start_time": "2023-08-19T18:41:39.986Z"
   },
   {
    "duration": 4,
    "start_time": "2023-08-19T18:41:40.014Z"
   },
   {
    "duration": 1700,
    "start_time": "2023-08-19T18:41:40.019Z"
   },
   {
    "duration": 44,
    "start_time": "2023-08-19T18:41:41.721Z"
   },
   {
    "duration": 25,
    "start_time": "2023-08-19T18:41:41.767Z"
   },
   {
    "duration": 16,
    "start_time": "2023-08-19T18:41:41.794Z"
   },
   {
    "duration": 23,
    "start_time": "2023-08-19T18:41:41.812Z"
   },
   {
    "duration": 7,
    "start_time": "2023-08-19T18:41:41.836Z"
   },
   {
    "duration": 2734,
    "start_time": "2023-08-19T18:41:41.847Z"
   },
   {
    "duration": 15,
    "start_time": "2023-08-19T18:41:44.583Z"
   },
   {
    "duration": 134,
    "start_time": "2023-08-19T18:41:44.600Z"
   },
   {
    "duration": 26,
    "start_time": "2023-08-19T18:41:44.736Z"
   },
   {
    "duration": 12,
    "start_time": "2023-08-19T18:41:44.763Z"
   },
   {
    "duration": 7,
    "start_time": "2023-08-19T18:41:44.777Z"
   },
   {
    "duration": 16,
    "start_time": "2023-08-19T18:41:44.786Z"
   },
   {
    "duration": 24,
    "start_time": "2023-08-19T18:41:44.804Z"
   },
   {
    "duration": 277,
    "start_time": "2023-08-19T18:41:44.829Z"
   },
   {
    "duration": 12,
    "start_time": "2023-08-19T18:41:45.108Z"
   },
   {
    "duration": 723,
    "start_time": "2023-08-19T18:41:45.122Z"
   },
   {
    "duration": 708,
    "start_time": "2023-08-19T18:41:45.847Z"
   },
   {
    "duration": 37,
    "start_time": "2023-08-19T18:41:46.558Z"
   },
   {
    "duration": 13,
    "start_time": "2023-08-19T18:41:46.597Z"
   },
   {
    "duration": 2,
    "start_time": "2023-08-19T18:41:46.612Z"
   },
   {
    "duration": 57,
    "start_time": "2023-08-19T18:41:46.616Z"
   },
   {
    "duration": 16,
    "start_time": "2023-08-19T18:41:46.674Z"
   },
   {
    "duration": 16,
    "start_time": "2023-08-19T18:41:46.692Z"
   },
   {
    "duration": 8,
    "start_time": "2023-08-19T18:41:46.709Z"
   },
   {
    "duration": 49,
    "start_time": "2023-08-19T18:41:46.718Z"
   },
   {
    "duration": 4,
    "start_time": "2023-08-19T18:41:46.768Z"
   },
   {
    "duration": 671,
    "start_time": "2023-08-19T18:41:46.774Z"
   },
   {
    "duration": 23,
    "start_time": "2023-08-19T18:41:47.447Z"
   },
   {
    "duration": 14,
    "start_time": "2023-08-19T18:41:47.471Z"
   },
   {
    "duration": 18,
    "start_time": "2023-08-19T18:41:47.486Z"
   },
   {
    "duration": 33,
    "start_time": "2023-08-19T18:44:13.705Z"
   },
   {
    "duration": 7,
    "start_time": "2023-08-19T18:51:03.418Z"
   },
   {
    "duration": 13,
    "start_time": "2023-08-19T18:52:02.601Z"
   },
   {
    "duration": 22,
    "start_time": "2023-08-19T18:52:47.900Z"
   },
   {
    "duration": 5,
    "start_time": "2023-08-19T18:53:21.197Z"
   },
   {
    "duration": 2051,
    "start_time": "2023-08-19T18:53:22.750Z"
   },
   {
    "duration": 132,
    "start_time": "2023-08-19T18:55:34.177Z"
   },
   {
    "duration": 5,
    "start_time": "2023-08-19T18:56:12.317Z"
   },
   {
    "duration": 5,
    "start_time": "2023-08-19T18:56:52.440Z"
   },
   {
    "duration": 6,
    "start_time": "2023-08-19T18:57:02.104Z"
   },
   {
    "duration": 4,
    "start_time": "2023-08-19T18:57:19.897Z"
   },
   {
    "duration": 2087,
    "start_time": "2023-08-19T18:57:22.319Z"
   },
   {
    "duration": 6,
    "start_time": "2023-08-19T18:58:25.472Z"
   },
   {
    "duration": 104,
    "start_time": "2023-08-19T18:59:17.510Z"
   },
   {
    "duration": 16,
    "start_time": "2023-08-19T19:00:07.705Z"
   },
   {
    "duration": 375,
    "start_time": "2023-08-19T19:08:04.719Z"
   },
   {
    "duration": 4,
    "start_time": "2023-08-19T19:10:51.828Z"
   },
   {
    "duration": 323,
    "start_time": "2023-08-19T19:11:30.838Z"
   },
   {
    "duration": 226,
    "start_time": "2023-08-19T19:15:54.425Z"
   },
   {
    "duration": 235,
    "start_time": "2023-08-19T19:16:15.691Z"
   },
   {
    "duration": 11,
    "start_time": "2023-08-19T19:18:01.618Z"
   },
   {
    "duration": 248,
    "start_time": "2023-08-19T19:18:06.476Z"
   },
   {
    "duration": 120,
    "start_time": "2023-08-19T19:24:34.449Z"
   },
   {
    "duration": 4,
    "start_time": "2023-08-19T19:30:51.784Z"
   },
   {
    "duration": 11,
    "start_time": "2023-08-19T19:31:03.145Z"
   },
   {
    "duration": 18,
    "start_time": "2023-08-19T19:31:25.507Z"
   },
   {
    "duration": 273,
    "start_time": "2023-08-19T19:31:35.547Z"
   },
   {
    "duration": 12,
    "start_time": "2023-08-19T19:32:01.737Z"
   },
   {
    "duration": 796,
    "start_time": "2023-08-19T19:32:11.307Z"
   },
   {
    "duration": 115,
    "start_time": "2023-08-19T19:37:07.859Z"
   },
   {
    "duration": 729,
    "start_time": "2023-08-19T19:38:04.719Z"
   },
   {
    "duration": 683,
    "start_time": "2023-08-19T19:38:16.388Z"
   },
   {
    "duration": 36,
    "start_time": "2023-08-19T19:39:30.136Z"
   },
   {
    "duration": 3176,
    "start_time": "2023-08-20T09:43:31.822Z"
   },
   {
    "duration": 1491,
    "start_time": "2023-08-20T09:43:35.001Z"
   },
   {
    "duration": 261,
    "start_time": "2023-08-20T09:43:36.494Z"
   },
   {
    "duration": 18,
    "start_time": "2023-08-20T09:43:36.758Z"
   },
   {
    "duration": 6,
    "start_time": "2023-08-20T09:43:36.778Z"
   },
   {
    "duration": 20,
    "start_time": "2023-08-20T09:43:36.785Z"
   },
   {
    "duration": 7,
    "start_time": "2023-08-20T09:43:36.807Z"
   },
   {
    "duration": 43,
    "start_time": "2023-08-20T09:43:36.816Z"
   },
   {
    "duration": 6,
    "start_time": "2023-08-20T09:43:36.861Z"
   },
   {
    "duration": 6,
    "start_time": "2023-08-20T09:43:36.870Z"
   },
   {
    "duration": 11,
    "start_time": "2023-08-20T09:43:36.877Z"
   },
   {
    "duration": 17,
    "start_time": "2023-08-20T09:43:36.890Z"
   },
   {
    "duration": 6,
    "start_time": "2023-08-20T09:43:36.909Z"
   },
   {
    "duration": 16,
    "start_time": "2023-08-20T09:43:36.917Z"
   },
   {
    "duration": 33,
    "start_time": "2023-08-20T09:43:36.958Z"
   },
   {
    "duration": 9,
    "start_time": "2023-08-20T09:43:36.993Z"
   },
   {
    "duration": 532,
    "start_time": "2023-08-20T09:43:37.004Z"
   },
   {
    "duration": 40,
    "start_time": "2023-08-20T09:43:37.538Z"
   },
   {
    "duration": 12,
    "start_time": "2023-08-20T09:43:37.580Z"
   },
   {
    "duration": 9,
    "start_time": "2023-08-20T09:43:37.594Z"
   },
   {
    "duration": 9,
    "start_time": "2023-08-20T09:43:37.604Z"
   },
   {
    "duration": 9,
    "start_time": "2023-08-20T09:43:37.615Z"
   },
   {
    "duration": 14,
    "start_time": "2023-08-20T09:43:37.660Z"
   },
   {
    "duration": 8,
    "start_time": "2023-08-20T09:43:37.676Z"
   },
   {
    "duration": 16,
    "start_time": "2023-08-20T09:43:37.685Z"
   },
   {
    "duration": 13,
    "start_time": "2023-08-20T09:43:37.703Z"
   },
   {
    "duration": 57,
    "start_time": "2023-08-20T09:43:37.718Z"
   },
   {
    "duration": 17,
    "start_time": "2023-08-20T09:43:37.779Z"
   },
   {
    "duration": 217,
    "start_time": "2023-08-20T09:43:37.798Z"
   },
   {
    "duration": 28,
    "start_time": "2023-08-20T09:43:38.017Z"
   },
   {
    "duration": 24,
    "start_time": "2023-08-20T09:43:38.047Z"
   },
   {
    "duration": 15,
    "start_time": "2023-08-20T09:43:38.073Z"
   },
   {
    "duration": 27,
    "start_time": "2023-08-20T09:43:38.090Z"
   },
   {
    "duration": 4,
    "start_time": "2023-08-20T09:43:38.119Z"
   },
   {
    "duration": 1711,
    "start_time": "2023-08-20T09:43:38.125Z"
   },
   {
    "duration": 45,
    "start_time": "2023-08-20T09:43:39.838Z"
   },
   {
    "duration": 7,
    "start_time": "2023-08-20T09:43:39.884Z"
   },
   {
    "duration": 13,
    "start_time": "2023-08-20T09:43:39.892Z"
   },
   {
    "duration": 53,
    "start_time": "2023-08-20T09:43:39.906Z"
   },
   {
    "duration": 9,
    "start_time": "2023-08-20T09:43:39.962Z"
   },
   {
    "duration": 6,
    "start_time": "2023-08-20T09:43:39.974Z"
   },
   {
    "duration": 1918,
    "start_time": "2023-08-20T09:43:39.983Z"
   },
   {
    "duration": 283,
    "start_time": "2023-08-20T09:43:41.902Z"
   },
   {
    "duration": 5,
    "start_time": "2023-08-20T09:43:42.187Z"
   },
   {
    "duration": 16,
    "start_time": "2023-08-20T09:43:42.193Z"
   },
   {
    "duration": 19,
    "start_time": "2023-08-20T09:43:42.210Z"
   },
   {
    "duration": 312,
    "start_time": "2023-08-20T09:43:42.230Z"
   },
   {
    "duration": 25,
    "start_time": "2023-08-20T09:43:42.544Z"
   },
   {
    "duration": 711,
    "start_time": "2023-08-20T09:43:42.570Z"
   },
   {
    "duration": 669,
    "start_time": "2023-08-20T09:43:43.282Z"
   },
   {
    "duration": 29,
    "start_time": "2023-08-20T09:43:43.953Z"
   },
   {
    "duration": 16,
    "start_time": "2023-08-20T09:43:43.984Z"
   },
   {
    "duration": 10,
    "start_time": "2023-08-20T09:43:44.002Z"
   },
   {
    "duration": 58,
    "start_time": "2023-08-20T09:43:44.015Z"
   },
   {
    "duration": 21,
    "start_time": "2023-08-20T09:43:44.077Z"
   },
   {
    "duration": 21,
    "start_time": "2023-08-20T09:43:44.100Z"
   },
   {
    "duration": 47,
    "start_time": "2023-08-20T09:43:44.124Z"
   },
   {
    "duration": 32,
    "start_time": "2023-08-20T09:43:44.172Z"
   },
   {
    "duration": 5,
    "start_time": "2023-08-20T09:43:44.207Z"
   },
   {
    "duration": 649,
    "start_time": "2023-08-20T09:43:44.214Z"
   },
   {
    "duration": 15,
    "start_time": "2023-08-20T09:43:44.865Z"
   },
   {
    "duration": 15,
    "start_time": "2023-08-20T09:43:44.881Z"
   },
   {
    "duration": 18,
    "start_time": "2023-08-20T09:43:44.898Z"
   },
   {
    "duration": 26,
    "start_time": "2023-08-20T09:47:53.281Z"
   },
   {
    "duration": 27,
    "start_time": "2023-08-20T09:48:58.132Z"
   },
   {
    "duration": 15,
    "start_time": "2023-08-20T09:49:49.613Z"
   },
   {
    "duration": 117,
    "start_time": "2023-08-20T09:50:55.195Z"
   },
   {
    "duration": 461,
    "start_time": "2023-08-20T09:51:55.775Z"
   },
   {
    "duration": 29,
    "start_time": "2023-08-20T09:52:15.985Z"
   },
   {
    "duration": 23,
    "start_time": "2023-08-20T09:52:28.696Z"
   },
   {
    "duration": 36,
    "start_time": "2023-08-20T09:53:22.048Z"
   },
   {
    "duration": 15,
    "start_time": "2023-08-20T09:53:59.815Z"
   },
   {
    "duration": 2,
    "start_time": "2023-08-20T09:58:35.647Z"
   },
   {
    "duration": 148,
    "start_time": "2023-08-20T09:58:45.337Z"
   },
   {
    "duration": 2,
    "start_time": "2023-08-20T09:58:54.344Z"
   },
   {
    "duration": 34,
    "start_time": "2023-08-20T09:59:10.226Z"
   },
   {
    "duration": 16,
    "start_time": "2023-08-20T09:59:16.234Z"
   },
   {
    "duration": 144,
    "start_time": "2023-08-20T10:11:08.096Z"
   },
   {
    "duration": 123,
    "start_time": "2023-08-20T10:11:13.837Z"
   },
   {
    "duration": 131,
    "start_time": "2023-08-20T10:11:35.962Z"
   },
   {
    "duration": 28,
    "start_time": "2023-08-20T10:11:56.717Z"
   },
   {
    "duration": 23,
    "start_time": "2023-08-20T10:12:46.817Z"
   },
   {
    "duration": 15,
    "start_time": "2023-08-20T10:14:23.928Z"
   },
   {
    "duration": 129,
    "start_time": "2023-08-20T10:14:57.065Z"
   },
   {
    "duration": 16,
    "start_time": "2023-08-20T10:17:22.498Z"
   },
   {
    "duration": 19,
    "start_time": "2023-08-20T10:19:21.609Z"
   },
   {
    "duration": 242,
    "start_time": "2023-08-20T10:39:11.271Z"
   },
   {
    "duration": 5,
    "start_time": "2023-08-20T10:40:54.239Z"
   },
   {
    "duration": 12,
    "start_time": "2023-08-20T10:41:06.148Z"
   },
   {
    "duration": 229,
    "start_time": "2023-08-20T10:41:38.738Z"
   },
   {
    "duration": 227,
    "start_time": "2023-08-20T10:44:51.629Z"
   },
   {
    "duration": 6,
    "start_time": "2023-08-20T10:53:34.637Z"
   },
   {
    "duration": 249,
    "start_time": "2023-08-20T10:53:45.140Z"
   },
   {
    "duration": 240,
    "start_time": "2023-08-20T10:54:02.720Z"
   },
   {
    "duration": 252,
    "start_time": "2023-08-20T11:01:07.500Z"
   },
   {
    "duration": 2421,
    "start_time": "2023-08-20T11:04:39.505Z"
   },
   {
    "duration": 4,
    "start_time": "2023-08-20T11:04:41.928Z"
   },
   {
    "duration": 142,
    "start_time": "2023-08-20T11:04:41.934Z"
   },
   {
    "duration": 22,
    "start_time": "2023-08-20T11:04:42.079Z"
   },
   {
    "duration": 4,
    "start_time": "2023-08-20T11:04:42.105Z"
   },
   {
    "duration": 18,
    "start_time": "2023-08-20T11:04:42.112Z"
   },
   {
    "duration": 6,
    "start_time": "2023-08-20T11:04:42.132Z"
   },
   {
    "duration": 22,
    "start_time": "2023-08-20T11:04:42.140Z"
   },
   {
    "duration": 16,
    "start_time": "2023-08-20T11:04:42.164Z"
   },
   {
    "duration": 5,
    "start_time": "2023-08-20T11:04:42.182Z"
   },
   {
    "duration": 16,
    "start_time": "2023-08-20T11:04:42.188Z"
   },
   {
    "duration": 10,
    "start_time": "2023-08-20T11:04:42.206Z"
   },
   {
    "duration": 5,
    "start_time": "2023-08-20T11:04:42.217Z"
   },
   {
    "duration": 44,
    "start_time": "2023-08-20T11:04:42.225Z"
   },
   {
    "duration": 30,
    "start_time": "2023-08-20T11:04:42.270Z"
   },
   {
    "duration": 9,
    "start_time": "2023-08-20T11:04:42.302Z"
   },
   {
    "duration": 524,
    "start_time": "2023-08-20T11:04:42.313Z"
   },
   {
    "duration": 49,
    "start_time": "2023-08-20T11:04:42.839Z"
   },
   {
    "duration": 14,
    "start_time": "2023-08-20T11:04:42.890Z"
   },
   {
    "duration": 10,
    "start_time": "2023-08-20T11:04:42.905Z"
   },
   {
    "duration": 6,
    "start_time": "2023-08-20T11:04:42.917Z"
   },
   {
    "duration": 13,
    "start_time": "2023-08-20T11:04:42.925Z"
   },
   {
    "duration": 21,
    "start_time": "2023-08-20T11:04:42.969Z"
   },
   {
    "duration": 9,
    "start_time": "2023-08-20T11:04:42.991Z"
   },
   {
    "duration": 35,
    "start_time": "2023-08-20T11:04:43.002Z"
   },
   {
    "duration": 33,
    "start_time": "2023-08-20T11:04:43.040Z"
   },
   {
    "duration": 20,
    "start_time": "2023-08-20T11:04:43.074Z"
   },
   {
    "duration": 46,
    "start_time": "2023-08-20T11:04:43.096Z"
   },
   {
    "duration": 210,
    "start_time": "2023-08-20T11:04:43.144Z"
   },
   {
    "duration": 28,
    "start_time": "2023-08-20T11:04:43.359Z"
   },
   {
    "duration": 43,
    "start_time": "2023-08-20T11:04:43.389Z"
   },
   {
    "duration": 43,
    "start_time": "2023-08-20T11:04:43.434Z"
   },
   {
    "duration": 48,
    "start_time": "2023-08-20T11:04:43.480Z"
   },
   {
    "duration": 13,
    "start_time": "2023-08-20T11:04:43.531Z"
   },
   {
    "duration": 1934,
    "start_time": "2023-08-20T11:04:43.546Z"
   },
   {
    "duration": 33,
    "start_time": "2023-08-20T11:04:45.482Z"
   },
   {
    "duration": 6,
    "start_time": "2023-08-20T11:04:45.517Z"
   },
   {
    "duration": 39,
    "start_time": "2023-08-20T11:04:45.524Z"
   },
   {
    "duration": 32,
    "start_time": "2023-08-20T11:04:45.573Z"
   },
   {
    "duration": 7,
    "start_time": "2023-08-20T11:04:45.607Z"
   },
   {
    "duration": 6,
    "start_time": "2023-08-20T11:04:45.618Z"
   },
   {
    "duration": 2045,
    "start_time": "2023-08-20T11:04:45.625Z"
   },
   {
    "duration": 278,
    "start_time": "2023-08-20T11:04:47.673Z"
   },
   {
    "duration": 7,
    "start_time": "2023-08-20T11:04:47.958Z"
   },
   {
    "duration": 19,
    "start_time": "2023-08-20T11:04:47.971Z"
   },
   {
    "duration": 21,
    "start_time": "2023-08-20T11:04:47.991Z"
   },
   {
    "duration": 322,
    "start_time": "2023-08-20T11:04:48.013Z"
   },
   {
    "duration": 13,
    "start_time": "2023-08-20T11:04:48.336Z"
   },
   {
    "duration": 742,
    "start_time": "2023-08-20T11:04:48.360Z"
   },
   {
    "duration": 716,
    "start_time": "2023-08-20T11:04:49.104Z"
   },
   {
    "duration": 25,
    "start_time": "2023-08-20T11:04:49.822Z"
   },
   {
    "duration": 18,
    "start_time": "2023-08-20T11:04:49.859Z"
   },
   {
    "duration": 5,
    "start_time": "2023-08-20T11:04:49.879Z"
   },
   {
    "duration": 156,
    "start_time": "2023-08-20T11:04:49.885Z"
   },
   {
    "duration": 33,
    "start_time": "2023-08-20T11:04:50.043Z"
   },
   {
    "duration": 35,
    "start_time": "2023-08-20T11:04:50.078Z"
   },
   {
    "duration": 260,
    "start_time": "2023-08-20T11:04:50.115Z"
   },
   {
    "duration": 10,
    "start_time": "2023-08-20T11:04:50.377Z"
   },
   {
    "duration": 38,
    "start_time": "2023-08-20T11:04:50.389Z"
   },
   {
    "duration": 6,
    "start_time": "2023-08-20T11:04:50.430Z"
   },
   {
    "duration": 544,
    "start_time": "2023-08-20T11:04:50.438Z"
   },
   {
    "duration": 14,
    "start_time": "2023-08-20T11:04:50.984Z"
   },
   {
    "duration": 20,
    "start_time": "2023-08-20T11:04:51.000Z"
   },
   {
    "duration": 55,
    "start_time": "2023-08-20T11:04:51.022Z"
   },
   {
    "duration": 122,
    "start_time": "2023-08-20T11:07:47.753Z"
   },
   {
    "duration": 16,
    "start_time": "2023-08-20T11:08:08.202Z"
   },
   {
    "duration": 1964,
    "start_time": "2023-08-20T11:11:30.207Z"
   },
   {
    "duration": 383,
    "start_time": "2023-08-20T11:15:30.622Z"
   },
   {
    "duration": 2172,
    "start_time": "2023-08-20T11:19:23.509Z"
   },
   {
    "duration": 4,
    "start_time": "2023-08-20T11:19:25.685Z"
   },
   {
    "duration": 150,
    "start_time": "2023-08-20T11:19:25.691Z"
   },
   {
    "duration": 15,
    "start_time": "2023-08-20T11:19:25.843Z"
   },
   {
    "duration": 12,
    "start_time": "2023-08-20T11:19:25.860Z"
   },
   {
    "duration": 18,
    "start_time": "2023-08-20T11:19:25.874Z"
   },
   {
    "duration": 8,
    "start_time": "2023-08-20T11:19:25.894Z"
   },
   {
    "duration": 16,
    "start_time": "2023-08-20T11:19:25.904Z"
   },
   {
    "duration": 12,
    "start_time": "2023-08-20T11:19:25.922Z"
   },
   {
    "duration": 6,
    "start_time": "2023-08-20T11:19:25.935Z"
   },
   {
    "duration": 18,
    "start_time": "2023-08-20T11:19:25.943Z"
   },
   {
    "duration": 7,
    "start_time": "2023-08-20T11:19:25.963Z"
   },
   {
    "duration": 7,
    "start_time": "2023-08-20T11:19:25.972Z"
   },
   {
    "duration": 23,
    "start_time": "2023-08-20T11:19:25.982Z"
   },
   {
    "duration": 33,
    "start_time": "2023-08-20T11:19:26.007Z"
   },
   {
    "duration": 26,
    "start_time": "2023-08-20T11:19:26.041Z"
   },
   {
    "duration": 596,
    "start_time": "2023-08-20T11:19:26.069Z"
   },
   {
    "duration": 29,
    "start_time": "2023-08-20T11:19:26.666Z"
   },
   {
    "duration": 12,
    "start_time": "2023-08-20T11:19:26.697Z"
   },
   {
    "duration": 12,
    "start_time": "2023-08-20T11:19:26.710Z"
   },
   {
    "duration": 36,
    "start_time": "2023-08-20T11:19:26.724Z"
   },
   {
    "duration": 10,
    "start_time": "2023-08-20T11:19:26.762Z"
   },
   {
    "duration": 17,
    "start_time": "2023-08-20T11:19:26.774Z"
   },
   {
    "duration": 12,
    "start_time": "2023-08-20T11:19:26.794Z"
   },
   {
    "duration": 17,
    "start_time": "2023-08-20T11:19:26.808Z"
   },
   {
    "duration": 43,
    "start_time": "2023-08-20T11:19:26.828Z"
   },
   {
    "duration": 17,
    "start_time": "2023-08-20T11:19:26.873Z"
   },
   {
    "duration": 20,
    "start_time": "2023-08-20T11:19:26.893Z"
   },
   {
    "duration": 220,
    "start_time": "2023-08-20T11:19:26.915Z"
   },
   {
    "duration": 33,
    "start_time": "2023-08-20T11:19:27.137Z"
   },
   {
    "duration": 12,
    "start_time": "2023-08-20T11:19:27.172Z"
   },
   {
    "duration": 16,
    "start_time": "2023-08-20T11:19:27.185Z"
   },
   {
    "duration": 31,
    "start_time": "2023-08-20T11:19:27.204Z"
   },
   {
    "duration": 24,
    "start_time": "2023-08-20T11:19:27.237Z"
   },
   {
    "duration": 1661,
    "start_time": "2023-08-20T11:19:27.263Z"
   },
   {
    "duration": 48,
    "start_time": "2023-08-20T11:19:28.927Z"
   },
   {
    "duration": 7,
    "start_time": "2023-08-20T11:19:28.977Z"
   },
   {
    "duration": 14,
    "start_time": "2023-08-20T11:19:28.987Z"
   },
   {
    "duration": 29,
    "start_time": "2023-08-20T11:19:29.003Z"
   },
   {
    "duration": 26,
    "start_time": "2023-08-20T11:19:29.034Z"
   },
   {
    "duration": 5,
    "start_time": "2023-08-20T11:19:29.064Z"
   },
   {
    "duration": 1998,
    "start_time": "2023-08-20T11:19:29.070Z"
   },
   {
    "duration": 293,
    "start_time": "2023-08-20T11:19:31.070Z"
   },
   {
    "duration": 6,
    "start_time": "2023-08-20T11:19:31.365Z"
   },
   {
    "duration": 33,
    "start_time": "2023-08-20T11:19:31.373Z"
   },
   {
    "duration": 53,
    "start_time": "2023-08-20T11:19:31.408Z"
   },
   {
    "duration": 337,
    "start_time": "2023-08-20T11:19:31.463Z"
   },
   {
    "duration": 13,
    "start_time": "2023-08-20T11:19:31.802Z"
   },
   {
    "duration": 792,
    "start_time": "2023-08-20T11:19:31.817Z"
   },
   {
    "duration": 753,
    "start_time": "2023-08-20T11:19:32.610Z"
   },
   {
    "duration": 25,
    "start_time": "2023-08-20T11:19:33.365Z"
   },
   {
    "duration": 32,
    "start_time": "2023-08-20T11:19:33.391Z"
   },
   {
    "duration": 18,
    "start_time": "2023-08-20T11:19:33.425Z"
   },
   {
    "duration": 38,
    "start_time": "2023-08-20T11:19:33.445Z"
   },
   {
    "duration": 16,
    "start_time": "2023-08-20T11:19:33.485Z"
   },
   {
    "duration": 17,
    "start_time": "2023-08-20T11:19:33.503Z"
   },
   {
    "duration": 537,
    "start_time": "2023-08-20T11:19:33.522Z"
   },
   {
    "duration": 0,
    "start_time": "2023-08-20T11:19:34.061Z"
   },
   {
    "duration": 0,
    "start_time": "2023-08-20T11:19:34.063Z"
   },
   {
    "duration": 0,
    "start_time": "2023-08-20T11:19:34.064Z"
   },
   {
    "duration": 0,
    "start_time": "2023-08-20T11:19:34.065Z"
   },
   {
    "duration": 0,
    "start_time": "2023-08-20T11:19:34.066Z"
   },
   {
    "duration": 0,
    "start_time": "2023-08-20T11:19:34.068Z"
   },
   {
    "duration": 0,
    "start_time": "2023-08-20T11:19:34.071Z"
   },
   {
    "duration": 22,
    "start_time": "2023-08-20T11:22:34.458Z"
   },
   {
    "duration": 197,
    "start_time": "2023-08-20T11:29:21.408Z"
   },
   {
    "duration": 121,
    "start_time": "2023-08-20T11:29:42.658Z"
   },
   {
    "duration": 12,
    "start_time": "2023-08-20T11:30:37.013Z"
   },
   {
    "duration": 98,
    "start_time": "2023-08-20T11:31:11.035Z"
   },
   {
    "duration": 656,
    "start_time": "2023-08-20T11:31:23.928Z"
   },
   {
    "duration": 106,
    "start_time": "2023-08-20T11:34:51.056Z"
   },
   {
    "duration": 205,
    "start_time": "2023-08-20T11:35:15.284Z"
   },
   {
    "duration": 300,
    "start_time": "2023-08-20T11:35:45.637Z"
   },
   {
    "duration": 205,
    "start_time": "2023-08-20T11:37:22.264Z"
   },
   {
    "duration": 20,
    "start_time": "2023-08-20T11:41:17.083Z"
   },
   {
    "duration": 3470,
    "start_time": "2023-08-20T14:00:13.208Z"
   },
   {
    "duration": 1360,
    "start_time": "2023-08-20T14:00:16.681Z"
   },
   {
    "duration": 170,
    "start_time": "2023-08-20T14:00:18.044Z"
   },
   {
    "duration": 16,
    "start_time": "2023-08-20T14:00:18.217Z"
   },
   {
    "duration": 5,
    "start_time": "2023-08-20T14:00:18.236Z"
   },
   {
    "duration": 35,
    "start_time": "2023-08-20T14:00:18.243Z"
   },
   {
    "duration": 16,
    "start_time": "2023-08-20T14:00:18.281Z"
   },
   {
    "duration": 24,
    "start_time": "2023-08-20T14:00:18.299Z"
   },
   {
    "duration": 19,
    "start_time": "2023-08-20T14:00:18.325Z"
   },
   {
    "duration": 7,
    "start_time": "2023-08-20T14:00:18.347Z"
   },
   {
    "duration": 12,
    "start_time": "2023-08-20T14:00:18.356Z"
   },
   {
    "duration": 34,
    "start_time": "2023-08-20T14:00:18.370Z"
   },
   {
    "duration": 32,
    "start_time": "2023-08-20T14:00:18.406Z"
   },
   {
    "duration": 27,
    "start_time": "2023-08-20T14:00:18.440Z"
   },
   {
    "duration": 55,
    "start_time": "2023-08-20T14:00:18.469Z"
   },
   {
    "duration": 14,
    "start_time": "2023-08-20T14:00:18.527Z"
   },
   {
    "duration": 544,
    "start_time": "2023-08-20T14:00:18.544Z"
   },
   {
    "duration": 31,
    "start_time": "2023-08-20T14:00:19.090Z"
   },
   {
    "duration": 16,
    "start_time": "2023-08-20T14:00:19.122Z"
   },
   {
    "duration": 31,
    "start_time": "2023-08-20T14:00:19.140Z"
   },
   {
    "duration": 11,
    "start_time": "2023-08-20T14:00:19.173Z"
   },
   {
    "duration": 10,
    "start_time": "2023-08-20T14:00:19.186Z"
   },
   {
    "duration": 25,
    "start_time": "2023-08-20T14:00:19.198Z"
   },
   {
    "duration": 10,
    "start_time": "2023-08-20T14:00:19.225Z"
   },
   {
    "duration": 46,
    "start_time": "2023-08-20T14:00:19.238Z"
   },
   {
    "duration": 19,
    "start_time": "2023-08-20T14:00:19.286Z"
   },
   {
    "duration": 27,
    "start_time": "2023-08-20T14:00:19.308Z"
   },
   {
    "duration": 54,
    "start_time": "2023-08-20T14:00:19.338Z"
   },
   {
    "duration": 250,
    "start_time": "2023-08-20T14:00:19.394Z"
   },
   {
    "duration": 35,
    "start_time": "2023-08-20T14:00:19.646Z"
   },
   {
    "duration": 12,
    "start_time": "2023-08-20T14:00:19.683Z"
   },
   {
    "duration": 21,
    "start_time": "2023-08-20T14:00:19.697Z"
   },
   {
    "duration": 52,
    "start_time": "2023-08-20T14:00:19.719Z"
   },
   {
    "duration": 5,
    "start_time": "2023-08-20T14:00:19.773Z"
   },
   {
    "duration": 1851,
    "start_time": "2023-08-20T14:00:19.779Z"
   },
   {
    "duration": 47,
    "start_time": "2023-08-20T14:00:21.632Z"
   },
   {
    "duration": 7,
    "start_time": "2023-08-20T14:00:21.681Z"
   },
   {
    "duration": 18,
    "start_time": "2023-08-20T14:00:21.690Z"
   },
   {
    "duration": 34,
    "start_time": "2023-08-20T14:00:21.710Z"
   },
   {
    "duration": 26,
    "start_time": "2023-08-20T14:00:21.745Z"
   },
   {
    "duration": 5,
    "start_time": "2023-08-20T14:00:21.773Z"
   },
   {
    "duration": 2163,
    "start_time": "2023-08-20T14:00:21.780Z"
   },
   {
    "duration": 501,
    "start_time": "2023-08-20T14:00:23.947Z"
   },
   {
    "duration": 47,
    "start_time": "2023-08-20T15:43:58.949Z"
   },
   {
    "duration": 2887,
    "start_time": "2023-08-20T15:44:04.497Z"
   },
   {
    "duration": 1409,
    "start_time": "2023-08-20T15:44:07.386Z"
   },
   {
    "duration": 153,
    "start_time": "2023-08-20T15:44:08.797Z"
   },
   {
    "duration": 13,
    "start_time": "2023-08-20T15:44:08.952Z"
   },
   {
    "duration": 19,
    "start_time": "2023-08-20T15:44:08.967Z"
   },
   {
    "duration": 38,
    "start_time": "2023-08-20T15:44:08.987Z"
   },
   {
    "duration": 10,
    "start_time": "2023-08-20T15:44:09.027Z"
   },
   {
    "duration": 27,
    "start_time": "2023-08-20T15:44:09.038Z"
   },
   {
    "duration": 22,
    "start_time": "2023-08-20T15:44:09.066Z"
   },
   {
    "duration": 29,
    "start_time": "2023-08-20T15:44:09.089Z"
   },
   {
    "duration": 37,
    "start_time": "2023-08-20T15:44:09.119Z"
   },
   {
    "duration": 15,
    "start_time": "2023-08-20T15:44:09.158Z"
   },
   {
    "duration": 20,
    "start_time": "2023-08-20T15:44:09.174Z"
   },
   {
    "duration": 27,
    "start_time": "2023-08-20T15:44:09.197Z"
   },
   {
    "duration": 35,
    "start_time": "2023-08-20T15:44:09.225Z"
   },
   {
    "duration": 8,
    "start_time": "2023-08-20T15:44:09.262Z"
   },
   {
    "duration": 475,
    "start_time": "2023-08-20T15:44:09.271Z"
   },
   {
    "duration": 29,
    "start_time": "2023-08-20T15:44:09.748Z"
   },
   {
    "duration": 13,
    "start_time": "2023-08-20T15:44:09.787Z"
   },
   {
    "duration": 24,
    "start_time": "2023-08-20T15:44:09.801Z"
   },
   {
    "duration": 35,
    "start_time": "2023-08-20T15:44:09.827Z"
   },
   {
    "duration": 36,
    "start_time": "2023-08-20T15:44:09.863Z"
   },
   {
    "duration": 120,
    "start_time": "2023-08-20T15:44:09.901Z"
   },
   {
    "duration": 60,
    "start_time": "2023-08-20T15:44:10.022Z"
   },
   {
    "duration": 51,
    "start_time": "2023-08-20T15:44:10.084Z"
   },
   {
    "duration": 28,
    "start_time": "2023-08-20T15:44:10.136Z"
   },
   {
    "duration": 27,
    "start_time": "2023-08-20T15:44:10.165Z"
   },
   {
    "duration": 28,
    "start_time": "2023-08-20T15:44:10.194Z"
   },
   {
    "duration": 198,
    "start_time": "2023-08-20T15:44:10.224Z"
   },
   {
    "duration": 20,
    "start_time": "2023-08-20T15:44:10.424Z"
   },
   {
    "duration": 21,
    "start_time": "2023-08-20T15:44:10.446Z"
   },
   {
    "duration": 31,
    "start_time": "2023-08-20T15:44:10.468Z"
   },
   {
    "duration": 41,
    "start_time": "2023-08-20T15:44:10.501Z"
   },
   {
    "duration": 5,
    "start_time": "2023-08-20T15:44:10.544Z"
   },
   {
    "duration": 1530,
    "start_time": "2023-08-20T15:44:10.550Z"
   },
   {
    "duration": 32,
    "start_time": "2023-08-20T15:44:12.087Z"
   },
   {
    "duration": 16,
    "start_time": "2023-08-20T15:44:12.121Z"
   },
   {
    "duration": 52,
    "start_time": "2023-08-20T15:44:12.138Z"
   },
   {
    "duration": 63,
    "start_time": "2023-08-20T15:44:12.192Z"
   },
   {
    "duration": 13,
    "start_time": "2023-08-20T15:44:12.256Z"
   },
   {
    "duration": 20,
    "start_time": "2023-08-20T15:44:12.273Z"
   },
   {
    "duration": 2048,
    "start_time": "2023-08-20T15:44:12.295Z"
   },
   {
    "duration": 256,
    "start_time": "2023-08-20T15:44:14.345Z"
   },
   {
    "duration": 87,
    "start_time": "2023-08-20T15:44:14.602Z"
   },
   {
    "duration": 0,
    "start_time": "2023-08-20T15:44:14.690Z"
   },
   {
    "duration": 0,
    "start_time": "2023-08-20T15:44:14.692Z"
   },
   {
    "duration": 0,
    "start_time": "2023-08-20T15:44:14.693Z"
   },
   {
    "duration": 0,
    "start_time": "2023-08-20T15:44:14.694Z"
   },
   {
    "duration": 0,
    "start_time": "2023-08-20T15:44:14.694Z"
   },
   {
    "duration": 0,
    "start_time": "2023-08-20T15:44:14.695Z"
   },
   {
    "duration": 0,
    "start_time": "2023-08-20T15:44:14.696Z"
   },
   {
    "duration": 0,
    "start_time": "2023-08-20T15:44:14.697Z"
   },
   {
    "duration": 0,
    "start_time": "2023-08-20T15:44:14.698Z"
   },
   {
    "duration": 0,
    "start_time": "2023-08-20T15:44:14.700Z"
   },
   {
    "duration": 0,
    "start_time": "2023-08-20T15:44:14.701Z"
   },
   {
    "duration": 0,
    "start_time": "2023-08-20T15:44:14.702Z"
   },
   {
    "duration": 0,
    "start_time": "2023-08-20T15:44:14.703Z"
   },
   {
    "duration": 0,
    "start_time": "2023-08-20T15:44:14.704Z"
   },
   {
    "duration": 0,
    "start_time": "2023-08-20T15:44:14.705Z"
   },
   {
    "duration": 0,
    "start_time": "2023-08-20T15:44:14.706Z"
   },
   {
    "duration": 0,
    "start_time": "2023-08-20T15:44:14.707Z"
   },
   {
    "duration": 0,
    "start_time": "2023-08-20T15:44:14.709Z"
   },
   {
    "duration": 0,
    "start_time": "2023-08-20T15:44:14.710Z"
   },
   {
    "duration": 0,
    "start_time": "2023-08-20T15:44:14.710Z"
   },
   {
    "duration": 2084,
    "start_time": "2023-08-20T15:45:15.929Z"
   },
   {
    "duration": 1275,
    "start_time": "2023-08-20T15:45:18.016Z"
   },
   {
    "duration": 140,
    "start_time": "2023-08-20T15:45:19.293Z"
   },
   {
    "duration": 15,
    "start_time": "2023-08-20T15:45:19.435Z"
   },
   {
    "duration": 33,
    "start_time": "2023-08-20T15:45:19.452Z"
   },
   {
    "duration": 31,
    "start_time": "2023-08-20T15:45:19.487Z"
   },
   {
    "duration": 22,
    "start_time": "2023-08-20T15:45:19.520Z"
   },
   {
    "duration": 25,
    "start_time": "2023-08-20T15:45:19.543Z"
   },
   {
    "duration": 25,
    "start_time": "2023-08-20T15:45:19.569Z"
   },
   {
    "duration": 17,
    "start_time": "2023-08-20T15:45:19.596Z"
   },
   {
    "duration": 43,
    "start_time": "2023-08-20T15:45:19.614Z"
   },
   {
    "duration": 34,
    "start_time": "2023-08-20T15:45:19.659Z"
   },
   {
    "duration": 39,
    "start_time": "2023-08-20T15:45:19.695Z"
   },
   {
    "duration": 47,
    "start_time": "2023-08-20T15:45:19.737Z"
   },
   {
    "duration": 40,
    "start_time": "2023-08-20T15:45:19.786Z"
   },
   {
    "duration": 8,
    "start_time": "2023-08-20T15:45:19.827Z"
   },
   {
    "duration": 476,
    "start_time": "2023-08-20T15:45:19.836Z"
   },
   {
    "duration": 25,
    "start_time": "2023-08-20T15:45:20.314Z"
   },
   {
    "duration": 41,
    "start_time": "2023-08-20T15:45:20.340Z"
   },
   {
    "duration": 24,
    "start_time": "2023-08-20T15:45:20.382Z"
   },
   {
    "duration": 27,
    "start_time": "2023-08-20T15:45:20.407Z"
   },
   {
    "duration": 30,
    "start_time": "2023-08-20T15:45:20.435Z"
   },
   {
    "duration": 45,
    "start_time": "2023-08-20T15:45:20.467Z"
   },
   {
    "duration": 25,
    "start_time": "2023-08-20T15:45:20.514Z"
   },
   {
    "duration": 55,
    "start_time": "2023-08-20T15:45:20.541Z"
   },
   {
    "duration": 38,
    "start_time": "2023-08-20T15:45:20.598Z"
   },
   {
    "duration": 27,
    "start_time": "2023-08-20T15:45:20.638Z"
   },
   {
    "duration": 26,
    "start_time": "2023-08-20T15:45:20.669Z"
   },
   {
    "duration": 204,
    "start_time": "2023-08-20T15:45:20.696Z"
   },
   {
    "duration": 21,
    "start_time": "2023-08-20T15:45:20.902Z"
   },
   {
    "duration": 35,
    "start_time": "2023-08-20T15:45:20.925Z"
   },
   {
    "duration": 63,
    "start_time": "2023-08-20T15:45:20.962Z"
   },
   {
    "duration": 62,
    "start_time": "2023-08-20T15:45:21.027Z"
   },
   {
    "duration": 54,
    "start_time": "2023-08-20T15:45:21.091Z"
   },
   {
    "duration": 1610,
    "start_time": "2023-08-20T15:45:21.146Z"
   },
   {
    "duration": 35,
    "start_time": "2023-08-20T15:45:22.757Z"
   },
   {
    "duration": 26,
    "start_time": "2023-08-20T15:45:22.794Z"
   },
   {
    "duration": 21,
    "start_time": "2023-08-20T15:45:22.822Z"
   },
   {
    "duration": 37,
    "start_time": "2023-08-20T15:45:22.844Z"
   },
   {
    "duration": 24,
    "start_time": "2023-08-20T15:45:22.883Z"
   },
   {
    "duration": 26,
    "start_time": "2023-08-20T15:45:22.908Z"
   },
   {
    "duration": 1779,
    "start_time": "2023-08-20T15:45:22.936Z"
   },
   {
    "duration": 290,
    "start_time": "2023-08-20T15:45:24.717Z"
   },
   {
    "duration": 92,
    "start_time": "2023-08-20T15:45:25.009Z"
   },
   {
    "duration": 0,
    "start_time": "2023-08-20T15:45:25.102Z"
   },
   {
    "duration": 0,
    "start_time": "2023-08-20T15:45:25.103Z"
   },
   {
    "duration": 0,
    "start_time": "2023-08-20T15:45:25.104Z"
   },
   {
    "duration": 0,
    "start_time": "2023-08-20T15:45:25.105Z"
   },
   {
    "duration": 0,
    "start_time": "2023-08-20T15:45:25.106Z"
   },
   {
    "duration": 0,
    "start_time": "2023-08-20T15:45:25.107Z"
   },
   {
    "duration": 0,
    "start_time": "2023-08-20T15:45:25.108Z"
   },
   {
    "duration": 0,
    "start_time": "2023-08-20T15:45:25.109Z"
   },
   {
    "duration": 0,
    "start_time": "2023-08-20T15:45:25.110Z"
   },
   {
    "duration": 0,
    "start_time": "2023-08-20T15:45:25.111Z"
   },
   {
    "duration": 0,
    "start_time": "2023-08-20T15:45:25.112Z"
   },
   {
    "duration": 0,
    "start_time": "2023-08-20T15:45:25.113Z"
   },
   {
    "duration": 0,
    "start_time": "2023-08-20T15:45:25.114Z"
   },
   {
    "duration": 0,
    "start_time": "2023-08-20T15:45:25.115Z"
   },
   {
    "duration": 0,
    "start_time": "2023-08-20T15:45:25.115Z"
   },
   {
    "duration": 0,
    "start_time": "2023-08-20T15:45:25.116Z"
   },
   {
    "duration": 0,
    "start_time": "2023-08-20T15:45:25.117Z"
   },
   {
    "duration": 0,
    "start_time": "2023-08-20T15:45:25.118Z"
   },
   {
    "duration": 0,
    "start_time": "2023-08-20T15:45:25.119Z"
   },
   {
    "duration": 0,
    "start_time": "2023-08-20T15:45:25.120Z"
   }
  ],
  "kernelspec": {
   "display_name": "Python 3 (ipykernel)",
   "language": "python",
   "name": "python3"
  },
  "language_info": {
   "codemirror_mode": {
    "name": "ipython",
    "version": 3
   },
   "file_extension": ".py",
   "mimetype": "text/x-python",
   "name": "python",
   "nbconvert_exporter": "python",
   "pygments_lexer": "ipython3",
   "version": "3.9.5"
  },
  "toc": {
   "base_numbering": 1,
   "nav_menu": {},
   "number_sections": true,
   "sideBar": true,
   "skip_h1_title": true,
   "title_cell": "Table of Contents",
   "title_sidebar": "Contents",
   "toc_cell": true,
   "toc_position": {
    "height": "calc(100% - 180px)",
    "left": "10px",
    "top": "150px",
    "width": "384px"
   },
   "toc_section_display": true,
   "toc_window_display": true
  }
 },
 "nbformat": 4,
 "nbformat_minor": 5
}
