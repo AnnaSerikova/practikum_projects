{
 "cells": [
  {
   "cell_type": "markdown",
   "id": "7ee89688",
   "metadata": {},
   "source": [
    "<div class=\"alert alert-success\">\n",
    "<b>Комментарий ревьюера v 4.0 ✔️:</b> Отлично, Анна! Ты здорово поработала над комментариями и теперь твой проект принят.\n",
    "    \n",
    "Спасибо за работу и успехов в следующих проектах!)"
   ]
  },
  {
   "cell_type": "markdown",
   "id": "106df0ff",
   "metadata": {},
   "source": [
    "<div class=\"alert alert-danger\">\n",
    "<b>Комментарий ревьюера v 3.0 ❌:</b> Анна, привет! Все здорово поправила и выполнила корректировку расчета среднего чека. Единственное, нужно немного поправить саму формулировку вывода, это отмечено v 3.0)"
   ]
  },
  {
   "cell_type": "markdown",
   "id": "7adefa96",
   "metadata": {},
   "source": [
    "<div class=\"alert alert-danger\">\n",
    "<b>Комментарий ревьюера v 2.0 ❌:</b> Анна, ты хорошо поработала над комментариями, но все же у меня осталось еще пара замечаний, они отмечены v 2.0 и красным цветом. Пожалуйста, исправь их и я буду рад принять твой проект)"
   ]
  },
  {
   "cell_type": "markdown",
   "id": "5b0663cf",
   "metadata": {},
   "source": [
    "<div class=\"alert alert-info\"> <b>Комментарий студента v 2.0:</b> Дмитрий, привет еще раз! Спасибо за подсказки. Выполнила дальнейшие правки, но все еще не уверена, что правильно поняла про тест Манна-Уитни на неагрегированных данных из orders.</div>"
   ]
  },
  {
   "cell_type": "markdown",
   "id": "2ee335cd",
   "metadata": {},
   "source": [
    "<div style=\"border:solid green 2px; padding: 20px\">\n",
    "<b>Анна, привет!</b>\n",
    "\n",
    "Меня зовут Михаленко Дмитрий, и я буду проверять твой проект. Предлагаю общаться на «ты» :) Но если это не удобно - дай знать, и мы перейдем на \"вы\". \n",
    "\n",
    "Моя основная цель — не указать на совершенные тобою ошибки, а поделиться своим опытом и помочь тебе стать аналитиком данных. Ты уже проделала большую работу над проектом, но давай сделаем его еще лучше. Ниже ты найдешь мои комментарии - **пожалуйста, не перемещай, не изменяй и не удаляй их**. Увидев у тебя ошибку, в первый раз я лишь укажу на ее наличие и дам тебе возможность самой найти и исправить ее. На реальной работе твой начальник будет поступать так же, а я пытаюсь подготовить тебя именно к работе аналитиком. Но если ты пока не справишься с такой задачей - при следующей проверке я дам более точную подсказку. Я буду использовать цветовую разметку:\n",
    "\n",
    "<div class=\"alert alert-danger\">\n",
    "<b>Комментарий ревьюера ❌:</b> Так выделены самые важные замечания. Без их отработки проект не будет принят. </div>\n",
    "\n",
    "<div class=\"alert alert-warning\">\n",
    "<b>Комментарий ревьюера ⚠️:</b> Так выделены небольшие замечания. Я надеюсь, что их ты тоже учтешь - твой проект от этого станет только лучше. Но настаивать на их отработке не буду.\n",
    "\n",
    "</div>\n",
    "\n",
    "<div class=\"alert alert-success\">\n",
    "<b>Комментарий ревьюера ✔️:</b> Так я выделяю все остальные комментарии.</div>\n",
    "\n",
    "Давай работать над проектом в диалоге: **если ты что-то меняешь в проекте или отвечаешь на мои комментарии — пиши об этом.** Мне будет легче отследить изменения, если ты выделишь свои комментарии:\n",
    "<div class=\"alert alert-info\"> <b>Комментарий студента:</b> Например, вот так.</div>\n",
    "\n",
    "Всё это поможет выполнить повторную проверку твоего проекта оперативнее. "
   ]
  },
  {
   "cell_type": "markdown",
   "id": "0aabe638",
   "metadata": {},
   "source": [
    "<div class=\"alert alert-info\"> <b>Комментарий студента:</b>Привет, Дмитрий! Спасибо за проверку моей работы.\n",
    "    \n",
    "По мере внесения правок я буду оставлять комментарии студента на синем фоне.\n",
    "    \n",
    "**Обрати, пожалуйста, внимание!**\n",
    "\n",
    "Я выполнила значительную часть правок, но после проверки и коррекции составов групп (удалить случаи, когда один и тот же пользователь попал в обе группы) рассыпался расчет p-value для среднего чека на очищенных данных. Боюсь, я не могу самостоятельно найти выход из этой ситуации. Мог бы ты, пожалуйста, помочь? Большое спасибо!</div>\n"
   ]
  },
  {
   "cell_type": "markdown",
   "id": "720e3983",
   "metadata": {},
   "source": [
    "<div class=\"alert alert-success\">\n",
    "<b>Комментарий ревьюера v 2.0 ✔️:</b> Анна, привет!"
   ]
  },
  {
   "cell_type": "markdown",
   "id": "87cfe786",
   "metadata": {
    "toc": true
   },
   "source": [
    "<h1>Table of Contents<span class=\"tocSkip\"></span></h1>\n",
    "<div class=\"toc\"><ul class=\"toc-item\"><li><span><a href=\"#Подготовка-инструментов\" data-toc-modified-id=\"Подготовка-инструментов-1\"><span class=\"toc-item-num\">1&nbsp;&nbsp;</span>Подготовка инструментов</a></span></li><li><span><a href=\"#Чтение-данных\" data-toc-modified-id=\"Чтение-данных-2\"><span class=\"toc-item-num\">2&nbsp;&nbsp;</span>Чтение данных</a></span></li><li><span><a href=\"#Обзор-данных\" data-toc-modified-id=\"Обзор-данных-3\"><span class=\"toc-item-num\">3&nbsp;&nbsp;</span>Обзор данных</a></span></li><li><span><a href=\"#Предобработка-данных\" data-toc-modified-id=\"Предобработка-данных-4\"><span class=\"toc-item-num\">4&nbsp;&nbsp;</span>Предобработка данных</a></span></li><li><span><a href=\"#Приоритизация-гипотез\" data-toc-modified-id=\"Приоритизация-гипотез-5\"><span class=\"toc-item-num\">5&nbsp;&nbsp;</span>Приоритизация гипотез</a></span><ul class=\"toc-item\"><li><span><a href=\"#Изменение-приоритетов\" data-toc-modified-id=\"Изменение-приоритетов-5.1\"><span class=\"toc-item-num\">5.1&nbsp;&nbsp;</span>Изменение приоритетов</a></span></li><li><span><a href=\"#Причины-изменений\" data-toc-modified-id=\"Причины-изменений-5.2\"><span class=\"toc-item-num\">5.2&nbsp;&nbsp;</span>Причины изменений</a></span></li></ul></li><li><span><a href=\"#Оценка-кумулятивной-выручки-по-группам\" data-toc-modified-id=\"Оценка-кумулятивной-выручки-по-группам-6\"><span class=\"toc-item-num\">6&nbsp;&nbsp;</span>Оценка кумулятивной выручки по группам</a></span><ul class=\"toc-item\"><li><span><a href=\"#Промежуточные-выводы\" data-toc-modified-id=\"Промежуточные-выводы-6.1\"><span class=\"toc-item-num\">6.1&nbsp;&nbsp;</span>Промежуточные выводы</a></span></li><li><span><a href=\"#Предположения\" data-toc-modified-id=\"Предположения-6.2\"><span class=\"toc-item-num\">6.2&nbsp;&nbsp;</span>Предположения</a></span></li></ul></li><li><span><a href=\"#Оценка-кумулятивного-среднего-чека-про-группам\" data-toc-modified-id=\"Оценка-кумулятивного-среднего-чека-про-группам-7\"><span class=\"toc-item-num\">7&nbsp;&nbsp;</span>Оценка кумулятивного среднего чека про группам</a></span><ul class=\"toc-item\"><li><span><a href=\"#Промежуточные-выводы\" data-toc-modified-id=\"Промежуточные-выводы-7.1\"><span class=\"toc-item-num\">7.1&nbsp;&nbsp;</span>Промежуточные выводы</a></span></li><li><span><a href=\"#Предположения\" data-toc-modified-id=\"Предположения-7.2\"><span class=\"toc-item-num\">7.2&nbsp;&nbsp;</span>Предположения</a></span></li></ul></li><li><span><a href=\"#Оценка-относительного-изменения-кумулятивного-среднего-чека-группы-В-к-группе-А\" data-toc-modified-id=\"Оценка-относительного-изменения-кумулятивного-среднего-чека-группы-В-к-группе-А-8\"><span class=\"toc-item-num\">8&nbsp;&nbsp;</span>Оценка относительного изменения кумулятивного среднего чека<br> группы В к группе А</a></span><ul class=\"toc-item\"><li><span><a href=\"#Промежуточные-выводы\" data-toc-modified-id=\"Промежуточные-выводы-8.1\"><span class=\"toc-item-num\">8.1&nbsp;&nbsp;</span>Промежуточные выводы</a></span></li><li><span><a href=\"#Предположения\" data-toc-modified-id=\"Предположения-8.2\"><span class=\"toc-item-num\">8.2&nbsp;&nbsp;</span>Предположения</a></span></li></ul></li><li><span><a href=\"#Оценка-кумулятивного-среднего-значения-заказов-на-посетителя-по-группам\" data-toc-modified-id=\"Оценка-кумулятивного-среднего-значения-заказов-на-посетителя-по-группам-9\"><span class=\"toc-item-num\">9&nbsp;&nbsp;</span>Оценка кумулятивного среднего значения заказов на посетителя по группам</a></span><ul class=\"toc-item\"><li><span><a href=\"#Промежуточные-выводы\" data-toc-modified-id=\"Промежуточные-выводы-9.1\"><span class=\"toc-item-num\">9.1&nbsp;&nbsp;</span>Промежуточные выводы</a></span></li><li><span><a href=\"#Предположения\" data-toc-modified-id=\"Предположения-9.2\"><span class=\"toc-item-num\">9.2&nbsp;&nbsp;</span>Предположения</a></span></li></ul></li><li><span><a href=\"#Оценка-относительного-изменения-кумулятивного-среднего-числа-заказов-на-посетителя-группы-В-к-группе-А\" data-toc-modified-id=\"Оценка-относительного-изменения-кумулятивного-среднего-числа-заказов-на-посетителя-группы-В-к-группе-А-10\"><span class=\"toc-item-num\">10&nbsp;&nbsp;</span>Оценка относительного изменения кумулятивного среднего числа заказов на посетителя группы В к группе А</a></span><ul class=\"toc-item\"><li><span><a href=\"#Промежуточные-выводы\" data-toc-modified-id=\"Промежуточные-выводы-10.1\"><span class=\"toc-item-num\">10.1&nbsp;&nbsp;</span>Промежуточные выводы</a></span></li><li><span><a href=\"#Предположения\" data-toc-modified-id=\"Предположения-10.2\"><span class=\"toc-item-num\">10.2&nbsp;&nbsp;</span>Предположения</a></span></li></ul></li><li><span><a href=\"#Точечный-график-числа-заказов-по-пользователям\" data-toc-modified-id=\"Точечный-график-числа-заказов-по-пользователям-11\"><span class=\"toc-item-num\">11&nbsp;&nbsp;</span>Точечный график числа заказов по пользователям</a></span><ul class=\"toc-item\"><li><span><a href=\"#Промежуточные-выводы\" data-toc-modified-id=\"Промежуточные-выводы-11.1\"><span class=\"toc-item-num\">11.1&nbsp;&nbsp;</span>Промежуточные выводы</a></span></li><li><span><a href=\"#Предположения\" data-toc-modified-id=\"Предположения-11.2\"><span class=\"toc-item-num\">11.2&nbsp;&nbsp;</span>Предположения</a></span></li></ul></li><li><span><a href=\"#Определение-аномального-числа-заказов\" data-toc-modified-id=\"Определение-аномального-числа-заказов-12\"><span class=\"toc-item-num\">12&nbsp;&nbsp;</span>Определение аномального числа заказов</a></span></li><li><span><a href=\"#Точечный-график-стоимости-заказов\" data-toc-modified-id=\"Точечный-график-стоимости-заказов-13\"><span class=\"toc-item-num\">13&nbsp;&nbsp;</span>Точечный график стоимости заказов</a></span><ul class=\"toc-item\"><li><span><a href=\"#Промежуточные-выводы\" data-toc-modified-id=\"Промежуточные-выводы-13.1\"><span class=\"toc-item-num\">13.1&nbsp;&nbsp;</span>Промежуточные выводы</a></span></li><li><span><a href=\"#Предположения\" data-toc-modified-id=\"Предположения-13.2\"><span class=\"toc-item-num\">13.2&nbsp;&nbsp;</span>Предположения</a></span></li></ul></li><li><span><a href=\"#Определение-аномальной-стоимости-заказов\" data-toc-modified-id=\"Определение-аномальной-стоимости-заказов-14\"><span class=\"toc-item-num\">14&nbsp;&nbsp;</span>Определение аномальной стоимости заказов</a></span></li><li><span><a href=\"#Оценка-статистической-значимости-различий-на-основании-&quot;сырых-данных&quot;\" data-toc-modified-id=\"Оценка-статистической-значимости-различий-на-основании-&quot;сырых-данных&quot;-15\"><span class=\"toc-item-num\">15&nbsp;&nbsp;</span>Оценка статистической значимости различий на основании \"сырых данных\"</a></span><ul class=\"toc-item\"><li><span><a href=\"#По-числу-заказов-на-посетителя\" data-toc-modified-id=\"По-числу-заказов-на-посетителя-15.1\"><span class=\"toc-item-num\">15.1&nbsp;&nbsp;</span>По числу заказов на посетителя</a></span></li><li><span><a href=\"#По-среднему-чеку\" data-toc-modified-id=\"По-среднему-чеку-15.2\"><span class=\"toc-item-num\">15.2&nbsp;&nbsp;</span>По среднему чеку</a></span></li></ul></li><li><span><a href=\"#Очистка-данных-от-аномальных-значений\" data-toc-modified-id=\"Очистка-данных-от-аномальных-значений-16\"><span class=\"toc-item-num\">16&nbsp;&nbsp;</span>Очистка данных от аномальных значений</a></span><ul class=\"toc-item\"><li><span><a href=\"#Определение-числа-пользователей,-совершивших-аномальные-заказы\" data-toc-modified-id=\"Определение-числа-пользователей,-совершивших-аномальные-заказы-16.1\"><span class=\"toc-item-num\">16.1&nbsp;&nbsp;</span>Определение числа пользователей, совершивших аномальные заказы</a></span></li></ul></li><li><span><a href=\"#Оценка-статистической-значимости-различий-на-основе-очищенных-данных\" data-toc-modified-id=\"Оценка-статистической-значимости-различий-на-основе-очищенных-данных-17\"><span class=\"toc-item-num\">17&nbsp;&nbsp;</span>Оценка статистической значимости различий на основе очищенных данных</a></span><ul class=\"toc-item\"><li><span><a href=\"#По-числу-заказов-на-посетителя\" data-toc-modified-id=\"По-числу-заказов-на-посетителя-17.1\"><span class=\"toc-item-num\">17.1&nbsp;&nbsp;</span>По числу заказов на посетителя</a></span></li><li><span><a href=\"#Формирование-пар-&quot;пользователь---число-заказов&quot;\" data-toc-modified-id=\"Формирование-пар-&quot;пользователь---число-заказов&quot;-17.2\"><span class=\"toc-item-num\">17.2&nbsp;&nbsp;</span>Формирование пар \"пользователь - число заказов\"</a></span></li><li><span><a href=\"#По-среднему-чеку\" data-toc-modified-id=\"По-среднему-чеку-17.3\"><span class=\"toc-item-num\">17.3&nbsp;&nbsp;</span>По среднему чеку</a></span></li></ul></li><li><span><a href=\"#Выводы\" data-toc-modified-id=\"Выводы-18\"><span class=\"toc-item-num\">18&nbsp;&nbsp;</span>Выводы</a></span></li></ul></div>"
   ]
  },
  {
   "cell_type": "markdown",
   "id": "2465aaec",
   "metadata": {},
   "source": [
    "<div class=\"alert alert-success\">\n",
    "<b>Комментарий ревьюера ✔️:</b> Очень удобно! Так и менеджеру, и вообще любому пользователю, кто будет просматривать твою тетрадку будет легко и удобно в ней ориентироваться</div>"
   ]
  },
  {
   "cell_type": "markdown",
   "id": "cee138e2",
   "metadata": {},
   "source": [
    "## Подготовка инструментов"
   ]
  },
  {
   "cell_type": "code",
   "execution_count": 1,
   "id": "82e206ab",
   "metadata": {},
   "outputs": [],
   "source": [
    "import pandas as pd\n",
    "import datetime as dt\n",
    "import numpy as np\n",
    "import matplotlib.pyplot as plt\n",
    "import math\n",
    "from scipy import stats as st\n",
    "from pandas.plotting import register_matplotlib_converters\n",
    "import warnings"
   ]
  },
  {
   "cell_type": "markdown",
   "id": "0100fffa",
   "metadata": {},
   "source": [
    "## Чтение данных"
   ]
  },
  {
   "cell_type": "code",
   "execution_count": 2,
   "id": "06d957f0",
   "metadata": {},
   "outputs": [],
   "source": [
    "try:\n",
    "    hypothesis = pd.read_csv('hypothesis.csv')\n",
    "    orders = pd.read_csv('orders.csv')\n",
    "    visitors = pd.read_csv('visitors.csv')\n",
    "except:\n",
    "    hypothesis = pd.read_csv('/datasets/hypothesis.csv')\n",
    "    orders = pd.read_csv('/datasets/orders.csv')\n",
    "    visitors = pd.read_csv('/datasets/visitors.csv')"
   ]
  },
  {
   "cell_type": "markdown",
   "id": "66fb7942",
   "metadata": {},
   "source": [
    "<div class=\"alert alert-success\">\n",
    "<b>Комментарий ревьюера ✔️:</b> Воспользовались форматом try-except для чтения, универсальный способ указания пути к данным</div>"
   ]
  },
  {
   "cell_type": "markdown",
   "id": "39c4c109",
   "metadata": {},
   "source": [
    "## Обзор данных"
   ]
  },
  {
   "cell_type": "code",
   "execution_count": 3,
   "id": "e4983056",
   "metadata": {},
   "outputs": [
    {
     "name": "stdout",
     "output_type": "stream",
     "text": [
      "<class 'pandas.core.frame.DataFrame'>\n",
      "RangeIndex: 9 entries, 0 to 8\n",
      "Data columns (total 5 columns):\n",
      " #   Column      Non-Null Count  Dtype \n",
      "---  ------      --------------  ----- \n",
      " 0   Hypothesis  9 non-null      object\n",
      " 1   Reach       9 non-null      int64 \n",
      " 2   Impact      9 non-null      int64 \n",
      " 3   Confidence  9 non-null      int64 \n",
      " 4   Efforts     9 non-null      int64 \n",
      "dtypes: int64(4), object(1)\n",
      "memory usage: 488.0+ bytes\n"
     ]
    },
    {
     "data": {
      "text/plain": [
       "None"
      ]
     },
     "metadata": {},
     "output_type": "display_data"
    },
    {
     "name": "stdout",
     "output_type": "stream",
     "text": [
      "<class 'pandas.core.frame.DataFrame'>\n",
      "RangeIndex: 1197 entries, 0 to 1196\n",
      "Data columns (total 5 columns):\n",
      " #   Column         Non-Null Count  Dtype \n",
      "---  ------         --------------  ----- \n",
      " 0   transactionId  1197 non-null   int64 \n",
      " 1   visitorId      1197 non-null   int64 \n",
      " 2   date           1197 non-null   object\n",
      " 3   revenue        1197 non-null   int64 \n",
      " 4   group          1197 non-null   object\n",
      "dtypes: int64(3), object(2)\n",
      "memory usage: 46.9+ KB\n"
     ]
    },
    {
     "data": {
      "text/plain": [
       "None"
      ]
     },
     "metadata": {},
     "output_type": "display_data"
    },
    {
     "name": "stdout",
     "output_type": "stream",
     "text": [
      "<class 'pandas.core.frame.DataFrame'>\n",
      "RangeIndex: 62 entries, 0 to 61\n",
      "Data columns (total 3 columns):\n",
      " #   Column    Non-Null Count  Dtype \n",
      "---  ------    --------------  ----- \n",
      " 0   date      62 non-null     object\n",
      " 1   group     62 non-null     object\n",
      " 2   visitors  62 non-null     int64 \n",
      "dtypes: int64(1), object(2)\n",
      "memory usage: 1.6+ KB\n"
     ]
    }
   ],
   "source": [
    "display(hypothesis.info())\n",
    "display(orders.info())\n",
    "visitors.info()"
   ]
  },
  {
   "cell_type": "markdown",
   "id": "47704ac6",
   "metadata": {},
   "source": [
    "## Предобработка данных"
   ]
  },
  {
   "cell_type": "code",
   "execution_count": 4,
   "id": "d00f4560",
   "metadata": {},
   "outputs": [],
   "source": [
    "hypothesis = hypothesis.rename(columns=lambda x: x.lower())\n",
    "orders = orders.rename(columns={'transactionId': 'transaction_id', 'visitorId' : 'visitor_id'})"
   ]
  },
  {
   "cell_type": "markdown",
   "id": "3ba5b5f2",
   "metadata": {},
   "source": [
    "<div class=\"alert alert-success\">\n",
    "<b>Комментарий ревьюера ✔️:</b> Переводим столбцы в snake_case</div>"
   ]
  },
  {
   "cell_type": "code",
   "execution_count": 5,
   "id": "fbd376be",
   "metadata": {},
   "outputs": [
    {
     "data": {
      "text/plain": [
       "0"
      ]
     },
     "metadata": {},
     "output_type": "display_data"
    },
    {
     "data": {
      "text/plain": [
       "0"
      ]
     },
     "metadata": {},
     "output_type": "display_data"
    },
    {
     "data": {
      "text/plain": [
       "0"
      ]
     },
     "execution_count": 5,
     "metadata": {},
     "output_type": "execute_result"
    }
   ],
   "source": [
    "display(hypothesis.duplicated().sum())\n",
    "display(orders.duplicated().sum())\n",
    "visitors.duplicated().sum()"
   ]
  },
  {
   "cell_type": "code",
   "execution_count": 6,
   "id": "083a5cd6",
   "metadata": {},
   "outputs": [],
   "source": [
    "orders['date'] = pd.DatetimeIndex(orders['date']).date\n",
    "visitors['date'] = pd.DatetimeIndex(visitors['date']).date\n",
    "orders['date'] = orders['date'].astype('datetime64[D]')\n",
    "visitors['date'] = visitors['date'].astype('datetime64[D]')"
   ]
  },
  {
   "cell_type": "markdown",
   "id": "b1a1ff4e",
   "metadata": {},
   "source": [
    "<div class=\"alert alert-success\">\n",
    "<b>Комментарий ревьюера ✔️:</b> Все даты переводим в нормальный формат\n",
    "</div>"
   ]
  },
  {
   "cell_type": "code",
   "execution_count": 7,
   "id": "d5466ce0",
   "metadata": {},
   "outputs": [
    {
     "name": "stdout",
     "output_type": "stream",
     "text": [
      "<class 'pandas.core.frame.DataFrame'>\n",
      "RangeIndex: 9 entries, 0 to 8\n",
      "Data columns (total 5 columns):\n",
      " #   Column      Non-Null Count  Dtype \n",
      "---  ------      --------------  ----- \n",
      " 0   hypothesis  9 non-null      object\n",
      " 1   reach       9 non-null      int64 \n",
      " 2   impact      9 non-null      int64 \n",
      " 3   confidence  9 non-null      int64 \n",
      " 4   efforts     9 non-null      int64 \n",
      "dtypes: int64(4), object(1)\n",
      "memory usage: 488.0+ bytes\n"
     ]
    },
    {
     "data": {
      "text/plain": [
       "None"
      ]
     },
     "metadata": {},
     "output_type": "display_data"
    },
    {
     "name": "stdout",
     "output_type": "stream",
     "text": [
      "<class 'pandas.core.frame.DataFrame'>\n",
      "RangeIndex: 1197 entries, 0 to 1196\n",
      "Data columns (total 5 columns):\n",
      " #   Column          Non-Null Count  Dtype         \n",
      "---  ------          --------------  -----         \n",
      " 0   transaction_id  1197 non-null   int64         \n",
      " 1   visitor_id      1197 non-null   int64         \n",
      " 2   date            1197 non-null   datetime64[ns]\n",
      " 3   revenue         1197 non-null   int64         \n",
      " 4   group           1197 non-null   object        \n",
      "dtypes: datetime64[ns](1), int64(3), object(1)\n",
      "memory usage: 46.9+ KB\n"
     ]
    },
    {
     "data": {
      "text/plain": [
       "None"
      ]
     },
     "metadata": {},
     "output_type": "display_data"
    },
    {
     "name": "stdout",
     "output_type": "stream",
     "text": [
      "<class 'pandas.core.frame.DataFrame'>\n",
      "RangeIndex: 62 entries, 0 to 61\n",
      "Data columns (total 3 columns):\n",
      " #   Column    Non-Null Count  Dtype         \n",
      "---  ------    --------------  -----         \n",
      " 0   date      62 non-null     datetime64[ns]\n",
      " 1   group     62 non-null     object        \n",
      " 2   visitors  62 non-null     int64         \n",
      "dtypes: datetime64[ns](1), int64(1), object(1)\n",
      "memory usage: 1.6+ KB\n"
     ]
    }
   ],
   "source": [
    "display(hypothesis.info())\n",
    "display(orders.info())\n",
    "visitors.info()"
   ]
  },
  {
   "cell_type": "markdown",
   "id": "7f7a83ef",
   "metadata": {},
   "source": [
    "Выведем образцы данных, чтобы оценить результаты предобработки."
   ]
  },
  {
   "cell_type": "code",
   "execution_count": 8,
   "id": "d0470f69",
   "metadata": {},
   "outputs": [
    {
     "data": {
      "text/plain": [
       "array(['Добавить два новых канала привлечения трафика, что позволит привлекать на 30% больше пользователей',\n",
       "       'Запустить собственную службу доставки, что сократит срок доставки заказов',\n",
       "       'Добавить блоки рекомендаций товаров на сайт интернет магазина, чтобы повысить конверсию и средний чек заказа',\n",
       "       'Изменить структура категорий, что увеличит конверсию, т.к. пользователи быстрее найдут нужный товар',\n",
       "       'Изменить цвет фона главной страницы, чтобы увеличить вовлеченность пользователей',\n",
       "       'Добавить страницу отзывов клиентов о магазине, что позволит увеличить количество заказов',\n",
       "       'Показать на главной странице баннеры с актуальными акциями и распродажами, чтобы увеличить конверсию',\n",
       "       'Добавить форму подписки на все основные страницы, чтобы собрать базу клиентов для email-рассылок',\n",
       "       'Запустить акцию, дающую скидку на товар в день рождения'],\n",
       "      dtype=object)"
      ]
     },
     "metadata": {},
     "output_type": "display_data"
    },
    {
     "data": {
      "text/html": [
       "<div>\n",
       "<style scoped>\n",
       "    .dataframe tbody tr th:only-of-type {\n",
       "        vertical-align: middle;\n",
       "    }\n",
       "\n",
       "    .dataframe tbody tr th {\n",
       "        vertical-align: top;\n",
       "    }\n",
       "\n",
       "    .dataframe thead th {\n",
       "        text-align: right;\n",
       "    }\n",
       "</style>\n",
       "<table border=\"1\" class=\"dataframe\">\n",
       "  <thead>\n",
       "    <tr style=\"text-align: right;\">\n",
       "      <th></th>\n",
       "      <th>hypothesis</th>\n",
       "      <th>reach</th>\n",
       "      <th>impact</th>\n",
       "      <th>confidence</th>\n",
       "      <th>efforts</th>\n",
       "    </tr>\n",
       "  </thead>\n",
       "  <tbody>\n",
       "    <tr>\n",
       "      <th>0</th>\n",
       "      <td>Добавить два новых канала привлечения трафика,...</td>\n",
       "      <td>3</td>\n",
       "      <td>10</td>\n",
       "      <td>8</td>\n",
       "      <td>6</td>\n",
       "    </tr>\n",
       "    <tr>\n",
       "      <th>1</th>\n",
       "      <td>Запустить собственную службу доставки, что сок...</td>\n",
       "      <td>2</td>\n",
       "      <td>5</td>\n",
       "      <td>4</td>\n",
       "      <td>10</td>\n",
       "    </tr>\n",
       "    <tr>\n",
       "      <th>2</th>\n",
       "      <td>Добавить блоки рекомендаций товаров на сайт ин...</td>\n",
       "      <td>8</td>\n",
       "      <td>3</td>\n",
       "      <td>7</td>\n",
       "      <td>3</td>\n",
       "    </tr>\n",
       "    <tr>\n",
       "      <th>3</th>\n",
       "      <td>Изменить структура категорий, что увеличит кон...</td>\n",
       "      <td>8</td>\n",
       "      <td>3</td>\n",
       "      <td>3</td>\n",
       "      <td>8</td>\n",
       "    </tr>\n",
       "    <tr>\n",
       "      <th>4</th>\n",
       "      <td>Изменить цвет фона главной страницы, чтобы уве...</td>\n",
       "      <td>3</td>\n",
       "      <td>1</td>\n",
       "      <td>1</td>\n",
       "      <td>1</td>\n",
       "    </tr>\n",
       "    <tr>\n",
       "      <th>5</th>\n",
       "      <td>Добавить страницу отзывов клиентов о магазине,...</td>\n",
       "      <td>3</td>\n",
       "      <td>2</td>\n",
       "      <td>2</td>\n",
       "      <td>3</td>\n",
       "    </tr>\n",
       "    <tr>\n",
       "      <th>6</th>\n",
       "      <td>Показать на главной странице баннеры с актуаль...</td>\n",
       "      <td>5</td>\n",
       "      <td>3</td>\n",
       "      <td>8</td>\n",
       "      <td>3</td>\n",
       "    </tr>\n",
       "    <tr>\n",
       "      <th>7</th>\n",
       "      <td>Добавить форму подписки на все основные страни...</td>\n",
       "      <td>10</td>\n",
       "      <td>7</td>\n",
       "      <td>8</td>\n",
       "      <td>5</td>\n",
       "    </tr>\n",
       "    <tr>\n",
       "      <th>8</th>\n",
       "      <td>Запустить акцию, дающую скидку на товар в день...</td>\n",
       "      <td>1</td>\n",
       "      <td>9</td>\n",
       "      <td>9</td>\n",
       "      <td>5</td>\n",
       "    </tr>\n",
       "  </tbody>\n",
       "</table>\n",
       "</div>"
      ],
      "text/plain": [
       "                                          hypothesis  reach  impact  \\\n",
       "0  Добавить два новых канала привлечения трафика,...      3      10   \n",
       "1  Запустить собственную службу доставки, что сок...      2       5   \n",
       "2  Добавить блоки рекомендаций товаров на сайт ин...      8       3   \n",
       "3  Изменить структура категорий, что увеличит кон...      8       3   \n",
       "4  Изменить цвет фона главной страницы, чтобы уве...      3       1   \n",
       "5  Добавить страницу отзывов клиентов о магазине,...      3       2   \n",
       "6  Показать на главной странице баннеры с актуаль...      5       3   \n",
       "7  Добавить форму подписки на все основные страни...     10       7   \n",
       "8  Запустить акцию, дающую скидку на товар в день...      1       9   \n",
       "\n",
       "   confidence  efforts  \n",
       "0           8        6  \n",
       "1           4       10  \n",
       "2           7        3  \n",
       "3           3        8  \n",
       "4           1        1  \n",
       "5           2        3  \n",
       "6           8        3  \n",
       "7           8        5  \n",
       "8           9        5  "
      ]
     },
     "metadata": {},
     "output_type": "display_data"
    },
    {
     "data": {
      "text/html": [
       "<div>\n",
       "<style scoped>\n",
       "    .dataframe tbody tr th:only-of-type {\n",
       "        vertical-align: middle;\n",
       "    }\n",
       "\n",
       "    .dataframe tbody tr th {\n",
       "        vertical-align: top;\n",
       "    }\n",
       "\n",
       "    .dataframe thead th {\n",
       "        text-align: right;\n",
       "    }\n",
       "</style>\n",
       "<table border=\"1\" class=\"dataframe\">\n",
       "  <thead>\n",
       "    <tr style=\"text-align: right;\">\n",
       "      <th></th>\n",
       "      <th>transaction_id</th>\n",
       "      <th>visitor_id</th>\n",
       "      <th>date</th>\n",
       "      <th>revenue</th>\n",
       "      <th>group</th>\n",
       "    </tr>\n",
       "  </thead>\n",
       "  <tbody>\n",
       "    <tr>\n",
       "      <th>0</th>\n",
       "      <td>3667963787</td>\n",
       "      <td>3312258926</td>\n",
       "      <td>2019-08-15</td>\n",
       "      <td>1650</td>\n",
       "      <td>B</td>\n",
       "    </tr>\n",
       "    <tr>\n",
       "      <th>1</th>\n",
       "      <td>2804400009</td>\n",
       "      <td>3642806036</td>\n",
       "      <td>2019-08-15</td>\n",
       "      <td>730</td>\n",
       "      <td>B</td>\n",
       "    </tr>\n",
       "    <tr>\n",
       "      <th>2</th>\n",
       "      <td>2961555356</td>\n",
       "      <td>4069496402</td>\n",
       "      <td>2019-08-15</td>\n",
       "      <td>400</td>\n",
       "      <td>A</td>\n",
       "    </tr>\n",
       "    <tr>\n",
       "      <th>3</th>\n",
       "      <td>3797467345</td>\n",
       "      <td>1196621759</td>\n",
       "      <td>2019-08-15</td>\n",
       "      <td>9759</td>\n",
       "      <td>B</td>\n",
       "    </tr>\n",
       "    <tr>\n",
       "      <th>4</th>\n",
       "      <td>2282983706</td>\n",
       "      <td>2322279887</td>\n",
       "      <td>2019-08-15</td>\n",
       "      <td>2308</td>\n",
       "      <td>B</td>\n",
       "    </tr>\n",
       "  </tbody>\n",
       "</table>\n",
       "</div>"
      ],
      "text/plain": [
       "   transaction_id  visitor_id       date  revenue group\n",
       "0      3667963787  3312258926 2019-08-15     1650     B\n",
       "1      2804400009  3642806036 2019-08-15      730     B\n",
       "2      2961555356  4069496402 2019-08-15      400     A\n",
       "3      3797467345  1196621759 2019-08-15     9759     B\n",
       "4      2282983706  2322279887 2019-08-15     2308     B"
      ]
     },
     "metadata": {},
     "output_type": "display_data"
    },
    {
     "data": {
      "text/html": [
       "<div>\n",
       "<style scoped>\n",
       "    .dataframe tbody tr th:only-of-type {\n",
       "        vertical-align: middle;\n",
       "    }\n",
       "\n",
       "    .dataframe tbody tr th {\n",
       "        vertical-align: top;\n",
       "    }\n",
       "\n",
       "    .dataframe thead th {\n",
       "        text-align: right;\n",
       "    }\n",
       "</style>\n",
       "<table border=\"1\" class=\"dataframe\">\n",
       "  <thead>\n",
       "    <tr style=\"text-align: right;\">\n",
       "      <th></th>\n",
       "      <th>date</th>\n",
       "      <th>group</th>\n",
       "      <th>visitors</th>\n",
       "    </tr>\n",
       "  </thead>\n",
       "  <tbody>\n",
       "    <tr>\n",
       "      <th>0</th>\n",
       "      <td>2019-08-01</td>\n",
       "      <td>A</td>\n",
       "      <td>719</td>\n",
       "    </tr>\n",
       "    <tr>\n",
       "      <th>1</th>\n",
       "      <td>2019-08-02</td>\n",
       "      <td>A</td>\n",
       "      <td>619</td>\n",
       "    </tr>\n",
       "    <tr>\n",
       "      <th>2</th>\n",
       "      <td>2019-08-03</td>\n",
       "      <td>A</td>\n",
       "      <td>507</td>\n",
       "    </tr>\n",
       "    <tr>\n",
       "      <th>3</th>\n",
       "      <td>2019-08-04</td>\n",
       "      <td>A</td>\n",
       "      <td>717</td>\n",
       "    </tr>\n",
       "    <tr>\n",
       "      <th>4</th>\n",
       "      <td>2019-08-05</td>\n",
       "      <td>A</td>\n",
       "      <td>756</td>\n",
       "    </tr>\n",
       "  </tbody>\n",
       "</table>\n",
       "</div>"
      ],
      "text/plain": [
       "        date group  visitors\n",
       "0 2019-08-01     A       719\n",
       "1 2019-08-02     A       619\n",
       "2 2019-08-03     A       507\n",
       "3 2019-08-04     A       717\n",
       "4 2019-08-05     A       756"
      ]
     },
     "execution_count": 8,
     "metadata": {},
     "output_type": "execute_result"
    }
   ],
   "source": [
    "display(hypothesis['hypothesis'].unique())\n",
    "display(hypothesis)\n",
    "display(orders.head())\n",
    "visitors.head()"
   ]
  },
  {
   "cell_type": "markdown",
   "id": "d6ca570b",
   "metadata": {},
   "source": [
    "<div class=\"alert alert-success\">\n",
    "<b>Комментарий ревьюера ✔️:</b> И на полные названия гипотез тоже посмотрели</div>"
   ]
  },
  {
   "cell_type": "code",
   "execution_count": 9,
   "id": "015fe291",
   "metadata": {},
   "outputs": [
    {
     "name": "stdout",
     "output_type": "stream",
     "text": [
      "Пользователи с несколькими группами:\n",
      "58\n"
     ]
    }
   ],
   "source": [
    "user_group_counts = orders.groupby('visitor_id')['group'].nunique()\n",
    "users_with_multiple_groups = user_group_counts[user_group_counts > 1]\n",
    "\n",
    "if not users_with_multiple_groups.empty:\n",
    "    print(\"Пользователи с несколькими группами:\")\n",
    "    print(users_with_multiple_groups.count())\n",
    "else:\n",
    "    print(\"Нет пользователей с несколькими группами.\")"
   ]
  },
  {
   "cell_type": "markdown",
   "id": "c53c0955",
   "metadata": {},
   "source": [
    "<div class=\"alert alert-success\">\n",
    "<b>Комментарий ревьюера v 2.0 ✔️:</b> Проверка выполнена корректно"
   ]
  },
  {
   "cell_type": "markdown",
   "id": "cdd73dd6",
   "metadata": {},
   "source": [
    "<div class=\"alert alert-danger\">\n",
    "<b>Комментарий ревьюера v 2.0 ❌:</b> \n",
    "    \n",
    "<b>На самом деле, чаще всего при проведении A/B тестов при таких довольно небольших пересечения принимают решение оставить этих пользователей как есть, чтобы дополнительно не исказить результаты исследования</b> "
   ]
  },
  {
   "cell_type": "markdown",
   "id": "b876c37d",
   "metadata": {},
   "source": [
    "<div class=\"alert alert-info\"> <b>Комментарий студента v 2.0:</b> убрала ячейку с удалением этих пользователей.</div>"
   ]
  },
  {
   "cell_type": "markdown",
   "id": "a39adc8a",
   "metadata": {},
   "source": [
    "<div class=\"alert alert-success\">\n",
    "<b>Комментарий ревьюера v 3.0 ✔️:</b> Отлично!"
   ]
  },
  {
   "cell_type": "markdown",
   "id": "85bcb77f",
   "metadata": {},
   "source": [
    "**Предобработка данных завершена.**\n",
    "1. Уточнены именования колонок.\n",
    "1. Уточнен тип данных для дат.\n",
    "1. Полные дубликаты и пропуски отсутствуют.\n",
    "1. Формулировки гипотез выглядят адекватными.\n",
    "1. Составы групп проверены с точки зрения присутствия одних и тех же пользователей в разных группах: 58 таких случаев оставлены как есть."
   ]
  },
  {
   "cell_type": "markdown",
   "id": "c4214a4f",
   "metadata": {},
   "source": [
    "<div class=\"alert alert-info\"> <b>Комментарий студента:</b> Обрати, пожалуйста, внимание, что я вынесла очистку групп от повторяющихся пользователей в предобработку вместо раздела \"Оценка кумулятивной выручки\".</div>"
   ]
  },
  {
   "cell_type": "markdown",
   "id": "3e1edccc",
   "metadata": {},
   "source": [
    "## Приоритизация гипотез"
   ]
  },
  {
   "cell_type": "code",
   "execution_count": 10,
   "id": "2565a4d2",
   "metadata": {},
   "outputs": [
    {
     "data": {
      "text/html": [
       "<div>\n",
       "<style scoped>\n",
       "    .dataframe tbody tr th:only-of-type {\n",
       "        vertical-align: middle;\n",
       "    }\n",
       "\n",
       "    .dataframe tbody tr th {\n",
       "        vertical-align: top;\n",
       "    }\n",
       "\n",
       "    .dataframe thead th {\n",
       "        text-align: right;\n",
       "    }\n",
       "</style>\n",
       "<table border=\"1\" class=\"dataframe\">\n",
       "  <thead>\n",
       "    <tr style=\"text-align: right;\">\n",
       "      <th></th>\n",
       "      <th>hypothesis</th>\n",
       "      <th>reach</th>\n",
       "      <th>impact</th>\n",
       "      <th>confidence</th>\n",
       "      <th>efforts</th>\n",
       "      <th>ice</th>\n",
       "    </tr>\n",
       "  </thead>\n",
       "  <tbody>\n",
       "    <tr>\n",
       "      <th>8</th>\n",
       "      <td>Запустить акцию, дающую скидку на товар в день...</td>\n",
       "      <td>1</td>\n",
       "      <td>9</td>\n",
       "      <td>9</td>\n",
       "      <td>5</td>\n",
       "      <td>16.20</td>\n",
       "    </tr>\n",
       "    <tr>\n",
       "      <th>0</th>\n",
       "      <td>Добавить два новых канала привлечения трафика,...</td>\n",
       "      <td>3</td>\n",
       "      <td>10</td>\n",
       "      <td>8</td>\n",
       "      <td>6</td>\n",
       "      <td>13.33</td>\n",
       "    </tr>\n",
       "    <tr>\n",
       "      <th>7</th>\n",
       "      <td>Добавить форму подписки на все основные страни...</td>\n",
       "      <td>10</td>\n",
       "      <td>7</td>\n",
       "      <td>8</td>\n",
       "      <td>5</td>\n",
       "      <td>11.20</td>\n",
       "    </tr>\n",
       "    <tr>\n",
       "      <th>6</th>\n",
       "      <td>Показать на главной странице баннеры с актуаль...</td>\n",
       "      <td>5</td>\n",
       "      <td>3</td>\n",
       "      <td>8</td>\n",
       "      <td>3</td>\n",
       "      <td>8.00</td>\n",
       "    </tr>\n",
       "    <tr>\n",
       "      <th>2</th>\n",
       "      <td>Добавить блоки рекомендаций товаров на сайт ин...</td>\n",
       "      <td>8</td>\n",
       "      <td>3</td>\n",
       "      <td>7</td>\n",
       "      <td>3</td>\n",
       "      <td>7.00</td>\n",
       "    </tr>\n",
       "    <tr>\n",
       "      <th>1</th>\n",
       "      <td>Запустить собственную службу доставки, что сок...</td>\n",
       "      <td>2</td>\n",
       "      <td>5</td>\n",
       "      <td>4</td>\n",
       "      <td>10</td>\n",
       "      <td>2.00</td>\n",
       "    </tr>\n",
       "    <tr>\n",
       "      <th>5</th>\n",
       "      <td>Добавить страницу отзывов клиентов о магазине,...</td>\n",
       "      <td>3</td>\n",
       "      <td>2</td>\n",
       "      <td>2</td>\n",
       "      <td>3</td>\n",
       "      <td>1.33</td>\n",
       "    </tr>\n",
       "    <tr>\n",
       "      <th>3</th>\n",
       "      <td>Изменить структура категорий, что увеличит кон...</td>\n",
       "      <td>8</td>\n",
       "      <td>3</td>\n",
       "      <td>3</td>\n",
       "      <td>8</td>\n",
       "      <td>1.12</td>\n",
       "    </tr>\n",
       "    <tr>\n",
       "      <th>4</th>\n",
       "      <td>Изменить цвет фона главной страницы, чтобы уве...</td>\n",
       "      <td>3</td>\n",
       "      <td>1</td>\n",
       "      <td>1</td>\n",
       "      <td>1</td>\n",
       "      <td>1.00</td>\n",
       "    </tr>\n",
       "  </tbody>\n",
       "</table>\n",
       "</div>"
      ],
      "text/plain": [
       "                                          hypothesis  reach  impact  \\\n",
       "8  Запустить акцию, дающую скидку на товар в день...      1       9   \n",
       "0  Добавить два новых канала привлечения трафика,...      3      10   \n",
       "7  Добавить форму подписки на все основные страни...     10       7   \n",
       "6  Показать на главной странице баннеры с актуаль...      5       3   \n",
       "2  Добавить блоки рекомендаций товаров на сайт ин...      8       3   \n",
       "1  Запустить собственную службу доставки, что сок...      2       5   \n",
       "5  Добавить страницу отзывов клиентов о магазине,...      3       2   \n",
       "3  Изменить структура категорий, что увеличит кон...      8       3   \n",
       "4  Изменить цвет фона главной страницы, чтобы уве...      3       1   \n",
       "\n",
       "   confidence  efforts    ice  \n",
       "8           9        5  16.20  \n",
       "0           8        6  13.33  \n",
       "7           8        5  11.20  \n",
       "6           8        3   8.00  \n",
       "2           7        3   7.00  \n",
       "1           4       10   2.00  \n",
       "5           2        3   1.33  \n",
       "3           3        8   1.12  \n",
       "4           1        1   1.00  "
      ]
     },
     "execution_count": 10,
     "metadata": {},
     "output_type": "execute_result"
    }
   ],
   "source": [
    "hypothesis['ice'] = (hypothesis['impact'] * hypothesis['confidence'] / hypothesis['efforts']).round(2)\n",
    "hypothesis.sort_values(by = 'ice', ascending = False)"
   ]
  },
  {
   "cell_type": "markdown",
   "id": "499852bd",
   "metadata": {},
   "source": [
    "По результатам работы фреймворка ICE в тройку лидеров вошли гипотезы:\n",
    "* Запустить акцию, дающую скидку на товар в день рождения\n",
    "* Добавить два новых канала привлечения трафика, что позволит привлекать на 30% больше пользователей\n",
    "* Добавить форму подписки на все основные страницы, чтобы собрать базу клиентов для email-рассылок"
   ]
  },
  {
   "cell_type": "markdown",
   "id": "95f9c368",
   "metadata": {},
   "source": [
    "<div class=\"alert alert-warning\">\n",
    "<b>Комментарий ревьюера ⚠️:</b> В целом верно, но тут значения в ICE вполне можно округлить до второго знака и написать сами названия гипотез, а не их индексы"
   ]
  },
  {
   "cell_type": "markdown",
   "id": "647a34fe",
   "metadata": {},
   "source": [
    "<div class=\"alert alert-info\"> <b>Комментарий студента:</b> готово.</div>\n"
   ]
  },
  {
   "cell_type": "markdown",
   "id": "ce9f723a",
   "metadata": {},
   "source": [
    "<div class=\"alert alert-success\">\n",
    "<b>Комментарий ревьюера v 2.0 ✔️:</b> Поправили оформление выводов"
   ]
  },
  {
   "cell_type": "code",
   "execution_count": 11,
   "id": "b8ad4be2",
   "metadata": {},
   "outputs": [
    {
     "data": {
      "text/html": [
       "<div>\n",
       "<style scoped>\n",
       "    .dataframe tbody tr th:only-of-type {\n",
       "        vertical-align: middle;\n",
       "    }\n",
       "\n",
       "    .dataframe tbody tr th {\n",
       "        vertical-align: top;\n",
       "    }\n",
       "\n",
       "    .dataframe thead th {\n",
       "        text-align: right;\n",
       "    }\n",
       "</style>\n",
       "<table border=\"1\" class=\"dataframe\">\n",
       "  <thead>\n",
       "    <tr style=\"text-align: right;\">\n",
       "      <th></th>\n",
       "      <th>hypothesis</th>\n",
       "      <th>reach</th>\n",
       "      <th>impact</th>\n",
       "      <th>confidence</th>\n",
       "      <th>efforts</th>\n",
       "      <th>ice</th>\n",
       "      <th>rice</th>\n",
       "    </tr>\n",
       "  </thead>\n",
       "  <tbody>\n",
       "    <tr>\n",
       "      <th>7</th>\n",
       "      <td>Добавить форму подписки на все основные страни...</td>\n",
       "      <td>10</td>\n",
       "      <td>7</td>\n",
       "      <td>8</td>\n",
       "      <td>5</td>\n",
       "      <td>11.20</td>\n",
       "      <td>112.0</td>\n",
       "    </tr>\n",
       "    <tr>\n",
       "      <th>2</th>\n",
       "      <td>Добавить блоки рекомендаций товаров на сайт ин...</td>\n",
       "      <td>8</td>\n",
       "      <td>3</td>\n",
       "      <td>7</td>\n",
       "      <td>3</td>\n",
       "      <td>7.00</td>\n",
       "      <td>56.0</td>\n",
       "    </tr>\n",
       "    <tr>\n",
       "      <th>0</th>\n",
       "      <td>Добавить два новых канала привлечения трафика,...</td>\n",
       "      <td>3</td>\n",
       "      <td>10</td>\n",
       "      <td>8</td>\n",
       "      <td>6</td>\n",
       "      <td>13.33</td>\n",
       "      <td>40.0</td>\n",
       "    </tr>\n",
       "    <tr>\n",
       "      <th>6</th>\n",
       "      <td>Показать на главной странице баннеры с актуаль...</td>\n",
       "      <td>5</td>\n",
       "      <td>3</td>\n",
       "      <td>8</td>\n",
       "      <td>3</td>\n",
       "      <td>8.00</td>\n",
       "      <td>40.0</td>\n",
       "    </tr>\n",
       "    <tr>\n",
       "      <th>8</th>\n",
       "      <td>Запустить акцию, дающую скидку на товар в день...</td>\n",
       "      <td>1</td>\n",
       "      <td>9</td>\n",
       "      <td>9</td>\n",
       "      <td>5</td>\n",
       "      <td>16.20</td>\n",
       "      <td>16.2</td>\n",
       "    </tr>\n",
       "    <tr>\n",
       "      <th>3</th>\n",
       "      <td>Изменить структура категорий, что увеличит кон...</td>\n",
       "      <td>8</td>\n",
       "      <td>3</td>\n",
       "      <td>3</td>\n",
       "      <td>8</td>\n",
       "      <td>1.12</td>\n",
       "      <td>9.0</td>\n",
       "    </tr>\n",
       "    <tr>\n",
       "      <th>1</th>\n",
       "      <td>Запустить собственную службу доставки, что сок...</td>\n",
       "      <td>2</td>\n",
       "      <td>5</td>\n",
       "      <td>4</td>\n",
       "      <td>10</td>\n",
       "      <td>2.00</td>\n",
       "      <td>4.0</td>\n",
       "    </tr>\n",
       "    <tr>\n",
       "      <th>5</th>\n",
       "      <td>Добавить страницу отзывов клиентов о магазине,...</td>\n",
       "      <td>3</td>\n",
       "      <td>2</td>\n",
       "      <td>2</td>\n",
       "      <td>3</td>\n",
       "      <td>1.33</td>\n",
       "      <td>4.0</td>\n",
       "    </tr>\n",
       "    <tr>\n",
       "      <th>4</th>\n",
       "      <td>Изменить цвет фона главной страницы, чтобы уве...</td>\n",
       "      <td>3</td>\n",
       "      <td>1</td>\n",
       "      <td>1</td>\n",
       "      <td>1</td>\n",
       "      <td>1.00</td>\n",
       "      <td>3.0</td>\n",
       "    </tr>\n",
       "  </tbody>\n",
       "</table>\n",
       "</div>"
      ],
      "text/plain": [
       "                                          hypothesis  reach  impact  \\\n",
       "7  Добавить форму подписки на все основные страни...     10       7   \n",
       "2  Добавить блоки рекомендаций товаров на сайт ин...      8       3   \n",
       "0  Добавить два новых канала привлечения трафика,...      3      10   \n",
       "6  Показать на главной странице баннеры с актуаль...      5       3   \n",
       "8  Запустить акцию, дающую скидку на товар в день...      1       9   \n",
       "3  Изменить структура категорий, что увеличит кон...      8       3   \n",
       "1  Запустить собственную службу доставки, что сок...      2       5   \n",
       "5  Добавить страницу отзывов клиентов о магазине,...      3       2   \n",
       "4  Изменить цвет фона главной страницы, чтобы уве...      3       1   \n",
       "\n",
       "   confidence  efforts    ice   rice  \n",
       "7           8        5  11.20  112.0  \n",
       "2           7        3   7.00   56.0  \n",
       "0           8        6  13.33   40.0  \n",
       "6           8        3   8.00   40.0  \n",
       "8           9        5  16.20   16.2  \n",
       "3           3        8   1.12    9.0  \n",
       "1           4       10   2.00    4.0  \n",
       "5           2        3   1.33    4.0  \n",
       "4           1        1   1.00    3.0  "
      ]
     },
     "execution_count": 11,
     "metadata": {},
     "output_type": "execute_result"
    }
   ],
   "source": [
    "hypothesis['rice'] = (hypothesis['reach'] * hypothesis['impact'] * hypothesis['confidence']) / hypothesis['efforts']\n",
    "hypothesis.sort_values(by = 'rice', ascending = False)"
   ]
  },
  {
   "cell_type": "markdown",
   "id": "4f1b6a23",
   "metadata": {},
   "source": [
    "Оценка приоритета с помощью фреймворка RICE возвращает как наиболее перспективные гипотезы:\n",
    "* Добавить форму подписки на все основные страницы, чтобы собрать базу клиентов для email-рассылок\n",
    "* Добавить блоки рекомендаций товаров на сайт интернет магазина, чтобы повысить конверсию и средний чек заказа\n",
    "* Добавить два новых канала привлечения трафика, что позволит привлекать на 30% больше пользователей"
   ]
  },
  {
   "cell_type": "markdown",
   "id": "6409a2a9",
   "metadata": {},
   "source": [
    "<div class=\"alert alert-warning\">\n",
    "<b>Комментарий ревьюера ⚠️:</b>  Тут также лучше например вместо гипотезы 7 - вывести ее название. Поскольку 7 - это не номер гипотезы - это ее индекс. У \"коллег\", все может быть иначе, например список в Ноушен с другой сортировкой, поэтому аналитик должен дать универсальный вывод.\n"
   ]
  },
  {
   "cell_type": "markdown",
   "id": "771571f2",
   "metadata": {},
   "source": [
    "<div class=\"alert alert-info\"> <b>Комментарий студента:</b> готово.</div>"
   ]
  },
  {
   "cell_type": "markdown",
   "id": "18605665",
   "metadata": {},
   "source": [
    "<div class=\"alert alert-success\">\n",
    "<b>Комментарий ревьюера v 2.0 ✔️:</b> Отлично!"
   ]
  },
  {
   "cell_type": "markdown",
   "id": "c01d670e",
   "metadata": {},
   "source": [
    "### Изменение приоритетов\n",
    "После применения метода RICE гипотеза 8 - акция про скидку в день рождения - вышла из тройки лидеров. Самой перспективной стала гипотеза 7- форма подписки для сбора адресов для рассылки, на втором месте - гипотеза 2 про блоки рекомендаций товаров, на третьем - 0, про добавление 2 новых каналов привлечения трафика.\n",
    "\n",
    "Гипотезы 7 и 0 выглядят по итогам двух методов самыми перспективными, так как они остаются втройке лидеров в обоих случаях.\n",
    "\n",
    "### Причины изменений\n",
    "\n",
    "Так как фреймворк RICE включает в расчет показатель охвата в качестве дополнительного множителя, то итоговое значение индекса будет тем выше, чем больше этот множитель. У гипотезы 7 - \"Добавить форму подписки на все основные страницы, чтобы собрать базу клиентов для email-рассылок\" - охват будет самым большим, и это делает гипотезу 7 лидером по методу RICE.\n",
    "\n",
    "Гипотеза 8 - \"Запустить акцию, дающую скидку на товар в день рождения\" - имеет самый низкий охват, поэтому проваливается на 5 место по методу RICE."
   ]
  },
  {
   "cell_type": "markdown",
   "id": "ff17b112",
   "metadata": {},
   "source": [
    "<div class=\"alert alert-success\">\n",
    "<b>Комментарий ревьюера ✔️:</b> По расчетам и описанию все абсолютно верно, молодец что указал Reach как основную причину отличия фремворков, а также в самом выводе описал полные названия гипотез </div>"
   ]
  },
  {
   "cell_type": "markdown",
   "id": "3693b4dc",
   "metadata": {},
   "source": [
    "## Оценка кумулятивной выручки по группам"
   ]
  },
  {
   "cell_type": "code",
   "execution_count": 12,
   "id": "d208fdb1",
   "metadata": {},
   "outputs": [
    {
     "name": "stdout",
     "output_type": "stream",
     "text": [
      "        date group  orders  buyers  revenue  visitors\n",
      "0 2019-08-01     A      24      20   148579       719\n",
      "1 2019-08-01     B      21      20   101217       713\n",
      "2 2019-08-02     A      44      38   242401      1338\n",
      "3 2019-08-02     B      45      43   266748      1294\n",
      "4 2019-08-03     A      68      62   354874      1845\n"
     ]
    }
   ],
   "source": [
    "datesGroups = orders[['date','group']].drop_duplicates()\n",
    "\n",
    "ordersAggregated = datesGroups.apply(lambda x: orders[np.logical_and(orders['date'] <= x['date'], orders['group'] == x['group'])].agg({'date' : 'max', 'group' : 'max', 'transaction_id' : 'nunique', 'visitor_id' : 'nunique', 'revenue' : 'sum'}), axis=1).sort_values(by=['date','group'])\n",
    "\n",
    "visitorsAggregated = datesGroups.apply(lambda x: visitors[np.logical_and(visitors['date'] <= x['date'], visitors['group'] == x['group'])].agg({'date' : 'max', 'group' : 'max', 'visitors' : 'sum'}), axis=1).sort_values(by=['date','group'])\n",
    "\n",
    "cumulativeData = ordersAggregated.merge(visitorsAggregated, left_on=['date', 'group'], right_on=['date', 'group'])\n",
    "cumulativeData.columns = ['date', 'group', 'orders', 'buyers', 'revenue', 'visitors']\n",
    "\n",
    "print(cumulativeData.head(5))"
   ]
  },
  {
   "cell_type": "markdown",
   "id": "e6c65aee",
   "metadata": {},
   "source": [
    "<div class=\"alert alert-success\">\n",
    "<b>Комментарий ревьюера ✔️:</b> Уникальные пары сформированы, получены агрегированные данные, молодец!</div>"
   ]
  },
  {
   "cell_type": "markdown",
   "id": "0e1005ae",
   "metadata": {},
   "source": [
    "<div class=\"alert alert-danger\">\n",
    "<b>Комментарий ревьюера ❌:</b> Но также здесь необходимо проверить и описать, не попадают ли какие-то пользователи в обе группы - по таблице с заказами. Мы здесь можем проверить только пересечния именно по покупателям, поскольку данные с визитами уже представлены агрегированными </div>"
   ]
  },
  {
   "cell_type": "markdown",
   "id": "8f04162e",
   "metadata": {},
   "source": [
    "<div class=\"alert alert-info\"> <b>Комментарий студента:</b> готово. Очистка групп вынесена в раздел \"Предобработка данных\".</div>"
   ]
  },
  {
   "cell_type": "markdown",
   "id": "a1a7b95c",
   "metadata": {},
   "source": [
    "<div class=\"alert alert-success\">\n",
    "<b>Комментарий ревьюера v 2.0 ✔️:</b> Проверка пересечений выполнена выше"
   ]
  },
  {
   "cell_type": "code",
   "execution_count": 13,
   "id": "d70ae15d",
   "metadata": {},
   "outputs": [
    {
     "data": {
      "image/png": "[encoded data removed]",
      "text/plain": [
       "<Figure size 1440x720 with 1 Axes>"
      ]
     },
     "metadata": {
      "needs_background": "light"
     },
     "output_type": "display_data"
    }
   ],
   "source": [
    "cumulativeRevenueA = cumulativeData[cumulativeData['group']=='A'][['date','revenue', 'orders', 'visitors']]\n",
    "\n",
    "cumulativeRevenueB = cumulativeData[cumulativeData['group']=='B'][['date','revenue', 'orders', 'visitors']]\n",
    "\n",
    "plt.figure(figsize=(20, 10))\n",
    "\n",
    "plt.title('Кумулятивная выручка по дням и группам')\n",
    "\n",
    "plt.plot(cumulativeRevenueA['date'], cumulativeRevenueA['revenue'], label='A')\n",
    "\n",
    "plt.plot(cumulativeRevenueB['date'], cumulativeRevenueB['revenue'], label='B')\n",
    "\n",
    "plt.legend();"
   ]
  },
  {
   "cell_type": "markdown",
   "id": "d0631a66",
   "metadata": {},
   "source": [
    "### Промежуточные выводы\n",
    "1. До 5 августа 2019 кумулятивная выручка примерно равна в обеих группах.\n",
    "1. С 5 по 13 августа выручка группы В слегка превышает группу А.\n",
    "1. 13 августа выручки снова почти выравниваются и с этого момента выручка группы В стабильно превышает выручку группы А.\n",
    "\n",
    "### Предположения\n",
    "Так как до примерно 18 августа графики выручки в группах движутся почти параллельно, хоть В и превышает А, а после 18 августа данные показывают резкий рост группы В, после чего движение графиков снова параллельно, возможно, именно 18 августа произошел всплеск заказов или особо крупный заказ в группе В."
   ]
  },
  {
   "cell_type": "markdown",
   "id": "4585ee2f",
   "metadata": {},
   "source": [
    "<div class=\"alert alert-success\">\n",
    "<b>Комментарий ревьюера ✔️:</b> Аномалия хорошо зафиксирована и молодец, что предлагаешь возможную причину ее возникновения.</div>"
   ]
  },
  {
   "cell_type": "markdown",
   "id": "5a33fe90",
   "metadata": {},
   "source": [
    "## Оценка кумулятивного среднего чека про группам"
   ]
  },
  {
   "cell_type": "code",
   "execution_count": 14,
   "id": "7c11e41e",
   "metadata": {},
   "outputs": [
    {
     "data": {
      "image/png": "[encoded data removed]",
      "text/plain": [
       "<Figure size 1440x720 with 1 Axes>"
      ]
     },
     "metadata": {
      "needs_background": "light"
     },
     "output_type": "display_data"
    }
   ],
   "source": [
    "plt.figure(figsize=(20, 10))\n",
    "\n",
    "plt.title('Кумулятивный средний чек по дням и группам')\n",
    "\n",
    "plt.plot(cumulativeRevenueA['date'], cumulativeRevenueA['revenue']/cumulativeRevenueA['orders'], label='A')\n",
    "plt.plot(cumulativeRevenueB['date'], cumulativeRevenueB['revenue']/cumulativeRevenueB['orders'], label='B')\n",
    "\n",
    "plt.legend();"
   ]
  },
  {
   "cell_type": "markdown",
   "id": "23121760",
   "metadata": {},
   "source": [
    "### Промежуточные выводы\n",
    "1. Графики среднего чека становятся равномерными после 18 августа.\n",
    "1. Аналогично предыдущему графику мы видим сильный всплекс в группе В примерно 18 августа.\n",
    "1. После 18 августа графики группы А и В начинают медленно сближаться.\n",
    "\n",
    "### Предположения\n",
    "1. Похоже, что всплеск в группе В 18 августа - это действительно крупный заказ или даже несколько крупных заказов, а не много \"обычных\" заказов. - Большая сумма одного или нескольких заказов тянет вверх и среднюю сумму.\n",
    "1. Для оценки дальнейшей динамики следует продолжать тест."
   ]
  },
  {
   "cell_type": "markdown",
   "id": "8f7f1f64",
   "metadata": {},
   "source": [
    "<div class=\"alert alert-success\">\n",
    "<b>Комментарий ревьюера ✔️:</b> Вполне логично. Очевидно, здесь есть влияние выбросов</div>"
   ]
  },
  {
   "cell_type": "markdown",
   "id": "54c32e11",
   "metadata": {},
   "source": [
    "## Оценка относительного изменения кумулятивного среднего чека<br> группы В к группе А"
   ]
  },
  {
   "cell_type": "code",
   "execution_count": 15,
   "id": "84a1ffbb",
   "metadata": {},
   "outputs": [
    {
     "data": {
      "image/png": "[encoded data removed]",
      "text/plain": [
       "<Figure size 1440x720 with 1 Axes>"
      ]
     },
     "metadata": {
      "needs_background": "light"
     },
     "output_type": "display_data"
    }
   ],
   "source": [
    "mergedCumulativeRevenue = cumulativeRevenueA.merge(cumulativeRevenueB, left_on='date', right_on='date', how='left', suffixes=['A', 'B'])\n",
    "\n",
    "plt.figure(figsize=(20, 10))\n",
    "\n",
    "plt.title('Относительное изменение кумулятивного среднего чека группы В к группе А')\n",
    "\n",
    "plt.plot(mergedCumulativeRevenue['date'], (mergedCumulativeRevenue['revenueB']/mergedCumulativeRevenue['ordersB'])/(mergedCumulativeRevenue['revenueA']/mergedCumulativeRevenue['ordersA'])-1)\n",
    "\n",
    "plt.axhline(y=0, color='black', linestyle='--');"
   ]
  },
  {
   "cell_type": "markdown",
   "id": "188faa2d",
   "metadata": {},
   "source": [
    "### Промежуточные выводы\n",
    "1. Относительное различие между группами В и А начинает стабилизироваться после 18 августа.\n",
    "1. До этой даты мы видим 2 больших всплеска и 1 крупное снижение.\n",
    "1. Сохраняется максимальный всплеск 18 августа.\n",
    "\n",
    "### Предположения\n",
    "1. Тест следует продолжать, так как стабилизация только начинается.\n",
    "2. В начале теста в обеих группах присутствовали заказы-выбросы."
   ]
  },
  {
   "cell_type": "markdown",
   "id": "4623bd39",
   "metadata": {},
   "source": [
    "<div class=\"alert alert-success\">\n",
    "<b>Комментарий ревьюера ✔️:</b> Отлично, отдельно отмечу отображение оси X, она повышает наглядность</div>"
   ]
  },
  {
   "cell_type": "markdown",
   "id": "8b6c9ce0",
   "metadata": {},
   "source": [
    "## Оценка кумулятивного среднего значения заказов на посетителя по группам"
   ]
  },
  {
   "cell_type": "code",
   "execution_count": 16,
   "id": "78cf00da",
   "metadata": {},
   "outputs": [
    {
     "data": {
      "image/png": "[encoded data removed]",
      "text/plain": [
       "<Figure size 1440x720 with 1 Axes>"
      ]
     },
     "metadata": {
      "needs_background": "light"
     },
     "output_type": "display_data"
    }
   ],
   "source": [
    "plt.figure(figsize=(20, 10))\n",
    "\n",
    "plt.title('Кумулятивное среднее количество заказов на посетителя по группам')\n",
    "\n",
    "plt.plot(cumulativeRevenueA['date'], cumulativeRevenueA['orders']/cumulativeRevenueA['visitors'], label='A')\n",
    "plt.plot(cumulativeRevenueB['date'], cumulativeRevenueB['orders']/cumulativeRevenueB['visitors'], label='B')\n",
    "\n",
    "plt.legend();    "
   ]
  },
  {
   "cell_type": "markdown",
   "id": "4ca82819",
   "metadata": {},
   "source": [
    "### Промежуточные выводы\n",
    "1. Среднее число заказов на покупателя стабильно выше в группе В после 6 августа 2019.\n",
    "1. Однако в начале теста лидироала группа А.\n",
    "1. Графики двух групп пересекаются примерно 6 августа.\n",
    "1. На момент первого сентября 2019 оба графика имеют тенденцию к снижению.\n",
    "\n",
    "### Предположения\n",
    "1. Возможно, в начале теста в группе А зафиксирована короткая аномалия, и поэтому показатель завышен.\n",
    "1. Не исключено, что конец лета совпадает с окончанием сезонного спроса."
   ]
  },
  {
   "cell_type": "markdown",
   "id": "8afa9140",
   "metadata": {},
   "source": [
    "<div class=\"alert alert-success\">\n",
    "<b>Комментарий ревьюера ✔️:</b> Согласен, В почти все время была выше</div>"
   ]
  },
  {
   "cell_type": "markdown",
   "id": "1dc5c0d3",
   "metadata": {},
   "source": [
    "## Оценка относительного изменения кумулятивного среднего числа заказов на посетителя группы В к группе А"
   ]
  },
  {
   "cell_type": "code",
   "execution_count": 17,
   "id": "6fbcd9bb",
   "metadata": {},
   "outputs": [
    {
     "data": {
      "image/png": "[encoded data removed]",
      "text/plain": [
       "<Figure size 1440x720 with 1 Axes>"
      ]
     },
     "metadata": {
      "needs_background": "light"
     },
     "output_type": "display_data"
    }
   ],
   "source": [
    "plt.figure(figsize=(20, 10))\n",
    "\n",
    "plt.title('Относительное изменение кумулятивного среднего количества заказов на посетителя группы В к группе А')\n",
    "\n",
    "plt.plot(mergedCumulativeRevenue['date'], (mergedCumulativeRevenue['ordersB']/mergedCumulativeRevenue['visitorsB'])/(mergedCumulativeRevenue['ordersA']/mergedCumulativeRevenue['visitorsA'])-1)\n",
    "\n",
    "plt.axhline(y=0, color='black', linestyle='--');"
   ]
  },
  {
   "cell_type": "markdown",
   "id": "f4248825",
   "metadata": {},
   "source": [
    "### Промежуточные выводы\n",
    "1. В начале теста среднее число заказов на пользователя в группе В ниже А.\n",
    "1. После 6 августа среднее число заказов на пользователяв группе В становится больше А и остается таким вплоть до 1 сентября - предельного значения горизонта анализа.\n",
    "1. В последнем сегменте графика зафиксирован дальнейший рост разницы значений в пользу группы В.\n",
    "\n",
    "### Предположения\n",
    "1. Тест следует продолжать, так как график пока не стабилизировался."
   ]
  },
  {
   "cell_type": "markdown",
   "id": "7b6797f9",
   "metadata": {},
   "source": [
    "<div class=\"alert alert-success\">\n",
    "<b>Комментарий ревьюера ✔️:</b> Здорово, также удобная для восприятия горизонтальная линия</div>"
   ]
  },
  {
   "cell_type": "markdown",
   "id": "a66b6798",
   "metadata": {},
   "source": [
    "<div class=\"alert alert-success\">\n",
    "<b>Комментарий ревьюера ✔️:</b> В этой части ты здорово разобрался с кумулятивными метриками - их расчетом и интерпретацией; действительно, нам нужно проверить данные на аномальные значения (кстати, в реальных проектах рекомендую проверять аномалии на стадии знакомства с данными - это позволит избежать невынужденных ошибок при их изучении)</div>"
   ]
  },
  {
   "cell_type": "markdown",
   "id": "f6dcbf60",
   "metadata": {},
   "source": [
    "## Точечный график числа заказов по пользователям"
   ]
  },
  {
   "cell_type": "code",
   "execution_count": 18,
   "id": "3529549c",
   "metadata": {},
   "outputs": [
    {
     "data": {
      "text/html": [
       "<div>\n",
       "<style scoped>\n",
       "    .dataframe tbody tr th:only-of-type {\n",
       "        vertical-align: middle;\n",
       "    }\n",
       "\n",
       "    .dataframe tbody tr th {\n",
       "        vertical-align: top;\n",
       "    }\n",
       "\n",
       "    .dataframe thead th {\n",
       "        text-align: right;\n",
       "    }\n",
       "</style>\n",
       "<table border=\"1\" class=\"dataframe\">\n",
       "  <thead>\n",
       "    <tr style=\"text-align: right;\">\n",
       "      <th></th>\n",
       "      <th>visitor_id</th>\n",
       "      <th>group</th>\n",
       "      <th>transaction_id</th>\n",
       "    </tr>\n",
       "  </thead>\n",
       "  <tbody>\n",
       "    <tr>\n",
       "      <th>0</th>\n",
       "      <td>5114589</td>\n",
       "      <td>B</td>\n",
       "      <td>1</td>\n",
       "    </tr>\n",
       "    <tr>\n",
       "      <th>1</th>\n",
       "      <td>6958315</td>\n",
       "      <td>B</td>\n",
       "      <td>1</td>\n",
       "    </tr>\n",
       "    <tr>\n",
       "      <th>2</th>\n",
       "      <td>8300375</td>\n",
       "      <td>A</td>\n",
       "      <td>1</td>\n",
       "    </tr>\n",
       "    <tr>\n",
       "      <th>3</th>\n",
       "      <td>8300375</td>\n",
       "      <td>B</td>\n",
       "      <td>1</td>\n",
       "    </tr>\n",
       "    <tr>\n",
       "      <th>4</th>\n",
       "      <td>11685486</td>\n",
       "      <td>A</td>\n",
       "      <td>1</td>\n",
       "    </tr>\n",
       "    <tr>\n",
       "      <th>...</th>\n",
       "      <td>...</td>\n",
       "      <td>...</td>\n",
       "      <td>...</td>\n",
       "    </tr>\n",
       "    <tr>\n",
       "      <th>1084</th>\n",
       "      <td>4266935830</td>\n",
       "      <td>B</td>\n",
       "      <td>1</td>\n",
       "    </tr>\n",
       "    <tr>\n",
       "      <th>1085</th>\n",
       "      <td>4278982564</td>\n",
       "      <td>A</td>\n",
       "      <td>1</td>\n",
       "    </tr>\n",
       "    <tr>\n",
       "      <th>1086</th>\n",
       "      <td>4279090005</td>\n",
       "      <td>B</td>\n",
       "      <td>1</td>\n",
       "    </tr>\n",
       "    <tr>\n",
       "      <th>1087</th>\n",
       "      <td>4281247801</td>\n",
       "      <td>B</td>\n",
       "      <td>1</td>\n",
       "    </tr>\n",
       "    <tr>\n",
       "      <th>1088</th>\n",
       "      <td>4283872382</td>\n",
       "      <td>B</td>\n",
       "      <td>1</td>\n",
       "    </tr>\n",
       "  </tbody>\n",
       "</table>\n",
       "<p>1089 rows × 3 columns</p>\n",
       "</div>"
      ],
      "text/plain": [
       "      visitor_id group  transaction_id\n",
       "0        5114589     B               1\n",
       "1        6958315     B               1\n",
       "2        8300375     A               1\n",
       "3        8300375     B               1\n",
       "4       11685486     A               1\n",
       "...          ...   ...             ...\n",
       "1084  4266935830     B               1\n",
       "1085  4278982564     A               1\n",
       "1086  4279090005     B               1\n",
       "1087  4281247801     B               1\n",
       "1088  4283872382     B               1\n",
       "\n",
       "[1089 rows x 3 columns]"
      ]
     },
     "metadata": {},
     "output_type": "display_data"
    },
    {
     "data": {
      "image/png": "[encoded data removed]",
      "text/plain": [
       "<Figure size 1440x720 with 1 Axes>"
      ]
     },
     "metadata": {
      "needs_background": "light"
     },
     "output_type": "display_data"
    }
   ],
   "source": [
    "orders_by_visitors = orders.pivot_table(index = ['visitor_id', 'group'], values = 'transaction_id', aggfunc = 'nunique').reset_index()\n",
    "display(orders_by_visitors)\n",
    "\n",
    "x_values = pd.Series(range(0,len(orders_by_visitors['visitor_id'])))\n",
    "\n",
    "plt.figure(figsize=(20, 10))\n",
    "\n",
    "plt.title('Число заказов на пользователя')\n",
    "\n",
    "plt.scatter(x_values, orders_by_visitors['transaction_id']);"
   ]
  },
  {
   "cell_type": "markdown",
   "id": "843e7ecf",
   "metadata": {},
   "source": [
    "### Промежуточные выводы\n",
    "1. Подавляющее большинство пользователей делают один заказ.\n",
    "1. Максимальное число заказов - 7.\n",
    "\n",
    "### Предположения\n",
    "1. Возможно, большую роль играет сезонность товаров.\n",
    "1. Вероятно, пользователи, сделавшие свыше 1 заказа, окажутся в числе выбросов. - Это предстоит проверить на следующем шаге."
   ]
  },
  {
   "cell_type": "markdown",
   "id": "21ad2e71",
   "metadata": {},
   "source": [
    "<div class=\"alert alert-success\">\n",
    "<b>Комментарий ревьюера ✔️:</b> Совершенно верно, и перцентили тут помогут для более точного расчета</div>"
   ]
  },
  {
   "cell_type": "markdown",
   "id": "1997ccbb",
   "metadata": {},
   "source": [
    "<div class=\"alert alert-info\"> <b>Комментарий студента:</b> обрати, пожалуйста, внимание, что промежуточные выводы и предположения обновились после коррекции составов групп.</div>"
   ]
  },
  {
   "cell_type": "markdown",
   "id": "076c9cf3",
   "metadata": {},
   "source": [
    "<div class=\"alert alert-success\">\n",
    "<b>Комментарий ревьюера v 2.0 ✔️:</b> Да, здесь сами границы несколько поменялись после удаления пересечений. Напомню, что нам лучше их не удалять"
   ]
  },
  {
   "cell_type": "markdown",
   "id": "c03226da",
   "metadata": {},
   "source": [
    "## Определение аномального числа заказов"
   ]
  },
  {
   "cell_type": "code",
   "execution_count": 19,
   "id": "b399a01f",
   "metadata": {},
   "outputs": [
    {
     "name": "stdout",
     "output_type": "stream",
     "text": [
      "[2. 4.]\n"
     ]
    }
   ],
   "source": [
    "print(np.percentile(orders_by_visitors['transaction_id'], [95, 99]))\n",
    "orders_cnt_p_95 = np.percentile(orders_by_visitors['transaction_id'], 95)"
   ]
  },
  {
   "cell_type": "markdown",
   "id": "81ff284d",
   "metadata": {},
   "source": [
    "1. Не более 5% покупателей сделали 2 заказа.\n",
    "1. Не более 1% покупателей сделали 4 и более заказов.\n",
    "1. Аномальными следует признать случаи, когда заказов у данного покупателя больше 1."
   ]
  },
  {
   "cell_type": "markdown",
   "id": "4f74153e",
   "metadata": {},
   "source": [
    "<div class=\"alert alert-success\">\n",
    "<b>Комментарий ревьюера ✔️:</b> Корректная интерпретация, можем установить границу на 1 заказе</div>"
   ]
  },
  {
   "cell_type": "markdown",
   "id": "79aabde4",
   "metadata": {},
   "source": [
    "## Точечный график стоимости заказов"
   ]
  },
  {
   "cell_type": "code",
   "execution_count": 20,
   "id": "ec75cdde",
   "metadata": {},
   "outputs": [
    {
     "data": {
      "text/plain": [
       "50"
      ]
     },
     "metadata": {},
     "output_type": "display_data"
    },
    {
     "data": {
      "text/plain": [
       "1294500"
      ]
     },
     "metadata": {},
     "output_type": "display_data"
    },
    {
     "data": {
      "image/png": "[encoded data removed]",
      "text/plain": [
       "<Figure size 1440x720 with 1 Axes>"
      ]
     },
     "metadata": {
      "needs_background": "light"
     },
     "output_type": "display_data"
    }
   ],
   "source": [
    "x_values = pd.Series(range(0,len(orders['revenue'])))\n",
    "min_revenue = orders['revenue'].min()\n",
    "max_revenue = orders['revenue'].max()\n",
    "display(min_revenue, max_revenue)\n",
    "\n",
    "plt.figure(figsize=(20, 10))\n",
    "\n",
    "plt.title('Стоимость заказов')\n",
    "plt.scatter(x_values, orders['revenue']);"
   ]
  },
  {
   "cell_type": "markdown",
   "id": "cc2a2da0",
   "metadata": {},
   "source": [
    "### Промежуточные выводы\n",
    "1. Стоимость большинства заказов находится в пределах 10000 рублей.\n",
    "1. Один заказ стоит чуть менее 200000 и 1 - более 1 миллиона.\n",
    "\n",
    "### Предположения\n",
    "1. Похоже, две выбивающиеся суммы являются выбросами.\n",
    "1. Непрерывная группа точек на уровне 10000 рублей говорит о том, что сумма от заказа к заказу в целом очень стабильна."
   ]
  },
  {
   "cell_type": "markdown",
   "id": "50ac904a",
   "metadata": {},
   "source": [
    "<div class=\"alert alert-success\">\n",
    "<b>Комментарий ревьюера ✔️:</b> Да, тут есть аномалии и две эти точки действительно сильно выделяются</div>"
   ]
  },
  {
   "cell_type": "markdown",
   "id": "5b010f9f",
   "metadata": {},
   "source": [
    "## Определение аномальной стоимости заказов"
   ]
  },
  {
   "cell_type": "code",
   "execution_count": 21,
   "id": "1843839a",
   "metadata": {},
   "outputs": [
    {
     "name": "stdout",
     "output_type": "stream",
     "text": [
      "[28000.  58233.2]\n"
     ]
    }
   ],
   "source": [
    "print(np.percentile(orders['revenue'], [95, 99]))\n",
    "orders_cost_p_95 = np.percentile(orders['revenue'], 95).round()"
   ]
  },
  {
   "cell_type": "markdown",
   "id": "67db0f13",
   "metadata": {},
   "source": [
    "1. Не более 5% заказов стоят свыше 28000 рублей.\n",
    "1. Не более 1% заказов стоят 58233 и более рублей.\n",
    "1. Аномальными следует считать случаи, когда заказ стоит свыше 28000 рублей."
   ]
  },
  {
   "cell_type": "markdown",
   "id": "f4970d0f",
   "metadata": {},
   "source": [
    "<div class=\"alert alert-success\">\n",
    "<b>Комментарий ревьюера ✔️:</b> Вполне оправданно, можем ограничиться по 95 перцентилю</div>"
   ]
  },
  {
   "cell_type": "markdown",
   "id": "83df0d49",
   "metadata": {},
   "source": [
    "<div class=\"alert alert-info\"> <b>Комментарий студента:</b> обрати, пожалуйста, внимание, что значения перцентилей обновиились после коррекции составов групп.</div>"
   ]
  },
  {
   "cell_type": "markdown",
   "id": "e77e2ea2",
   "metadata": {},
   "source": [
    "<div class=\"alert alert-success\">\n",
    "<b>Комментарий ревьюера v 2.0 ✔️:</b> Верно, но сам 95 перцентиль мы здесь так и оставили)"
   ]
  },
  {
   "cell_type": "markdown",
   "id": "cd878c3f",
   "metadata": {},
   "source": [
    "## Оценка статистической значимости различий на основании \"сырых данных\"\n",
    "### По числу заказов на посетителя\n",
    "**H0:** в группе В число заказов на посетителя отличается от аналогичного показателя группы А.\n",
    "\n",
    "**H1:** число заказов на посетителя одинаково для групп А и В."
   ]
  },
  {
   "cell_type": "code",
   "execution_count": 22,
   "id": "08bac225",
   "metadata": {},
   "outputs": [
    {
     "name": "stdout",
     "output_type": "stream",
     "text": [
      "        date  orders_per_date_A  revenue_per_date_A  orders_per_date_B  \\\n",
      "0 2019-08-01                 24              148579                 21   \n",
      "1 2019-08-02                 20               93822                 24   \n",
      "2 2019-08-03                 24              112473                 16   \n",
      "3 2019-08-04                 16               70825                 17   \n",
      "4 2019-08-05                 25              124218                 23   \n",
      "\n",
      "   revenue_per_date_B  orders_cumulative_A  revenue_cumulative_A  \\\n",
      "0              101217                   24                148579   \n",
      "1              165531                   44                242401   \n",
      "2              114248                   68                354874   \n",
      "3              108571                   84                425699   \n",
      "4               92428                  109                549917   \n",
      "\n",
      "   orders_cumulative_B  revenue_cumulative_B  visitors_per_date_A  \\\n",
      "0                   21                101217                  719   \n",
      "1                   45                266748                  619   \n",
      "2                   61                380996                  507   \n",
      "3                   78                489567                  717   \n",
      "4                  101                581995                  756   \n",
      "\n",
      "   visitors_per_date_B  visitors_cumulative_A  visitors_cummulative_B  \n",
      "0                  713                    719                     713  \n",
      "1                  581                   1338                    1294  \n",
      "2                  509                   1845                    1803  \n",
      "3                  770                   2562                    2573  \n",
      "4                  707                   3318                    3280  \n"
     ]
    }
   ],
   "source": [
    "visitors_A_daily = visitors[visitors['group'] == 'A'][['date', 'visitors']]\n",
    "visitors_A_daily.columns = ['date', 'visitors_per_date_A']\n",
    "\n",
    "visitors_A_cumulative = visitors_A_daily.apply(\n",
    "    lambda x: visitors_A_daily[visitors_A_daily['date'] <= x['date']].agg(\n",
    "        {'date': 'max', 'visitors_per_date_A': 'sum'}\n",
    "    ),\n",
    "    axis=1,\n",
    ")\n",
    "visitors_A_cumulative.columns = ['date', 'visitors_cumulative_A']\n",
    "\n",
    "visitors_B_daily = visitors[visitors['group'] == 'B'][['date', 'visitors']]\n",
    "visitors_B_daily.columns = ['date', 'visitors_per_date_B']\n",
    "\n",
    "visitors_B_cumulative = visitors_B_daily.apply(\n",
    "    lambda x: visitors_B_daily[visitors_B_daily['date'] <= x['date']].agg(\n",
    "        {'date': 'max', 'visitors_per_date_B': 'sum'}\n",
    "    ),\n",
    "    axis=1,\n",
    ")\n",
    "visitors_B_cumulative.columns = ['date', 'visitors_cummulative_B']\n",
    "\n",
    "orders_A_daily = (\n",
    "    orders[orders['group'] == 'A'][['date', 'transaction_id', 'visitor_id', 'revenue']]\n",
    "    .groupby('date', as_index=False)\n",
    "    .agg({'transaction_id': pd.Series.nunique, 'revenue': 'sum'})\n",
    ")\n",
    "orders_A_daily.columns = ['date', 'orders_per_date_A', 'revenue_per_date_A']\n",
    "\n",
    "orders_A_cumulative = orders_A_daily.apply(\n",
    "    lambda x: orders_A_daily[orders_A_daily['date'] <= x['date']].agg(\n",
    "        {'date': 'max', 'orders_per_date_A': 'sum', 'revenue_per_date_A': 'sum'}\n",
    "    ),\n",
    "    axis=1,\n",
    ").sort_values(by=['date'])\n",
    "orders_A_cumulative.columns = [\n",
    "    'date',\n",
    "    'orders_cumulative_A',\n",
    "    'revenue_cumulative_A',\n",
    "]\n",
    "\n",
    "orders_B_daily = (\n",
    "    orders[orders['group'] == 'B'][['date', 'transaction_id', 'visitor_id', 'revenue']]\n",
    "    .groupby('date', as_index=False)\n",
    "    .agg({'transaction_id': pd.Series.nunique, 'revenue': 'sum'})\n",
    ")\n",
    "orders_B_daily.columns = ['date', 'orders_per_date_B', 'revenue_per_date_B']\n",
    "\n",
    "orders_B_cumulative = orders_B_daily.apply(\n",
    "    lambda x: orders_B_daily[orders_B_daily['date'] <= x['date']].agg(\n",
    "        {'date': 'max', 'orders_per_date_B': 'sum', 'revenue_per_date_B': 'sum'}\n",
    "    ),\n",
    "    axis=1,\n",
    ").sort_values(by=['date'])\n",
    "orders_B_cumulative.columns = [\n",
    "    'date',\n",
    "    'orders_cumulative_B',\n",
    "    'revenue_cumulative_B',\n",
    "]\n",
    "\n",
    "data = (\n",
    "    orders_A_daily.merge(\n",
    "        orders_B_daily, left_on='date', right_on='date', how='left'\n",
    "    )\n",
    "    .merge(orders_A_cumulative, left_on='date', right_on='date', how='left')\n",
    "    .merge(orders_B_cumulative, left_on='date', right_on='date', how='left')\n",
    "    .merge(visitors_A_daily, left_on='date', right_on='date', how='left')\n",
    "    .merge(visitors_B_daily, left_on='date', right_on='date', how='left')\n",
    "    .merge(visitors_A_cumulative, left_on='date', right_on='date', how='left')\n",
    "    .merge(visitors_B_cumulative, left_on='date', right_on='date', how='left')\n",
    ")\n",
    "\n",
    "print(data.head(5))"
   ]
  },
  {
   "cell_type": "code",
   "execution_count": 23,
   "id": "dffe352b",
   "metadata": {},
   "outputs": [],
   "source": [
    "orders_by_visitors_A = (orders_by_visitors[orders_by_visitors['group'] == 'A'])\n",
    "orders_by_visitors_B = (orders_by_visitors[orders_by_visitors['group'] == 'B'])\n",
    "orders_by_visitors_A.columns = ['visitor_id', 'group', 'orders']\n",
    "orders_by_visitors_B.columns = ['visitor_id', 'group', 'orders']\n",
    "sample_A = pd.concat([orders_by_visitors_A['orders'],pd.Series(0, index=np.arange(data['visitors_per_date_A'].sum() - len(orders_by_visitors_A['orders'])), name='orders')],axis=0)\n",
    "sample_B = pd.concat([orders_by_visitors_B['orders'],pd.Series(0, index=np.arange(data['visitors_per_date_B'].sum() - len(orders_by_visitors_B['orders'])), name='orders')],axis=0)"
   ]
  },
  {
   "cell_type": "markdown",
   "id": "f68ca58c",
   "metadata": {},
   "source": [
    "<div class=\"alert alert-danger\">\n",
    "<b>Комментарий ревьюера ❌:</b> Но ведь фактически это проверка гипотезы, значит здесь нужно четко сформулировать нулевую и альтернативную гипотезу для этой самой проверки) </div>"
   ]
  },
  {
   "cell_type": "markdown",
   "id": "54d3a2c8",
   "metadata": {},
   "source": [
    "<div class=\"alert alert-info\"> <b>Комментарий студента:</b> готово.</div>"
   ]
  },
  {
   "cell_type": "markdown",
   "id": "ab6b6231",
   "metadata": {},
   "source": [
    "<div class=\"alert alert-success\">\n",
    "<b>Комментарий ревьюера v 2.0 ✔️:</b> Гипотезы сформулирован выше"
   ]
  },
  {
   "cell_type": "code",
   "execution_count": 24,
   "id": "85b7720d",
   "metadata": {},
   "outputs": [
    {
     "name": "stdout",
     "output_type": "stream",
     "text": [
      "Значение p-value: 0.017\n",
      "Относительное различие: 0.138\n"
     ]
    }
   ],
   "source": [
    "print('Значение p-value:', '{0:.3f}'.format(st.mannwhitneyu(sample_A, sample_B)[1]))\n",
    "print('Относительное различие:','{0:.3f}'.format(sample_B.mean()/sample_A.mean()-1))"
   ]
  },
  {
   "cell_type": "markdown",
   "id": "a42b2569",
   "metadata": {},
   "source": [
    "<div class=\"alert alert-warning\">\n",
    "<b>Комментарий ревьюера ⚠️:</b> Эти два числа тут и ниже стоит подписать для удобства. Сейчас не совсем понятно, что из них что"
   ]
  },
  {
   "cell_type": "markdown",
   "id": "9fd8c70d",
   "metadata": {},
   "source": [
    "<div class=\"alert alert-info\"> <b>Комментарий студента:</b> готово.</div>"
   ]
  },
  {
   "cell_type": "markdown",
   "id": "873888e5",
   "metadata": {},
   "source": [
    "<div class=\"alert alert-success\">\n",
    "<b>Комментарий ревьюера v 2.0 ✔️:</b> Так стало нагляднее, отлично"
   ]
  },
  {
   "cell_type": "markdown",
   "id": "889ec482",
   "metadata": {},
   "source": [
    "1. Есть статистическая значимость между группами А и В с точки зрения числа заказов на посетителя, если показатель рассчитан на \"сырых\" данных.\n",
    "1. Преимущество группы В - почти 14%."
   ]
  },
  {
   "cell_type": "markdown",
   "id": "d3d1ffbc",
   "metadata": {},
   "source": [
    "<div class=\"alert alert-success\">\n",
    "<b>Комментарий ревьюера ✔️:</b> Сам же тест проводишь как надо, хорошо</div>"
   ]
  },
  {
   "cell_type": "markdown",
   "id": "14397897",
   "metadata": {},
   "source": [
    "### По среднему чеку"
   ]
  },
  {
   "cell_type": "markdown",
   "id": "1b3e5c2f",
   "metadata": {},
   "source": [
    "**H0:** в группе В средний чек отличается от аналогичного показателя группы А.\n",
    "\n",
    "**H1:** средний чек одинаковый для групп А и В."
   ]
  },
  {
   "cell_type": "markdown",
   "id": "c9277a2b",
   "metadata": {},
   "source": [
    "<div class=\"alert alert-block alert-danger\">\n",
    "    \n",
    "<b>Комментарий ревьюера ❌:</b> Тут также укажу на гипотезы\n",
    "    \n",
    "</div>"
   ]
  },
  {
   "cell_type": "markdown",
   "id": "331e0093",
   "metadata": {},
   "source": [
    "<div class=\"alert alert-info\"> <b>Комментарий студента:</b> готово.</div>"
   ]
  },
  {
   "cell_type": "markdown",
   "id": "3d98ba4c",
   "metadata": {},
   "source": [
    "<div class=\"alert alert-success\">\n",
    "<b>Комментарий ревьюера v 2.0 ✔️:</b> Гипотезы определены"
   ]
  },
  {
   "cell_type": "markdown",
   "id": "ddf222c9",
   "metadata": {},
   "source": [
    "<div class=\"alert alert-block alert-danger\">\n",
    "    \n",
    "<b>Комментарий ревьюера ❌:</b> Попробуй здесь аналогично дальнейшей проверке на чистых данных взять из orders отдельно группы и посмотреть у них mean по revenue"
   ]
  },
  {
   "cell_type": "code",
   "execution_count": 27,
   "id": "b9ff26df",
   "metadata": {},
   "outputs": [
    {
     "name": "stdout",
     "output_type": "stream",
     "text": [
      "Значение p-value: 0.729\n",
      "Относительное различие: 0.259\n"
     ]
    }
   ],
   "source": [
    "group_a = orders.query('group == \"A\"')\n",
    "group_b = orders.query('group == \"B\"')\n",
    "\n",
    "print('Значение p-value:', '{0:.3f}'.format(st.mannwhitneyu(group_a['revenue'], group_b['revenue'])[1]))\n",
    "print('Относительное различие:', '{0:.3f}'.format(group_b['revenue'].mean()/group_a['revenue'].mean()-1))"
   ]
  },
  {
   "cell_type": "markdown",
   "id": "a373d1cf",
   "metadata": {},
   "source": [
    "<div class=\"alert alert-info\"> <b>Комментарий студента:</b> честно говоря, не могу сообразить, для чего служит такая проверка...</div>"
   ]
  },
  {
   "cell_type": "markdown",
   "id": "fe36ce58",
   "metadata": {},
   "source": [
    "<div class=\"alert alert-danger\">\n",
    "<b>Комментарий ревьюера v 2.0 ❌:</b> Речь не совсем об этом. Для проведения самого теста Манна-Уитни попробуй напрямую из orders взять среднюю по revenue для отдельных групп при помощи group==A и group=B, то есть по сути аналогично тому, как это сделано в самом последнем разделе"
   ]
  },
  {
   "cell_type": "markdown",
   "id": "8741e675",
   "metadata": {},
   "source": [
    "<div class=\"alert alert-info\"> <b>Комментарий студента v 2.0:</b> правильно ли я понимаю, что при обсчете неагрегированных данных мы увидим прямо противоположный результат? Несмотря на то, что относительное различие станет еще больше?</div>\n"
   ]
  },
  {
   "cell_type": "markdown",
   "id": "0baba82e",
   "metadata": {},
   "source": [
    "<div class=\"alert alert-success\">\n",
    "<b>Комментарий ревьюера v 3.0 ✔️:</b> Сейчас проверка выполнена абсолютно верно.\n",
    "    \n",
    "Главное, что мы получим правильный результат) Ведь фактически, в этой гипотезе мы проверяем просто среднее значение отдельно по группе А, и отдельно по группе В, то есть какой-то агрегации и сложных вычислений нам здесь вовсе не требуется"
   ]
  },
  {
   "cell_type": "markdown",
   "id": "bea62b39",
   "metadata": {},
   "source": [
    "1. Нет статистической значимости различий между группами А и В с точки зрения среднего чека, если показатель рассчитан на \"сырых\" данных."
   ]
  },
  {
   "cell_type": "markdown",
   "id": "4db50f5a",
   "metadata": {},
   "source": [
    "<div class=\"alert alert-danger\">\n",
    "<b>Комментарий ревьюера v 2.0 ❌:</b> Тут единственный момент, что нужно поправить этот вывод, поскольку сейчас мы пишем, что у нас есть статистическая значимость различий, но на деле это не так)"
   ]
  },
  {
   "cell_type": "markdown",
   "id": "54e4fbb9",
   "metadata": {},
   "source": [
    "<div class=\"alert alert-info\"> <b>Комментарий студента v 3.0:</b> готово. Правильно ли я понимаю, что расчет как таковой можно в данном случае выполнить на полностью неагрегированных данных, а агрегация в cumulativeRevenueA и cumulativeRevenueB нужна для построения графиков кумулятивного среднего и относительного изменения?</div>"
   ]
  },
  {
   "cell_type": "markdown",
   "id": "a44db275",
   "metadata": {},
   "source": [
    "<div class=\"alert alert-success\">\n",
    "<b>Комментарий ревьюера v 4.0 ✔️:</b> Абсолютно верно, все именно так)"
   ]
  },
  {
   "cell_type": "markdown",
   "id": "02b9224c",
   "metadata": {},
   "source": [
    "## Очистка данных от аномальных значений\n",
    "### Определение числа пользователей, совершивших аномальные заказы"
   ]
  },
  {
   "cell_type": "code",
   "execution_count": 28,
   "id": "1e43f723",
   "metadata": {},
   "outputs": [
    {
     "data": {
      "text/plain": [
       "1099    148427295\n",
       "45      199603092\n",
       "928     204675465\n",
       "58      237748145\n",
       "63      249864742\n",
       "Name: visitor_id, dtype: int64"
      ]
     },
     "metadata": {},
     "output_type": "display_data"
    },
    {
     "data": {
      "text/plain": [
       "111"
      ]
     },
     "execution_count": 28,
     "metadata": {},
     "output_type": "execute_result"
    }
   ],
   "source": [
    "usersWithManyOrders = pd.concat([orders_by_visitors_A[orders_by_visitors_A['orders'] >= orders_cnt_p_95]['visitor_id'], orders_by_visitors_B[orders_by_visitors_B['orders'] >= orders_cnt_p_95]['visitor_id'],],axis=0,)\n",
    "usersWithExpensiveOrders = orders[orders['revenue'] >= orders_cost_p_95]['visitor_id']\n",
    "\n",
    "abnormalUsers = (pd.concat([usersWithManyOrders, usersWithExpensiveOrders], axis=0).drop_duplicates().sort_values())\n",
    "display(abnormalUsers.head(5))\n",
    "abnormalUsers.shape[0]"
   ]
  },
  {
   "cell_type": "markdown",
   "id": "03f96634",
   "metadata": {},
   "source": [
    "<div class=\"alert alert-warning\">\n",
    "<b>Комментарий ревьюера ⚠️:</b> Лучше не указывать числа напрямую, а обращаться к ним через перцентиль. В таком случае, если данные изменятся нам не нужно будет корректировать код"
   ]
  },
  {
   "cell_type": "markdown",
   "id": "a1af0956",
   "metadata": {},
   "source": [
    "<div class=\"alert alert-info\"> <b>Комментарий студента:</b> готово.</div>"
   ]
  },
  {
   "cell_type": "markdown",
   "id": "809080e0",
   "metadata": {},
   "source": [
    "<div class=\"alert alert-success\">\n",
    "<b>Комментарий ревьюера v 2.0 ✔️:</b> Повысили автоматизацию в проекте"
   ]
  },
  {
   "cell_type": "markdown",
   "id": "6ad97611",
   "metadata": {},
   "source": [
    "<div class=\"alert alert-danger\">\n",
    "<b>Комментарий ревьюера ❌:</b> Но тут все же снова нужно указать, для каких гипотез мы проводим этот тест </div>"
   ]
  },
  {
   "cell_type": "markdown",
   "id": "9ad804f4",
   "metadata": {},
   "source": [
    "<div class=\"alert alert-info\"> <b>Комментарий студента:</b> обрати, пожалуйста, внимание, что я перенесла ячейку с формированием очищенных пар \"пользователь - число заказов\" ниже. Формулировка гипотез - под заголовком \"Оценка статистической значимости различий на основе очищенных данных\"</div>"
   ]
  },
  {
   "cell_type": "markdown",
   "id": "2bacfe76",
   "metadata": {},
   "source": [
    "## Оценка статистической значимости различий на основе очищенных данных\n",
    "### По числу заказов на посетителя\n",
    "**H0:** в группе В число заказов на посетителя отличается от аналогичного показателя группы А.\n",
    "\n",
    "**H1:** число заказов на посетителя одинаково для групп А и В."
   ]
  },
  {
   "cell_type": "markdown",
   "id": "2603af98",
   "metadata": {},
   "source": [
    "<div class=\"alert alert-success\">\n",
    "<b>Комментарий ревьюера v 2.0 ✔️:</b> Гипотезы также определены"
   ]
  },
  {
   "cell_type": "markdown",
   "id": "eb33e927",
   "metadata": {},
   "source": [
    "### Формирование пар \"пользователь - число заказов\""
   ]
  },
  {
   "cell_type": "code",
   "execution_count": 29,
   "id": "b305af1d",
   "metadata": {},
   "outputs": [],
   "source": [
    "visitors_per_date_A = visitors.query('group == \"A\"')\n",
    "visitors_per_date_B = visitors.query('group == \"B\"')\n",
    "\n",
    "sampleAFiltered = pd.concat(\n",
    "    [\n",
    "        orders_by_visitors_A[\n",
    "            np.logical_not(orders_by_visitors_A['visitor_id'].isin(abnormalUsers))\n",
    "        ]['orders'],\n",
    "        pd.Series(\n",
    "            0,\n",
    "            index=np.arange(\n",
    "                visitors_per_date_A['visitors'].sum() - len(orders_by_visitors_A['orders'])\n",
    "            ),\n",
    "            name='orders',\n",
    "        ),\n",
    "    ],\n",
    "    axis=0,\n",
    ")\n",
    "\n",
    "sampleBFiltered = pd.concat(\n",
    "    [\n",
    "        orders_by_visitors_B[\n",
    "            np.logical_not(orders_by_visitors_B['visitor_id'].isin(abnormalUsers))\n",
    "        ]['orders'],\n",
    "        pd.Series(\n",
    "            0,\n",
    "            index=np.arange(\n",
    "                visitors_per_date_B['visitors'].sum() - len(orders_by_visitors_B['orders'])\n",
    "            ),\n",
    "            name='orders',\n",
    "        ),\n",
    "    ],\n",
    "    axis=0,\n",
    ")"
   ]
  },
  {
   "cell_type": "code",
   "execution_count": 30,
   "id": "02a9b8ee",
   "metadata": {},
   "outputs": [
    {
     "name": "stdout",
     "output_type": "stream",
     "text": [
      "Значение p-value: 0.016\n",
      "Относительное различие: 0.000\n"
     ]
    }
   ],
   "source": [
    "print('Значение p-value:', '{0:.3f}'.format(st.mannwhitneyu(sampleAFiltered, sampleBFiltered)[1]))\n",
    "print('Относительное различие:', '{0:.3f}'.format(sampleBFiltered.mean()/sampleBFiltered.mean()-1))"
   ]
  },
  {
   "cell_type": "markdown",
   "id": "7af63662",
   "metadata": {},
   "source": [
    "1. Нет статистически значимого различия по числу заказов на пользователя между групами А и В, если показатель рассчитан на очищенных данных."
   ]
  },
  {
   "cell_type": "markdown",
   "id": "6fe4a946",
   "metadata": {},
   "source": [
    "<div class=\"alert alert-success\">\n",
    "<b>Комментарий ревьюера ✔️:</b> В остальном хорошо</div>"
   ]
  },
  {
   "cell_type": "markdown",
   "id": "1b003e08",
   "metadata": {},
   "source": [
    "<div class=\"alert alert-info\"> <b>Комментарий студента:</b> обрати, пожалуйста, внимание, что здесь изменился результат анализа.</div>"
   ]
  },
  {
   "cell_type": "markdown",
   "id": "9f971f5e",
   "metadata": {},
   "source": [
    "<div class=\"alert alert-success\">\n",
    "<b>Комментарий ревьюера v 2.0 ✔️:</b> Да, но сама суть осталась прежней, p-value ниже альфа)"
   ]
  },
  {
   "cell_type": "markdown",
   "id": "f5bd3acb",
   "metadata": {},
   "source": [
    "### По среднему чеку\n",
    "**H0:** в группе В средний чек отличается от аналогичного показателя группы А.\n",
    "\n",
    "**H1:** средний чек одинаковый для групп А и В."
   ]
  },
  {
   "cell_type": "markdown",
   "id": "1309a47a",
   "metadata": {},
   "source": [
    "<div class=\"alert alert-success\">\n",
    "<b>Комментарий ревьюера v 2.0 ✔️:</b> Гипотезы также сформулированы"
   ]
  },
  {
   "cell_type": "code",
   "execution_count": 31,
   "id": "d46c9353",
   "metadata": {},
   "outputs": [
    {
     "name": "stdout",
     "output_type": "stream",
     "text": [
      "0.835\n",
      "-0.006\n"
     ]
    }
   ],
   "source": [
    "print(\n",
    "    '{0:.3f}'.format(\n",
    "        st.mannwhitneyu(\n",
    "            orders[\n",
    "                np.logical_and(\n",
    "                    orders['group'] == 'A',\n",
    "                    np.logical_not(orders['visitor_id'].isin(abnormalUsers)),\n",
    "                )\n",
    "            ]['revenue'],\n",
    "            orders[\n",
    "                np.logical_and(\n",
    "                    orders['group'] == 'B',\n",
    "                    np.logical_not(orders['visitor_id'].isin(abnormalUsers)),\n",
    "                )\n",
    "            ]['revenue'],\n",
    "        )[1]\n",
    "    )\n",
    ")\n",
    "\n",
    "print(\n",
    "    \"{0:.3f}\".format(\n",
    "        orders[\n",
    "            np.logical_and(\n",
    "                orders['group'] == 'B',\n",
    "                np.logical_not(orders['visitor_id'].isin(abnormalUsers)),\n",
    "            )\n",
    "        ]['revenue'].mean()\n",
    "        / orders[\n",
    "            np.logical_and(\n",
    "                orders['group'] == 'A',\n",
    "                np.logical_not(orders['visitor_id'].isin(abnormalUsers)),\n",
    "            )\n",
    "        ]['revenue'].mean()\n",
    "        - 1\n",
    "    )\n",
    ")"
   ]
  },
  {
   "cell_type": "markdown",
   "id": "7090d611",
   "metadata": {},
   "source": [
    "<div class=\"alert alert-danger\">\n",
    "<b>Комментарий ревьюера ❌:</b> И снова обращу твое внимание на формулировку гипотез) </div>"
   ]
  },
  {
   "cell_type": "markdown",
   "id": "e2537cb2",
   "metadata": {},
   "source": [
    "<div class=\"alert alert-info\"> <b>Комментарий студента:</b> готово.</div>"
   ]
  },
  {
   "cell_type": "markdown",
   "id": "08172860",
   "metadata": {},
   "source": [
    "1. Нет статистически значимого отличия по среднему чеку между группами А и В."
   ]
  },
  {
   "cell_type": "markdown",
   "id": "cfe05e84",
   "metadata": {},
   "source": [
    "<div class=\"alert alert-danger\">\n",
    "<b>Комментарий ревьюера ❌:</b> На самом деле одна из групп не может отставать от другой, ведь мы увидели, что различий они не имеют по самой статистической проверке, то есть такие отличия получены случайно</div>"
   ]
  },
  {
   "cell_type": "markdown",
   "id": "ada9bb83",
   "metadata": {},
   "source": [
    "<div class=\"alert alert-info\"> <b>Комментарий студента:</b> готово.</div>"
   ]
  },
  {
   "cell_type": "markdown",
   "id": "9a847975",
   "metadata": {},
   "source": [
    "<div class=\"alert alert-success\">\n",
    "<b>Комментарий ревьюера v 2.0 ✔️:</b> Все верно"
   ]
  },
  {
   "cell_type": "markdown",
   "id": "bfc9e9ef",
   "metadata": {},
   "source": [
    "## Выводы\n",
    "1. По результатам анализа очищенных данных, мы увидели, что:\n",
    "    * Нет статистической значимости различий между группами А и В с точки зрения числа заказов на покупателя.\n",
    "    * Исчезает статистическая значимость различий между средним чеком в группах А и В.\n",
    "1. Так как на графиках относительного изменения среднего чека / числа заказов на посетителя мы пока не видим полной стабилизации, стоит продолжить тест еще на 7 дней, чтобы убедиться, что полученные результаты окончательные."
   ]
  },
  {
   "cell_type": "markdown",
   "id": "c33bb30c",
   "metadata": {},
   "source": [
    "<div class=\"alert alert-info\"> <b>Комментарий студента:</b> вероятно, придется этот раздел обновить, когда я разберусь со средним чеком на базе очищенных данных.</div>"
   ]
  },
  {
   "cell_type": "markdown",
   "id": "dc9cef3c",
   "metadata": {},
   "source": [
    "<div class=\"alert alert-success\">\n",
    "<b>Комментарий ревьюера v 2.0 ✔️:</b> В общем, все останется как прежде, только нужно будет проверить работоспособность кода)"
   ]
  },
  {
   "cell_type": "markdown",
   "id": "b82901e6",
   "metadata": {},
   "source": [
    "<div class=\"alert alert-danger\">\n",
    "<b>Комментарий ревьюера ❌:</b> Также укажу на формулировку \"при этом Группа В немного отстает от группы А.\", в остальном по общим выводам отлично </div>"
   ]
  },
  {
   "cell_type": "markdown",
   "id": "ec622e18",
   "metadata": {},
   "source": [
    "<div class=\"alert alert-info\"> <b>Комментарий студента:</b> поправила.</div>"
   ]
  },
  {
   "cell_type": "markdown",
   "id": "481b643f",
   "metadata": {},
   "source": [
    "<div class=\"alert alert-success\">\n",
    "<b>Комментарий ревьюера v 2.0 ✔️:</b> Вывод также скорректировали"
   ]
  },
  {
   "cell_type": "markdown",
   "id": "372978f1",
   "metadata": {},
   "source": [
    "<div class=\"alert alert-success\">\n",
    "<b>Комментарий ревьюера ✔️:</b> Анна, проект отличный! У тебя сильные аналитические навыки, владение инструментами для проведения исследования, понимание статистики и навыки продуктовой аналитики. Но всё же в проекте есть несколько замечаний и я попрошу тебя исправить их, чтобы проект стал еще лучше! </div>"
   ]
  }
 ],
 "metadata": {
  "ExecuteTimeLog": [
   {
    "duration": 1288,
    "start_time": "2023-07-09T09:10:18.271Z"
   },
   {
    "duration": 288,
    "start_time": "2023-07-09T09:10:21.355Z"
   },
   {
    "duration": 29,
    "start_time": "2023-07-09T09:10:21.913Z"
   },
   {
    "duration": 6,
    "start_time": "2023-07-09T09:10:22.312Z"
   },
   {
    "duration": 11,
    "start_time": "2023-07-09T09:10:22.711Z"
   },
   {
    "duration": 8,
    "start_time": "2023-07-09T09:10:22.881Z"
   },
   {
    "duration": 25,
    "start_time": "2023-07-09T09:10:23.239Z"
   },
   {
    "duration": 19,
    "start_time": "2023-07-09T09:10:23.622Z"
   },
   {
    "duration": 108,
    "start_time": "2023-07-09T09:10:24.021Z"
   },
   {
    "duration": 13,
    "start_time": "2023-07-09T09:10:24.615Z"
   },
   {
    "duration": 18,
    "start_time": "2023-07-09T09:10:25.412Z"
   },
   {
    "duration": 23,
    "start_time": "2023-07-09T09:10:26.389Z"
   },
   {
    "duration": 261,
    "start_time": "2023-07-09T09:10:28.917Z"
   },
   {
    "duration": 337,
    "start_time": "2023-07-09T09:10:29.180Z"
   },
   {
    "duration": 233,
    "start_time": "2023-07-09T09:10:29.922Z"
   },
   {
    "duration": 366,
    "start_time": "2023-07-09T09:10:30.725Z"
   },
   {
    "duration": 266,
    "start_time": "2023-07-09T09:10:31.532Z"
   },
   {
    "duration": 346,
    "start_time": "2023-07-09T09:10:32.323Z"
   },
   {
    "duration": 199,
    "start_time": "2023-07-09T09:10:33.341Z"
   },
   {
    "duration": 5,
    "start_time": "2023-07-09T09:10:34.627Z"
   },
   {
    "duration": 178,
    "start_time": "2023-07-09T09:10:35.621Z"
   },
   {
    "duration": 11,
    "start_time": "2023-07-09T09:10:36.907Z"
   },
   {
    "duration": 212,
    "start_time": "2023-07-09T09:10:38.525Z"
   },
   {
    "duration": 8,
    "start_time": "2023-07-09T09:10:38.739Z"
   },
   {
    "duration": 21,
    "start_time": "2023-07-09T09:10:39.858Z"
   },
   {
    "duration": 6,
    "start_time": "2023-07-09T09:10:43.410Z"
   },
   {
    "duration": 7,
    "start_time": "2023-07-09T09:10:43.814Z"
   },
   {
    "duration": 13,
    "start_time": "2023-07-09T09:10:53.311Z"
   },
   {
    "duration": 18,
    "start_time": "2023-07-09T09:10:54.499Z"
   },
   {
    "duration": 11,
    "start_time": "2023-07-09T09:10:56.382Z"
   },
   {
    "duration": 25,
    "start_time": "2023-07-09T09:10:56.628Z"
   },
   {
    "duration": 26,
    "start_time": "2023-07-09T09:10:58.107Z"
   },
   {
    "duration": 10,
    "start_time": "2023-07-09T09:13:13.566Z"
   },
   {
    "duration": 3,
    "start_time": "2023-07-09T09:13:33.624Z"
   },
   {
    "duration": 8,
    "start_time": "2023-07-09T09:13:33.855Z"
   },
   {
    "duration": 7,
    "start_time": "2023-07-09T09:14:25.970Z"
   },
   {
    "duration": 1050,
    "start_time": "2023-07-09T09:17:20.434Z"
   },
   {
    "duration": 145,
    "start_time": "2023-07-09T09:17:21.486Z"
   },
   {
    "duration": 28,
    "start_time": "2023-07-09T09:17:21.633Z"
   },
   {
    "duration": 7,
    "start_time": "2023-07-09T09:17:21.663Z"
   },
   {
    "duration": 48,
    "start_time": "2023-07-09T09:17:21.671Z"
   },
   {
    "duration": 14,
    "start_time": "2023-07-09T09:17:21.720Z"
   },
   {
    "duration": 77,
    "start_time": "2023-07-09T09:17:21.736Z"
   },
   {
    "duration": 46,
    "start_time": "2023-07-09T09:17:21.814Z"
   },
   {
    "duration": 14,
    "start_time": "2023-07-09T09:17:21.862Z"
   },
   {
    "duration": 55,
    "start_time": "2023-07-09T09:17:21.879Z"
   },
   {
    "duration": 26,
    "start_time": "2023-07-09T09:17:21.935Z"
   },
   {
    "duration": 29,
    "start_time": "2023-07-09T09:17:21.962Z"
   },
   {
    "duration": 298,
    "start_time": "2023-07-09T09:17:21.993Z"
   },
   {
    "duration": 350,
    "start_time": "2023-07-09T09:17:22.293Z"
   },
   {
    "duration": 272,
    "start_time": "2023-07-09T09:17:22.645Z"
   },
   {
    "duration": 322,
    "start_time": "2023-07-09T09:17:22.919Z"
   },
   {
    "duration": 279,
    "start_time": "2023-07-09T09:17:23.243Z"
   },
   {
    "duration": 344,
    "start_time": "2023-07-09T09:17:23.524Z"
   },
   {
    "duration": 248,
    "start_time": "2023-07-09T09:17:23.870Z"
   },
   {
    "duration": 5,
    "start_time": "2023-07-09T09:17:24.120Z"
   },
   {
    "duration": 199,
    "start_time": "2023-07-09T09:17:24.128Z"
   },
   {
    "duration": 5,
    "start_time": "2023-07-09T09:17:24.329Z"
   },
   {
    "duration": 243,
    "start_time": "2023-07-09T09:17:24.336Z"
   },
   {
    "duration": 24,
    "start_time": "2023-07-09T09:17:24.581Z"
   },
   {
    "duration": 26,
    "start_time": "2023-07-09T09:17:24.607Z"
   },
   {
    "duration": 5,
    "start_time": "2023-07-09T09:17:24.634Z"
   },
   {
    "duration": 11,
    "start_time": "2023-07-09T09:17:24.640Z"
   },
   {
    "duration": 10,
    "start_time": "2023-07-09T09:17:24.654Z"
   },
   {
    "duration": 11,
    "start_time": "2023-07-09T09:17:24.666Z"
   },
   {
    "duration": 16,
    "start_time": "2023-07-09T09:17:24.699Z"
   },
   {
    "duration": 59,
    "start_time": "2023-07-09T09:17:24.716Z"
   },
   {
    "duration": 110,
    "start_time": "2023-07-09T09:17:24.776Z"
   },
   {
    "duration": 1143,
    "start_time": "2023-07-09T09:18:49.518Z"
   },
   {
    "duration": 200,
    "start_time": "2023-07-09T09:18:50.663Z"
   },
   {
    "duration": 30,
    "start_time": "2023-07-09T09:18:50.864Z"
   },
   {
    "duration": 29,
    "start_time": "2023-07-09T09:18:50.896Z"
   },
   {
    "duration": 31,
    "start_time": "2023-07-09T09:18:50.929Z"
   },
   {
    "duration": 27,
    "start_time": "2023-07-09T09:18:50.962Z"
   },
   {
    "duration": 68,
    "start_time": "2023-07-09T09:18:50.991Z"
   },
   {
    "duration": 23,
    "start_time": "2023-07-09T09:18:51.062Z"
   },
   {
    "duration": 9,
    "start_time": "2023-07-09T09:18:51.087Z"
   },
   {
    "duration": 32,
    "start_time": "2023-07-09T09:18:51.099Z"
   },
   {
    "duration": 21,
    "start_time": "2023-07-09T09:18:51.133Z"
   },
   {
    "duration": 424,
    "start_time": "2023-07-09T09:18:51.156Z"
   },
   {
    "duration": 463,
    "start_time": "2023-07-09T09:18:51.582Z"
   },
   {
    "duration": 238,
    "start_time": "2023-07-09T09:18:52.048Z"
   },
   {
    "duration": 381,
    "start_time": "2023-07-09T09:18:52.288Z"
   },
   {
    "duration": 327,
    "start_time": "2023-07-09T09:18:52.671Z"
   },
   {
    "duration": 350,
    "start_time": "2023-07-09T09:18:53.002Z"
   },
   {
    "duration": 212,
    "start_time": "2023-07-09T09:18:53.354Z"
   },
   {
    "duration": 4,
    "start_time": "2023-07-09T09:18:53.568Z"
   },
   {
    "duration": 202,
    "start_time": "2023-07-09T09:18:53.574Z"
   },
   {
    "duration": 5,
    "start_time": "2023-07-09T09:18:53.777Z"
   },
   {
    "duration": 250,
    "start_time": "2023-07-09T09:18:53.783Z"
   },
   {
    "duration": 8,
    "start_time": "2023-07-09T09:18:54.034Z"
   },
   {
    "duration": 35,
    "start_time": "2023-07-09T09:18:54.044Z"
   },
   {
    "duration": 37,
    "start_time": "2023-07-09T09:18:54.081Z"
   },
   {
    "duration": 20,
    "start_time": "2023-07-09T09:18:54.120Z"
   },
   {
    "duration": 11,
    "start_time": "2023-07-09T09:18:54.142Z"
   },
   {
    "duration": 15,
    "start_time": "2023-07-09T09:18:54.156Z"
   },
   {
    "duration": 11,
    "start_time": "2023-07-09T09:18:54.172Z"
   },
   {
    "duration": 32,
    "start_time": "2023-07-09T09:18:54.184Z"
   },
   {
    "duration": 12,
    "start_time": "2023-07-09T09:18:54.218Z"
   },
   {
    "duration": 1107,
    "start_time": "2023-07-09T09:23:22.724Z"
   },
   {
    "duration": 123,
    "start_time": "2023-07-09T09:23:23.833Z"
   },
   {
    "duration": 29,
    "start_time": "2023-07-09T09:23:23.957Z"
   },
   {
    "duration": 4,
    "start_time": "2023-07-09T09:23:23.988Z"
   },
   {
    "duration": 36,
    "start_time": "2023-07-09T09:23:23.993Z"
   },
   {
    "duration": 11,
    "start_time": "2023-07-09T09:23:24.031Z"
   },
   {
    "duration": 73,
    "start_time": "2023-07-09T09:23:24.044Z"
   },
   {
    "duration": 22,
    "start_time": "2023-07-09T09:23:24.118Z"
   },
   {
    "duration": 8,
    "start_time": "2023-07-09T09:23:24.141Z"
   },
   {
    "duration": 15,
    "start_time": "2023-07-09T09:23:24.151Z"
   },
   {
    "duration": 11,
    "start_time": "2023-07-09T09:23:24.168Z"
   },
   {
    "duration": 17,
    "start_time": "2023-07-09T09:23:24.209Z"
   },
   {
    "duration": 292,
    "start_time": "2023-07-09T09:23:24.228Z"
   },
   {
    "duration": 363,
    "start_time": "2023-07-09T09:23:24.522Z"
   },
   {
    "duration": 364,
    "start_time": "2023-07-09T09:23:24.886Z"
   },
   {
    "duration": 370,
    "start_time": "2023-07-09T09:23:25.252Z"
   },
   {
    "duration": 294,
    "start_time": "2023-07-09T09:23:25.623Z"
   },
   {
    "duration": 420,
    "start_time": "2023-07-09T09:23:25.927Z"
   },
   {
    "duration": 226,
    "start_time": "2023-07-09T09:23:26.349Z"
   },
   {
    "duration": 4,
    "start_time": "2023-07-09T09:23:26.576Z"
   },
   {
    "duration": 212,
    "start_time": "2023-07-09T09:23:26.582Z"
   },
   {
    "duration": 4,
    "start_time": "2023-07-09T09:23:26.795Z"
   },
   {
    "duration": 228,
    "start_time": "2023-07-09T09:23:26.809Z"
   },
   {
    "duration": 19,
    "start_time": "2023-07-09T09:23:27.039Z"
   },
   {
    "duration": 22,
    "start_time": "2023-07-09T09:23:27.059Z"
   },
   {
    "duration": 5,
    "start_time": "2023-07-09T09:23:27.082Z"
   },
   {
    "duration": 37,
    "start_time": "2023-07-09T09:23:27.088Z"
   },
   {
    "duration": 17,
    "start_time": "2023-07-09T09:23:27.128Z"
   },
   {
    "duration": 12,
    "start_time": "2023-07-09T09:23:27.147Z"
   },
   {
    "duration": 11,
    "start_time": "2023-07-09T09:23:27.160Z"
   },
   {
    "duration": 43,
    "start_time": "2023-07-09T09:23:27.173Z"
   },
   {
    "duration": 116,
    "start_time": "2023-07-09T09:23:27.218Z"
   },
   {
    "duration": 58,
    "start_time": "2023-07-09T10:37:11.229Z"
   },
   {
    "duration": 2139,
    "start_time": "2023-07-09T17:40:31.179Z"
   },
   {
    "duration": 316,
    "start_time": "2023-07-09T17:40:33.322Z"
   },
   {
    "duration": 36,
    "start_time": "2023-07-09T17:40:33.640Z"
   },
   {
    "duration": 171,
    "start_time": "2023-07-09T17:40:33.678Z"
   },
   {
    "duration": 253,
    "start_time": "2023-07-09T17:40:33.851Z"
   },
   {
    "duration": 58,
    "start_time": "2023-07-09T17:40:34.106Z"
   },
   {
    "duration": 54,
    "start_time": "2023-07-09T17:40:34.165Z"
   },
   {
    "duration": 76,
    "start_time": "2023-07-09T17:40:34.221Z"
   },
   {
    "duration": 132,
    "start_time": "2023-07-09T17:40:34.300Z"
   },
   {
    "duration": 0,
    "start_time": "2023-07-09T17:40:34.435Z"
   },
   {
    "duration": 0,
    "start_time": "2023-07-09T17:40:34.438Z"
   },
   {
    "duration": 0,
    "start_time": "2023-07-09T17:40:34.439Z"
   },
   {
    "duration": 0,
    "start_time": "2023-07-09T17:40:34.441Z"
   },
   {
    "duration": 0,
    "start_time": "2023-07-09T17:40:34.443Z"
   },
   {
    "duration": 0,
    "start_time": "2023-07-09T17:40:34.445Z"
   },
   {
    "duration": 0,
    "start_time": "2023-07-09T17:40:34.447Z"
   },
   {
    "duration": 0,
    "start_time": "2023-07-09T17:40:34.449Z"
   },
   {
    "duration": 0,
    "start_time": "2023-07-09T17:40:34.450Z"
   },
   {
    "duration": 0,
    "start_time": "2023-07-09T17:40:34.452Z"
   },
   {
    "duration": 0,
    "start_time": "2023-07-09T17:40:34.453Z"
   },
   {
    "duration": 0,
    "start_time": "2023-07-09T17:40:34.455Z"
   },
   {
    "duration": 0,
    "start_time": "2023-07-09T17:40:34.456Z"
   },
   {
    "duration": 0,
    "start_time": "2023-07-09T17:40:34.458Z"
   },
   {
    "duration": 0,
    "start_time": "2023-07-09T17:40:34.459Z"
   },
   {
    "duration": 0,
    "start_time": "2023-07-09T17:40:34.461Z"
   },
   {
    "duration": 0,
    "start_time": "2023-07-09T17:40:34.462Z"
   },
   {
    "duration": 0,
    "start_time": "2023-07-09T17:40:34.463Z"
   },
   {
    "duration": 0,
    "start_time": "2023-07-09T17:40:34.464Z"
   },
   {
    "duration": 0,
    "start_time": "2023-07-09T17:40:34.465Z"
   },
   {
    "duration": 0,
    "start_time": "2023-07-09T17:40:34.466Z"
   },
   {
    "duration": 0,
    "start_time": "2023-07-09T17:40:34.517Z"
   },
   {
    "duration": 0,
    "start_time": "2023-07-09T17:40:34.518Z"
   },
   {
    "duration": 7,
    "start_time": "2023-07-09T17:41:06.975Z"
   },
   {
    "duration": 8,
    "start_time": "2023-07-09T17:42:19.331Z"
   },
   {
    "duration": 4,
    "start_time": "2023-07-09T17:46:44.722Z"
   },
   {
    "duration": 145,
    "start_time": "2023-07-09T17:46:44.728Z"
   },
   {
    "duration": 31,
    "start_time": "2023-07-09T17:46:44.875Z"
   },
   {
    "duration": 10,
    "start_time": "2023-07-09T17:46:44.909Z"
   },
   {
    "duration": 21,
    "start_time": "2023-07-09T17:46:44.926Z"
   },
   {
    "duration": 8,
    "start_time": "2023-07-09T17:46:44.949Z"
   },
   {
    "duration": 51,
    "start_time": "2023-07-09T17:46:44.959Z"
   },
   {
    "duration": 27,
    "start_time": "2023-07-09T17:46:45.020Z"
   },
   {
    "duration": 7,
    "start_time": "2023-07-09T17:46:45.050Z"
   },
   {
    "duration": 34,
    "start_time": "2023-07-09T17:46:45.060Z"
   },
   {
    "duration": 58,
    "start_time": "2023-07-09T17:46:45.096Z"
   },
   {
    "duration": 325,
    "start_time": "2023-07-09T17:46:45.156Z"
   },
   {
    "duration": 418,
    "start_time": "2023-07-09T17:46:45.483Z"
   },
   {
    "duration": 352,
    "start_time": "2023-07-09T17:46:45.903Z"
   },
   {
    "duration": 470,
    "start_time": "2023-07-09T17:46:46.257Z"
   },
   {
    "duration": 322,
    "start_time": "2023-07-09T17:46:46.729Z"
   },
   {
    "duration": 344,
    "start_time": "2023-07-09T17:46:47.052Z"
   },
   {
    "duration": 230,
    "start_time": "2023-07-09T17:46:47.398Z"
   },
   {
    "duration": 5,
    "start_time": "2023-07-09T17:46:47.630Z"
   },
   {
    "duration": 228,
    "start_time": "2023-07-09T17:46:47.638Z"
   },
   {
    "duration": 6,
    "start_time": "2023-07-09T17:46:47.868Z"
   },
   {
    "duration": 276,
    "start_time": "2023-07-09T17:46:47.875Z"
   },
   {
    "duration": 14,
    "start_time": "2023-07-09T17:46:48.153Z"
   },
   {
    "duration": 42,
    "start_time": "2023-07-09T17:46:48.172Z"
   },
   {
    "duration": 6,
    "start_time": "2023-07-09T17:46:48.222Z"
   },
   {
    "duration": 13,
    "start_time": "2023-07-09T17:46:48.231Z"
   },
   {
    "duration": 15,
    "start_time": "2023-07-09T17:46:48.246Z"
   },
   {
    "duration": 18,
    "start_time": "2023-07-09T17:46:48.263Z"
   },
   {
    "duration": 30,
    "start_time": "2023-07-09T17:46:48.283Z"
   },
   {
    "duration": 22,
    "start_time": "2023-07-09T17:46:48.318Z"
   },
   {
    "duration": 15,
    "start_time": "2023-07-09T17:46:48.342Z"
   },
   {
    "duration": 29,
    "start_time": "2023-07-09T17:57:27.591Z"
   },
   {
    "duration": 14,
    "start_time": "2023-07-09T18:10:50.387Z"
   },
   {
    "duration": 151,
    "start_time": "2023-07-09T18:14:08.918Z"
   },
   {
    "duration": 13,
    "start_time": "2023-07-09T18:14:42.250Z"
   },
   {
    "duration": 5,
    "start_time": "2023-07-09T18:20:12.191Z"
   },
   {
    "duration": 146,
    "start_time": "2023-07-09T18:20:12.198Z"
   },
   {
    "duration": 32,
    "start_time": "2023-07-09T18:20:12.346Z"
   },
   {
    "duration": 4,
    "start_time": "2023-07-09T18:20:12.380Z"
   },
   {
    "duration": 21,
    "start_time": "2023-07-09T18:20:12.387Z"
   },
   {
    "duration": 14,
    "start_time": "2023-07-09T18:20:12.412Z"
   },
   {
    "duration": 32,
    "start_time": "2023-07-09T18:20:12.428Z"
   },
   {
    "duration": 54,
    "start_time": "2023-07-09T18:20:12.461Z"
   },
   {
    "duration": 9,
    "start_time": "2023-07-09T18:20:12.524Z"
   },
   {
    "duration": 19,
    "start_time": "2023-07-09T18:20:12.535Z"
   },
   {
    "duration": 30,
    "start_time": "2023-07-09T18:20:12.556Z"
   },
   {
    "duration": 341,
    "start_time": "2023-07-09T18:20:12.588Z"
   },
   {
    "duration": 386,
    "start_time": "2023-07-09T18:20:12.931Z"
   },
   {
    "duration": 279,
    "start_time": "2023-07-09T18:20:13.323Z"
   },
   {
    "duration": 394,
    "start_time": "2023-07-09T18:20:13.610Z"
   },
   {
    "duration": 324,
    "start_time": "2023-07-09T18:20:14.008Z"
   },
   {
    "duration": 393,
    "start_time": "2023-07-09T18:20:14.334Z"
   },
   {
    "duration": 229,
    "start_time": "2023-07-09T18:20:14.729Z"
   },
   {
    "duration": 6,
    "start_time": "2023-07-09T18:20:14.960Z"
   },
   {
    "duration": 234,
    "start_time": "2023-07-09T18:20:14.968Z"
   },
   {
    "duration": 17,
    "start_time": "2023-07-09T18:20:15.204Z"
   },
   {
    "duration": 323,
    "start_time": "2023-07-09T18:20:15.223Z"
   },
   {
    "duration": 11,
    "start_time": "2023-07-09T18:20:15.549Z"
   },
   {
    "duration": 115,
    "start_time": "2023-07-09T18:20:15.562Z"
   },
   {
    "duration": 7,
    "start_time": "2023-07-09T18:20:15.679Z"
   },
   {
    "duration": 56,
    "start_time": "2023-07-09T18:20:15.688Z"
   },
   {
    "duration": 30,
    "start_time": "2023-07-09T18:20:15.746Z"
   },
   {
    "duration": 56,
    "start_time": "2023-07-09T18:20:15.779Z"
   },
   {
    "duration": 31,
    "start_time": "2023-07-09T18:20:15.837Z"
   },
   {
    "duration": 72,
    "start_time": "2023-07-09T18:20:15.871Z"
   },
   {
    "duration": 55,
    "start_time": "2023-07-09T18:20:15.945Z"
   },
   {
    "duration": 1337,
    "start_time": "2023-07-10T02:51:35.501Z"
   },
   {
    "duration": 248,
    "start_time": "2023-07-10T02:51:36.840Z"
   },
   {
    "duration": 31,
    "start_time": "2023-07-10T02:51:37.091Z"
   },
   {
    "duration": 10,
    "start_time": "2023-07-10T02:51:37.125Z"
   },
   {
    "duration": 20,
    "start_time": "2023-07-10T02:51:37.137Z"
   },
   {
    "duration": 8,
    "start_time": "2023-07-10T02:51:37.159Z"
   },
   {
    "duration": 32,
    "start_time": "2023-07-10T02:51:37.170Z"
   },
   {
    "duration": 23,
    "start_time": "2023-07-10T02:51:37.205Z"
   },
   {
    "duration": 36,
    "start_time": "2023-07-10T02:51:37.229Z"
   },
   {
    "duration": 13,
    "start_time": "2023-07-10T02:51:37.269Z"
   },
   {
    "duration": 16,
    "start_time": "2023-07-10T02:51:37.284Z"
   },
   {
    "duration": 319,
    "start_time": "2023-07-10T02:51:37.301Z"
   },
   {
    "duration": 378,
    "start_time": "2023-07-10T02:51:37.622Z"
   },
   {
    "duration": 271,
    "start_time": "2023-07-10T02:51:38.002Z"
   },
   {
    "duration": 430,
    "start_time": "2023-07-10T02:51:38.274Z"
   },
   {
    "duration": 302,
    "start_time": "2023-07-10T02:51:38.706Z"
   },
   {
    "duration": 337,
    "start_time": "2023-07-10T02:51:39.011Z"
   },
   {
    "duration": 209,
    "start_time": "2023-07-10T02:51:39.350Z"
   },
   {
    "duration": 6,
    "start_time": "2023-07-10T02:51:39.561Z"
   },
   {
    "duration": 205,
    "start_time": "2023-07-10T02:51:39.569Z"
   },
   {
    "duration": 5,
    "start_time": "2023-07-10T02:51:39.776Z"
   },
   {
    "duration": 235,
    "start_time": "2023-07-10T02:51:39.782Z"
   },
   {
    "duration": 10,
    "start_time": "2023-07-10T02:51:40.019Z"
   },
   {
    "duration": 39,
    "start_time": "2023-07-10T02:51:40.031Z"
   },
   {
    "duration": 5,
    "start_time": "2023-07-10T02:51:40.071Z"
   },
   {
    "duration": 15,
    "start_time": "2023-07-10T02:51:40.078Z"
   },
   {
    "duration": 19,
    "start_time": "2023-07-10T02:51:40.094Z"
   },
   {
    "duration": 11,
    "start_time": "2023-07-10T02:51:40.116Z"
   },
   {
    "duration": 30,
    "start_time": "2023-07-10T02:51:40.129Z"
   },
   {
    "duration": 22,
    "start_time": "2023-07-10T02:51:40.161Z"
   },
   {
    "duration": 14,
    "start_time": "2023-07-10T02:51:40.185Z"
   },
   {
    "duration": 1402,
    "start_time": "2023-07-10T04:16:53.208Z"
   },
   {
    "duration": 279,
    "start_time": "2023-07-10T04:16:54.612Z"
   },
   {
    "duration": 29,
    "start_time": "2023-07-10T04:16:54.892Z"
   },
   {
    "duration": 4,
    "start_time": "2023-07-10T04:16:54.923Z"
   },
   {
    "duration": 11,
    "start_time": "2023-07-10T04:16:54.929Z"
   },
   {
    "duration": 8,
    "start_time": "2023-07-10T04:16:54.941Z"
   },
   {
    "duration": 39,
    "start_time": "2023-07-10T04:16:54.951Z"
   },
   {
    "duration": 26,
    "start_time": "2023-07-10T04:16:54.992Z"
   },
   {
    "duration": 7,
    "start_time": "2023-07-10T04:16:55.020Z"
   },
   {
    "duration": 49,
    "start_time": "2023-07-10T04:16:55.028Z"
   },
   {
    "duration": 19,
    "start_time": "2023-07-10T04:16:55.082Z"
   },
   {
    "duration": 305,
    "start_time": "2023-07-10T04:16:55.104Z"
   },
   {
    "duration": 356,
    "start_time": "2023-07-10T04:16:55.411Z"
   },
   {
    "duration": 267,
    "start_time": "2023-07-10T04:16:55.770Z"
   },
   {
    "duration": 454,
    "start_time": "2023-07-10T04:16:56.039Z"
   },
   {
    "duration": 309,
    "start_time": "2023-07-10T04:16:56.496Z"
   },
   {
    "duration": 330,
    "start_time": "2023-07-10T04:16:56.807Z"
   },
   {
    "duration": 215,
    "start_time": "2023-07-10T04:16:57.139Z"
   },
   {
    "duration": 15,
    "start_time": "2023-07-10T04:16:57.355Z"
   },
   {
    "duration": 206,
    "start_time": "2023-07-10T04:16:57.375Z"
   },
   {
    "duration": 5,
    "start_time": "2023-07-10T04:16:57.583Z"
   },
   {
    "duration": 250,
    "start_time": "2023-07-10T04:16:57.590Z"
   },
   {
    "duration": 21,
    "start_time": "2023-07-10T04:16:57.842Z"
   },
   {
    "duration": 34,
    "start_time": "2023-07-10T04:16:57.864Z"
   },
   {
    "duration": 5,
    "start_time": "2023-07-10T04:16:57.900Z"
   },
   {
    "duration": 23,
    "start_time": "2023-07-10T04:16:57.907Z"
   },
   {
    "duration": 19,
    "start_time": "2023-07-10T04:16:57.932Z"
   },
   {
    "duration": 24,
    "start_time": "2023-07-10T04:16:57.953Z"
   },
   {
    "duration": 17,
    "start_time": "2023-07-10T04:16:57.979Z"
   },
   {
    "duration": 26,
    "start_time": "2023-07-10T04:16:57.998Z"
   },
   {
    "duration": 17,
    "start_time": "2023-07-10T04:16:58.026Z"
   }
  ],
  "kernelspec": {
   "display_name": "Python 3 (ipykernel)",
   "language": "python",
   "name": "python3"
  },
  "language_info": {
   "codemirror_mode": {
    "name": "ipython",
    "version": 3
   },
   "file_extension": ".py",
   "mimetype": "text/x-python",
   "name": "python",
   "nbconvert_exporter": "python",
   "pygments_lexer": "ipython3",
   "version": "3.9.5"
  },
  "toc": {
   "base_numbering": 1,
   "nav_menu": {},
   "number_sections": true,
   "sideBar": true,
   "skip_h1_title": true,
   "title_cell": "Table of Contents",
   "title_sidebar": "Contents",
   "toc_cell": true,
   "toc_position": {
    "height": "calc(100% - 180px)",
    "left": "10px",
    "top": "150px",
    "width": "384px"
   },
   "toc_section_display": true,
   "toc_window_display": true
  }
 },
 "nbformat": 4,
 "nbformat_minor": 5
}
