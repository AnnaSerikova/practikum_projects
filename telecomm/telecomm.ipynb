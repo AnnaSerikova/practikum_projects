{
 "cells": [
  {
   "cell_type": "code",
   "execution_count": 1,
   "id": "adcec7e1",
   "metadata": {},
   "outputs": [],
   "source": [
    "# импортирование библиотек\n",
    "import os\n",
    "import pandas as pd\n",
    "from sqlalchemy import create_engine"
   ]
  },
  {
   "cell_type": "code",
   "execution_count": 2,
   "id": "e3f98273",
   "metadata": {},
   "outputs": [],
   "source": [
    "# чтение данных\n",
    "\n",
    "# путь к БД на вашем компьютере (например, в той же папке, что и тетрадь)\n",
    "path_to_db_local = r'C:\\Users\\forea\\Downloads\\telecomm_csi.db'\n",
    "# путь к БД на платформе\n",
    "path_to_db_platform = '/datasets/telecomm_csi.db'\n",
    "# итоговый путь к БД\n",
    "path_to_db = None\n",
    "\n",
    "# если путь на вашем компьютере ведёт к БД, то он становится итоговым\n",
    "if os.path.exists(path_to_db_local):\n",
    "    path_to_db = path_to_db_local\n",
    "# иначе: если путь на платформе ведёт к БД, то он становится итоговым\n",
    "elif os.path.exists(path_to_db_platform):\n",
    "    path_to_db = path_to_db_platform\n",
    "# иначе выводится сообщение о том, что файл не найден\n",
    "else:\n",
    "    raise Exception('Файл с базой данных SQLite не найден!')\n",
    "\n",
    "#создаём подключение к базе\n",
    "engine = create_engine(f'sqlite:///{path_to_db}', echo=False)\n",
    "    \n",
    "# SQL-запрос для получения данных из разных таблиц БД\n",
    "query = \"\"\"\n",
    "    SELECT u.user_id,\n",
    "           u.lt_day,\n",
    "           CASE\n",
    "                WHEN u.lt_day <= 365 THEN 'new'\n",
    "                WHEN u.lt_day > 365 THEN 'old'\n",
    "           END as is_new,\n",
    "           u.age,\n",
    "           CASE\n",
    "               WHEN u.gender_segment == 1 THEN 'Female'\n",
    "               WHEN u.gender_segment == 0 THEN 'Male'\n",
    "           END AS gender_segment,\n",
    "           u.os_name,\n",
    "           u.cpe_type_name,\n",
    "           l.country AS country,\n",
    "           l.city AS city,\n",
    "\t\t   CASE\n",
    "\t\t       WHEN aseg.title IS NOT NULL THEN substr(aseg.title, 4)\n",
    "\t\t   END as age_segment,\n",
    "\t\t   CASE\n",
    "\t\t       WHEN ts.title IS NOT NULL THEN substr(ts.title, 4)\n",
    "\t\t   END as traffic_segment,\n",
    "\t\t   CASE\n",
    "\t\t       WHEN ls.title IS NOT NULL THEN substr(ls.title, 4)\n",
    "\t\t   END as lifetime_segment,\n",
    "           u.nps_score,\n",
    "           CASE\n",
    "               WHEN u.nps_score <= 6 THEN 'detractors'\n",
    "               WHEN u.nps_score > 6 AND u.nps_score <=8 THEN 'passives'\n",
    "               WHEN u.nps_score >=9 THEN 'promoters'\n",
    "           END as nps_group\n",
    "     FROM user AS u\n",
    "     LEFT OUTER JOIN location AS l ON u.location_id = l.location_id\n",
    "     LEFT OUTER JOIN age_segment AS aseg ON u.age_gr_id = aseg.age_gr_id\n",
    "     LEFT OUTER JOIN traffic_segment AS ts ON u.tr_gr_id = ts.tr_gr_id\n",
    "     LEFT OUTER JOIN lifetime_segment AS ls ON u.lt_gr_id = ls.lt_gr_id\n",
    "     WHERE u.gender_segment IS NOT NULL AND aseg.title IS NOT '08 n/a';\n",
    "    \"\"\"\n",
    "# создаём датафрейм по данным запроса\n",
    "df = pd.read_sql(query, engine)"
   ]
  },
  {
   "cell_type": "code",
   "execution_count": 3,
   "id": "2697652d",
   "metadata": {},
   "outputs": [
    {
     "data": {
      "text/plain": [
       "<bound method NDFrame.head of        user_id  lt_day is_new   age gender_segment  os_name cpe_type_name  \\\n",
       "0       A001A2    2320    old  45.0         Female  ANDROID    SMARTPHONE   \n",
       "1       A001WF    2344    old  53.0           Male  ANDROID    SMARTPHONE   \n",
       "2       A003Q7     467    old  57.0           Male  ANDROID    SMARTPHONE   \n",
       "3       A004TB    4190    old  44.0         Female      IOS    SMARTPHONE   \n",
       "4       A004XT    1163    old  24.0           Male  ANDROID    SMARTPHONE   \n",
       "...        ...     ...    ...   ...            ...      ...           ...   \n",
       "501147  ZZZKLD    1249    old  54.0         Female  ANDROID    SMARTPHONE   \n",
       "501148  ZZZLWY     129    new  31.0           Male  ANDROID    SMARTPHONE   \n",
       "501149  ZZZQ5F     522    old  36.0           Male  ANDROID    SMARTPHONE   \n",
       "501150  ZZZQ8E    2936    old  37.0         Female  ANDROID    SMARTPHONE   \n",
       "501151  ZZZYH0    2471    old  37.0           Male      IOS    SMARTPHONE   \n",
       "\n",
       "       country          city age_segment traffic_segment lifetime_segment  \\\n",
       "0       Россия           Уфа       45-54             1-5              36+   \n",
       "1       Россия         Киров       45-54             1-5              36+   \n",
       "2       Россия        Москва       55-64           20-25            13-24   \n",
       "3       Россия  РостовнаДону       35-44           0.1-1              36+   \n",
       "4       Россия        Рязань       16-24            5-10              36+   \n",
       "...        ...           ...         ...             ...              ...   \n",
       "501147  Россия        Москва       45-54             1-5              36+   \n",
       "501148  Россия        Москва       25-34             1-5              4-6   \n",
       "501149  Россия        Сургут       35-44           25-30            13-24   \n",
       "501150  Россия       УланУдэ       35-44           65-70              36+   \n",
       "501151  Россия        Самара       35-44           10-15              36+   \n",
       "\n",
       "        nps_score   nps_group  \n",
       "0              10   promoters  \n",
       "1              10   promoters  \n",
       "2              10   promoters  \n",
       "3              10   promoters  \n",
       "4              10   promoters  \n",
       "...           ...         ...  \n",
       "501147          5  detractors  \n",
       "501148          8    passives  \n",
       "501149         10   promoters  \n",
       "501150          9   promoters  \n",
       "501151          2  detractors  \n",
       "\n",
       "[501152 rows x 14 columns]>"
      ]
     },
     "execution_count": 3,
     "metadata": {},
     "output_type": "execute_result"
    }
   ],
   "source": [
    "# оценка результатов выгрузки\n",
    "df.head"
   ]
  },
  {
   "cell_type": "code",
   "execution_count": 4,
   "id": "6373d8eb",
   "metadata": {},
   "outputs": [
    {
     "name": "stdout",
     "output_type": "stream",
     "text": [
      "<class 'pandas.core.frame.DataFrame'>\n",
      "RangeIndex: 501152 entries, 0 to 501151\n",
      "Data columns (total 14 columns):\n",
      " #   Column            Non-Null Count   Dtype  \n",
      "---  ------            --------------   -----  \n",
      " 0   user_id           501152 non-null  object \n",
      " 1   lt_day            501152 non-null  int64  \n",
      " 2   is_new            501152 non-null  object \n",
      " 3   age               501152 non-null  float64\n",
      " 4   gender_segment    501152 non-null  object \n",
      " 5   os_name           501152 non-null  object \n",
      " 6   cpe_type_name     501152 non-null  object \n",
      " 7   country           501152 non-null  object \n",
      " 8   city              501152 non-null  object \n",
      " 9   age_segment       501152 non-null  object \n",
      " 10  traffic_segment   501152 non-null  object \n",
      " 11  lifetime_segment  501152 non-null  object \n",
      " 12  nps_score         501152 non-null  int64  \n",
      " 13  nps_group         501152 non-null  object \n",
      "dtypes: float64(1), int64(2), object(11)\n",
      "memory usage: 53.5+ MB\n"
     ]
    }
   ],
   "source": [
    "df.info()"
   ]
  },
  {
   "cell_type": "code",
   "execution_count": 5,
   "id": "1a245cb6",
   "metadata": {},
   "outputs": [],
   "source": [
    "df.to_csv('telecomm_dashboard_data.csv', index = False)"
   ]
  },
  {
   "cell_type": "markdown",
   "id": "c659d118",
   "metadata": {},
   "source": [
    "### Ссылки на материалы проекта\n",
    "Ссылка на дашборд\n",
    "\n",
    "https://public.tableau.com/app/profile/anna.serikova7712/viz/sumup_project_2_dashboard/NPS_3?publish=yes\n",
    "\n",
    "Ссылка на презентацию\n",
    "\n",
    "https://disk.yandex.ru/i/7oTKe-vZHZ6iGA"
   ]
  }
 ],
 "metadata": {
  "ExecuteTimeLog": [
   {
    "duration": 459,
    "start_time": "2023-03-13T05:13:28.229Z"
   },
   {
    "duration": 4559,
    "start_time": "2023-03-13T05:13:28.690Z"
   },
   {
    "duration": 17,
    "start_time": "2023-03-13T05:13:33.250Z"
   },
   {
    "duration": 445,
    "start_time": "2023-03-13T05:13:33.279Z"
   },
   {
    "duration": 3354,
    "start_time": "2023-03-13T05:13:33.725Z"
   }
  ],
  "kernelspec": {
   "display_name": "Python 3 (ipykernel)",
   "language": "python",
   "name": "python3"
  },
  "language_info": {
   "codemirror_mode": {
    "name": "ipython",
    "version": 3
   },
   "file_extension": ".py",
   "mimetype": "text/x-python",
   "name": "python",
   "nbconvert_exporter": "python",
   "pygments_lexer": "ipython3",
   "version": "3.9.12"
  },
  "toc": {
   "base_numbering": 1,
   "nav_menu": {},
   "number_sections": true,
   "sideBar": true,
   "skip_h1_title": true,
   "title_cell": "Table of Contents",
   "title_sidebar": "Contents",
   "toc_cell": false,
   "toc_position": {},
   "toc_section_display": true,
   "toc_window_display": false
  }
 },
 "nbformat": 4,
 "nbformat_minor": 5
}
