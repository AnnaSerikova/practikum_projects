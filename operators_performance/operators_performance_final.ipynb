{
 "cells": [
  {
   "cell_type": "markdown",
   "id": "1ee25edd",
   "metadata": {
    "toc": true
   },
   "source": [
    "<h1>Table of Contents<span class=\"tocSkip\"></span></h1>\n",
    "<div class=\"toc\"><ul class=\"toc-item\"><li><span><a href=\"#Цель-исследования\" data-toc-modified-id=\"Цель-исследования-1\"><span class=\"toc-item-num\">1&nbsp;&nbsp;</span>Цель исследования</a></span></li><li><span><a href=\"#Источник-данных\" data-toc-modified-id=\"Источник-данных-2\"><span class=\"toc-item-num\">2&nbsp;&nbsp;</span>Источник данных</a></span></li><li><span><a href=\"#Материалы\" data-toc-modified-id=\"Материалы-3\"><span class=\"toc-item-num\">3&nbsp;&nbsp;</span>Материалы</a></span></li><li><span><a href=\"#Подготовка-инструментов-и-загрузка-данных\" data-toc-modified-id=\"Подготовка-инструментов-и-загрузка-данных-4\"><span class=\"toc-item-num\">4&nbsp;&nbsp;</span>Подготовка инструментов и загрузка данных</a></span></li><li><span><a href=\"#Предобработка-данных\" data-toc-modified-id=\"Предобработка-данных-5\"><span class=\"toc-item-num\">5&nbsp;&nbsp;</span>Предобработка данных</a></span><ul class=\"toc-item\"><li><span><a href=\"#Дубликаты\" data-toc-modified-id=\"Дубликаты-5.1\"><span class=\"toc-item-num\">5.1&nbsp;&nbsp;</span>Дубликаты</a></span></li><li><span><a href=\"#Пропущенные-значения\" data-toc-modified-id=\"Пропущенные-значения-5.2\"><span class=\"toc-item-num\">5.2&nbsp;&nbsp;</span>Пропущенные значения</a></span></li><li><span><a href=\"#Типы-данных\" data-toc-modified-id=\"Типы-данных-5.3\"><span class=\"toc-item-num\">5.3&nbsp;&nbsp;</span>Типы данных</a></span></li><li><span><a href=\"#Уникальные-значения\" data-toc-modified-id=\"Уникальные-значения-5.4\"><span class=\"toc-item-num\">5.4&nbsp;&nbsp;</span>Уникальные значения</a></span></li></ul></li><li><span><a href=\"#Исследовательский-анализ-данных\" data-toc-modified-id=\"Исследовательский-анализ-данных-6\"><span class=\"toc-item-num\">6&nbsp;&nbsp;</span>Исследовательский анализ данных</a></span><ul class=\"toc-item\"><li><span><a href=\"#Расчет-времени-ожидания-ответа\" data-toc-modified-id=\"Расчет-времени-ожидания-ответа-6.1\"><span class=\"toc-item-num\">6.1&nbsp;&nbsp;</span>Расчет времени ожидания ответа</a></span></li><li><span><a href=\"#Расчет-calls_rate\" data-toc-modified-id=\"Расчет-calls_rate-6.2\"><span class=\"toc-item-num\">6.2&nbsp;&nbsp;</span>Расчет calls_rate</a></span></li><li><span><a href=\"#Обзор-возможных-аномалий\" data-toc-modified-id=\"Обзор-возможных-аномалий-6.3\"><span class=\"toc-item-num\">6.3&nbsp;&nbsp;</span>Обзор возможных аномалий</a></span></li><li><span><a href=\"#Оценка-средних-значений-calls_rate-и--response_time-для-входящих-вызовов-на-оператора-в-день\" data-toc-modified-id=\"Оценка-средних-значений-calls_rate-и--response_time-для-входящих-вызовов-на-оператора-в-день-6.4\"><span class=\"toc-item-num\">6.4&nbsp;&nbsp;</span>Оценка средних значений calls_rate и  response_time для входящих вызовов на оператора в день</a></span></li><li><span><a href=\"#Оценка-среднего-числа-исходящих-внешних-вызовов-на-оператора-в-день\" data-toc-modified-id=\"Оценка-среднего-числа-исходящих-внешних-вызовов-на-оператора-в-день-6.5\"><span class=\"toc-item-num\">6.5&nbsp;&nbsp;</span>Оценка среднего числа исходящих внешних вызовов на оператора в день</a></span></li><li><span><a href=\"#Определение-коридоров-нормальных-значений-для-calls_rate,-response_time-и-числа-исходящих-вызовов-на-оператора-в-день\" data-toc-modified-id=\"Определение-коридоров-нормальных-значений-для-calls_rate,-response_time-и-числа-исходящих-вызовов-на-оператора-в-день-6.6\"><span class=\"toc-item-num\">6.6&nbsp;&nbsp;</span>Определение коридоров нормальных значений для calls_rate, response_time и числа исходящих вызовов на оператора в день</a></span></li><li><span><a href=\"#Число-внутренних-исходящих-вызовов-на-оператора-в-день\" data-toc-modified-id=\"Число-внутренних-исходящих-вызовов-на-оператора-в-день-6.7\"><span class=\"toc-item-num\">6.7&nbsp;&nbsp;</span>Число внутренних исходящих вызовов на оператора в день</a></span></li><li><span><a href=\"#Длительность-вызовов\" data-toc-modified-id=\"Длительность-вызовов-6.8\"><span class=\"toc-item-num\">6.8&nbsp;&nbsp;</span>Длительность вызовов</a></span></li><li><span><a href=\"#Объединение-всех-показателей\" data-toc-modified-id=\"Объединение-всех-показателей-6.9\"><span class=\"toc-item-num\">6.9&nbsp;&nbsp;</span>Объединение всех показателей</a></span></li></ul></li><li><span><a href=\"#Выявление-неэффективных-операторов\" data-toc-modified-id=\"Выявление-неэффективных-операторов-7\"><span class=\"toc-item-num\">7&nbsp;&nbsp;</span>Выявление неэффективных операторов</a></span><ul class=\"toc-item\"><li><span><a href=\"#Колл-центры,-где-выявлены-неэффективные-операторы\" data-toc-modified-id=\"Колл-центры,-где-выявлены-неэффективные-операторы-7.1\"><span class=\"toc-item-num\">7.1&nbsp;&nbsp;</span>Колл-центры, где выявлены неэффективные операторы</a></span></li></ul></li><li><span><a href=\"#Проверка-статистических-гипотез\" data-toc-modified-id=\"Проверка-статистических-гипотез-8\"><span class=\"toc-item-num\">8&nbsp;&nbsp;</span>Проверка статистических гипотез</a></span><ul class=\"toc-item\"><li><span><a href=\"#У-неэффективных-операторов-среднее-calls_rate-выше,-чем-среднее-calls_rate-в-целом.\" data-toc-modified-id=\"У-неэффективных-операторов-среднее-calls_rate-выше,-чем-среднее-calls_rate-в-целом.-8.1\"><span class=\"toc-item-num\">8.1&nbsp;&nbsp;</span>У неэффективных операторов среднее calls_rate выше, чем среднее calls_rate в целом.</a></span></li><li><span><a href=\"#У-неэффективных-операторов-среднее-response_time-выше,-чем-среднее-в-целом.\" data-toc-modified-id=\"У-неэффективных-операторов-среднее-response_time-выше,-чем-среднее-в-целом.-8.2\"><span class=\"toc-item-num\">8.2&nbsp;&nbsp;</span>У неэффективных операторов среднее response_time выше, чем среднее в целом.</a></span></li></ul></li><li><span><a href=\"#Выводы-и-рекомендации\" data-toc-modified-id=\"Выводы-и-рекомендации-9\"><span class=\"toc-item-num\">9&nbsp;&nbsp;</span>Выводы и рекомендации</a></span></li></ul></div>"
   ]
  },
  {
   "cell_type": "markdown",
   "id": "2e00d5d0",
   "metadata": {},
   "source": [
    "# Определение неэффективных операторов колл-центров\n",
    "\n",
    "Анализ выполняется для компании - провайдера телекоммуникационных услуг \"Нупозвони\".\n",
    "\n",
    "Провайдер предоставляет колл-центрам технические и программные средства для выполнения исходящих или приема входящих вызовов, а также для связи операторов одного колл-центра между собой. Операторы являются сотрудниками колл-центров, то есть клиентов \"Нупозвони\".\n",
    "\n",
    "## Цель исследования\n",
    "\n",
    "1. Определить неэффективных операторов.\n",
    "1. Предложить методику автоматического выявления операторов с низкой эффективностью.\n",
    "\n",
    "## Источник данных\n",
    "\n",
    "Данные собраны провайдером телекоммуникационных услуг.\n",
    "\n",
    "## Материалы\n",
    "\n",
    "[Презентация](https://disk.yandex.ru/i/Swyr1TmmR3qWMg \"Презентация\")\n",
    "\n",
    "[Дашборд](https://public.tableau.com/views/qualification_dashboard/sheet2?:language=en-US&:display_count=n&:origin=viz_share_link \"Дашборд\")"
   ]
  },
  {
   "cell_type": "markdown",
   "id": "ee9f4249",
   "metadata": {},
   "source": [
    "## Подготовка инструментов и загрузка данных"
   ]
  },
  {
   "cell_type": "code",
   "execution_count": 1,
   "id": "f589fce4",
   "metadata": {},
   "outputs": [],
   "source": [
    "import pandas as pd\n",
    "import matplotlib.pyplot as plt\n",
    "from scipy import stats as st"
   ]
  },
  {
   "cell_type": "code",
   "execution_count": 2,
   "id": "5556ec7c",
   "metadata": {},
   "outputs": [
    {
     "name": "stdout",
     "output_type": "stream",
     "text": [
      "<class 'pandas.core.frame.DataFrame'>\n",
      "RangeIndex: 53902 entries, 0 to 53901\n",
      "Data columns (total 9 columns):\n",
      " #   Column               Non-Null Count  Dtype  \n",
      "---  ------               --------------  -----  \n",
      " 0   user_id              53902 non-null  int64  \n",
      " 1   date                 53902 non-null  object \n",
      " 2   direction            53902 non-null  object \n",
      " 3   internal             53785 non-null  object \n",
      " 4   operator_id          45730 non-null  float64\n",
      " 5   is_missed_call       53902 non-null  bool   \n",
      " 6   calls_count          53902 non-null  int64  \n",
      " 7   call_duration        53902 non-null  int64  \n",
      " 8   total_call_duration  53902 non-null  int64  \n",
      "dtypes: bool(1), float64(1), int64(4), object(3)\n",
      "memory usage: 3.3+ MB\n",
      "<class 'pandas.core.frame.DataFrame'>\n",
      "RangeIndex: 732 entries, 0 to 731\n",
      "Data columns (total 3 columns):\n",
      " #   Column       Non-Null Count  Dtype \n",
      "---  ------       --------------  ----- \n",
      " 0   user_id      732 non-null    int64 \n",
      " 1   tariff_plan  732 non-null    object\n",
      " 2   date_start   732 non-null    object\n",
      "dtypes: int64(1), object(2)\n",
      "memory usage: 17.3+ KB\n"
     ]
    },
    {
     "data": {
      "text/html": [
       "<div>\n",
       "<style scoped>\n",
       "    .dataframe tbody tr th:only-of-type {\n",
       "        vertical-align: middle;\n",
       "    }\n",
       "\n",
       "    .dataframe tbody tr th {\n",
       "        vertical-align: top;\n",
       "    }\n",
       "\n",
       "    .dataframe thead th {\n",
       "        text-align: right;\n",
       "    }\n",
       "</style>\n",
       "<table border=\"1\" class=\"dataframe\">\n",
       "  <thead>\n",
       "    <tr style=\"text-align: right;\">\n",
       "      <th></th>\n",
       "      <th>user_id</th>\n",
       "      <th>date</th>\n",
       "      <th>direction</th>\n",
       "      <th>internal</th>\n",
       "      <th>operator_id</th>\n",
       "      <th>is_missed_call</th>\n",
       "      <th>calls_count</th>\n",
       "      <th>call_duration</th>\n",
       "      <th>total_call_duration</th>\n",
       "    </tr>\n",
       "  </thead>\n",
       "  <tbody>\n",
       "    <tr>\n",
       "      <th>0</th>\n",
       "      <td>166377</td>\n",
       "      <td>2019-08-04 00:00:00+03:00</td>\n",
       "      <td>in</td>\n",
       "      <td>False</td>\n",
       "      <td>NaN</td>\n",
       "      <td>True</td>\n",
       "      <td>2</td>\n",
       "      <td>0</td>\n",
       "      <td>4</td>\n",
       "    </tr>\n",
       "    <tr>\n",
       "      <th>1</th>\n",
       "      <td>166377</td>\n",
       "      <td>2019-08-05 00:00:00+03:00</td>\n",
       "      <td>out</td>\n",
       "      <td>True</td>\n",
       "      <td>880022.0</td>\n",
       "      <td>True</td>\n",
       "      <td>3</td>\n",
       "      <td>0</td>\n",
       "      <td>5</td>\n",
       "    </tr>\n",
       "    <tr>\n",
       "      <th>2</th>\n",
       "      <td>166377</td>\n",
       "      <td>2019-08-05 00:00:00+03:00</td>\n",
       "      <td>out</td>\n",
       "      <td>True</td>\n",
       "      <td>880020.0</td>\n",
       "      <td>True</td>\n",
       "      <td>1</td>\n",
       "      <td>0</td>\n",
       "      <td>1</td>\n",
       "    </tr>\n",
       "    <tr>\n",
       "      <th>3</th>\n",
       "      <td>166377</td>\n",
       "      <td>2019-08-05 00:00:00+03:00</td>\n",
       "      <td>out</td>\n",
       "      <td>True</td>\n",
       "      <td>880020.0</td>\n",
       "      <td>False</td>\n",
       "      <td>1</td>\n",
       "      <td>10</td>\n",
       "      <td>18</td>\n",
       "    </tr>\n",
       "    <tr>\n",
       "      <th>4</th>\n",
       "      <td>166377</td>\n",
       "      <td>2019-08-05 00:00:00+03:00</td>\n",
       "      <td>out</td>\n",
       "      <td>False</td>\n",
       "      <td>880022.0</td>\n",
       "      <td>True</td>\n",
       "      <td>3</td>\n",
       "      <td>0</td>\n",
       "      <td>25</td>\n",
       "    </tr>\n",
       "  </tbody>\n",
       "</table>\n",
       "</div>"
      ],
      "text/plain": [
       "   user_id                       date direction internal  operator_id  \\\n",
       "0   166377  2019-08-04 00:00:00+03:00        in    False          NaN   \n",
       "1   166377  2019-08-05 00:00:00+03:00       out     True     880022.0   \n",
       "2   166377  2019-08-05 00:00:00+03:00       out     True     880020.0   \n",
       "3   166377  2019-08-05 00:00:00+03:00       out     True     880020.0   \n",
       "4   166377  2019-08-05 00:00:00+03:00       out    False     880022.0   \n",
       "\n",
       "   is_missed_call  calls_count  call_duration  total_call_duration  \n",
       "0            True            2              0                    4  \n",
       "1            True            3              0                    5  \n",
       "2            True            1              0                    1  \n",
       "3           False            1             10                   18  \n",
       "4            True            3              0                   25  "
      ]
     },
     "metadata": {},
     "output_type": "display_data"
    },
    {
     "data": {
      "text/html": [
       "<div>\n",
       "<style scoped>\n",
       "    .dataframe tbody tr th:only-of-type {\n",
       "        vertical-align: middle;\n",
       "    }\n",
       "\n",
       "    .dataframe tbody tr th {\n",
       "        vertical-align: top;\n",
       "    }\n",
       "\n",
       "    .dataframe thead th {\n",
       "        text-align: right;\n",
       "    }\n",
       "</style>\n",
       "<table border=\"1\" class=\"dataframe\">\n",
       "  <thead>\n",
       "    <tr style=\"text-align: right;\">\n",
       "      <th></th>\n",
       "      <th>user_id</th>\n",
       "      <th>tariff_plan</th>\n",
       "      <th>date_start</th>\n",
       "    </tr>\n",
       "  </thead>\n",
       "  <tbody>\n",
       "    <tr>\n",
       "      <th>0</th>\n",
       "      <td>166713</td>\n",
       "      <td>A</td>\n",
       "      <td>2019-08-15</td>\n",
       "    </tr>\n",
       "    <tr>\n",
       "      <th>1</th>\n",
       "      <td>166901</td>\n",
       "      <td>A</td>\n",
       "      <td>2019-08-23</td>\n",
       "    </tr>\n",
       "    <tr>\n",
       "      <th>2</th>\n",
       "      <td>168527</td>\n",
       "      <td>A</td>\n",
       "      <td>2019-10-29</td>\n",
       "    </tr>\n",
       "    <tr>\n",
       "      <th>3</th>\n",
       "      <td>167097</td>\n",
       "      <td>A</td>\n",
       "      <td>2019-09-01</td>\n",
       "    </tr>\n",
       "    <tr>\n",
       "      <th>4</th>\n",
       "      <td>168193</td>\n",
       "      <td>A</td>\n",
       "      <td>2019-10-16</td>\n",
       "    </tr>\n",
       "  </tbody>\n",
       "</table>\n",
       "</div>"
      ],
      "text/plain": [
       "   user_id tariff_plan  date_start\n",
       "0   166713           A  2019-08-15\n",
       "1   166901           A  2019-08-23\n",
       "2   168527           A  2019-10-29\n",
       "3   167097           A  2019-09-01\n",
       "4   168193           A  2019-10-16"
      ]
     },
     "metadata": {},
     "output_type": "display_data"
    },
    {
     "data": {
      "text/plain": [
       "None"
      ]
     },
     "metadata": {},
     "output_type": "display_data"
    },
    {
     "data": {
      "text/plain": [
       "None"
      ]
     },
     "metadata": {},
     "output_type": "display_data"
    }
   ],
   "source": [
    "try:\n",
    "    data = pd.read_csv('telecom_dataset.csv')\n",
    "    clients = pd.read_csv('telecom_clients.csv')\n",
    "except:\n",
    "    data = pd.read_csv('/datasets/telecom_dataset.csv')\n",
    "    clients = pd.read_csv('/datasets/telecom_clients.csv')\n",
    "display(data.head(), clients.head(), data.info(), clients.info())"
   ]
  },
  {
   "cell_type": "markdown",
   "id": "1db87941",
   "metadata": {},
   "source": [
    "## Предобработка данных\n",
    "### Дубликаты"
   ]
  },
  {
   "cell_type": "code",
   "execution_count": null,
   "id": "7a9bd31c",
   "metadata": {},
   "outputs": [],
   "source": [
    "data.duplicated().sum()"
   ]
  },
  {
   "cell_type": "code",
   "execution_count": null,
   "id": "5e054799",
   "metadata": {},
   "outputs": [],
   "source": [
    "data = data.drop_duplicates()"
   ]
  },
  {
   "cell_type": "code",
   "execution_count": null,
   "id": "d55c7438",
   "metadata": {},
   "outputs": [],
   "source": [
    "data.duplicated().sum()"
   ]
  },
  {
   "cell_type": "code",
   "execution_count": null,
   "id": "eaea8ee7",
   "metadata": {},
   "outputs": [],
   "source": [
    "data['operator_id'].isna().sum()"
   ]
  },
  {
   "cell_type": "markdown",
   "id": "dfc40dda",
   "metadata": {},
   "source": [
    "1. Полностью задублированные строки удалены (4900 штук).\n",
    "1. В результате незначительно сократилось число случаев, когда неизвестен operator_id.\n",
    "1. Не представляется возможным проверить датасет на наличие неявных дубликатов."
   ]
  },
  {
   "cell_type": "markdown",
   "id": "dd65b295",
   "metadata": {},
   "source": [
    "### Пропущенные значения"
   ]
  },
  {
   "cell_type": "code",
   "execution_count": null,
   "id": "872f0c30",
   "metadata": {},
   "outputs": [],
   "source": [
    "data = data.dropna(subset=['internal', 'operator_id'])"
   ]
  },
  {
   "cell_type": "code",
   "execution_count": null,
   "id": "665488fc",
   "metadata": {},
   "outputs": [],
   "source": [
    "data.isna().sum()"
   ]
  },
  {
   "cell_type": "markdown",
   "id": "fb21f73a",
   "metadata": {},
   "source": [
    "1. Для целей более точного определения признаков неэффективности операторов предполагалось сохранить эти строки, но при проверке численности звонков на каждого оператора, мы увидели, что на фальш-значение 0 приходится более 6600 вызовов. При расчете средних значений это дало бы серьезное искажение. Строки с отсутствующими operator_id удалены.\n",
    "1. Строки, в которых пропуски зафиксированы в колонке 'internal', удалены ввиду их малого количества (менее 1% всего датасета)."
   ]
  },
  {
   "cell_type": "markdown",
   "id": "ce1838a2",
   "metadata": {},
   "source": [
    "### Типы данных"
   ]
  },
  {
   "cell_type": "code",
   "execution_count": null,
   "id": "31329cff",
   "metadata": {},
   "outputs": [],
   "source": [
    "data['date'] =  pd.to_datetime(data['date'], format='%Y-%m-%dT%H:%M:%S')"
   ]
  },
  {
   "cell_type": "code",
   "execution_count": null,
   "id": "5b58be3a",
   "metadata": {},
   "outputs": [],
   "source": [
    "data['internal'] = data['internal'].astype('bool')"
   ]
  },
  {
   "cell_type": "code",
   "execution_count": null,
   "id": "3f9901be",
   "metadata": {},
   "outputs": [],
   "source": [
    "data['operator_id'] = data['operator_id'].astype('int')"
   ]
  },
  {
   "cell_type": "code",
   "execution_count": null,
   "id": "ed2adbca",
   "metadata": {},
   "outputs": [],
   "source": [
    "data['is_missed_call'] = data['is_missed_call'].replace(True, 1)\n",
    "data['is_missed_call'] = data['is_missed_call'].replace(False, 0)"
   ]
  },
  {
   "cell_type": "code",
   "execution_count": null,
   "id": "550778c6",
   "metadata": {},
   "outputs": [],
   "source": [
    "data.info()"
   ]
  },
  {
   "cell_type": "code",
   "execution_count": null,
   "id": "eeb9c623",
   "metadata": {
    "scrolled": true
   },
   "outputs": [],
   "source": [
    "data.head()"
   ]
  },
  {
   "cell_type": "markdown",
   "id": "eed2644f",
   "metadata": {},
   "source": [
    "1. Уточнены типы данных для колонок:\n",
    "    - date, переведена в datetime;\n",
    "    - internal, переведена в bool;\n",
    "    - operator_id, переведена в int.\n",
    "1. Для удобства расчета calls_rate отношения числа пропущенных вызовов ко всем входящим внешним - значения True / False в колонке is_missed_call заменены на 1 / 0 соответственно.\n",
    "1. Попытка привести значения call_duration, total_call_duration к минутам вызывают потерю данных на строках с малыми значениями. Эти колонки оставлены как есть."
   ]
  },
  {
   "cell_type": "markdown",
   "id": "b8a81f62",
   "metadata": {},
   "source": [
    "### Уникальные значения"
   ]
  },
  {
   "cell_type": "code",
   "execution_count": null,
   "id": "072263ad",
   "metadata": {},
   "outputs": [],
   "source": [
    "data['user_id'].nunique()"
   ]
  },
  {
   "cell_type": "code",
   "execution_count": null,
   "id": "3d20750b",
   "metadata": {},
   "outputs": [],
   "source": [
    "data['direction'].unique()"
   ]
  },
  {
   "cell_type": "code",
   "execution_count": null,
   "id": "0bfe7128",
   "metadata": {},
   "outputs": [],
   "source": [
    "data['operator_id'].nunique()"
   ]
  },
  {
   "cell_type": "markdown",
   "id": "a0db6af4",
   "metadata": {},
   "source": [
    "Наборы уникальных значений выглядят адекватно."
   ]
  },
  {
   "cell_type": "markdown",
   "id": "bed06210",
   "metadata": {},
   "source": [
    "## Исследовательский анализ данных\n",
    "### Расчет времени ожидания ответа"
   ]
  },
  {
   "cell_type": "code",
   "execution_count": null,
   "id": "fec22c20",
   "metadata": {},
   "outputs": [],
   "source": [
    "data['response_time'] = data['total_call_duration'] - data['call_duration']"
   ]
  },
  {
   "cell_type": "markdown",
   "id": "02171c3d",
   "metadata": {},
   "source": [
    "Значение response_time означает время в секундах, которое прошло с момента поступления вызова до ответа оператора. Чем оно меньше, тем более эффективно работает оператор."
   ]
  },
  {
   "cell_type": "markdown",
   "id": "05bde468",
   "metadata": {},
   "source": [
    "### Расчет calls_rate"
   ]
  },
  {
   "cell_type": "code",
   "execution_count": null,
   "id": "d3f2fd7a",
   "metadata": {},
   "outputs": [],
   "source": [
    "incoming_calls_by_operators = data.query('direction == \"in\" and internal == False')\n",
    "incoming_calls_by_operators = incoming_calls_by_operators.pivot_table(index = ['date', 'operator_id', 'internal'], values = 'direction', aggfunc = 'count').reset_index()"
   ]
  },
  {
   "cell_type": "code",
   "execution_count": null,
   "id": "7f545735",
   "metadata": {},
   "outputs": [],
   "source": [
    "incoming_calls_response = data.query('direction == \"in\" and internal == False')\n",
    "incoming_calls_response = incoming_calls_response.pivot_table(index = ['date', 'operator_id', 'internal'], values = 'is_missed_call', aggfunc = 'sum').reset_index()"
   ]
  },
  {
   "cell_type": "code",
   "execution_count": null,
   "id": "fcdcafee",
   "metadata": {},
   "outputs": [],
   "source": [
    "incoming_calls_rate = incoming_calls_by_operators.merge(incoming_calls_response, on = ['date', 'operator_id', 'internal'], how = 'left')\n"
   ]
  },
  {
   "cell_type": "code",
   "execution_count": null,
   "id": "db5732b1",
   "metadata": {},
   "outputs": [],
   "source": [
    "incoming_calls_rate['calls_rate'] = incoming_calls_rate['is_missed_call'] / incoming_calls_rate['direction']"
   ]
  },
  {
   "cell_type": "code",
   "execution_count": null,
   "id": "d451dc05",
   "metadata": {},
   "outputs": [],
   "source": [
    "incoming_calls_rate = incoming_calls_rate.rename(columns={'direction': 'calls_cnt'})"
   ]
  },
  {
   "cell_type": "code",
   "execution_count": null,
   "id": "e69c4673",
   "metadata": {},
   "outputs": [],
   "source": [
    "for row in incoming_calls_rate:\n",
    "    incoming_calls_rate['direction'] = 'in'\n",
    "incoming_calls_rate.head()"
   ]
  },
  {
   "cell_type": "code",
   "execution_count": null,
   "id": "d871bc75",
   "metadata": {},
   "outputs": [],
   "source": [
    "data = data.merge(incoming_calls_rate, on = ['date', 'operator_id', 'direction', 'internal'], how = 'left')"
   ]
  },
  {
   "cell_type": "code",
   "execution_count": null,
   "id": "1a88b732",
   "metadata": {},
   "outputs": [],
   "source": [
    "data = data.drop(columns = ['calls_cnt', 'is_missed_call_y'])\n",
    "data = data.rename(columns={'is_missed_call_x': 'is_missed_call'})\n",
    "data.head()"
   ]
  },
  {
   "cell_type": "markdown",
   "id": "73ac6f38",
   "metadata": {},
   "source": [
    "Значение calls_rate показывает, насколько эффективно отвечал на входящие внешние вызовы данный оператор в данную дату. Чем меньше значение calls_rate, тем больше обработанных входящих внешних вызовов было у данного оператора в данную дату."
   ]
  },
  {
   "cell_type": "markdown",
   "id": "dbb43350",
   "metadata": {},
   "source": [
    "### Обзор возможных аномалий"
   ]
  },
  {
   "cell_type": "code",
   "execution_count": null,
   "id": "fe904e16",
   "metadata": {},
   "outputs": [],
   "source": [
    "anomaly_overview = data.describe()\n",
    "anomaly_overview = anomaly_overview.T\n",
    "anomaly_overview['bottom_whisker'] = anomaly_overview['25%'] - 1.5 * (anomaly_overview['75%'] - anomaly_overview['25%'])\n",
    "anomaly_overview['upper_whisker'] = anomaly_overview['75%'] + 1.5 * (anomaly_overview['75%'] - anomaly_overview['25%'])\n",
    "anomaly_overview"
   ]
  },
  {
   "cell_type": "code",
   "execution_count": null,
   "id": "8bb28d9d",
   "metadata": {},
   "outputs": [],
   "source": [
    "data = data.query('calls_count <= 33.5')\n",
    "data = data.query('call_duration <= 1930.5')\n",
    "data = data.query('total_call_duration <= 2667')\n",
    "data = data.query('response_time <= 519.0')\n",
    "data.info()"
   ]
  },
  {
   "cell_type": "markdown",
   "id": "35e96657",
   "metadata": {},
   "source": [
    "Удалены как выбросы значения в колонках calls_count, call_duration, total_call_duration, response_time, превышающие границу правого уса."
   ]
  },
  {
   "cell_type": "markdown",
   "id": "173adaae",
   "metadata": {},
   "source": [
    "### Оценка средних значений calls_rate и  response_time для входящих вызовов на оператора в день"
   ]
  },
  {
   "cell_type": "code",
   "execution_count": null,
   "id": "5fe00c53",
   "metadata": {},
   "outputs": [],
   "source": [
    "incoming_values = data.query('direction == \"in\" and internal == False')\n",
    "incoming_avg_values = incoming_values.pivot_table(index = ['operator_id', 'date'], values = ['calls_rate', 'response_time'], aggfunc = 'mean').reset_index()\n",
    "incoming_avg_values.sort_values(by = 'date', ascending = True)\n",
    "incoming_avg_values = incoming_avg_values.pivot_table(index = 'operator_id', values = ['calls_rate', 'response_time'], aggfunc = 'mean').reset_index()\n",
    "display(incoming_avg_values)\n",
    "display('Среднее значение calls_rate на оператора в день:', incoming_avg_values['calls_rate'].mean(), 'Среднее значенние response_time на оператора в день:', incoming_avg_values['response_time'].mean())"
   ]
  },
  {
   "cell_type": "code",
   "execution_count": null,
   "id": "09d8ac2f",
   "metadata": {
    "scrolled": false
   },
   "outputs": [],
   "source": [
    "plt.figure(figsize=(8, 6))\n",
    "\n",
    "plt.hist(incoming_avg_values['calls_rate'], bins=15, color='skyblue', edgecolor='black')\n",
    "\n",
    "plt.xlabel('Среднее значение calls_rate')\n",
    "plt.ylabel('Частота')\n",
    "plt.title('Распределение среднего значения calls_rate')\n",
    "\n",
    "plt.show()"
   ]
  },
  {
   "cell_type": "code",
   "execution_count": null,
   "id": "0da5fed7",
   "metadata": {},
   "outputs": [],
   "source": [
    "plt.figure(figsize=(8, 6))\n",
    "\n",
    "plt.hist(incoming_avg_values['response_time'], bins=15, color='skyblue', edgecolor='black')\n",
    "\n",
    "plt.xlabel('Среднее значение response_time')\n",
    "plt.ylabel('Частота')\n",
    "plt.title('Распределение среднего значения response_time')\n",
    "\n",
    "plt.show()"
   ]
  },
  {
   "cell_type": "markdown",
   "id": "7a222ece",
   "metadata": {},
   "source": [
    "### Оценка среднего числа исходящих внешних вызовов на оператора в день"
   ]
  },
  {
   "cell_type": "code",
   "execution_count": null,
   "id": "38d05792",
   "metadata": {},
   "outputs": [],
   "source": [
    "outcoming_calls = data.query('direction == \"out\" and internal == False')\n",
    "out_pivot = outcoming_calls.pivot_table(index = ['operator_id', 'date'], values = 'direction', aggfunc = 'count').reset_index()\n",
    "out_pivot = out_pivot.pivot_table(index = 'operator_id', values = 'direction', aggfunc = 'mean').reset_index()\n",
    "display('Среднее число исходящих вызовов на оператора в день:', out_pivot['direction'].mean(), out_pivot)"
   ]
  },
  {
   "cell_type": "code",
   "execution_count": null,
   "id": "519c605d",
   "metadata": {},
   "outputs": [],
   "source": [
    "plt.figure(figsize=(8, 6))\n",
    "\n",
    "plt.hist(out_pivot['direction'], bins=15, color='skyblue', edgecolor='black')\n",
    "\n",
    "plt.xlabel('Среднее число исходящих внешних вызовов')\n",
    "plt.ylabel('Частота')\n",
    "plt.title('Распределение среднего числа исходящих внешних вызовов')\n",
    "\n",
    "plt.show()"
   ]
  },
  {
   "cell_type": "code",
   "execution_count": null,
   "id": "7452e7d1",
   "metadata": {},
   "outputs": [],
   "source": [
    "general_avg_values = incoming_avg_values.merge(out_pivot, on = 'operator_id', how = 'left')\n",
    "general_avg_values = general_avg_values.rename(columns = {'direction' : 'out_calls_cnt'})\n",
    "general_avg_values"
   ]
  },
  {
   "cell_type": "markdown",
   "id": "c04da6f7",
   "metadata": {},
   "source": [
    "### Определение коридоров нормальных значений для calls_rate, response_time и числа исходящих вызовов на оператора в день"
   ]
  },
  {
   "cell_type": "code",
   "execution_count": null,
   "id": "f19ef69e",
   "metadata": {
    "scrolled": true
   },
   "outputs": [],
   "source": [
    "range_overview = general_avg_values.describe()\n",
    "range_overview = range_overview.T\n",
    "range_overview"
   ]
  },
  {
   "cell_type": "markdown",
   "id": "3fe10237",
   "metadata": {},
   "source": [
    "1. Коридор нормальных значений для calls_rate составляет от 0.0 до 0.02.\n",
    "1. Нормальный диапазон response_time: от 1 до 52 секунд.\n",
    "1. Нормальное число выполненных исходящих вызовов - от 1.14 до 1.53."
   ]
  },
  {
   "cell_type": "markdown",
   "id": "87cc96f4",
   "metadata": {},
   "source": [
    "### Число внутренних исходящих вызовов на оператора в день"
   ]
  },
  {
   "cell_type": "code",
   "execution_count": null,
   "id": "62239305",
   "metadata": {},
   "outputs": [],
   "source": [
    "internal_calls = data.query('direction == \"out\" and internal == True')\n",
    "int_pivot = internal_calls.pivot_table(index = ['operator_id', 'date'], values = 'direction', aggfunc = 'count').reset_index()\n",
    "int_pivot = int_pivot.pivot_table(index = 'operator_id', values = 'direction', aggfunc = 'mean').reset_index()\n",
    "int_pivot = int_pivot.rename(columns = {'direction' : 'int_calls_cnt'})\n",
    "display('Среднее число исходящих внутренних вызовов на оператора в день:', int_pivot['int_calls_cnt'].mean(), int_pivot)"
   ]
  },
  {
   "cell_type": "code",
   "execution_count": null,
   "id": "215a6d00",
   "metadata": {},
   "outputs": [],
   "source": [
    "plt.figure(figsize=(8, 6))\n",
    "\n",
    "plt.hist(int_pivot['int_calls_cnt'], bins=15, color='skyblue', edgecolor='black')\n",
    "\n",
    "plt.xlabel('Среднее число внутренних исходящих вызовов')\n",
    "plt.ylabel('Частота')\n",
    "plt.title('Распределение среднего числа внутренних исходящих вызовов')\n",
    "\n",
    "plt.show()"
   ]
  },
  {
   "cell_type": "code",
   "execution_count": null,
   "id": "e885261c",
   "metadata": {},
   "outputs": [],
   "source": [
    "internal_calls_overview = int_pivot.describe()\n",
    "internal_calls_overview = internal_calls_overview.T\n",
    "internal_calls_overview"
   ]
  },
  {
   "cell_type": "markdown",
   "id": "094030c3",
   "metadata": {},
   "source": [
    "Эффективный оператор обычно делает 1 внутренний исходящий вызов в течение дня. Однако макисмальное значение для этого параметра - 2, что выглядит вполне адекватно  точки зрения здравого смысла. Поэтому мы выведем этот показатель из определения неэффективных операторов."
   ]
  },
  {
   "cell_type": "markdown",
   "id": "57083833",
   "metadata": {},
   "source": [
    "### Длительность вызовов"
   ]
  },
  {
   "cell_type": "code",
   "execution_count": null,
   "id": "87581044",
   "metadata": {},
   "outputs": [],
   "source": [
    "# расчет средней продолжительности внешнего разговора для каждого оператора независимо от направления \n",
    "avg_call_duration_by_operator = data.query('internal == False').pivot_table(index = 'operator_id', values = 'call_duration', aggfunc = 'mean').reset_index()\n",
    "avg_call_duration_by_operator"
   ]
  },
  {
   "cell_type": "code",
   "execution_count": null,
   "id": "9720c3ba",
   "metadata": {},
   "outputs": [],
   "source": [
    "plt.figure(figsize=(8, 6))\n",
    "\n",
    "plt.hist(avg_call_duration_by_operator['call_duration'], bins=15, color='skyblue', edgecolor='black')\n",
    "\n",
    "plt.xlabel('Средняя продолжительность разговора')\n",
    "plt.ylabel('Частота')\n",
    "plt.title('Распределение средней продолжительности разговора')\n",
    "\n",
    "plt.show()"
   ]
  },
  {
   "cell_type": "code",
   "execution_count": null,
   "id": "ca67e657",
   "metadata": {},
   "outputs": [],
   "source": [
    "# расчет общего среднего времени разговора для внешнего звонка независимо от направления\n",
    "avg_call_duration = data.query('internal == False')\n",
    "avg_call_duration['call_duration'].describe()"
   ]
  },
  {
   "cell_type": "markdown",
   "id": "4da9f9fe",
   "metadata": {},
   "source": [
    "Продолжительность звонка у эффективного оператора от 1 минуты 40 секунд до почти 8,5 минут, а в среднем звонок длится 5,5 минут."
   ]
  },
  {
   "cell_type": "markdown",
   "id": "86e86e91",
   "metadata": {},
   "source": [
    "### Объединение всех показателей"
   ]
  },
  {
   "cell_type": "code",
   "execution_count": null,
   "id": "46d43d0a",
   "metadata": {},
   "outputs": [],
   "source": [
    "general_avg_values = general_avg_values.merge(int_pivot, on = 'operator_id', how = 'left')\n",
    "general_avg_values = general_avg_values.merge(avg_call_duration_by_operator, on = 'operator_id', how = 'left')\n",
    "general_avg_values"
   ]
  },
  {
   "cell_type": "markdown",
   "id": "fb9c9e32",
   "metadata": {},
   "source": [
    "## Выявление неэффективных операторов"
   ]
  },
  {
   "cell_type": "code",
   "execution_count": null,
   "id": "945558eb",
   "metadata": {},
   "outputs": [],
   "source": [
    "underperforming = general_avg_values.query('((calls_rate > 0.02 and response_time > 55) or out_calls_cnt < 1.37) and (call_duration < 60 or call_duration > 504)')\n",
    "display(underperforming)\n",
    "underperforming.info()"
   ]
  },
  {
   "cell_type": "markdown",
   "id": "72372dcf",
   "metadata": {},
   "source": [
    "1. В число неэффективных попадают 65 оператора по параметрам calls_rate + response_time или по числу исходящих вызовов, а также по длительности звонков."
   ]
  },
  {
   "cell_type": "markdown",
   "id": "cc1262d0",
   "metadata": {},
   "source": [
    "### Колл-центры, где выявлены неэффективные операторы"
   ]
  },
  {
   "cell_type": "code",
   "execution_count": null,
   "id": "ea04c0a3",
   "metadata": {},
   "outputs": [],
   "source": [
    "operator_list = list(underperforming['operator_id'])\n",
    "client_list = data.query('operator_id in @operator_list and operator_id != 0')\n",
    "client_list"
   ]
  },
  {
   "cell_type": "code",
   "execution_count": null,
   "id": "4cb3cabc",
   "metadata": {},
   "outputs": [],
   "source": [
    "display(\n",
    "    'Число колл-центров, где выявлены неэффективные операторы:',\n",
    "    client_list['user_id'].nunique(),\n",
    "    client_list['user_id'].unique()\n",
    ")"
   ]
  },
  {
   "cell_type": "markdown",
   "id": "ebd971b2",
   "metadata": {},
   "source": [
    "## Проверка статистических гипотез\n",
    "### У неэффективных операторов среднее calls_rate выше, чем среднее calls_rate в целом.\n",
    "\n",
    "Напомним, что в нашем случае чем ниже calls_rate, тем более эффективен оператор."
   ]
  },
  {
   "cell_type": "markdown",
   "id": "ea3415bc",
   "metadata": {},
   "source": [
    "H0: среднее значение calls_rate в целом равно calls_rate у неэффективных операторов.\n",
    "\n",
    "H1: среднее значение calls_rate в целом ниже, чем calls_rate у неэффективных операторов."
   ]
  },
  {
   "cell_type": "code",
   "execution_count": null,
   "id": "c3e8e0ab",
   "metadata": {},
   "outputs": [],
   "source": [
    "avg_calls_rate_under = round(underperforming['calls_rate'].mean(), 2)\n",
    "display('Среднее значение calls_rate у неэффективных операторов:', avg_calls_rate_under)"
   ]
  },
  {
   "cell_type": "code",
   "execution_count": null,
   "id": "7c2bc0ea",
   "metadata": {},
   "outputs": [],
   "source": [
    "general_calls_rate = general_avg_values['calls_rate']\n",
    "alpha = .05\n",
    "results = st.ttest_1samp(\n",
    "    general_calls_rate, \n",
    "    avg_calls_rate_under)\n",
    "display('p-значение:', results.pvalue / 2)\n",
    "if (results.pvalue / 2 < alpha) and (general_calls_rate.mean() < avg_calls_rate_under):\n",
    "    print(\"Отвергаем нулевую гипотезу\")\n",
    "else:\n",
    "    print(\"Не отвергаем нулевую гипотезу\")"
   ]
  },
  {
   "cell_type": "markdown",
   "id": "191a8aa6",
   "metadata": {},
   "source": [
    "### У неэффективных операторов среднее response_time выше, чем среднее в целом."
   ]
  },
  {
   "cell_type": "markdown",
   "id": "ceccda50",
   "metadata": {},
   "source": [
    "H0: среднее значение response_time в целом равно response_time у неэффективных операторов.\n",
    "\n",
    "H1: среднее значение response_time в целом ниже, чем response_time у неэффективных операторов."
   ]
  },
  {
   "cell_type": "code",
   "execution_count": null,
   "id": "f755c789",
   "metadata": {},
   "outputs": [],
   "source": [
    "avg_resp_time_under = round(underperforming['response_time'].mean(), 2)\n",
    "display('Среднее значение response_time у неэффективных операторов:', avg_resp_time_under)"
   ]
  },
  {
   "cell_type": "code",
   "execution_count": null,
   "id": "b59b7857",
   "metadata": {},
   "outputs": [],
   "source": [
    "general_response_time = general_avg_values['response_time']\n",
    "alpha = .05\n",
    "results = st.ttest_1samp(\n",
    "    general_response_time, \n",
    "    avg_resp_time_under)\n",
    "display('p-значение:', results.pvalue / 2)\n",
    "if (results.pvalue / 2 < alpha) and (general_response_time.mean() < avg_resp_time_under):\n",
    "    print(\"Отвергаем нулевую гипотезу\")\n",
    "else:\n",
    "    print(\"Не отвергаем нулевую гипотезу\")"
   ]
  },
  {
   "cell_type": "markdown",
   "id": "502f0f2e",
   "metadata": {},
   "source": [
    "В обоих случаях мы убедились, что средние показатели неэффективных операторов хуже, чем средние значения показателей в целом."
   ]
  },
  {
   "cell_type": "markdown",
   "id": "68a850e4",
   "metadata": {},
   "source": [
    "## Выводы и рекомендации\n",
    "1. Мы обнаружили, что в 48 колл-центрах работают операторы, чьи средние показатели эффективности отстают от средних значений в целом:\n",
    "       166520, 166536, 166582, 166658, 166669, 166680, 166688, 166713,\n",
    "       166774, 166782, 166813, 166874, 166901, 166916, 166939, 167009,\n",
    "       167016, 167053, 167059, 167082, 167113, 167176, 167264, 167397,\n",
    "       167497, 167521, 167533, 167621, 167626, 167650, 167654, 167742,\n",
    "       167756, 167759, 167805, 167840, 167852, 167906, 167930, 167969,\n",
    "       168008, 168062, 168187, 168225, 168252, 168307, 168481, 168500\n",
    "\n",
    "1. Главными показателями мы выбрали отношение пропущенных вызовов к отвеченным и время ожидания ответа для входящих вызовов и число исходящих вызовов в день для операторов, работающих на исходящих вызовах.\n",
    "\n",
    "1. Второстепенным показателем стала длительность разговора.\n",
    "\n",
    "1. При этом мы обнаружили, что средние значения исходящих внешних вызовов в целом очень малы - не более 2 вызовов. Это позволет предположить, что наши колл-центры в целом больше заточены на прием вызовов, чем на исходящие.\n",
    "\n",
    "1. Руководители колл-центров могут сами определить, какие показатели для них более существенны, исходя из специфики своей работы.\n",
    "1. Кроме того, в зависимости от признака неэффективности разные меры могут быть применены для исправления ситуации: например, дополнительное обучение для тех, у длительность вызовов слишком высока, или более глубокий анализ причин большого числа пропущенных звонков."
   ]
  }
 ],
 "metadata": {
  "ExecuteTimeLog": [
   {
    "duration": 114,
    "start_time": "2023-09-30T13:48:44.346Z"
   },
   {
    "duration": 1362,
    "start_time": "2023-09-30T17:20:17.700Z"
   },
   {
    "duration": 300,
    "start_time": "2023-09-30T17:20:19.064Z"
   },
   {
    "duration": 26,
    "start_time": "2023-09-30T17:20:19.366Z"
   },
   {
    "duration": 57,
    "start_time": "2023-09-30T17:20:19.394Z"
   },
   {
    "duration": 31,
    "start_time": "2023-09-30T17:20:19.453Z"
   },
   {
    "duration": 16,
    "start_time": "2023-09-30T17:20:19.485Z"
   },
   {
    "duration": 36,
    "start_time": "2023-09-30T17:20:19.503Z"
   },
   {
    "duration": 42,
    "start_time": "2023-09-30T17:20:19.540Z"
   },
   {
    "duration": 48,
    "start_time": "2023-09-30T17:20:19.584Z"
   },
   {
    "duration": 12,
    "start_time": "2023-09-30T17:20:19.635Z"
   },
   {
    "duration": 33,
    "start_time": "2023-09-30T17:20:19.649Z"
   },
   {
    "duration": 59,
    "start_time": "2023-09-30T17:20:19.684Z"
   },
   {
    "duration": 13,
    "start_time": "2023-09-30T17:20:19.745Z"
   },
   {
    "duration": 11,
    "start_time": "2023-09-30T17:20:19.760Z"
   },
   {
    "duration": 37,
    "start_time": "2023-09-30T17:20:19.773Z"
   },
   {
    "duration": 24,
    "start_time": "2023-09-30T17:20:19.812Z"
   },
   {
    "duration": 31,
    "start_time": "2023-09-30T17:20:19.838Z"
   },
   {
    "duration": 42,
    "start_time": "2023-09-30T17:20:19.871Z"
   },
   {
    "duration": 73,
    "start_time": "2023-09-30T17:20:19.915Z"
   },
   {
    "duration": 29,
    "start_time": "2023-09-30T17:20:19.990Z"
   },
   {
    "duration": 24,
    "start_time": "2023-09-30T17:20:20.021Z"
   },
   {
    "duration": 16,
    "start_time": "2023-09-30T17:20:20.047Z"
   },
   {
    "duration": 47,
    "start_time": "2023-09-30T17:20:20.065Z"
   },
   {
    "duration": 23,
    "start_time": "2023-09-30T17:20:20.115Z"
   },
   {
    "duration": 113,
    "start_time": "2023-09-30T17:20:20.141Z"
   },
   {
    "duration": 19,
    "start_time": "2023-09-30T17:20:20.255Z"
   },
   {
    "duration": 55,
    "start_time": "2023-09-30T17:20:20.276Z"
   },
   {
    "duration": 43,
    "start_time": "2023-09-30T17:20:20.346Z"
   },
   {
    "duration": 63,
    "start_time": "2023-09-30T17:20:20.390Z"
   },
   {
    "duration": 188,
    "start_time": "2023-09-30T17:20:20.455Z"
   },
   {
    "duration": 193,
    "start_time": "2023-09-30T17:20:20.647Z"
   },
   {
    "duration": 39,
    "start_time": "2023-09-30T17:20:20.842Z"
   },
   {
    "duration": 189,
    "start_time": "2023-09-30T17:20:20.883Z"
   },
   {
    "duration": 17,
    "start_time": "2023-09-30T17:20:21.073Z"
   },
   {
    "duration": 129,
    "start_time": "2023-09-30T17:20:21.091Z"
   },
   {
    "duration": 34,
    "start_time": "2023-09-30T17:20:21.222Z"
   },
   {
    "duration": 187,
    "start_time": "2023-09-30T17:20:21.257Z"
   },
   {
    "duration": 20,
    "start_time": "2023-09-30T17:20:21.445Z"
   },
   {
    "duration": 28,
    "start_time": "2023-09-30T17:20:21.467Z"
   },
   {
    "duration": 197,
    "start_time": "2023-09-30T17:20:21.497Z"
   },
   {
    "duration": 14,
    "start_time": "2023-09-30T17:20:21.696Z"
   },
   {
    "duration": 36,
    "start_time": "2023-09-30T17:20:21.712Z"
   },
   {
    "duration": 25,
    "start_time": "2023-09-30T17:20:21.749Z"
   },
   {
    "duration": 26,
    "start_time": "2023-09-30T17:20:21.775Z"
   },
   {
    "duration": 7,
    "start_time": "2023-09-30T17:20:21.802Z"
   },
   {
    "duration": 11,
    "start_time": "2023-09-30T17:20:21.810Z"
   },
   {
    "duration": 9,
    "start_time": "2023-09-30T17:20:21.846Z"
   },
   {
    "duration": 28,
    "start_time": "2023-09-30T17:20:21.857Z"
   },
   {
    "duration": 16,
    "start_time": "2023-09-30T17:20:21.887Z"
   },
   {
    "duration": 24,
    "start_time": "2023-09-30T17:23:20.114Z"
   },
   {
    "duration": 23,
    "start_time": "2023-09-30T17:23:23.944Z"
   },
   {
    "duration": 11,
    "start_time": "2023-09-30T17:23:28.151Z"
   },
   {
    "duration": 4,
    "start_time": "2023-09-30T17:23:32.694Z"
   },
   {
    "duration": 5,
    "start_time": "2023-09-30T17:23:40.127Z"
   },
   {
    "duration": 112,
    "start_time": "2023-09-30T17:23:47.266Z"
   },
   {
    "duration": 3,
    "start_time": "2023-09-30T17:24:08.871Z"
   },
   {
    "duration": 205,
    "start_time": "2023-09-30T17:24:08.876Z"
   },
   {
    "duration": 24,
    "start_time": "2023-09-30T17:24:09.083Z"
   },
   {
    "duration": 47,
    "start_time": "2023-09-30T17:24:09.109Z"
   },
   {
    "duration": 23,
    "start_time": "2023-09-30T17:24:09.159Z"
   },
   {
    "duration": 7,
    "start_time": "2023-09-30T17:24:09.183Z"
   },
   {
    "duration": 29,
    "start_time": "2023-09-30T17:24:09.192Z"
   },
   {
    "duration": 62,
    "start_time": "2023-09-30T17:24:09.223Z"
   },
   {
    "duration": 86,
    "start_time": "2023-09-30T17:24:09.286Z"
   },
   {
    "duration": 14,
    "start_time": "2023-09-30T17:24:09.374Z"
   },
   {
    "duration": 35,
    "start_time": "2023-09-30T17:24:09.390Z"
   },
   {
    "duration": 168,
    "start_time": "2023-09-30T17:24:09.427Z"
   },
   {
    "duration": 14,
    "start_time": "2023-09-30T17:24:09.599Z"
   },
   {
    "duration": 17,
    "start_time": "2023-09-30T17:24:09.615Z"
   },
   {
    "duration": 35,
    "start_time": "2023-09-30T17:24:09.634Z"
   },
   {
    "duration": 33,
    "start_time": "2023-09-30T17:24:09.671Z"
   },
   {
    "duration": 21,
    "start_time": "2023-09-30T17:24:09.706Z"
   },
   {
    "duration": 8,
    "start_time": "2023-09-30T17:24:09.729Z"
   },
   {
    "duration": 36,
    "start_time": "2023-09-30T17:24:09.738Z"
   },
   {
    "duration": 26,
    "start_time": "2023-09-30T17:24:09.776Z"
   },
   {
    "duration": 11,
    "start_time": "2023-09-30T17:24:09.804Z"
   },
   {
    "duration": 5,
    "start_time": "2023-09-30T17:24:09.816Z"
   },
   {
    "duration": 32,
    "start_time": "2023-09-30T17:24:09.822Z"
   },
   {
    "duration": 23,
    "start_time": "2023-09-30T17:24:09.855Z"
   },
   {
    "duration": 30,
    "start_time": "2023-09-30T17:24:09.880Z"
   },
   {
    "duration": 25,
    "start_time": "2023-09-30T17:24:09.912Z"
   },
   {
    "duration": 47,
    "start_time": "2023-09-30T17:24:09.939Z"
   },
   {
    "duration": 31,
    "start_time": "2023-09-30T17:24:09.987Z"
   },
   {
    "duration": 58,
    "start_time": "2023-09-30T17:24:10.019Z"
   },
   {
    "duration": 238,
    "start_time": "2023-09-30T17:24:10.079Z"
   },
   {
    "duration": 188,
    "start_time": "2023-09-30T17:24:10.318Z"
   },
   {
    "duration": 43,
    "start_time": "2023-09-30T17:24:10.508Z"
   },
   {
    "duration": 189,
    "start_time": "2023-09-30T17:24:10.552Z"
   },
   {
    "duration": 22,
    "start_time": "2023-09-30T17:24:10.742Z"
   },
   {
    "duration": 35,
    "start_time": "2023-09-30T17:24:10.765Z"
   },
   {
    "duration": 53,
    "start_time": "2023-09-30T17:24:10.802Z"
   },
   {
    "duration": 180,
    "start_time": "2023-09-30T17:24:10.859Z"
   },
   {
    "duration": 19,
    "start_time": "2023-09-30T17:24:11.046Z"
   },
   {
    "duration": 20,
    "start_time": "2023-09-30T17:24:11.067Z"
   },
   {
    "duration": 269,
    "start_time": "2023-09-30T17:24:11.089Z"
   },
   {
    "duration": 13,
    "start_time": "2023-09-30T17:24:11.359Z"
   },
   {
    "duration": 37,
    "start_time": "2023-09-30T17:24:11.374Z"
   },
   {
    "duration": 23,
    "start_time": "2023-09-30T17:24:11.414Z"
   },
   {
    "duration": 20,
    "start_time": "2023-09-30T17:24:11.446Z"
   },
   {
    "duration": 8,
    "start_time": "2023-09-30T17:24:11.468Z"
   },
   {
    "duration": 7,
    "start_time": "2023-09-30T17:24:11.478Z"
   },
   {
    "duration": 34,
    "start_time": "2023-09-30T17:24:11.487Z"
   },
   {
    "duration": 24,
    "start_time": "2023-09-30T17:24:11.523Z"
   },
   {
    "duration": 10,
    "start_time": "2023-09-30T17:24:11.549Z"
   },
   {
    "duration": 21,
    "start_time": "2023-09-30T19:04:22.467Z"
   },
   {
    "duration": 21,
    "start_time": "2023-09-30T19:05:43.846Z"
   },
   {
    "duration": 4,
    "start_time": "2023-09-30T19:25:45.811Z"
   },
   {
    "duration": 225,
    "start_time": "2023-09-30T19:25:55.256Z"
   },
   {
    "duration": 1189,
    "start_time": "2023-09-30T19:28:52.742Z"
   },
   {
    "duration": 3,
    "start_time": "2023-09-30T19:28:53.933Z"
   },
   {
    "duration": 147,
    "start_time": "2023-09-30T19:28:53.938Z"
   },
   {
    "duration": 0,
    "start_time": "2023-09-30T19:28:54.090Z"
   },
   {
    "duration": 0,
    "start_time": "2023-09-30T19:28:54.091Z"
   },
   {
    "duration": 0,
    "start_time": "2023-09-30T19:28:54.093Z"
   },
   {
    "duration": 0,
    "start_time": "2023-09-30T19:28:54.095Z"
   },
   {
    "duration": 0,
    "start_time": "2023-09-30T19:28:54.097Z"
   },
   {
    "duration": 0,
    "start_time": "2023-09-30T19:28:54.098Z"
   },
   {
    "duration": 0,
    "start_time": "2023-09-30T19:28:54.099Z"
   },
   {
    "duration": 0,
    "start_time": "2023-09-30T19:28:54.100Z"
   },
   {
    "duration": 0,
    "start_time": "2023-09-30T19:28:54.101Z"
   },
   {
    "duration": 0,
    "start_time": "2023-09-30T19:28:54.103Z"
   },
   {
    "duration": 0,
    "start_time": "2023-09-30T19:28:54.105Z"
   },
   {
    "duration": 0,
    "start_time": "2023-09-30T19:28:54.106Z"
   },
   {
    "duration": 0,
    "start_time": "2023-09-30T19:28:54.107Z"
   },
   {
    "duration": 0,
    "start_time": "2023-09-30T19:28:54.108Z"
   },
   {
    "duration": 0,
    "start_time": "2023-09-30T19:28:54.110Z"
   },
   {
    "duration": 0,
    "start_time": "2023-09-30T19:28:54.149Z"
   },
   {
    "duration": 0,
    "start_time": "2023-09-30T19:28:54.150Z"
   },
   {
    "duration": 0,
    "start_time": "2023-09-30T19:28:54.155Z"
   },
   {
    "duration": 0,
    "start_time": "2023-09-30T19:28:54.156Z"
   },
   {
    "duration": 0,
    "start_time": "2023-09-30T19:28:54.156Z"
   },
   {
    "duration": 0,
    "start_time": "2023-09-30T19:28:54.159Z"
   },
   {
    "duration": 0,
    "start_time": "2023-09-30T19:28:54.161Z"
   },
   {
    "duration": 0,
    "start_time": "2023-09-30T19:28:54.162Z"
   },
   {
    "duration": 0,
    "start_time": "2023-09-30T19:28:54.163Z"
   },
   {
    "duration": 0,
    "start_time": "2023-09-30T19:28:54.164Z"
   },
   {
    "duration": 0,
    "start_time": "2023-09-30T19:28:54.165Z"
   },
   {
    "duration": 0,
    "start_time": "2023-09-30T19:28:54.168Z"
   },
   {
    "duration": 0,
    "start_time": "2023-09-30T19:28:54.169Z"
   },
   {
    "duration": 0,
    "start_time": "2023-09-30T19:28:54.171Z"
   },
   {
    "duration": 0,
    "start_time": "2023-09-30T19:28:54.172Z"
   },
   {
    "duration": 0,
    "start_time": "2023-09-30T19:28:54.173Z"
   },
   {
    "duration": 0,
    "start_time": "2023-09-30T19:28:54.175Z"
   },
   {
    "duration": 0,
    "start_time": "2023-09-30T19:28:54.177Z"
   },
   {
    "duration": 0,
    "start_time": "2023-09-30T19:28:54.178Z"
   },
   {
    "duration": 0,
    "start_time": "2023-09-30T19:28:54.180Z"
   },
   {
    "duration": 0,
    "start_time": "2023-09-30T19:28:54.181Z"
   },
   {
    "duration": 0,
    "start_time": "2023-09-30T19:28:54.182Z"
   },
   {
    "duration": 0,
    "start_time": "2023-09-30T19:28:54.183Z"
   },
   {
    "duration": 0,
    "start_time": "2023-09-30T19:28:54.184Z"
   },
   {
    "duration": 0,
    "start_time": "2023-09-30T19:28:54.185Z"
   },
   {
    "duration": 0,
    "start_time": "2023-09-30T19:28:54.186Z"
   },
   {
    "duration": 0,
    "start_time": "2023-09-30T19:28:54.188Z"
   },
   {
    "duration": 0,
    "start_time": "2023-09-30T19:28:54.189Z"
   },
   {
    "duration": 0,
    "start_time": "2023-09-30T19:28:54.254Z"
   },
   {
    "duration": 0,
    "start_time": "2023-09-30T19:28:54.255Z"
   },
   {
    "duration": 0,
    "start_time": "2023-09-30T19:28:54.255Z"
   },
   {
    "duration": 0,
    "start_time": "2023-09-30T19:28:54.256Z"
   },
   {
    "duration": 9,
    "start_time": "2023-09-30T20:01:40.212Z"
   },
   {
    "duration": 1225,
    "start_time": "2023-09-30T20:01:50.962Z"
   },
   {
    "duration": 4,
    "start_time": "2023-09-30T20:01:52.190Z"
   },
   {
    "duration": 119,
    "start_time": "2023-09-30T20:01:52.196Z"
   },
   {
    "duration": 0,
    "start_time": "2023-09-30T20:01:52.321Z"
   },
   {
    "duration": 0,
    "start_time": "2023-09-30T20:01:52.322Z"
   },
   {
    "duration": 0,
    "start_time": "2023-09-30T20:01:52.323Z"
   },
   {
    "duration": 0,
    "start_time": "2023-09-30T20:01:52.324Z"
   },
   {
    "duration": 0,
    "start_time": "2023-09-30T20:01:52.325Z"
   },
   {
    "duration": 0,
    "start_time": "2023-09-30T20:01:52.326Z"
   },
   {
    "duration": 0,
    "start_time": "2023-09-30T20:01:52.327Z"
   },
   {
    "duration": 0,
    "start_time": "2023-09-30T20:01:52.328Z"
   },
   {
    "duration": 0,
    "start_time": "2023-09-30T20:01:52.347Z"
   },
   {
    "duration": 0,
    "start_time": "2023-09-30T20:01:52.348Z"
   },
   {
    "duration": 0,
    "start_time": "2023-09-30T20:01:52.349Z"
   },
   {
    "duration": 0,
    "start_time": "2023-09-30T20:01:52.350Z"
   },
   {
    "duration": 0,
    "start_time": "2023-09-30T20:01:52.351Z"
   },
   {
    "duration": 0,
    "start_time": "2023-09-30T20:01:52.352Z"
   },
   {
    "duration": 0,
    "start_time": "2023-09-30T20:01:52.353Z"
   },
   {
    "duration": 0,
    "start_time": "2023-09-30T20:01:52.354Z"
   },
   {
    "duration": 0,
    "start_time": "2023-09-30T20:01:52.355Z"
   },
   {
    "duration": 0,
    "start_time": "2023-09-30T20:01:52.356Z"
   },
   {
    "duration": 0,
    "start_time": "2023-09-30T20:01:52.357Z"
   },
   {
    "duration": 0,
    "start_time": "2023-09-30T20:01:52.358Z"
   },
   {
    "duration": 0,
    "start_time": "2023-09-30T20:01:52.360Z"
   },
   {
    "duration": 0,
    "start_time": "2023-09-30T20:01:52.361Z"
   },
   {
    "duration": 0,
    "start_time": "2023-09-30T20:01:52.362Z"
   },
   {
    "duration": 0,
    "start_time": "2023-09-30T20:01:52.363Z"
   },
   {
    "duration": 0,
    "start_time": "2023-09-30T20:01:52.364Z"
   },
   {
    "duration": 0,
    "start_time": "2023-09-30T20:01:52.365Z"
   },
   {
    "duration": 0,
    "start_time": "2023-09-30T20:01:52.366Z"
   },
   {
    "duration": 0,
    "start_time": "2023-09-30T20:01:52.367Z"
   },
   {
    "duration": 0,
    "start_time": "2023-09-30T20:01:52.368Z"
   },
   {
    "duration": 0,
    "start_time": "2023-09-30T20:01:52.370Z"
   },
   {
    "duration": 0,
    "start_time": "2023-09-30T20:01:52.371Z"
   },
   {
    "duration": 0,
    "start_time": "2023-09-30T20:01:52.372Z"
   },
   {
    "duration": 0,
    "start_time": "2023-09-30T20:01:52.373Z"
   },
   {
    "duration": 0,
    "start_time": "2023-09-30T20:01:52.374Z"
   },
   {
    "duration": 0,
    "start_time": "2023-09-30T20:01:52.375Z"
   },
   {
    "duration": 0,
    "start_time": "2023-09-30T20:01:52.376Z"
   },
   {
    "duration": 0,
    "start_time": "2023-09-30T20:01:52.378Z"
   },
   {
    "duration": 0,
    "start_time": "2023-09-30T20:01:52.379Z"
   },
   {
    "duration": 0,
    "start_time": "2023-09-30T20:01:52.380Z"
   },
   {
    "duration": 0,
    "start_time": "2023-09-30T20:01:52.381Z"
   },
   {
    "duration": 0,
    "start_time": "2023-09-30T20:01:52.447Z"
   },
   {
    "duration": 0,
    "start_time": "2023-09-30T20:01:52.448Z"
   },
   {
    "duration": 0,
    "start_time": "2023-09-30T20:01:52.450Z"
   },
   {
    "duration": 0,
    "start_time": "2023-09-30T20:01:52.450Z"
   },
   {
    "duration": 0,
    "start_time": "2023-09-30T20:01:52.451Z"
   },
   {
    "duration": 0,
    "start_time": "2023-09-30T20:01:52.453Z"
   },
   {
    "duration": 0,
    "start_time": "2023-09-30T20:01:52.454Z"
   },
   {
    "duration": 0,
    "start_time": "2023-09-30T20:01:52.456Z"
   },
   {
    "duration": 8,
    "start_time": "2023-09-30T20:02:06.649Z"
   },
   {
    "duration": 9,
    "start_time": "2023-09-30T20:02:23.793Z"
   },
   {
    "duration": 1286,
    "start_time": "2023-09-30T20:02:46.039Z"
   },
   {
    "duration": 5,
    "start_time": "2023-09-30T20:02:47.328Z"
   },
   {
    "duration": 117,
    "start_time": "2023-09-30T20:02:47.335Z"
   },
   {
    "duration": 0,
    "start_time": "2023-09-30T20:02:47.456Z"
   },
   {
    "duration": 0,
    "start_time": "2023-09-30T20:02:47.458Z"
   },
   {
    "duration": 0,
    "start_time": "2023-09-30T20:02:47.459Z"
   },
   {
    "duration": 0,
    "start_time": "2023-09-30T20:02:47.461Z"
   },
   {
    "duration": 0,
    "start_time": "2023-09-30T20:02:47.462Z"
   },
   {
    "duration": 0,
    "start_time": "2023-09-30T20:02:47.464Z"
   },
   {
    "duration": 0,
    "start_time": "2023-09-30T20:02:47.466Z"
   },
   {
    "duration": 0,
    "start_time": "2023-09-30T20:02:47.467Z"
   },
   {
    "duration": 0,
    "start_time": "2023-09-30T20:02:47.469Z"
   },
   {
    "duration": 0,
    "start_time": "2023-09-30T20:02:47.471Z"
   },
   {
    "duration": 0,
    "start_time": "2023-09-30T20:02:47.472Z"
   },
   {
    "duration": 0,
    "start_time": "2023-09-30T20:02:47.474Z"
   },
   {
    "duration": 0,
    "start_time": "2023-09-30T20:02:47.475Z"
   },
   {
    "duration": 0,
    "start_time": "2023-09-30T20:02:47.477Z"
   },
   {
    "duration": 0,
    "start_time": "2023-09-30T20:02:47.479Z"
   },
   {
    "duration": 0,
    "start_time": "2023-09-30T20:02:47.481Z"
   },
   {
    "duration": 0,
    "start_time": "2023-09-30T20:02:47.482Z"
   },
   {
    "duration": 0,
    "start_time": "2023-09-30T20:02:47.484Z"
   },
   {
    "duration": 0,
    "start_time": "2023-09-30T20:02:47.486Z"
   },
   {
    "duration": 0,
    "start_time": "2023-09-30T20:02:47.487Z"
   },
   {
    "duration": 0,
    "start_time": "2023-09-30T20:02:47.490Z"
   },
   {
    "duration": 0,
    "start_time": "2023-09-30T20:02:47.491Z"
   },
   {
    "duration": 0,
    "start_time": "2023-09-30T20:02:47.493Z"
   },
   {
    "duration": 1,
    "start_time": "2023-09-30T20:02:47.547Z"
   },
   {
    "duration": 0,
    "start_time": "2023-09-30T20:02:47.549Z"
   },
   {
    "duration": 0,
    "start_time": "2023-09-30T20:02:47.551Z"
   },
   {
    "duration": 0,
    "start_time": "2023-09-30T20:02:47.552Z"
   },
   {
    "duration": 0,
    "start_time": "2023-09-30T20:02:47.554Z"
   },
   {
    "duration": 0,
    "start_time": "2023-09-30T20:02:47.559Z"
   },
   {
    "duration": 0,
    "start_time": "2023-09-30T20:02:47.561Z"
   },
   {
    "duration": 0,
    "start_time": "2023-09-30T20:02:47.562Z"
   },
   {
    "duration": 0,
    "start_time": "2023-09-30T20:02:47.563Z"
   },
   {
    "duration": 0,
    "start_time": "2023-09-30T20:02:47.565Z"
   },
   {
    "duration": 0,
    "start_time": "2023-09-30T20:02:47.567Z"
   },
   {
    "duration": 0,
    "start_time": "2023-09-30T20:02:47.568Z"
   },
   {
    "duration": 0,
    "start_time": "2023-09-30T20:02:47.570Z"
   },
   {
    "duration": 0,
    "start_time": "2023-09-30T20:02:47.571Z"
   },
   {
    "duration": 0,
    "start_time": "2023-09-30T20:02:47.572Z"
   },
   {
    "duration": 0,
    "start_time": "2023-09-30T20:02:47.574Z"
   },
   {
    "duration": 0,
    "start_time": "2023-09-30T20:02:47.576Z"
   },
   {
    "duration": 0,
    "start_time": "2023-09-30T20:02:47.578Z"
   },
   {
    "duration": 0,
    "start_time": "2023-09-30T20:02:47.579Z"
   },
   {
    "duration": 0,
    "start_time": "2023-09-30T20:02:47.582Z"
   },
   {
    "duration": 0,
    "start_time": "2023-09-30T20:02:47.583Z"
   },
   {
    "duration": 0,
    "start_time": "2023-09-30T20:02:47.585Z"
   },
   {
    "duration": 0,
    "start_time": "2023-09-30T20:02:47.647Z"
   },
   {
    "duration": 0,
    "start_time": "2023-09-30T20:02:47.649Z"
   },
   {
    "duration": 13,
    "start_time": "2023-09-30T20:02:59.344Z"
   },
   {
    "duration": 1176,
    "start_time": "2023-09-30T20:03:27.248Z"
   },
   {
    "duration": 5,
    "start_time": "2023-09-30T20:03:28.426Z"
   },
   {
    "duration": 114,
    "start_time": "2023-09-30T20:03:28.432Z"
   },
   {
    "duration": 0,
    "start_time": "2023-09-30T20:03:28.551Z"
   },
   {
    "duration": 0,
    "start_time": "2023-09-30T20:03:28.552Z"
   },
   {
    "duration": 0,
    "start_time": "2023-09-30T20:03:28.553Z"
   },
   {
    "duration": 0,
    "start_time": "2023-09-30T20:03:28.554Z"
   },
   {
    "duration": 1,
    "start_time": "2023-09-30T20:03:28.555Z"
   },
   {
    "duration": 0,
    "start_time": "2023-09-30T20:03:28.557Z"
   },
   {
    "duration": 0,
    "start_time": "2023-09-30T20:03:28.558Z"
   },
   {
    "duration": 0,
    "start_time": "2023-09-30T20:03:28.560Z"
   },
   {
    "duration": 0,
    "start_time": "2023-09-30T20:03:28.561Z"
   },
   {
    "duration": 0,
    "start_time": "2023-09-30T20:03:28.562Z"
   },
   {
    "duration": 0,
    "start_time": "2023-09-30T20:03:28.563Z"
   },
   {
    "duration": 0,
    "start_time": "2023-09-30T20:03:28.564Z"
   },
   {
    "duration": 0,
    "start_time": "2023-09-30T20:03:28.565Z"
   },
   {
    "duration": 0,
    "start_time": "2023-09-30T20:03:28.566Z"
   },
   {
    "duration": 0,
    "start_time": "2023-09-30T20:03:28.568Z"
   },
   {
    "duration": 0,
    "start_time": "2023-09-30T20:03:28.569Z"
   },
   {
    "duration": 0,
    "start_time": "2023-09-30T20:03:28.570Z"
   },
   {
    "duration": 0,
    "start_time": "2023-09-30T20:03:28.571Z"
   },
   {
    "duration": 0,
    "start_time": "2023-09-30T20:03:28.572Z"
   },
   {
    "duration": 0,
    "start_time": "2023-09-30T20:03:28.573Z"
   },
   {
    "duration": 0,
    "start_time": "2023-09-30T20:03:28.575Z"
   },
   {
    "duration": 0,
    "start_time": "2023-09-30T20:03:28.576Z"
   },
   {
    "duration": 0,
    "start_time": "2023-09-30T20:03:28.577Z"
   },
   {
    "duration": 0,
    "start_time": "2023-09-30T20:03:28.578Z"
   },
   {
    "duration": 0,
    "start_time": "2023-09-30T20:03:28.579Z"
   },
   {
    "duration": 0,
    "start_time": "2023-09-30T20:03:28.580Z"
   },
   {
    "duration": 0,
    "start_time": "2023-09-30T20:03:28.581Z"
   },
   {
    "duration": 0,
    "start_time": "2023-09-30T20:03:28.583Z"
   },
   {
    "duration": 0,
    "start_time": "2023-09-30T20:03:28.584Z"
   },
   {
    "duration": 0,
    "start_time": "2023-09-30T20:03:28.585Z"
   },
   {
    "duration": 0,
    "start_time": "2023-09-30T20:03:28.647Z"
   },
   {
    "duration": 0,
    "start_time": "2023-09-30T20:03:28.648Z"
   },
   {
    "duration": 0,
    "start_time": "2023-09-30T20:03:28.649Z"
   },
   {
    "duration": 0,
    "start_time": "2023-09-30T20:03:28.650Z"
   },
   {
    "duration": 0,
    "start_time": "2023-09-30T20:03:28.652Z"
   },
   {
    "duration": 0,
    "start_time": "2023-09-30T20:03:28.653Z"
   },
   {
    "duration": 1,
    "start_time": "2023-09-30T20:03:28.654Z"
   },
   {
    "duration": 0,
    "start_time": "2023-09-30T20:03:28.656Z"
   },
   {
    "duration": 0,
    "start_time": "2023-09-30T20:03:28.657Z"
   },
   {
    "duration": 0,
    "start_time": "2023-09-30T20:03:28.659Z"
   },
   {
    "duration": 0,
    "start_time": "2023-09-30T20:03:28.660Z"
   },
   {
    "duration": 0,
    "start_time": "2023-09-30T20:03:28.662Z"
   },
   {
    "duration": 0,
    "start_time": "2023-09-30T20:03:28.663Z"
   },
   {
    "duration": 0,
    "start_time": "2023-09-30T20:03:28.665Z"
   },
   {
    "duration": 0,
    "start_time": "2023-09-30T20:03:28.666Z"
   },
   {
    "duration": 0,
    "start_time": "2023-09-30T20:03:28.668Z"
   },
   {
    "duration": 0,
    "start_time": "2023-09-30T20:03:28.669Z"
   },
   {
    "duration": 9,
    "start_time": "2023-09-30T20:03:39.525Z"
   },
   {
    "duration": 4,
    "start_time": "2023-09-30T20:04:13.106Z"
   },
   {
    "duration": 10,
    "start_time": "2023-09-30T20:04:14.258Z"
   },
   {
    "duration": 139,
    "start_time": "2023-09-30T20:15:20.941Z"
   },
   {
    "duration": 96,
    "start_time": "2023-09-30T20:15:34.112Z"
   },
   {
    "duration": 189,
    "start_time": "2023-09-30T20:17:22.730Z"
   },
   {
    "duration": 3,
    "start_time": "2023-09-30T20:17:35.094Z"
   },
   {
    "duration": 229,
    "start_time": "2023-09-30T20:17:35.099Z"
   },
   {
    "duration": 135,
    "start_time": "2023-09-30T20:17:35.330Z"
   },
   {
    "duration": 20,
    "start_time": "2023-09-30T20:17:35.467Z"
   },
   {
    "duration": 35,
    "start_time": "2023-09-30T20:17:35.489Z"
   },
   {
    "duration": 38,
    "start_time": "2023-09-30T20:17:35.526Z"
   },
   {
    "duration": 7,
    "start_time": "2023-09-30T20:17:35.566Z"
   },
   {
    "duration": 32,
    "start_time": "2023-09-30T20:17:35.574Z"
   },
   {
    "duration": 31,
    "start_time": "2023-09-30T20:17:35.608Z"
   },
   {
    "duration": 34,
    "start_time": "2023-09-30T20:17:35.642Z"
   },
   {
    "duration": 13,
    "start_time": "2023-09-30T20:17:35.678Z"
   },
   {
    "duration": 30,
    "start_time": "2023-09-30T20:17:35.693Z"
   },
   {
    "duration": 51,
    "start_time": "2023-09-30T20:17:35.725Z"
   },
   {
    "duration": 21,
    "start_time": "2023-09-30T20:17:35.778Z"
   },
   {
    "duration": 33,
    "start_time": "2023-09-30T20:17:35.801Z"
   },
   {
    "duration": 21,
    "start_time": "2023-09-30T20:17:35.835Z"
   },
   {
    "duration": 40,
    "start_time": "2023-09-30T20:17:35.857Z"
   },
   {
    "duration": 33,
    "start_time": "2023-09-30T20:17:35.899Z"
   },
   {
    "duration": 32,
    "start_time": "2023-09-30T20:17:35.934Z"
   },
   {
    "duration": 64,
    "start_time": "2023-09-30T20:17:35.968Z"
   },
   {
    "duration": 57,
    "start_time": "2023-09-30T20:17:36.034Z"
   },
   {
    "duration": 34,
    "start_time": "2023-09-30T20:17:36.093Z"
   },
   {
    "duration": 25,
    "start_time": "2023-09-30T20:17:36.129Z"
   },
   {
    "duration": 123,
    "start_time": "2023-09-30T20:17:36.156Z"
   },
   {
    "duration": 59,
    "start_time": "2023-09-30T20:17:36.281Z"
   },
   {
    "duration": 45,
    "start_time": "2023-09-30T20:17:36.342Z"
   },
   {
    "duration": 25,
    "start_time": "2023-09-30T20:17:36.389Z"
   },
   {
    "duration": 49,
    "start_time": "2023-09-30T20:17:36.417Z"
   },
   {
    "duration": 30,
    "start_time": "2023-09-30T20:17:36.468Z"
   },
   {
    "duration": 59,
    "start_time": "2023-09-30T20:17:36.499Z"
   },
   {
    "duration": 188,
    "start_time": "2023-09-30T20:17:36.560Z"
   },
   {
    "duration": 179,
    "start_time": "2023-09-30T20:17:36.749Z"
   },
   {
    "duration": 48,
    "start_time": "2023-09-30T20:17:36.930Z"
   },
   {
    "duration": 176,
    "start_time": "2023-09-30T20:17:36.979Z"
   },
   {
    "duration": 18,
    "start_time": "2023-09-30T20:17:37.157Z"
   },
   {
    "duration": 41,
    "start_time": "2023-09-30T20:17:37.177Z"
   },
   {
    "duration": 45,
    "start_time": "2023-09-30T20:17:37.220Z"
   },
   {
    "duration": 180,
    "start_time": "2023-09-30T20:17:37.267Z"
   },
   {
    "duration": 20,
    "start_time": "2023-09-30T20:17:37.448Z"
   },
   {
    "duration": 49,
    "start_time": "2023-09-30T20:17:37.470Z"
   },
   {
    "duration": 197,
    "start_time": "2023-09-30T20:17:37.521Z"
   },
   {
    "duration": 12,
    "start_time": "2023-09-30T20:17:37.721Z"
   },
   {
    "duration": 62,
    "start_time": "2023-09-30T20:17:37.734Z"
   },
   {
    "duration": 22,
    "start_time": "2023-09-30T20:17:37.798Z"
   },
   {
    "duration": 27,
    "start_time": "2023-09-30T20:17:37.822Z"
   },
   {
    "duration": 8,
    "start_time": "2023-09-30T20:17:37.850Z"
   },
   {
    "duration": 26,
    "start_time": "2023-09-30T20:17:37.859Z"
   },
   {
    "duration": 36,
    "start_time": "2023-09-30T20:17:37.887Z"
   },
   {
    "duration": 37,
    "start_time": "2023-09-30T20:17:37.925Z"
   },
   {
    "duration": 57,
    "start_time": "2023-09-30T20:17:37.964Z"
   },
   {
    "duration": 1128,
    "start_time": "2023-09-30T21:13:10.797Z"
   },
   {
    "duration": 201,
    "start_time": "2023-09-30T21:13:11.927Z"
   },
   {
    "duration": 113,
    "start_time": "2023-09-30T21:13:12.130Z"
   },
   {
    "duration": 0,
    "start_time": "2023-09-30T21:13:12.246Z"
   },
   {
    "duration": 0,
    "start_time": "2023-09-30T21:13:12.247Z"
   },
   {
    "duration": 0,
    "start_time": "2023-09-30T21:13:12.248Z"
   },
   {
    "duration": 0,
    "start_time": "2023-09-30T21:13:12.249Z"
   },
   {
    "duration": 0,
    "start_time": "2023-09-30T21:13:12.251Z"
   },
   {
    "duration": 0,
    "start_time": "2023-09-30T21:13:12.252Z"
   },
   {
    "duration": 0,
    "start_time": "2023-09-30T21:13:12.253Z"
   },
   {
    "duration": 0,
    "start_time": "2023-09-30T21:13:12.254Z"
   },
   {
    "duration": 0,
    "start_time": "2023-09-30T21:13:12.255Z"
   },
   {
    "duration": 0,
    "start_time": "2023-09-30T21:13:12.256Z"
   },
   {
    "duration": 0,
    "start_time": "2023-09-30T21:13:12.257Z"
   },
   {
    "duration": 0,
    "start_time": "2023-09-30T21:13:12.258Z"
   },
   {
    "duration": 0,
    "start_time": "2023-09-30T21:13:12.259Z"
   },
   {
    "duration": 0,
    "start_time": "2023-09-30T21:13:12.260Z"
   },
   {
    "duration": 0,
    "start_time": "2023-09-30T21:13:12.261Z"
   },
   {
    "duration": 0,
    "start_time": "2023-09-30T21:13:12.262Z"
   },
   {
    "duration": 0,
    "start_time": "2023-09-30T21:13:12.263Z"
   },
   {
    "duration": 0,
    "start_time": "2023-09-30T21:13:12.265Z"
   },
   {
    "duration": 0,
    "start_time": "2023-09-30T21:13:12.266Z"
   },
   {
    "duration": 0,
    "start_time": "2023-09-30T21:13:12.267Z"
   },
   {
    "duration": 0,
    "start_time": "2023-09-30T21:13:12.268Z"
   },
   {
    "duration": 0,
    "start_time": "2023-09-30T21:13:12.269Z"
   },
   {
    "duration": 0,
    "start_time": "2023-09-30T21:13:12.270Z"
   },
   {
    "duration": 0,
    "start_time": "2023-09-30T21:13:12.271Z"
   },
   {
    "duration": 0,
    "start_time": "2023-09-30T21:13:12.272Z"
   },
   {
    "duration": 0,
    "start_time": "2023-09-30T21:13:12.273Z"
   },
   {
    "duration": 0,
    "start_time": "2023-09-30T21:13:12.275Z"
   },
   {
    "duration": 0,
    "start_time": "2023-09-30T21:13:12.276Z"
   },
   {
    "duration": 0,
    "start_time": "2023-09-30T21:13:12.277Z"
   },
   {
    "duration": 0,
    "start_time": "2023-09-30T21:13:12.278Z"
   },
   {
    "duration": 0,
    "start_time": "2023-09-30T21:13:12.279Z"
   },
   {
    "duration": 0,
    "start_time": "2023-09-30T21:13:12.281Z"
   },
   {
    "duration": 0,
    "start_time": "2023-09-30T21:13:12.282Z"
   },
   {
    "duration": 0,
    "start_time": "2023-09-30T21:13:12.283Z"
   },
   {
    "duration": 0,
    "start_time": "2023-09-30T21:13:12.284Z"
   },
   {
    "duration": 0,
    "start_time": "2023-09-30T21:13:12.286Z"
   },
   {
    "duration": 0,
    "start_time": "2023-09-30T21:13:12.346Z"
   },
   {
    "duration": 0,
    "start_time": "2023-09-30T21:13:12.348Z"
   },
   {
    "duration": 0,
    "start_time": "2023-09-30T21:13:12.349Z"
   },
   {
    "duration": 0,
    "start_time": "2023-09-30T21:13:12.350Z"
   },
   {
    "duration": 0,
    "start_time": "2023-09-30T21:13:12.351Z"
   },
   {
    "duration": 0,
    "start_time": "2023-09-30T21:13:12.353Z"
   },
   {
    "duration": 0,
    "start_time": "2023-09-30T21:13:12.354Z"
   },
   {
    "duration": 0,
    "start_time": "2023-09-30T21:13:12.355Z"
   },
   {
    "duration": 0,
    "start_time": "2023-09-30T21:13:12.356Z"
   },
   {
    "duration": 0,
    "start_time": "2023-09-30T21:13:12.357Z"
   },
   {
    "duration": 0,
    "start_time": "2023-09-30T21:13:12.358Z"
   },
   {
    "duration": 1191,
    "start_time": "2023-09-30T21:15:33.636Z"
   },
   {
    "duration": 205,
    "start_time": "2023-09-30T21:15:34.829Z"
   },
   {
    "duration": 100,
    "start_time": "2023-09-30T21:15:35.036Z"
   },
   {
    "duration": 0,
    "start_time": "2023-09-30T21:15:35.140Z"
   },
   {
    "duration": 0,
    "start_time": "2023-09-30T21:15:35.141Z"
   },
   {
    "duration": 0,
    "start_time": "2023-09-30T21:15:35.147Z"
   },
   {
    "duration": 0,
    "start_time": "2023-09-30T21:15:35.148Z"
   },
   {
    "duration": 0,
    "start_time": "2023-09-30T21:15:35.151Z"
   },
   {
    "duration": 0,
    "start_time": "2023-09-30T21:15:35.152Z"
   },
   {
    "duration": 0,
    "start_time": "2023-09-30T21:15:35.154Z"
   },
   {
    "duration": 0,
    "start_time": "2023-09-30T21:15:35.155Z"
   },
   {
    "duration": 0,
    "start_time": "2023-09-30T21:15:35.156Z"
   },
   {
    "duration": 0,
    "start_time": "2023-09-30T21:15:35.158Z"
   },
   {
    "duration": 0,
    "start_time": "2023-09-30T21:15:35.160Z"
   },
   {
    "duration": 0,
    "start_time": "2023-09-30T21:15:35.162Z"
   },
   {
    "duration": 0,
    "start_time": "2023-09-30T21:15:35.163Z"
   },
   {
    "duration": 0,
    "start_time": "2023-09-30T21:15:35.165Z"
   },
   {
    "duration": 0,
    "start_time": "2023-09-30T21:15:35.166Z"
   },
   {
    "duration": 0,
    "start_time": "2023-09-30T21:15:35.168Z"
   },
   {
    "duration": 0,
    "start_time": "2023-09-30T21:15:35.169Z"
   },
   {
    "duration": 0,
    "start_time": "2023-09-30T21:15:35.171Z"
   },
   {
    "duration": 0,
    "start_time": "2023-09-30T21:15:35.172Z"
   },
   {
    "duration": 0,
    "start_time": "2023-09-30T21:15:35.174Z"
   },
   {
    "duration": 0,
    "start_time": "2023-09-30T21:15:35.175Z"
   },
   {
    "duration": 0,
    "start_time": "2023-09-30T21:15:35.177Z"
   },
   {
    "duration": 0,
    "start_time": "2023-09-30T21:15:35.178Z"
   },
   {
    "duration": 0,
    "start_time": "2023-09-30T21:15:35.179Z"
   },
   {
    "duration": 0,
    "start_time": "2023-09-30T21:15:35.181Z"
   },
   {
    "duration": 0,
    "start_time": "2023-09-30T21:15:35.183Z"
   },
   {
    "duration": 0,
    "start_time": "2023-09-30T21:15:35.185Z"
   },
   {
    "duration": 0,
    "start_time": "2023-09-30T21:15:35.186Z"
   },
   {
    "duration": 0,
    "start_time": "2023-09-30T21:15:35.187Z"
   },
   {
    "duration": 0,
    "start_time": "2023-09-30T21:15:35.248Z"
   },
   {
    "duration": 0,
    "start_time": "2023-09-30T21:15:35.250Z"
   },
   {
    "duration": 0,
    "start_time": "2023-09-30T21:15:35.253Z"
   },
   {
    "duration": 0,
    "start_time": "2023-09-30T21:15:35.254Z"
   },
   {
    "duration": 0,
    "start_time": "2023-09-30T21:15:35.255Z"
   },
   {
    "duration": 0,
    "start_time": "2023-09-30T21:15:35.257Z"
   },
   {
    "duration": 0,
    "start_time": "2023-09-30T21:15:35.259Z"
   },
   {
    "duration": 0,
    "start_time": "2023-09-30T21:15:35.260Z"
   },
   {
    "duration": 0,
    "start_time": "2023-09-30T21:15:35.262Z"
   },
   {
    "duration": 0,
    "start_time": "2023-09-30T21:15:35.263Z"
   },
   {
    "duration": 0,
    "start_time": "2023-09-30T21:15:35.264Z"
   },
   {
    "duration": 0,
    "start_time": "2023-09-30T21:15:35.266Z"
   },
   {
    "duration": 0,
    "start_time": "2023-09-30T21:15:35.268Z"
   },
   {
    "duration": 0,
    "start_time": "2023-09-30T21:15:35.271Z"
   },
   {
    "duration": 0,
    "start_time": "2023-09-30T21:15:35.272Z"
   },
   {
    "duration": 0,
    "start_time": "2023-09-30T21:15:35.274Z"
   },
   {
    "duration": 0,
    "start_time": "2023-09-30T21:15:35.275Z"
   },
   {
    "duration": 0,
    "start_time": "2023-09-30T21:15:35.277Z"
   }
  ],
  "kernelspec": {
   "display_name": "Python 3 (ipykernel)",
   "language": "python",
   "name": "python3"
  },
  "language_info": {
   "codemirror_mode": {
    "name": "ipython",
    "version": 3
   },
   "file_extension": ".py",
   "mimetype": "text/x-python",
   "name": "python",
   "nbconvert_exporter": "python",
   "pygments_lexer": "ipython3",
   "version": "3.9.12"
  },
  "toc": {
   "base_numbering": 1,
   "nav_menu": {},
   "number_sections": true,
   "sideBar": true,
   "skip_h1_title": true,
   "title_cell": "Table of Contents",
   "title_sidebar": "Contents",
   "toc_cell": true,
   "toc_position": {
    "height": "calc(100% - 180px)",
    "left": "10px",
    "top": "150px",
    "width": "318px"
   },
   "toc_section_display": true,
   "toc_window_display": true
  }
 },
 "nbformat": 4,
 "nbformat_minor": 5
}
